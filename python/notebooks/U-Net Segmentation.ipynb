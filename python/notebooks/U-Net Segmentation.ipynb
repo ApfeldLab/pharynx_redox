{
 "cells": [
  {
   "cell_type": "code",
   "execution_count": 1,
   "metadata": {
    "scrolled": false
   },
   "outputs": [
    {
     "name": "stderr",
     "output_type": "stream",
     "text": [
      "Using TensorFlow backend.\n",
      "/Users/sean/.local/share/virtualenvs/python-zUhjj0fC/lib/python3.7/site-packages/tensorflow/python/framework/dtypes.py:516: FutureWarning: Passing (type, 1) or '1type' as a synonym of type is deprecated; in a future version of numpy, it will be understood as (type, (1,)) / '(1,)type'.\n",
      "  _np_qint8 = np.dtype([(\"qint8\", np.int8, 1)])\n",
      "/Users/sean/.local/share/virtualenvs/python-zUhjj0fC/lib/python3.7/site-packages/tensorflow/python/framework/dtypes.py:517: FutureWarning: Passing (type, 1) or '1type' as a synonym of type is deprecated; in a future version of numpy, it will be understood as (type, (1,)) / '(1,)type'.\n",
      "  _np_quint8 = np.dtype([(\"quint8\", np.uint8, 1)])\n",
      "/Users/sean/.local/share/virtualenvs/python-zUhjj0fC/lib/python3.7/site-packages/tensorflow/python/framework/dtypes.py:518: FutureWarning: Passing (type, 1) or '1type' as a synonym of type is deprecated; in a future version of numpy, it will be understood as (type, (1,)) / '(1,)type'.\n",
      "  _np_qint16 = np.dtype([(\"qint16\", np.int16, 1)])\n",
      "/Users/sean/.local/share/virtualenvs/python-zUhjj0fC/lib/python3.7/site-packages/tensorflow/python/framework/dtypes.py:519: FutureWarning: Passing (type, 1) or '1type' as a synonym of type is deprecated; in a future version of numpy, it will be understood as (type, (1,)) / '(1,)type'.\n",
      "  _np_quint16 = np.dtype([(\"quint16\", np.uint16, 1)])\n",
      "/Users/sean/.local/share/virtualenvs/python-zUhjj0fC/lib/python3.7/site-packages/tensorflow/python/framework/dtypes.py:520: FutureWarning: Passing (type, 1) or '1type' as a synonym of type is deprecated; in a future version of numpy, it will be understood as (type, (1,)) / '(1,)type'.\n",
      "  _np_qint32 = np.dtype([(\"qint32\", np.int32, 1)])\n",
      "/Users/sean/.local/share/virtualenvs/python-zUhjj0fC/lib/python3.7/site-packages/tensorflow/python/framework/dtypes.py:525: FutureWarning: Passing (type, 1) or '1type' as a synonym of type is deprecated; in a future version of numpy, it will be understood as (type, (1,)) / '(1,)type'.\n",
      "  np_resource = np.dtype([(\"resource\", np.ubyte, 1)])\n",
      "/Users/sean/.local/share/virtualenvs/python-zUhjj0fC/lib/python3.7/site-packages/tensorboard/compat/tensorflow_stub/dtypes.py:541: FutureWarning: Passing (type, 1) or '1type' as a synonym of type is deprecated; in a future version of numpy, it will be understood as (type, (1,)) / '(1,)type'.\n",
      "  _np_qint8 = np.dtype([(\"qint8\", np.int8, 1)])\n",
      "/Users/sean/.local/share/virtualenvs/python-zUhjj0fC/lib/python3.7/site-packages/tensorboard/compat/tensorflow_stub/dtypes.py:542: FutureWarning: Passing (type, 1) or '1type' as a synonym of type is deprecated; in a future version of numpy, it will be understood as (type, (1,)) / '(1,)type'.\n",
      "  _np_quint8 = np.dtype([(\"quint8\", np.uint8, 1)])\n",
      "/Users/sean/.local/share/virtualenvs/python-zUhjj0fC/lib/python3.7/site-packages/tensorboard/compat/tensorflow_stub/dtypes.py:543: FutureWarning: Passing (type, 1) or '1type' as a synonym of type is deprecated; in a future version of numpy, it will be understood as (type, (1,)) / '(1,)type'.\n",
      "  _np_qint16 = np.dtype([(\"qint16\", np.int16, 1)])\n",
      "/Users/sean/.local/share/virtualenvs/python-zUhjj0fC/lib/python3.7/site-packages/tensorboard/compat/tensorflow_stub/dtypes.py:544: FutureWarning: Passing (type, 1) or '1type' as a synonym of type is deprecated; in a future version of numpy, it will be understood as (type, (1,)) / '(1,)type'.\n",
      "  _np_quint16 = np.dtype([(\"quint16\", np.uint16, 1)])\n",
      "/Users/sean/.local/share/virtualenvs/python-zUhjj0fC/lib/python3.7/site-packages/tensorboard/compat/tensorflow_stub/dtypes.py:545: FutureWarning: Passing (type, 1) or '1type' as a synonym of type is deprecated; in a future version of numpy, it will be understood as (type, (1,)) / '(1,)type'.\n",
      "  _np_qint32 = np.dtype([(\"qint32\", np.int32, 1)])\n",
      "/Users/sean/.local/share/virtualenvs/python-zUhjj0fC/lib/python3.7/site-packages/tensorboard/compat/tensorflow_stub/dtypes.py:550: FutureWarning: Passing (type, 1) or '1type' as a synonym of type is deprecated; in a future version of numpy, it will be understood as (type, (1,)) / '(1,)type'.\n",
      "  np_resource = np.dtype([(\"resource\", np.ubyte, 1)])\n"
     ]
    }
   ],
   "source": [
    "from pharynx_analysis import (pharynx_io as pio, image_processing as ip, experiment, plots, unet_model)\n",
    "import numpy as np\n",
    "import matplotlib.pyplot as plt\n",
    "import xarray as xr\n",
    "from importlib import reload\n",
    "from skimage import measure, transform\n",
    "from collections import namedtuple\n",
    "import pdb\n",
    "from fastdtw import fastdtw\n",
    "from scipy.spatial.distance import euclidean\n",
    "from sklearn.preprocessing import scale\n",
    "import pandas as pd\n",
    "from scipy.signal import find_peaks\n",
    "from pprint import pprint\n",
    "from pathlib import Path\n",
    "from skimage import io as skio\n",
    "import skimage"
   ]
  },
  {
   "cell_type": "code",
   "execution_count": 2,
   "metadata": {
    "scrolled": true
   },
   "outputs": [
    {
     "name": "stderr",
     "output_type": "stream",
     "text": [
      "WARNING: Logging before flag parsing goes to stderr.\n",
      "W0717 11:18:02.363664 4508661184 deprecation_wrapper.py:119] From /Users/sean/.local/share/virtualenvs/python-zUhjj0fC/lib/python3.7/site-packages/keras/backend/tensorflow_backend.py:74: The name tf.get_default_graph is deprecated. Please use tf.compat.v1.get_default_graph instead.\n",
      "\n",
      "W0717 11:18:02.399708 4508661184 deprecation_wrapper.py:119] From /Users/sean/.local/share/virtualenvs/python-zUhjj0fC/lib/python3.7/site-packages/keras/backend/tensorflow_backend.py:517: The name tf.placeholder is deprecated. Please use tf.compat.v1.placeholder instead.\n",
      "\n",
      "W0717 11:18:02.415018 4508661184 deprecation_wrapper.py:119] From /Users/sean/.local/share/virtualenvs/python-zUhjj0fC/lib/python3.7/site-packages/keras/backend/tensorflow_backend.py:4185: The name tf.truncated_normal is deprecated. Please use tf.random.truncated_normal instead.\n",
      "\n",
      "W0717 11:18:02.454926 4508661184 deprecation_wrapper.py:119] From /Users/sean/.local/share/virtualenvs/python-zUhjj0fC/lib/python3.7/site-packages/keras/backend/tensorflow_backend.py:3976: The name tf.nn.max_pool is deprecated. Please use tf.nn.max_pool2d instead.\n",
      "\n",
      "W0717 11:18:02.629094 4508661184 deprecation_wrapper.py:119] From /Users/sean/.local/share/virtualenvs/python-zUhjj0fC/lib/python3.7/site-packages/keras/backend/tensorflow_backend.py:133: The name tf.placeholder_with_default is deprecated. Please use tf.compat.v1.placeholder_with_default instead.\n",
      "\n",
      "W0717 11:18:02.637421 4508661184 deprecation.py:506] From /Users/sean/.local/share/virtualenvs/python-zUhjj0fC/lib/python3.7/site-packages/keras/backend/tensorflow_backend.py:3445: calling dropout (from tensorflow.python.ops.nn_ops) with keep_prob is deprecated and will be removed in a future version.\n",
      "Instructions for updating:\n",
      "Please use `rate` instead of `keep_prob`. Rate should be set to `rate = 1 - keep_prob`.\n",
      "W0717 11:18:02.710702 4508661184 deprecation_wrapper.py:119] From /Users/sean/.local/share/virtualenvs/python-zUhjj0fC/lib/python3.7/site-packages/keras/backend/tensorflow_backend.py:2018: The name tf.image.resize_nearest_neighbor is deprecated. Please use tf.compat.v1.image.resize_nearest_neighbor instead.\n",
      "\n",
      "W0717 11:18:02.898235 4508661184 deprecation_wrapper.py:119] From /Users/sean/.local/share/virtualenvs/python-zUhjj0fC/lib/python3.7/site-packages/keras/backend/tensorflow_backend.py:4138: The name tf.random_uniform is deprecated. Please use tf.random.uniform instead.\n",
      "\n",
      "../pharynx_analysis/unet_model.py:55: UserWarning: Update your `Model` call to the Keras 2 API: `Model(inputs=Tensor(\"in..., outputs=Tensor(\"co...)`\n",
      "  model = Model(input = inputs, output = conv10)\n",
      "W0717 11:18:02.938583 4508661184 deprecation_wrapper.py:119] From /Users/sean/.local/share/virtualenvs/python-zUhjj0fC/lib/python3.7/site-packages/keras/optimizers.py:790: The name tf.train.Optimizer is deprecated. Please use tf.compat.v1.train.Optimizer instead.\n",
      "\n",
      "W0717 11:18:02.948651 4508661184 deprecation.py:323] From /Users/sean/.local/share/virtualenvs/python-zUhjj0fC/lib/python3.7/site-packages/tensorflow/python/ops/nn_impl.py:180: add_dispatch_support.<locals>.wrapper (from tensorflow.python.ops.array_ops) is deprecated and will be removed in a future version.\n",
      "Instructions for updating:\n",
      "Use tf.where in 2.0, which has the same broadcast rule as np.where\n"
     ]
    }
   ],
   "source": []
  },
  {
   "cell_type": "code",
   "execution_count": 29,
   "metadata": {},
   "outputs": [],
   "source": [
    "masks = skimage.io.imread('/Users/sean/code/wormAnalysis/data/segmentation_training_data/2019_04_03_ASI_ablation/2019_04_03_ASI_ablation-410-0-seg.tif') // 255\n",
    "imgs = skimage.io.imread('/Users/sean/code/wormAnalysis/data/segmentation_training_data/2019_04_03_ASI_ablation/2019_04_03_ASI_ablation-410-0.tif')\n",
    "\n",
    "masks = np.reshape(masks, masks.shape + (1,))[:, :128, :128, :]\n",
    "imgs = np.reshape(imgs, imgs.shape + (1,))[:, :128, :128, :]"
   ]
  },
  {
   "cell_type": "code",
   "execution_count": 31,
   "metadata": {
    "scrolled": false
   },
   "outputs": [],
   "source": [
    "model = unet_model.unet(input_size=(128,128,1))"
   ]
  },
  {
   "cell_type": "code",
   "execution_count": 32,
   "metadata": {
    "scrolled": true
   },
   "outputs": [
    {
     "name": "stderr",
     "output_type": "stream",
     "text": [
      "/Users/sean/.local/share/virtualenvs/python-zUhjj0fC/lib/python3.7/site-packages/ipykernel_launcher.py:8: UserWarning: The `nb_epoch` argument in `fit` has been renamed `epochs`.\n",
      "  \n"
     ]
    },
    {
     "name": "stdout",
     "output_type": "stream",
     "text": [
      "Train on 98 samples, validate on 25 samples\n",
      "Epoch 1/10\n",
      "98/98 [==============================] - 116s 1s/step - loss: 0.6785 - acc: 0.9577 - val_loss: 0.5658 - val_acc: 0.9649\n",
      "Epoch 2/10\n",
      "98/98 [==============================] - 107s 1s/step - loss: 0.5525 - acc: 0.9657 - val_loss: 0.5658 - val_acc: 0.9649\n",
      "Epoch 3/10\n",
      "98/98 [==============================] - 108s 1s/step - loss: 0.5525 - acc: 0.9657 - val_loss: 0.5658 - val_acc: 0.9649\n",
      "Epoch 4/10\n",
      "98/98 [==============================] - 114s 1s/step - loss: 0.5525 - acc: 0.9657 - val_loss: 0.5658 - val_acc: 0.9649\n",
      "Epoch 5/10\n",
      "98/98 [==============================] - 124s 1s/step - loss: 0.5524 - acc: 0.9657 - val_loss: 0.5658 - val_acc: 0.9649\n",
      "Epoch 6/10\n",
      "98/98 [==============================] - 126s 1s/step - loss: 0.5524 - acc: 0.9657 - val_loss: 0.5658 - val_acc: 0.9649\n",
      "Epoch 7/10\n",
      "98/98 [==============================] - 110s 1s/step - loss: 0.5524 - acc: 0.9657 - val_loss: 0.5658 - val_acc: 0.9649\n",
      "Epoch 8/10\n",
      "98/98 [==============================] - 111s 1s/step - loss: 0.5524 - acc: 0.9657 - val_loss: 0.5658 - val_acc: 0.9649\n",
      "Epoch 9/10\n",
      "98/98 [==============================] - 114s 1s/step - loss: 0.5524 - acc: 0.9657 - val_loss: 0.5658 - val_acc: 0.9649\n",
      "Epoch 10/10\n",
      "98/98 [==============================] - 107s 1s/step - loss: 0.5524 - acc: 0.9657 - val_loss: 0.5658 - val_acc: 0.9649\n"
     ]
    },
    {
     "data": {
      "text/plain": [
       "<keras.callbacks.History at 0x135934dd8>"
      ]
     },
     "execution_count": 32,
     "metadata": {},
     "output_type": "execute_result"
    }
   ],
   "source": [
    "model.fit(\n",
    "    imgs, \n",
    "    masks, \n",
    "    batch_size=2,\n",
    "    nb_epoch=10, \n",
    "    verbose=1,\n",
    "    validation_split=0.2,\n",
    "    shuffle=True,\n",
    ")"
   ]
  },
  {
   "cell_type": "code",
   "execution_count": 33,
   "metadata": {},
   "outputs": [],
   "source": [
    "test_imgs = skimage.io.imread(\n",
    "    '/Users/sean/code/wormAnalysis/data/segmentation_training_data/2018_11_29_hsf1_afd-DONE/2018_11_29_hsf1_afd-410-0.tif'\n",
    ")\n",
    "test_masks = skimage.io.imread(\n",
    "    '/Users/sean/code/wormAnalysis/data/segmentation_training_data/2018_11_29_hsf1_afd-DONE/2018_11_29_hsf1_afd-seg-410-0.tif'\n",
    ") // 255\n",
    "\n",
    "\n",
    "test_imgs = np.reshape(test_imgs, test_imgs.shape + (1,))[:, :128, :128, :]\n",
    "test_masks = np.reshape(test_masks, test_masks.shape + (1,))[:, :128, :128, :]"
   ]
  },
  {
   "cell_type": "code",
   "execution_count": 53,
   "metadata": {},
   "outputs": [
    {
     "name": "stdout",
     "output_type": "stream",
     "text": [
      "123/123 [==============================] - 26s 210ms/step\n"
     ]
    }
   ],
   "source": [
    "results = model.predict(imgs, verbose=1)"
   ]
  },
  {
   "cell_type": "code",
   "execution_count": 55,
   "metadata": {
    "scrolled": true
   },
   "outputs": [
    {
     "data": {
      "text/plain": [
       "<matplotlib.image.AxesImage at 0x1744b4cc0>"
      ]
     },
     "execution_count": 55,
     "metadata": {},
     "output_type": "execute_result"
    },
    {
     "data": {
      "image/png": "[encoded data removed]",
      "text/plain": [
       "<Figure size 432x288 with 1 Axes>"
      ]
     },
     "metadata": {
      "needs_background": "light"
     },
     "output_type": "display_data"
    }
   ],
   "source": [
    "plt.imshow(results[0, :, :, 0])"
   ]
  }
 ],
 "metadata": {
  "kernelspec": {
   "display_name": "Python 3",
   "language": "python",
   "name": "python3"
  },
  "language_info": {
   "codemirror_mode": {
    "name": "ipython",
    "version": 3
   },
   "file_extension": ".py",
   "mimetype": "text/x-python",
   "name": "python",
   "nbconvert_exporter": "python",
   "pygments_lexer": "ipython3",
   "version": "3.7.3"
  }
 },
 "nbformat": 4,
 "nbformat_minor": 2
}
