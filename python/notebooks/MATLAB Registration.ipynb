{
 "cells": [
  {
   "cell_type": "code",
   "execution_count": 11,
   "metadata": {},
   "outputs": [],
   "source": [
    "import matlab.engine\n",
    "\n",
    "from pharynx_analysis import (pharynx_io as pio, image_processing as ip, experiment, plots)\n",
    "import numpy as np\n",
    "import matlab.engine\n",
    "from importlib import reload\n",
    "import logging\n",
    "\n",
    "reload(logging)\n",
    "reload(experiment)\n",
    "reload(pio)\n",
    "reload(ip)\n",
    "reload(plots)\n",
    "\n",
    "logging.basicConfig(format='%(asctime)s %(levelname)s:%(message)s', level=logging.DEBUG, datefmt='%I:%M:%S')"
   ]
  },
  {
   "cell_type": "code",
   "execution_count": 12,
   "metadata": {},
   "outputs": [
    {
     "name": "stderr",
     "output_type": "stream",
     "text": [
      "09:46:46 INFO:Starting full pipeline run for /Users/sean/code/wormAnalysis/data/single_ratio/2019_05_16_gcy8_hsf1_afd_20C\n",
      "09:46:46 INFO:Loading Images\n",
      "09:46:46 INFO:Segmenting pharynxes\n",
      "09:46:47 INFO:Centering and rotating pharynxes\n",
      "100%|██████████| 177/177 [00:06<00:00, 27.17it/s]\n",
      "09:46:54 INFO:Calculating midlines\n",
      "100%|██████████| 177/177 [00:00<00:00, 178.62it/s]\n",
      "09:46:55 INFO:Measuring under midlines\n",
      "100%|██████████| 177/177 [00:02<00:00, 62.89it/s]\n",
      "09:46:59 INFO:Registering profiles\n",
      "09:47:11 INFO:Trimming intensity data\n",
      "09:47:12 INFO:Calculating redox measurements\n",
      "/Users/sean/.local/share/virtualenvs/worm/lib/python3.7/site-packages/xarray/core/computation.py:564: RuntimeWarning: invalid value encountered in log\n",
      "  result_data = func(*input_data)\n",
      "09:47:13 INFO:Finished full pipeline run for /Users/sean/code/wormAnalysis/data/single_ratio/2019_05_16_gcy8_hsf1_afd_20C\n"
     ]
    }
   ],
   "source": [
    "experiment_dir = \"/Users/sean/code/wormAnalysis/data/single_ratio/2019_05_16_gcy8_hsf1_afd_20C\"\n",
    "imaging_scheme = \"TL/470/410\"\n",
    "\n",
    "reload(experiment);\n",
    "ex = experiment.PairExperiment(\n",
    "    experiment_dir=experiment_dir,\n",
    "    imaging_scheme=imaging_scheme,\n",
    "    trim_threshold=3000\n",
    ")\n",
    "ex.full_pipeline()"
   ]
  },
  {
   "cell_type": "code",
   "execution_count": null,
   "metadata": {},
   "outputs": [],
   "source": [
    "ta"
   ]
  }
 ],
 "metadata": {
  "kernelspec": {
   "display_name": "Python 3",
   "language": "python",
   "name": "python3"
  },
  "language_info": {
   "codemirror_mode": {
    "name": "ipython",
    "version": 3
   },
   "file_extension": ".py",
   "mimetype": "text/x-python",
   "name": "python",
   "nbconvert_exporter": "python",
   "pygments_lexer": "ipython3",
   "version": "3.7.3"
  }
 },
 "nbformat": 4,
 "nbformat_minor": 2
}
