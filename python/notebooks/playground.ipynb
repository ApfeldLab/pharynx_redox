{
 "cells": [
  {
   "cell_type": "code",
   "execution_count": 25,
   "metadata": {},
   "outputs": [],
   "source": [
    "%matplotlib qt\n",
    "import pharynx_io\n",
    "import image_processing\n",
    "import numpy as np\n",
    "import matplotlib.pyplot as plt\n",
    "import skimage.measure\n",
    "import seaborn as sns\n",
    "from skimage import segmentation\n",
    "import xarray as xr\n",
    "from scipy.interpolate import UnivariateSpline, interp1d, make_lsq_spline, make_interp_spline\n",
    "from matplotlib.widgets import Slider, Button, RadioButtons"
   ]
  },
  {
   "cell_type": "code",
   "execution_count": 10,
   "metadata": {},
   "outputs": [],
   "source": [
    "img_path = \"/Users/sean/code/wormAnalysis/data/paired_ratio_movement_data_sean/2017_02_22-HD233_SAY47/2017_02_22-HD233_SAY47.tif\"\n",
    "strain_map_path = \"/Users/sean/code/wormAnalysis/data/paired_ratio_movement_data_sean/2017_02_22-HD233_SAY47/indexer.csv\"\n",
    "\n",
    "strains = pharynx_io.load_strain_map(strain_map_path)\n",
    "\n",
    "raw_imgs = pharynx_io.load_images(img_path, \"TL/470_1/410_1/470_2/410_2\", strains)"
   ]
  },
  {
   "cell_type": "code",
   "execution_count": 12,
   "metadata": {},
   "outputs": [],
   "source": [
    "seg_imgs_ = raw_imgs > 2000\n",
    "\n",
    "fl_imgs = raw_imgs[:,1,:,:]\n",
    "\n",
    "(rot_fl, rot_seg) = image_processing.center_and_rotate_pharynxes(fl_imgs, seg_imgs_[:,1,:,:])"
   ]
  },
  {
   "cell_type": "code",
   "execution_count": 13,
   "metadata": {},
   "outputs": [],
   "source": [
    "def measure_profile(fl, mid, xs):\n",
    "    ys = mid(xs)\n",
    "    zs = fl[np.int_(xs),np.int_(ys)]\n",
    "    zs = []\n",
    "    for x,y in zip(np.int_(xs),np.int_(ys)):\n",
    "        zs.append(fl[y, x].data)\n",
    "    return zs"
   ]
  },
  {
   "cell_type": "code",
   "execution_count": 14,
   "metadata": {},
   "outputs": [],
   "source": [
    "mids = image_processing.calculate_midlines(rot_seg)"
   ]
  },
  {
   "cell_type": "code",
   "execution_count": 24,
   "metadata": {},
   "outputs": [
    {
     "name": "stdout",
     "output_type": "stream",
     "text": [
      "TL\n",
      "470_1\n",
      "410_1\n",
      "470_2\n",
      "410_2\n"
     ]
    }
   ],
   "source": [
    "wvls = raw_imgs.wavelength\n",
    "midlines = {}\n",
    "for wvl in wvls.data:\n",
    "    midlines[wvl] = image_processing.calculate_midlines()"
   ]
  },
  {
   "cell_type": "code",
   "execution_count": 17,
   "metadata": {},
   "outputs": [
    {
     "name": "stdout",
     "output_type": "stream",
     "text": [
      "0\n",
      "1\n",
      "2\n"
     ]
    }
   ],
   "source": [
    "for k in mmap.values():\n",
    "    print(k)"
   ]
  },
  {
   "cell_type": "code",
   "execution_count": 63,
   "metadata": {
    "scrolled": false
   },
   "outputs": [
    {
     "data": {
      "text/plain": [
       "0"
      ]
     },
     "execution_count": 63,
     "metadata": {},
     "output_type": "execute_result"
    }
   ],
   "source": [
    "prof_xs = np.linspace(40, 120, 100)\n",
    "profs = np.asarray([measure_profile(rot_fl[i], mids[i], prof_xs) for i in range(rot_fl.shape[0])])\n",
    "\n",
    "fig,(ax,ax1) = plt.subplots(2,1)\n",
    "plt.subplots_adjust(left=0.25, bottom=0.25)\n",
    "\n",
    "i = 0\n",
    "\n",
    "axanimal = plt.axes([0.25, 0.1, 0.65, 0.03])\n",
    "\n",
    "xs = np.linspace(40, 120)\n",
    "im=ax.matshow(rot_fl[i])\n",
    "mid,=ax.plot(xs, mids[i](xs), color='r', lw=1)\n",
    "\n",
    "\n",
    "prof,= ax1.plot(prof_xs, profs[i,:])\n",
    "\n",
    "def update(val):\n",
    "    mid.set_ydata(mids[int(val)](xs))\n",
    "    prof.set_ydata(profs[int(val),:])\n",
    "    im.set_data(rot_fl[int(val)])\n",
    "    fig.canvas.draw_idle()\n",
    "\n",
    "a = np.arange(0,len(strains)-1)\n",
    "s_animal = Slider(axanimal, 'Animal', min(a), max(a), valinit=min(a), valstep=1)\n",
    "\n",
    "s_animal.on_changed(update)"
   ]
  },
  {
   "cell_type": "code",
   "execution_count": 11,
   "metadata": {
    "scrolled": false
   },
   "outputs": [
    {
     "data": {
      "text/plain": [
       "<matplotlib.legend.Legend at 0x13738ab00>"
      ]
     },
     "execution_count": 11,
     "metadata": {},
     "output_type": "execute_result"
    }
   ],
   "source": [
    "from scipy.interpolate import make_interp_spline\n",
    "from matplotlib.lines import Line2D\n",
    "\n",
    "i=0\n",
    "fig, ax1 = plt.subplots(figsize=(10,5))\n",
    "\n",
    "xs = np.linspace(40, 120)\n",
    "xs_subsampled = np.linspace(40, 120, 5)\n",
    "ax1.imshow(rot_fl[i])\n",
    "# ax1.plot(xs, mids[i](xs), label=\"original spline\")\n",
    "ax1.scatter(xs_subsampled, mids[i](\n",
    "    xs_subsampled), s=100, zorder=2, edgecolors='black', color='white')\n",
    "\n",
    "b = make_interp_spline(xs_subsampled, mids[i](xs_subsampled))\n",
    "ax1.plot(xs, b(xs), label='b-spline', zorder=1, color='orange')\n",
    "\n",
    "ax1.legend()"
   ]
  },
  {
   "cell_type": "code",
   "execution_count": 3,
   "metadata": {},
   "outputs": [],
   "source": [
    "def dist(x, y):\n",
    "    \"\"\"\n",
    "    Return the distance between two points.\n",
    "    \"\"\"\n",
    "    d = x - y\n",
    "    return np.sqrt(np.dot(d, d))\n",
    "\n",
    "\n",
    "def dist_point_to_segment(p, s0, s1):\n",
    "    \"\"\"\n",
    "    Get the distance of a point to a segment.\n",
    "\n",
    "      *p*, *s0*, *s1* are *xy* sequences\n",
    "\n",
    "    This algorithm from\n",
    "    http://geomalgorithms.com/a02-_lines.html\n",
    "    \"\"\"\n",
    "    p = np.asarray(p, float)\n",
    "    s0 = np.asarray(s0, float)\n",
    "    s1 = np.asarray(s1, float)\n",
    "    v = s1 - s0\n",
    "    w = p - s0\n",
    "\n",
    "    c1 = np.dot(w, v)\n",
    "    if c1 <= 0:\n",
    "        return dist(p, s0)\n",
    "\n",
    "    c2 = np.dot(v, v)\n",
    "    if c2 <= c1:\n",
    "        return dist(p, s1)\n",
    "\n",
    "    b = c1 / c2\n",
    "    pb = s0 + b * v\n",
    "    return dist(p, pb)"
   ]
  },
  {
   "cell_type": "code",
   "execution_count": 176,
   "metadata": {},
   "outputs": [],
   "source": [
    "from matplotlib.lines import Line2D\n",
    "from matplotlib.artist import Artist\n",
    "\n",
    "class MidlineSplineEditorPlot(object):\n",
    "    \n",
    "    show_vertices = True\n",
    "    epsilon = 5 # max pixel distance to count as a vertex hit\n",
    "    \n",
    "    def __init__(self, fig, ax, x, y, spl_resolution=5, k=3, bc_type=None):\n",
    "        \"\"\"\n",
    "        x = vector of x positions of midline\n",
    "        y = vector of y positions of midline\n",
    "        \"\"\"\n",
    "        self.canvas = fig.canvas\n",
    "        self.ax = ax\n",
    "        self.x = x\n",
    "        self.y = y\n",
    "        self.k = k\n",
    "        self.bc_type = bc_type\n",
    "        self.spl = self.mk_spl(x, y)\n",
    "        self.spl_resolution = spl_resolution\n",
    "        self.spl_xs = np.linspace(np.min(x), np.max(x), spl_resolution)\n",
    "        \n",
    "        self.pts = Line2D(self.x, self.y, zorder=1, color='white', ls='', marker='o', animated=True)\n",
    "        self.line = Line2D(self.spl_xs, self.spl(self.spl_xs), color='orange', animated=True, zorder=2)\n",
    "        \n",
    "        self._ind = None # active vertex\n",
    "        \n",
    "        self.ax.add_artist(self.line)\n",
    "        self.ax.add_artist(self.pts)\n",
    "        \n",
    "        self.canvas.mpl_connect('draw_event', self.draw_callback)\n",
    "        self.canvas.mpl_connect('button_press_event', self.button_press_callback)\n",
    "        self.canvas.mpl_connect('button_release_event', self.button_release_callback)\n",
    "        self.canvas.mpl_connect('motion_notify_event', self.motion_notify_callback)\n",
    "\n",
    "\n",
    "    def mk_spl(self, x, y):\n",
    "#         return make_interp_spline(x, y, k=self.k, bc_type=self.bc_type)\n",
    "        return UnivariateSpline(x, y, s=50, k=self.k)\n",
    "        \n",
    "    def draw_callback(self, event):\n",
    "        self.background = self.canvas.copy_from_bbox(self.ax.bbox)\n",
    "        self.ax.draw_artist(self.line)\n",
    "        self.ax.draw_artist(self.pts)\n",
    "        # do not need to blit here, this will fire before the screen is\n",
    "        # updated\n",
    "\n",
    "    def get_ind_under_point(self, event):\n",
    "        # display coords\n",
    "        d = np.hypot(self.x - event.xdata, self.y - event.ydata)\n",
    "        indseq, = np.nonzero(d == d.min())\n",
    "        ind = indseq[0]\n",
    "        if d[ind] >= self.epsilon:\n",
    "            ind = None\n",
    "        return ind\n",
    "    \n",
    "    def button_press_callback(self, event):\n",
    "        \"\"\"Called when a mouse button is pressed\"\"\"\n",
    "        if event.inaxes is None:\n",
    "            return\n",
    "        if event.button != 1:  # check that it is left mouse\n",
    "            return\n",
    "        self._ind = self.get_ind_under_point(event)\n",
    "        \n",
    "    def button_release_callback(self, event):\n",
    "        \"\"\"Called when a mouse button is released\"\"\"\n",
    "        if event.button != 1:\n",
    "            return\n",
    "        self._ind = None\n",
    "    \n",
    "    def motion_notify_callback(self, event):\n",
    "        if self._ind is None:\n",
    "            return\n",
    "        if event.inaxes is None:\n",
    "            return\n",
    "        mousex, mousey = event.xdata, event.ydata\n",
    "        \n",
    "        \n",
    "        \n",
    "        oldx = self.x\n",
    "        oldy = self.y\n",
    "        try:\n",
    "            self.x[self._ind] = mousex\n",
    "            self.y[self._ind] = mousey\n",
    "            \n",
    "            self.spl = self.mk_spl(self.x, self.y)\n",
    "            self.spl_xs = np.linspace(np.min(self.x), np.max(self.x), self.spl_resolution)\n",
    "            self.line.set_data(self.spl_xs, self.spl(self.spl_xs))\n",
    "            self.pts.set_data(self.x, self.y)\n",
    "        except ValueError:\n",
    "            self.x = oldx\n",
    "            self.y = oldy\n",
    "        \n",
    "        self.canvas.restore_region(self.background)\n",
    "        self.ax.draw_artist(self.line)\n",
    "        self.ax.draw_artist(self.pts)\n",
    "        self.canvas.blit(self.ax.bbox)"
   ]
  },
  {
   "cell_type": "code",
   "execution_count": 175,
   "metadata": {
    "collapsed": true
   },
   "outputs": [],
   "source": [
    "xs_subsampled = np.linspace(40, 120, 6)\n",
    "ys_subsampled = mids[i](xs_subsampled)\n",
    "\n",
    "fig, ax = plt.subplots()\n",
    "ax.imshow(rot_fl[i])\n",
    "m = MidlineEditor(\n",
    "    fig, ax, xs_subsampled, ys_subsampled, \n",
    "    spl_resolution=20, k=4, bc_type=None)\n",
    "#     (\n",
    "#         [(4, 0), (2, 0)], \n",
    "#         [(4, 0), (2, 0)]))"
   ]
  },
  {
   "cell_type": "code",
   "execution_count": 6,
   "metadata": {},
   "outputs": [
    {
     "data": {
      "text/plain": [
       "<xarray.DataArray (strain: 123, wavelength: 4, y: 130, x: 174)>\n",
       "array([[[[220., ..., 224.],\n",
       "         ...,\n",
       "         [507., ..., 212.]],\n",
       "\n",
       "        ...,\n",
       "\n",
       "        [[242., ..., 229.],\n",
       "         ...,\n",
       "         [491., ..., 232.]]],\n",
       "\n",
       "\n",
       "       ...,\n",
       "\n",
       "\n",
       "       [[[215., ..., 212.],\n",
       "         ...,\n",
       "         [223., ..., 208.]],\n",
       "\n",
       "        ...,\n",
       "\n",
       "        [[222., ..., 227.],\n",
       "         ...,\n",
       "         [230., ..., 209.]]]])\n",
       "Coordinates:\n",
       "  * wavelength  (wavelength) <U5 '470_1' '410_1' '470_2' '410_2'\n",
       "  * strain      (strain) <U5 'HD233' 'HD233' 'HD233' ... 'SAY47' 'SAY47' 'SAY47'\n",
       "Dimensions without coordinates: y, x"
      ]
     },
     "execution_count": 6,
     "metadata": {},
     "output_type": "execute_result"
    }
   ],
   "source": [
    "raw_imgs.where(raw_imgs.wavelength != 'TL', drop=True)"
   ]
  },
  {
   "cell_type": "code",
   "execution_count": 7,
   "metadata": {},
   "outputs": [
    {
     "data": {
      "text/plain": [
       "<xarray.DataArray (strain: 123, wavelength: 5, y: 130, x: 174)>\n",
       "array([[[[1033, ...,  985],\n",
       "         ...,\n",
       "         [ 673, ...,  958]],\n",
       "\n",
       "        ...,\n",
       "\n",
       "        [[ 242, ...,  229],\n",
       "         ...,\n",
       "         [ 491, ...,  232]]],\n",
       "\n",
       "\n",
       "       ...,\n",
       "\n",
       "\n",
       "       [[[1048, ..., 1014],\n",
       "         ...,\n",
       "         [ 992, ...,  992]],\n",
       "\n",
       "        ...,\n",
       "\n",
       "        [[ 222, ...,  227],\n",
       "         ...,\n",
       "         [ 230, ...,  209]]]], dtype=uint16)\n",
       "Coordinates:\n",
       "  * wavelength  (wavelength) <U5 'TL' '470_1' '410_1' '470_2' '410_2'\n",
       "  * strain      (strain) <U5 'HD233' 'HD233' 'HD233' ... 'SAY47' 'SAY47' 'SAY47'\n",
       "Dimensions without coordinates: y, x"
      ]
     },
     "execution_count": 7,
     "metadata": {},
     "output_type": "execute_result"
    }
   ],
   "source": [
    "raw_imgs"
   ]
  },
  {
   "cell_type": "code",
   "execution_count": null,
   "metadata": {},
   "outputs": [],
   "source": []
  }
 ],
 "metadata": {
  "kernelspec": {
   "display_name": "Python 3",
   "language": "python",
   "name": "python3"
  },
  "language_info": {
   "codemirror_mode": {
    "name": "ipython",
    "version": 3
   },
   "file_extension": ".py",
   "mimetype": "text/x-python",
   "name": "python",
   "nbconvert_exporter": "python",
   "pygments_lexer": "ipython3",
   "version": "3.7.3"
  }
 },
 "nbformat": 4,
 "nbformat_minor": 2
}
