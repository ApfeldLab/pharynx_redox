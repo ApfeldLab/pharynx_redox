{
 "cells": [
  {
   "cell_type": "code",
   "execution_count": 23,
   "metadata": {},
   "outputs": [],
   "source": [
    "import numpy as np\n",
    "import skimage\n",
    "import pandas as pd\n",
    "\n",
    "import pathlib\n",
    "from pathlib import Path\n",
    "from importlib import reload\n",
    "import logging\n",
    "\n",
    "\n",
    "from pharynx_analysis import (\n",
    "    pharynx_io as pio, image_processing as ip, experiment, plots\n",
    ")\n",
    "\n",
    "reload(pio);\n",
    "reload(ip);\n",
    "reload(experiment);\n",
    "\n",
    "logging.basicConfig(format='%(asctime)s %(levelname)s:%(message)s', level=logging.DEBUG, datefmt='%I:%M:%S')"
   ]
  },
  {
   "cell_type": "markdown",
   "metadata": {},
   "source": [
    "# Process Paired Experiments"
   ]
  },
  {
   "cell_type": "code",
   "execution_count": 21,
   "metadata": {
    "scrolled": true
   },
   "outputs": [
    {
     "name": "stderr",
     "output_type": "stream",
     "text": [
      "12:13:52 INFO:Starting full pipeline run for /Users/sean/code/wormAnalysis/data/paired_ratio/2017_02_23-HD233_HD236\n",
      "12:13:52 INFO:Loading Images\n",
      "12:13:53 INFO:Segmenting pharynxes\n",
      "12:13:54 INFO:Centering and rotating pharynxes\n",
      "12:14:01 INFO:Calculating midlines\n",
      "12:14:02 INFO:Measuring under midlines\n",
      "12:14:07 INFO:Trimming intensity data\n",
      "12:14:08 INFO:Calculating redox measurements\n",
      "/Users/sean/.local/share/virtualenvs/worm/lib/python3.7/site-packages/xarray/core/computation.py:564: RuntimeWarning: invalid value encountered in log\n",
      "  result_data = func(*input_data)\n",
      "12:14:08 INFO:Finished full pipeline run for /Users/sean/code/wormAnalysis/data/paired_ratio/2017_02_23-HD233_HD236\n",
      "12:14:09 INFO:Starting full pipeline run for /Users/sean/code/wormAnalysis/data/paired_ratio/2017_03_01_HD233_HD236\n",
      "12:14:09 INFO:Loading Images\n",
      "12:14:09 INFO:Segmenting pharynxes\n",
      "12:14:11 INFO:Centering and rotating pharynxes\n",
      "12:14:21 INFO:Calculating midlines\n",
      "12:14:23 INFO:Measuring under midlines\n",
      "12:14:29 INFO:Trimming intensity data\n",
      "12:14:30 INFO:Calculating redox measurements\n",
      "/Users/sean/.local/share/virtualenvs/worm/lib/python3.7/site-packages/xarray/core/computation.py:564: RuntimeWarning: invalid value encountered in log\n",
      "  result_data = func(*input_data)\n",
      "12:14:30 INFO:Finished full pipeline run for /Users/sean/code/wormAnalysis/data/paired_ratio/2017_03_01_HD233_HD236\n",
      "12:14:31 INFO:Starting full pipeline run for /Users/sean/code/wormAnalysis/data/paired_ratio/2017_08_15-HD233_4mM_lev\n",
      "12:14:31 INFO:Loading Images\n",
      "12:14:31 INFO:Segmenting pharynxes\n",
      "12:14:33 INFO:Centering and rotating pharynxes\n",
      "12:14:39 INFO:Calculating midlines\n",
      "12:14:40 INFO:Measuring under midlines\n",
      "12:14:44 INFO:Trimming intensity data\n",
      "12:14:45 INFO:Calculating redox measurements\n",
      "/Users/sean/.local/share/virtualenvs/worm/lib/python3.7/site-packages/xarray/core/computation.py:564: RuntimeWarning: invalid value encountered in log\n",
      "  result_data = func(*input_data)\n",
      "12:14:45 INFO:Finished full pipeline run for /Users/sean/code/wormAnalysis/data/paired_ratio/2017_08_15-HD233_4mM_lev\n",
      "12:14:46 INFO:Starting full pipeline run for /Users/sean/code/wormAnalysis/data/paired_ratio/2017_08_24-HD233_SAY93\n",
      "12:14:46 INFO:Loading Images\n",
      "12:14:47 INFO:Segmenting pharynxes\n",
      "12:14:48 INFO:Centering and rotating pharynxes\n",
      "12:14:55 INFO:Calculating midlines\n",
      "12:14:56 INFO:Measuring under midlines\n",
      "12:14:59 INFO:Trimming intensity data\n",
      "12:14:59 INFO:Calculating redox measurements\n",
      "/Users/sean/.local/share/virtualenvs/worm/lib/python3.7/site-packages/xarray/core/computation.py:564: RuntimeWarning: invalid value encountered in log\n",
      "  result_data = func(*input_data)\n",
      "12:15:00 INFO:Finished full pipeline run for /Users/sean/code/wormAnalysis/data/paired_ratio/2017_08_24-HD233_SAY93\n",
      "12:15:00 INFO:Starting full pipeline run for /Users/sean/code/wormAnalysis/data/paired_ratio/2017_02_27-HD233_HD236\n",
      "12:15:00 INFO:Loading Images\n",
      "12:15:01 INFO:Segmenting pharynxes\n",
      "12:15:02 INFO:Centering and rotating pharynxes\n",
      "12:15:11 INFO:Calculating midlines\n",
      "12:15:12 INFO:Measuring under midlines\n",
      "12:15:16 INFO:Trimming intensity data\n",
      "12:15:17 INFO:Calculating redox measurements\n",
      "/Users/sean/.local/share/virtualenvs/worm/lib/python3.7/site-packages/xarray/core/computation.py:564: RuntimeWarning: invalid value encountered in log\n",
      "  result_data = func(*input_data)\n",
      "12:15:17 INFO:Finished full pipeline run for /Users/sean/code/wormAnalysis/data/paired_ratio/2017_02_27-HD233_HD236\n",
      "12:15:18 INFO:Starting full pipeline run for /Users/sean/code/wormAnalysis/data/paired_ratio/2017_08_25-HD233_4mm_lev\n",
      "12:15:18 INFO:Loading Images\n",
      "12:15:18 INFO:Segmenting pharynxes\n",
      "12:15:18 INFO:Centering and rotating pharynxes\n",
      "12:15:21 INFO:Calculating midlines\n",
      "12:15:21 INFO:Measuring under midlines\n",
      "12:15:22 INFO:Trimming intensity data\n",
      "12:15:23 INFO:Calculating redox measurements\n",
      "/Users/sean/.local/share/virtualenvs/worm/lib/python3.7/site-packages/xarray/core/computation.py:564: RuntimeWarning: invalid value encountered in log\n",
      "  result_data = func(*input_data)\n",
      "12:15:23 INFO:Finished full pipeline run for /Users/sean/code/wormAnalysis/data/paired_ratio/2017_08_25-HD233_4mm_lev\n"
     ]
    }
   ],
   "source": [
    "paired_dir = Path('/Users/sean/code/wormAnalysis/data/paired_ratio')\n",
    "imaging_scheme = \"TL/470/410/470/410\"\n",
    "for exp_dir in paired_dir.iterdir():\n",
    "    if exp_dir.is_dir():\n",
    "        if len(list(exp_dir.glob('*region_means.csv'))) < 1:\n",
    "            ex = experiment.PairExperiment(exp_dir, imaging_scheme)\n",
    "            ex.persist_to_disk()"
   ]
  },
  {
   "cell_type": "code",
   "execution_count": 31,
   "metadata": {
    "scrolled": false
   },
   "outputs": [],
   "source": [
    "dfs = []\n",
    "for exp_dir in paired_dir.iterdir():\n",
    "    if exp_dir.is_dir():\n",
    "        dfs.append(pd.read_csv(exp_dir.joinpath(exp_dir.stem+'-region_means.csv')))\n",
    "regions_all = pd.concat(dfs, axis=0, sort=False)\n",
    "regions_all.to_csv('/Users/sean/Desktop/all_exp_regions.csv', index=False)"
   ]
  },
  {
   "cell_type": "code",
   "execution_count": null,
   "metadata": {},
   "outputs": [],
   "source": []
  }
 ],
 "metadata": {
  "kernelspec": {
   "display_name": "Python 3",
   "language": "python",
   "name": "python3"
  },
  "language_info": {
   "codemirror_mode": {
    "name": "ipython",
    "version": 3
   },
   "file_extension": ".py",
   "mimetype": "text/x-python",
   "name": "python",
   "nbconvert_exporter": "python",
   "pygments_lexer": "ipython3",
   "version": "3.7.3"
  }
 },
 "nbformat": 4,
 "nbformat_minor": 2
}
