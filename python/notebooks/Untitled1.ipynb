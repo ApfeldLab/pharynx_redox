{
 "cells": [
  {
   "cell_type": "code",
   "execution_count": 65,
   "metadata": {},
   "outputs": [],
   "source": [
    "import numpy as np\n",
    "import skimage\n",
    "from pharynx_analysis import (\n",
    "    pharynx_io as pio, image_processing as ip, experiment, plots\n",
    ")\n",
    "import pathlib\n",
    "from importlib import reload\n",
    "reload(pio);\n",
    "reload(ip);\n",
    "reload(experiment);"
   ]
  },
  {
   "cell_type": "code",
   "execution_count": 74,
   "metadata": {},
   "outputs": [
    {
     "data": {
      "text/plain": [
       "'2017_10_12-gld_1_RNAi_SAY88_HD233'"
      ]
     },
     "execution_count": 74,
     "metadata": {},
     "output_type": "execute_result"
    }
   ],
   "source": [
    "list(meta_path.iterdir())[0].stem"
   ]
  },
  {
   "cell_type": "code",
   "execution_count": 76,
   "metadata": {
    "scrolled": true
   },
   "outputs": [],
   "source": [
    "meta_path = pathlib.Path(\"/Users/sean/code/wormAnalysis/data/segmentation_training_data/paired_ratio_minimal\")\n",
    "meta_path_seg = meta_path.parent.joinpath(meta_path.stem + '-seg')\n",
    "for path in meta_path.iterdir():\n",
    "    if path.is_dir():\n",
    "        path_stem = path.stem\n",
    "        \n",
    "        indexer_path = None\n",
    "        img_path = None\n",
    "        for item in path.iterdir():\n",
    "            if item.suffix in ['.tiff', '.tif']:\n",
    "                img_path = item\n",
    "            if item.stem == 'indexer':\n",
    "                indexer_path = item\n",
    "\n",
    "        ims = pio.load_images(\n",
    "            str(img_path),\n",
    "            \"TL/470/410/470/410\",\n",
    "            pio.load_strain_map_from_disk(str(indexer_path))\n",
    "        )\n",
    "        \n",
    "        seg_ims = (all_ims > 2000).astype(np.uint8) * 255\n",
    "        \n",
    "        pio.save_split_images_to_disk(ims, img_path.stem, meta_path_seg.joinpath(path_stem))\n",
    "        pio.save_split_images_to_disk(seg_ims, 'seg-' + img_path.stem, meta_path_seg.joinpath(path_stem))"
   ]
  },
  {
   "cell_type": "code",
   "execution_count": 19,
   "metadata": {},
   "outputs": [],
   "source": [
    "all_ims = pio.load_images(\n",
    "    \"/Users/sean/code/wormAnalysis/data/segmentation_training_data/paired_ratio_minimal/2017_02_22-HD233_SAY47-OK/2017_02_22-HD233_SAY47.tif\",\n",
    "    \"TL/410/470/410/470\",\n",
    "    pio.load_strain_map_from_disk(\"/Users/sean/code/wormAnalysis/data/segmentation_training_data/paired_ratio_minimal/2017_02_22-HD233_SAY47-OK/indexer.csv\")\n",
    ")"
   ]
  },
  {
   "cell_type": "code",
   "execution_count": 40,
   "metadata": {},
   "outputs": [],
   "source": [
    "pio.save_split_images_to_disk(all_ims, 'testing', '/Users/sean/desktop/testing/')"
   ]
  },
  {
   "cell_type": "code",
   "execution_count": 64,
   "metadata": {},
   "outputs": [
    {
     "data": {
      "text/plain": [
       "<xarray.DataArray (strain: 123, wavelength: 3, pair: 2, y: 130, x: 174)>\n",
       "array([[[[[1, ..., 1],\n",
       "          ...,\n",
       "          [1, ..., 1]],\n",
       "\n",
       "         [[0, ..., 0],\n",
       "          ...,\n",
       "          [0, ..., 0]]],\n",
       "\n",
       "\n",
       "        ...,\n",
       "\n",
       "\n",
       "        [[[1, ..., 1],\n",
       "          ...,\n",
       "          [1, ..., 1]],\n",
       "\n",
       "         [[1, ..., 1],\n",
       "          ...,\n",
       "          [1, ..., 1]]]],\n",
       "\n",
       "\n",
       "\n",
       "       ...,\n",
       "\n",
       "\n",
       "\n",
       "       [[[[1, ..., 1],\n",
       "          ...,\n",
       "          [1, ..., 1]],\n",
       "\n",
       "         [[0, ..., 0],\n",
       "          ...,\n",
       "          [0, ..., 0]]],\n",
       "\n",
       "\n",
       "        ...,\n",
       "\n",
       "\n",
       "        [[[1, ..., 1],\n",
       "          ...,\n",
       "          [1, ..., 1]],\n",
       "\n",
       "         [[1, ..., 1],\n",
       "          ...,\n",
       "          [1, ..., 1]]]]], dtype=uint8)\n",
       "Coordinates:\n",
       "  * wavelength  (wavelength) <U3 'TL' '410' '470'\n",
       "  * strain      (strain) <U5 'HD233' 'HD233' 'HD233' ... 'SAY47' 'SAY47' 'SAY47'\n",
       "Dimensions without coordinates: pair, y, x"
      ]
     },
     "execution_count": 64,
     "metadata": {},
     "output_type": "execute_result"
    }
   ],
   "source": [
    "(all_ims > 200).astype(np.uint8)"
   ]
  },
  {
   "cell_type": "code",
   "execution_count": null,
   "metadata": {},
   "outputs": [],
   "source": []
  }
 ],
 "metadata": {
  "kernelspec": {
   "display_name": "Python 3",
   "language": "python",
   "name": "python3"
  },
  "language_info": {
   "codemirror_mode": {
    "name": "ipython",
    "version": 3
   },
   "file_extension": ".py",
   "mimetype": "text/x-python",
   "name": "python",
   "nbconvert_exporter": "python",
   "pygments_lexer": "ipython3",
   "version": "3.7.3"
  }
 },
 "nbformat": 4,
 "nbformat_minor": 2
}
