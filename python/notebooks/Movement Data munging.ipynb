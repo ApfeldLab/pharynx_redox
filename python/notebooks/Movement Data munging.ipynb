{
 "cells": [
  {
   "cell_type": "code",
   "execution_count": 3,
   "metadata": {},
   "outputs": [],
   "source": [
    "import pandas as pd\n",
    "from glob import glob"
   ]
  },
  {
   "cell_type": "code",
   "execution_count": 43,
   "metadata": {},
   "outputs": [
    {
     "data": {
      "text/plain": [
       "['/Users/sean/code/wormAnalysis/data/NEW_DATA/2017_10_12-gld_1_RNAi_SAY88_HD233',\n",
       " '/Users/sean/code/wormAnalysis/data/NEW_DATA/2017_08_23-HD233_4mm_lev',\n",
       " '/Users/sean/code/wormAnalysis/data/NEW_DATA/2017_02_22-HD233_SAY47',\n",
       " '/Users/sean/code/wormAnalysis/data/NEW_DATA/2017_08_25-HD233_SAY93',\n",
       " '/Users/sean/code/wormAnalysis/data/NEW_DATA/2017_02_23-HD233_HD236',\n",
       " '/Users/sean/code/wormAnalysis/data/NEW_DATA/2017_03_01_HD233_HD236',\n",
       " '/Users/sean/code/wormAnalysis/data/NEW_DATA/2017_08_15-HD233_4mM-lev',\n",
       " '/Users/sean/code/wormAnalysis/data/NEW_DATA/2017_08_24-HD233_SAY93',\n",
       " '/Users/sean/code/wormAnalysis/data/NEW_DATA/2017_02_27-HD233_HD236',\n",
       " '/Users/sean/code/wormAnalysis/data/NEW_DATA/2017_08_25-HD233_4mm_lev']"
      ]
     },
     "execution_count": 43,
     "metadata": {},
     "output_type": "execute_result"
    }
   ],
   "source": []
  },
  {
   "cell_type": "code",
   "execution_count": 56,
   "metadata": {},
   "outputs": [],
   "source": [
    "def collect_movement_annotations(data_dir, pair):\n",
    "    annotation_files = glob(data_dir + \"/*pair%d_*.csv\" % pair)\n",
    "    df = pd.DataFrame(columns=['frame', 'posterior', 'anterior', 'sides_of_tip', 'tip'])\n",
    "    df.set_index('frame', inplace=True)\n",
    "    for f in annotation_files:\n",
    "        data = pd.read_csv(f, squeeze = True, header=None)\n",
    "        \n",
    "        if \"Anterior\" in f:\n",
    "            df['anterior'] = data\n",
    "        if \"Posterior\" in f:\n",
    "            df['posterior'] = data\n",
    "        if \"_Tip\" in f:\n",
    "            df['tip'] = data\n",
    "        if \"Sides\" in f:\n",
    "            df['sides_of_tip'] = data\n",
    "            \n",
    "    df.index += 1\n",
    "    df.to_csv(data_dir + \"/\" + \"aggregated_movement_annotations_pair%d.csv\" % pair, index_label=\"frame\")"
   ]
  },
  {
   "cell_type": "code",
   "execution_count": 57,
   "metadata": {},
   "outputs": [],
   "source": [
    "data_dirs = glob(\"/Users/sean/code/wormAnalysis/data/NEW_DATA/2017*\")\n",
    "for data_dir in data_dirs:\n",
    "    collect_movement_annotations(data_dir, 1)\n",
    "    collect_movement_annotations(data_dir, 2)"
   ]
  },
  {
   "cell_type": "code",
   "execution_count": null,
   "metadata": {},
   "outputs": [],
   "source": []
  }
 ],
 "metadata": {
  "kernelspec": {
   "display_name": "Python 3",
   "language": "python",
   "name": "python3"
  },
  "language_info": {
   "codemirror_mode": {
    "name": "ipython",
    "version": 3
   },
   "file_extension": ".py",
   "mimetype": "text/x-python",
   "name": "python",
   "nbconvert_exporter": "python",
   "pygments_lexer": "ipython3",
   "version": "3.7.3"
  }
 },
 "nbformat": 4,
 "nbformat_minor": 2
}
