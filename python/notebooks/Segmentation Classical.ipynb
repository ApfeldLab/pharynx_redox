{
 "cells": [
  {
   "cell_type": "code",
   "execution_count": null,
   "metadata": {},
   "outputs": [],
   "source": [
    "from pharynx_analysis import (pharynx_io as pio, image_processing as ip, experiment, plots)\n",
    "import numpy as np\n",
    "import matplotlib.pyplot as plt\n",
    "import xarray as xr\n",
    "from importlib import reload\n",
    "from skimage import measure, transform\n",
    "from collections import namedtuple\n",
    "import pdb\n",
    "from fastdtw import fastdtw\n",
    "from scipy.spatial.distance import euclidean\n",
    "from sklearn.preprocessing import scale\n",
    "import pandas as pd\n",
    "from scipy.signal import find_peaks\n",
    "from pprint import pprint\n",
    "from pathlib import Path\n",
    "from skimage import io as skio\n",
    "import skimage"
   ]
  }
 ],
 "metadata": {
  "kernelspec": {
   "display_name": "Python 3",
   "language": "python",
   "name": "python3"
  },
  "language_info": {
   "codemirror_mode": {
    "name": "ipython",
    "version": 3
   },
   "file_extension": ".py",
   "mimetype": "text/x-python",
   "name": "python",
   "nbconvert_exporter": "python",
   "pygments_lexer": "ipython3",
   "version": "3.7.3"
  }
 },
 "nbformat": 4,
 "nbformat_minor": 2
}
