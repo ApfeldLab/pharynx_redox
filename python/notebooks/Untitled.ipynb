{
 "cells": [
  {
   "cell_type": "code",
   "execution_count": 43,
   "metadata": {},
   "outputs": [],
   "source": [
    "from pharynx_analysis import (pharynx_io as pio, image_processing as ip, experiment, plots)\n",
    "import numpy as np\n",
    "import matplotlib.pyplot as plt\n",
    "import xarray as xr\n",
    "from importlib import reload\n",
    "from skimage import measure, transform\n",
    "from collections import namedtuple\n",
    "import pdb\n",
    "from fastdtw import fastdtw\n",
    "from scipy.spatial.distance import euclidean\n",
    "from sklearn.preprocessing import scale\n",
    "import skimage"
   ]
  },
  {
   "cell_type": "code",
   "execution_count": 40,
   "metadata": {},
   "outputs": [],
   "source": [
    "img_path = \"/Users/sean/code/wormAnalysis/data/paired_ratio_minimal/2017_02_27-HD233_HD236/2017_02_27-HD233_HD236.tif\"\n",
    "strain_map_path = \"/Users/sean/code/wormAnalysis/data/paired_ratio_minimal/2017_02_27-HD233_HD236/indexer.csv\"\n",
    "strains = pio.load_strain_map_from_disk(strain_map_path)\n",
    "\n",
    "imaging_scheme = \"TL/470/410/470/410\""
   ]
  },
  {
   "cell_type": "code",
   "execution_count": null,
   "metadata": {},
   "outputs": [],
   "source": [
    "plt.plot(ex.raw_intensity_data.sel(wavelength='410', pair=0).T);"
   ]
  },
  {
   "cell_type": "code",
   "execution_count": 41,
   "metadata": {},
   "outputs": [],
   "source": [
    "raw_image_data = pio.load_images(img_path, imaging_scheme, strains)\n",
    "seg_stack = ip.segment_pharynxes(raw_image_data)\n",
    "\n",
    "rot_fl, rot_seg = ip.center_and_rotate_pharynxes(raw_image_data, seg_stack)"
   ]
  },
  {
   "cell_type": "code",
   "execution_count": 49,
   "metadata": {},
   "outputs": [
    {
     "name": "stderr",
     "output_type": "stream",
     "text": [
      "/Users/sean/.local/share/virtualenvs/python-zUhjj0fC/lib/python3.7/site-packages/skimage/io/_io.py:141: UserWarning: /Users/sean/Desktop/seg.tif is a low contrast image\n",
      "  warn('%s is a low contrast image' % fname)\n"
     ]
    }
   ],
   "source": [
    "skimage.io.imsave('/Users/sean/Desktop/seg.tif', rot_seg.sel(wavelength='410', pair=0).data.astype(np.uint16))"
   ]
  },
  {
   "cell_type": "code",
   "execution_count": null,
   "metadata": {},
   "outputs": [],
   "source": []
  }
 ],
 "metadata": {
  "kernelspec": {
   "display_name": "Python 3",
   "language": "python",
   "name": "python3"
  },
  "language_info": {
   "codemirror_mode": {
    "name": "ipython",
    "version": 3
   },
   "file_extension": ".py",
   "mimetype": "text/x-python",
   "name": "python",
   "nbconvert_exporter": "python",
   "pygments_lexer": "ipython3",
   "version": "3.7.3"
  }
 },
 "nbformat": 4,
 "nbformat_minor": 2
}
