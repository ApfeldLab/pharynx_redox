{
 "cells": [
  {
   "cell_type": "code",
   "execution_count": 3,
   "metadata": {
    "pycharm": {
     "is_executing": false
    }
   },
   "outputs": [],
   "source": [
    "%reload_ext autoreload\n",
    "%autoreload 2\n",
    "%matplotlib inline\n",
    "\n",
    "import sys\n",
    "sys.path.insert(0, '../')\n",
    "\n",
    "from pharynx_analysis import experiment\n",
    "from pharynx_analysis import pharynx_io as pio\n",
    "from pharynx_analysis import image_processing\n",
    "import matplotlib.pyplot as plt\n",
    "import numpy as np\n",
    "import xarray as xr\n",
    "from skimage import measure, transform\n",
    "from scipy.interpolate import UnivariateSpline\n",
    "import seaborn as sns\n",
    "import pandas as pd\n",
    "import pickle"
   ]
  },
  {
   "cell_type": "code",
   "execution_count": 4,
   "metadata": {},
   "outputs": [
    {
     "data": {
      "text/plain": [
       "123"
      ]
     },
     "execution_count": 4,
     "metadata": {},
     "output_type": "execute_result"
    }
   ],
   "source": [
    "pe = pickle.load(open('/Users/sean/code/wormAnalysis/data/experiment.pickle', 'rb'))\n",
    "pe.raw_image_data.strain.size\n",
    "# img_path = \"/Users/sean/code/wormAnalysis/data/paired_ratio_movement_data_sean/2017_02_22-HD233_SAY47/2017_02_22-HD233_SAY47.tif\"\n",
    "# strain_map_path = \"/Users/sean/code/wormAnalysis/data/paired_ratio_movement_data_sean/2017_02_22-HD233_SAY47/indexer.csv\"\n",
    "\n",
    "# strains = pio.load_strain_map(strain_map_path)\n",
    "# pe = experiment.PairExperiment(img_path, \"TL/470_1/410_1/470_2/410_2\", strains)\n",
    "# pickle.dump(pe, open('/Users/sean/code/wormAnalysis/data/experiment.pickle', 'wb'))"
   ]
  },
  {
   "cell_type": "code",
   "execution_count": 6,
   "metadata": {},
   "outputs": [
    {
     "data": {
      "text/plain": [
       "10"
      ]
     },
     "execution_count": 6,
     "metadata": {},
     "output_type": "execute_result"
    }
   ],
   "source": [
    "np.linspace(1, 10, 10).size"
   ]
  },
  {
   "cell_type": "code",
   "execution_count": null,
   "metadata": {
    "scrolled": false
   },
   "outputs": [],
   "source": [
    "fig = plt.figure(figsize=(12,6))\n",
    "\n",
    "for i, wvl in enumerate(pe.raw_intensity_data.wavelength.data):\n",
    "    ax = plt.subplot(2, 2, i+1)\n",
    "    xs = np.linspace(1,100,500)\n",
    "    data = pe.raw_intensity_data.sel(wavelength=wvl).groupby('strain', restore_coord_dims=False).mean(dim='strain').T\n",
    "    ax.plot(data)\n",
    "    ax.legend(data.strain.data)\n",
    "    ax.set_ylim((0, 1.3e4))\n",
    "    ax.set_title(wvl)\n",
    "    \n",
    "    \n",
    "plt.tight_layout()"
   ]
  },
  {
   "cell_type": "code",
   "execution_count": null,
   "metadata": {},
   "outputs": [],
   "source": [
    "plt.plot(pe.trimmed_intensity_data[0].T);"
   ]
  },
  {
   "cell_type": "code",
   "execution_count": null,
   "metadata": {},
   "outputs": [],
   "source": [
    "pe.raw_image_data.strain.size"
   ]
  }
 ],
 "metadata": {
  "kernelspec": {
   "display_name": "Python 3",
   "language": "python",
   "name": "python3"
  },
  "language_info": {
   "codemirror_mode": {
    "name": "ipython",
    "version": 3
   },
   "file_extension": ".py",
   "mimetype": "text/x-python",
   "name": "python",
   "nbconvert_exporter": "python",
   "pygments_lexer": "ipython3",
   "version": "3.7.3"
  },
  "pycharm": {
   "stem_cell": {
    "cell_type": "raw",
    "metadata": {
     "collapsed": false
    },
    "source": []
   }
  }
 },
 "nbformat": 4,
 "nbformat_minor": 2
}
