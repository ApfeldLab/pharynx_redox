{
 "cells": [
  {
   "cell_type": "code",
   "execution_count": 1,
   "metadata": {
    "pycharm": {
     "is_executing": false
    }
   },
   "outputs": [],
   "source": [
    "%reload_ext autoreload\n",
    "%autoreload 2\n",
    "%matplotlib inline\n",
    "\n",
    "import sys\n",
    "sys.path.insert(0, '../')\n",
    "\n",
    "from pharynx_analysis import experiment\n",
    "from pharynx_analysis import pharynx_io as pio\n",
    "from pharynx_analysis import image_processing\n",
    "import matplotlib.pyplot as plt\n",
    "import numpy as np\n",
    "import xarray as xr\n",
    "from skimage import measure, transform\n",
    "from scipy.interpolate import UnivariateSpline\n",
    "import seaborn as sns\n",
    "import pandas as pd\n",
    "import pickle"
   ]
  },
  {
   "cell_type": "code",
   "execution_count": 27,
   "metadata": {},
   "outputs": [],
   "source": [
    "# pe = pickle.load(open('/Users/sean/code/wormAnalysis/data/experiment.pickle', 'rb'))\n",
    "# pe.raw_image_data.strain.size\n",
    "img_path = \"/Users/sean/code/wormAnalysis/data/paired_ratio_movement_data_sean/2017_02_22-HD233_SAY47/2017_02_22-HD233_SAY47.tif\"\n",
    "strain_map_path = \"/Users/sean/code/wormAnalysis/data/paired_ratio_movement_data_sean/2017_02_22-HD233_SAY47/indexer.csv\"\n",
    "\n",
    "strains = pio.load_strain_map(strain_map_path)\n",
    "pe = experiment.PairExperiment(img_path, \"TL/470_1/410_1/470_2/410_2\", strains, midline_smoothing=1e8)\n",
    "# pickle.dump(pe, open('/Users/sean/code/wormAnalysis/data/experiment.pickle', 'wb'))"
   ]
  },
  {
   "cell_type": "code",
   "execution_count": 31,
   "metadata": {},
   "outputs": [
    {
     "data": {
      "text/plain": [
       "<matplotlib.image.AxesImage at 0x124cf3fd0>"
      ]
     },
     "execution_count": 31,
     "metadata": {},
     "output_type": "execute_result"
    },
    {
     "data": {
      "image/png": "[encoded data removed]",
      "text/plain": [
       "<Figure size 432x288 with 1 Axes>"
      ]
     },
     "metadata": {
      "needs_background": "light"
     },
     "output_type": "display_data"
    }
   ],
   "source": [
    "r = pe.rot_ratios.isel(pair=0)[i]\n",
    "fl = pe.rot_fl.sel(wavelength='410_1')[i]\n",
    "plt.imshow(r * fl)"
   ]
  },
  {
   "cell_type": "code",
   "execution_count": null,
   "metadata": {},
   "outputs": [],
   "source": [
    "j=0\n",
    "\n",
    "I410 = pe.rot_fl.sel(wavelength='410_1')\n",
    "I470 = pe.rot_fl.sel(wavelength='470_1')\n",
    "\n",
    "ys = np.arange(I[j].shape[0])\n",
    "\n",
    "locs410 = []\n",
    "locs470 = []\n",
    "for i in range(I.shape[1]):\n",
    "    locs410.append(np.average(ys, weights=I410[j,:,i].data))\n",
    "    locs470.append(np.average(ys, weights=I470[j,:,i].data))\n",
    "    \n",
    "\n",
    "plt.figure(figsize=(20,10))\n",
    "plt.imshow(I410[j]/I470[j]);\n",
    "plt.scatter(x=np.arange(len(locs)), y=locs410, color='red');\n",
    "plt.scatter(x=np.arange(len(locs)), y=locs470, color='orange');\n",
    "plt.ylim((50,80));\n",
    "plt.xlim((50,130))\n",
    "xs = np.linspace(50,120)\n",
    "plt.plot(xs, pe.midlines['410_1'][j](xs), color='red', zorder=2);\n",
    "plt.plot(xs, pe.midlines['470_1'][j](xs), color='orange', zorder=2)"
   ]
  }
 ],
 "metadata": {
  "kernelspec": {
   "display_name": "Python 3",
   "language": "python",
   "name": "python3"
  },
  "language_info": {
   "codemirror_mode": {
    "name": "ipython",
    "version": 3
   },
   "file_extension": ".py",
   "mimetype": "text/x-python",
   "name": "python",
   "nbconvert_exporter": "python",
   "pygments_lexer": "ipython3",
   "version": "3.7.3"
  },
  "pycharm": {
   "stem_cell": {
    "cell_type": "raw",
    "metadata": {
     "collapsed": false
    },
    "source": []
   }
  }
 },
 "nbformat": 4,
 "nbformat_minor": 2
}
