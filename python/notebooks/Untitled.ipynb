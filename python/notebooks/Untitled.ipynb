{
 "cells": [
  {
   "cell_type": "code",
   "execution_count": 1,
   "metadata": {},
   "outputs": [],
   "source": [
    "from pharynx_analysis import (pharynx_io as pio, image_processing as ip, experiment, plots)\n",
    "import numpy as np\n",
    "import matplotlib.pyplot as plt\n",
    "import xarray as xr\n",
    "from importlib import reload\n",
    "from skimage import measure, transform\n",
    "from collections import namedtuple\n",
    "import pdb\n",
    "from fastdtw import fastdtw\n",
    "from scipy.spatial.distance import euclidean\n",
    "from sklearn.preprocessing import scale\n",
    "import skimage\n",
    "import logging\n",
    "from mpl_toolkits.axes_grid1 import ImageGrid\n",
    "import pandas as pd\n",
    "import seaborn as sns\n",
    "\n",
    "\n",
    "reload(logging)\n",
    "reload(experiment)\n",
    "reload(pio)\n",
    "reload(ip)\n",
    "reload(plots)\n",
    "\n",
    "logging.basicConfig(format='%(asctime)s %(levelname)s:%(message)s', level=logging.DEBUG, datefmt='%I:%M:%S')"
   ]
  },
  {
   "cell_type": "code",
   "execution_count": 189,
   "metadata": {},
   "outputs": [
    {
     "name": "stderr",
     "output_type": "stream",
     "text": [
      "02:12:17 INFO:Starting full pipeline run for /Users/sean/code/wormAnalysis/data/paired_ratio/2019_04_03_ASI_ablation/\n",
      "02:12:17 INFO:Loading Images\n",
      "02:12:18 INFO:Segmenting pharynxes\n",
      "02:12:19 INFO:Centering and rotating pharynxes\n",
      "02:12:27 INFO:Calculating midlines\n",
      "02:12:29 INFO:Measuring under midlines\n",
      "02:12:34 INFO:Trimming intensity data\n",
      "02:12:34 INFO:Calculating redox measurements\n",
      "/Users/sean/.local/share/virtualenvs/worm/lib/python3.7/site-packages/xarray/core/computation.py:564: RuntimeWarning: invalid value encountered in log\n",
      "  result_data = func(*input_data)\n",
      "02:12:35 INFO:Finished full pipeline run for /Users/sean/code/wormAnalysis/data/paired_ratio/2019_04_03_ASI_ablation\n"
     ]
    }
   ],
   "source": [
    "experiment_dir = \"/Users/sean/code/wormAnalysis/data/paired_ratio/2019_04_03_ASI_ablation/\"\n",
    "imaging_scheme = \"TL/470/410/470/410\"\n",
    "\n",
    "reload(experiment);\n",
    "ex = experiment.PairExperiment(\n",
    "    experiment_dir=experiment_dir,\n",
    "    imaging_scheme=imaging_scheme\n",
    ")"
   ]
  },
  {
   "cell_type": "code",
   "execution_count": null,
   "metadata": {},
   "outputs": [],
   "source": [
    "r_r = ex.trimmed_intensity_data.sel(wavelength='r', pair=0) / ex.trimmed_intensity_data.sel(wavelength='r', pair=1)\n",
    "plt.plot(r_r)"
   ]
  }
 ],
 "metadata": {
  "kernelspec": {
   "display_name": "Python 3",
   "language": "python",
   "name": "python3"
  },
  "language_info": {
   "codemirror_mode": {
    "name": "ipython",
    "version": 3
   },
   "file_extension": ".py",
   "mimetype": "text/x-python",
   "name": "python",
   "nbconvert_exporter": "python",
   "pygments_lexer": "ipython3",
   "version": "3.7.3"
  }
 },
 "nbformat": 4,
 "nbformat_minor": 2
}
