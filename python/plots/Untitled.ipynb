{
 "cells": [
  {
   "cell_type": "code",
   "execution_count": 114,
   "metadata": {},
   "outputs": [],
   "source": [
    "%matplotlib inline\n",
    "from matplotlib import pyplot as plt\n",
    "import numpy as np\n",
    "import pandas as pd\n",
    "import seaborn as sns\n",
    "sns.set(style=\"darkgrid\")"
   ]
  },
  {
   "cell_type": "code",
   "execution_count": 248,
   "metadata": {},
   "outputs": [],
   "source": [
    "i410_path = \"/Users/sean/Desktop/Analyses for Jodie's new Data/2018_10_03_HD233_SAY47/i410.csv\"\n",
    "i470_path = \"/Users/sean/Desktop/Analyses for Jodie's new Data/2018_10_03_HD233_SAY47/i470.csv\"\n",
    "strains_path = \"/Users/sean/Desktop/Analyses for Jodie's new Data/2018_10_03_HD233_SAY47/strains.csv\"\n",
    "movement_path = \"/Users/sean/Desktop/Analyses for Jodie's new Data/2018_10_03_HD233_SAY47/movement.csv\"\n",
    "\n",
    "i410 = np.genfromtxt(i410_path, delimiter=',') # [animal x position] (row x col)\n",
    "i470 = np.genfromtxt(i470_path, delimiter=',')\n",
    "strains = pd.read_csv(strains_path)\n",
    "movement = pd.read_csv(movement_path, header=None)\n",
    "movement.columns =  ['movement']"
   ]
  },
  {
   "cell_type": "code",
   "execution_count": 249,
   "metadata": {},
   "outputs": [],
   "source": [
    "def gen_strain_idx_df(strain_df):\n",
    "    \n",
    "    n_animals = strain_df[\"End\"].max()\n",
    "    unique_strains = strain_df[\"Strain\"].unique()\n",
    "    \n",
    "    zeros = np.zeros((n_animals, 1))\n",
    "    \n",
    "    strain_idx = pd.DataFrame(data=zeros, columns=['strain'])\n",
    "    for idx,row in strain_df.iterrows():\n",
    "        strain_idx['strain'][row['Start']-1:row['End']] = row['Strain']\n",
    "    return strain_idx"
   ]
  },
  {
   "cell_type": "code",
   "execution_count": 253,
   "metadata": {},
   "outputs": [],
   "source": [
    "cols_i410 = list(map(lambda x: 'i410_%d' % x, range(np.size(i410, 1))))\n",
    "cols_i470 = list(map(lambda x: 'i470_%d' % x, range(np.size(i470, 1))))\n",
    "i410_df = pd.DataFrame(data=i410, columns=cols_i410)\n",
    "i470_df = pd.DataFrame(data=i470, columns=cols_i470)"
   ]
  },
  {
   "cell_type": "code",
   "execution_count": 254,
   "metadata": {},
   "outputs": [],
   "source": [
    "df = pandas.concat([gen_strain_idx_df(strains), movement, i410_df, i470_df], axis=1)"
   ]
  },
  {
   "cell_type": "code",
   "execution_count": 262,
   "metadata": {
    "scrolled": true
   },
   "outputs": [
    {
     "data": {
      "text/plain": [
       "<matplotlib.axes._subplots.AxesSubplot at 0x11d961c88>"
      ]
     },
     "execution_count": 262,
     "metadata": {},
     "output_type": "execute_result"
    },
    {
     "data": {
      "image/png": "[encoded data removed]",
      "text/plain": [
       "<Figure size 432x288 with 1 Axes>"
      ]
     },
     "metadata": {},
     "output_type": "display_data"
    }
   ],
   "source": [
    "df[df['strain'] == 'HD233'].loc[:,cols_i410[0]:cols_i410[-1]].mean().plot()"
   ]
  },
  {
   "cell_type": "code",
   "execution_count": 265,
   "metadata": {},
   "outputs": [
    {
     "data": {
      "text/plain": [
       "<pandas.core.groupby.groupby.DataFrameGroupBy object at 0x1092236d8>"
      ]
     },
     "execution_count": 265,
     "metadata": {},
     "output_type": "execute_result"
    }
   ],
   "source": [
    "df.groupby('strain')"
   ]
  },
  {
   "cell_type": "code",
   "execution_count": 269,
   "metadata": {},
   "outputs": [],
   "source": [
    "np.savetxt(X=np.zeros((121,1)), fname='/Users/sean/Desktop/vab1_2do_05_25_mvmt_new/movement.csv')"
   ]
  }
 ],
 "metadata": {
  "kernelspec": {
   "display_name": "Python 3",
   "language": "python",
   "name": "python3"
  },
  "language_info": {
   "codemirror_mode": {
    "name": "ipython",
    "version": 3
   },
   "file_extension": ".py",
   "mimetype": "text/x-python",
   "name": "python",
   "nbconvert_exporter": "python",
   "pygments_lexer": "ipython3",
   "version": "3.7.0"
  }
 },
 "nbformat": 4,
 "nbformat_minor": 2
}
