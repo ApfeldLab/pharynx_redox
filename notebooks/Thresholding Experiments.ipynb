{
 "cells": [
  {
   "cell_type": "code",
   "execution_count": 1,
   "metadata": {},
   "outputs": [],
   "source": [
    "%matplotlib inline\n",
    "import glob\n",
    "import random\n",
    "import math\n",
    "import pandas as pd\n",
    "import numpy as np\n",
    "import matplotlib\n",
    "import matplotlib.pyplot as plt\n",
    "from matplotlib import patches as mpatches\n",
    "import seaborn as sns\n",
    "\n",
    "import skimage\n",
    "from skimage.external import tifffile\n",
    "from scipy import stats\n",
    "from skimage.measure import label, regionprops, compare_ssim, compare_nrmse, compare_psnr\n",
    "from skimage.morphology import remove_small_objects, skeletonize, binary_opening, disk\n",
    "from skimage.segmentation import clear_border\n",
    "from skimage.filters import threshold_li\n",
    "from skimage.transform import rotate\n",
    "\n",
    "matplotlib.rcParams['figure.figsize'] = (20.0, 15.0)"
   ]
  },
  {
   "cell_type": "markdown",
   "metadata": {},
   "source": [
    "# Import Labels"
   ]
  },
  {
   "cell_type": "code",
   "execution_count": 2,
   "metadata": {},
   "outputs": [],
   "source": [
    "daf7 = pd.read_csv('raw_data/labels/0_daf-7.dat')\n",
    "gld1 = pd.read_csv('raw_data/labels/1_gld-1_RNAi.dat')\n",
    "glp1 = pd.read_csv('raw_data/labels/2_glp-1_gf.dat')\n",
    "hm_0 = pd.read_csv('raw_data/labels/3_HM_08_03.dat')\n",
    "hm_1 = pd.read_csv('raw_data/labels/4_HM_08_15.dat')\n",
    "hm_2 = pd.read_csv('raw_data/labels/5_HM_08_23.dat')\n",
    "hm_3 = pd.read_csv('raw_data/labels/6_HM_08_25.dat')\n",
    "\n",
    "all_labels = pd.concat([\n",
    "    daf7['Definite Movement Calls 410/470'],\n",
    "    gld1['Def Movement Call 410/470'],\n",
    "    glp1['Movement 470/470'],\n",
    "    hm_0['Movement 470/470'],\n",
    "    hm_1['Movement 470/470'],\n",
    "    hm_2['Movement 470/470'],\n",
    "    hm_3['Movement 470/470']],\n",
    "    ignore_index=True,\n",
    ")\n",
    "problem_labels = np.where(np.isnan(all_labels))[0]\n",
    "all_labels = np.asarray(all_labels, dtype=int)"
   ]
  },
  {
   "cell_type": "markdown",
   "metadata": {},
   "source": [
    "# Import Images"
   ]
  },
  {
   "cell_type": "code",
   "execution_count": null,
   "metadata": {},
   "outputs": [],
   "source": [
    "def get_imset_num(path):\n",
    "    return path.split('/')[2].split('_')[0]\n",
    "\n",
    "def get_wavelength_imset_paths(wavelength):\n",
    "    return sorted([glob.glob('raw_data/imgs/%s*_%d_1*' % (i, wavelength))[0] for i in set([get_imset_num(s) for s in glob.glob('raw_data/imgs/*')])],\n",
    "                  key=lambda path: get_imset_num(path))\n",
    "\n",
    "_410_img_paths = get_wavelength_imset_paths(410)\n",
    "_470_img_paths = get_wavelength_imset_paths(470)\n",
    "\n",
    "all_410 = np.concatenate([tifffile.imread(_410_img_paths[i]) for i in range(len(_410_img_paths))], axis=0)\n",
    "all_470 = np.concatenate([tifffile.imread(_470_img_paths[i]) for i in range(len(_470_img_paths))], axis=0)\n",
    "\n",
    "problem_ims = [1156]\n",
    "problem_idx = np.append(problem_labels, problem_ims)\n",
    "\n",
    "all_410 = np.delete(all_410, problem_idx, axis=0)\n",
    "all_470 = np.delete(all_470, problem_idx, axis=0)\n",
    "all_labels = np.delete(all_labels, problem_idx)"
   ]
  },
  {
   "cell_type": "markdown",
   "metadata": {},
   "source": [
    "# Thresholding"
   ]
  },
  {
   "cell_type": "code",
   "execution_count": null,
   "metadata": {},
   "outputs": [],
   "source": [
    "def make_bin_mask(img):\n",
    "    thresh = img>threshold_li(img)\n",
    "    try:\n",
    "        return remove_all_but_rightmost(remove_small_objects(thresh))\n",
    "    except:\n",
    "        return remove_all_but_rightmost(thresh)\n",
    "    \n"
   ]
  }
 ],
 "metadata": {
  "kernelspec": {
   "display_name": "Python 3",
   "language": "python",
   "name": "python3"
  },
  "language_info": {
   "codemirror_mode": {
    "name": "ipython",
    "version": 3
   },
   "file_extension": ".py",
   "mimetype": "text/x-python",
   "name": "python",
   "nbconvert_exporter": "python",
   "pygments_lexer": "ipython3",
   "version": "3.6.4"
  }
 },
 "nbformat": 4,
 "nbformat_minor": 2
}
