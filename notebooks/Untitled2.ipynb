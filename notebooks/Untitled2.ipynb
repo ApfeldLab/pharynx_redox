{
 "cells": [
  {
   "cell_type": "code",
   "execution_count": 1,
   "metadata": {},
   "outputs": [],
   "source": [
    "% matplotlib inline\n",
    "\n",
    "import cv2\n",
    "import numpy as np\n",
    "from skimage.external import tifffile\n",
    "import matplotlib.pyplot as plt\n",
    "\n",
    "plt.rcParams['figure.figsize'] = [13, 5]"
   ]
  },
  {
   "cell_type": "code",
   "execution_count": 2,
   "metadata": {},
   "outputs": [],
   "source": [
    "i410 = tifffile.imread('proc_data/cropped_410.tiff')\n",
    "i470 = tifffile.imread('proc_data/cropped_470.tiff')\n",
    "rat = tifffile.imread('proc_data/r_410_470.tiff')"
   ]
  },
  {
   "cell_type": "code",
   "execution_count": 27,
   "metadata": {},
   "outputs": [
    {
     "data": {
      "text/plain": [
       "<matplotlib.image.AxesImage at 0x10dafa6d8>"
      ]
     },
     "execution_count": 27,
     "metadata": {},
     "output_type": "execute_result"
    },
    {
     "data": {
      "image/png": "[encoded data removed]",
      "text/plain": [
       "<matplotlib.figure.Figure at 0x10dd84550>"
      ]
     },
     "metadata": {},
     "output_type": "display_data"
    }
   ],
   "source": [
    "plt.imshow(i410[0][0:5])"
   ]
  },
  {
   "cell_type": "code",
   "execution_count": 71,
   "metadata": {},
   "outputs": [
    {
     "data": {
      "text/plain": [
       "[(0, 7),\n",
       " (1, 8),\n",
       " (2, 9),\n",
       " (3, 10),\n",
       " (4, 11),\n",
       " (5, 12),\n",
       " (6, 13),\n",
       " (7, 14),\n",
       " (8, 15),\n",
       " (9, 16),\n",
       " (10, 17),\n",
       " (11, 18),\n",
       " (12, 19),\n",
       " (13, 20),\n",
       " (14, 21),\n",
       " (15, 22),\n",
       " (16, 23),\n",
       " (17, 24),\n",
       " (18, 25),\n",
       " (19, 26),\n",
       " (20, 27),\n",
       " (21, 28),\n",
       " (22, 29),\n",
       " (23, 30),\n",
       " (24, 31)]"
      ]
     },
     "execution_count": 71,
     "metadata": {},
     "output_type": "execute_result"
    }
   ],
   "source": [
    "h = i410[0].shape[0]\n",
    "dy = 7\n",
    "range_ = np.arange(0,h)\n",
    "list(zip(np.arange(0,h), np.arange(0,h) + dy))"
   ]
  },
  {
   "cell_type": "code",
   "execution_count": 72,
   "metadata": {},
   "outputs": [],
   "source": [
    "def com_per_col(img):\n",
    "    n = img.shape[0]\n",
    "    i = np.arange(n).reshape([n, 1])\n",
    "    return np.sum(img * i, axis=0) / np.sum(img, axis=0)\n",
    "\n",
    "def center_of_mass_dy(im, dY):\n",
    "    height = im.shape[0]\n",
    "\n",
    "    slices = np.minimum(list(zip(np.arange(0,h), np.arange(0,h) + dy)), height)\n",
    "    all_coms = []\n",
    "    for s in slices:\n",
    "        I = im[s[0]:s[1]]\n",
    "        coms = com_per_col(I)\n",
    "        all_coms.append(coms)\n",
    "    return np.vstack(all_coms)\n",
    "\n",
    "def rmse(predictions, targets):\n",
    "    return np.sqrt(((predictions - targets) ** 2).mean())"
   ]
  },
  {
   "cell_type": "code",
   "execution_count": 73,
   "metadata": {},
   "outputs": [],
   "source": [
    "np.savetxt('rmse.csv', np.asarray([rmse(center_of_mass_dy(i410[i], 5), center_of_mass_dy(i470[i], 5)) for i in range(len(i410))]))"
   ]
  },
  {
   "cell_type": "code",
   "execution_count": null,
   "metadata": {},
   "outputs": [],
   "source": []
  }
 ],
 "metadata": {
  "kernelspec": {
   "display_name": "Python 3",
   "language": "python",
   "name": "python3"
  },
  "language_info": {
   "codemirror_mode": {
    "name": "ipython",
    "version": 3
   },
   "file_extension": ".py",
   "mimetype": "text/x-python",
   "name": "python",
   "nbconvert_exporter": "python",
   "pygments_lexer": "ipython3",
   "version": "3.6.4"
  }
 },
 "nbformat": 4,
 "nbformat_minor": 2
}
