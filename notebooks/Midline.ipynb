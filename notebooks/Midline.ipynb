{
 "cells": [
  {
   "cell_type": "code",
   "execution_count": 13,
   "metadata": {},
   "outputs": [],
   "source": [
    "% matplotlib inline\n",
    "\n",
    "import math\n",
    "\n",
    "import numpy as np\n",
    "\n",
    "from scipy.ndimage.morphology import distance_transform_cdt as distance\n",
    "from scipy.ndimage.morphology import binary_fill_holes as fill_holes\n",
    "from scipy.interpolate import UnivariateSpline as spline\n",
    "from scipy.interpolate import splprep, splev, bisplev, interp1d\n",
    "from scipy.optimize import minimize\n",
    "\n",
    "from skimage import feature, filters, morphology\n",
    "from skimage.external import tifffile\n",
    "from skimage.feature import canny\n",
    "from skimage.morphology import binary_dilation as dilate\n",
    "from skimage.morphology import binary_closing as close\n",
    "from skimage.morphology import binary_erosion as erode\n",
    "from skimage.morphology import binary_opening as open\n",
    "from skimage.filters import gaussian\n",
    "\n",
    "import matplotlib.pyplot as plt\n",
    "\n",
    "from helpers import intersection\n",
    "\n",
    "import cv2\n",
    "\n",
    "from IPython.core.debugger import set_trace"
   ]
  },
  {
   "cell_type": "code",
   "execution_count": 2,
   "metadata": {},
   "outputs": [],
   "source": [
    "im_410 = tifffile.imread('../data/raw_data_1/all_410_big.tif')\n",
    "im_470 = tifffile.imread('../data/raw_data_1/all_470_big.tif')\n",
    "im_410_bin = im_410.copy()\n",
    "for i in range(len(im_410)):\n",
    "    E = filters.sobel(im_410[i])\n",
    "    T = 0.01\n",
    "    E[E<T] = 0\n",
    "    E[E>T] = 255\n",
    "    E = dilate(dilate(E))\n",
    "    E = fill_holes(E)\n",
    "    E = close(close(E))\n",
    "    E = fill_holes(E)\n",
    "    E = erode(erode(E))\n",
    "    \n",
    "    im_410_bin[i] = E\n",
    "tifffile.imsave('../data/raw_data_1/thresh_410.tif', im_410)"
   ]
  },
  {
   "cell_type": "code",
   "execution_count": 233,
   "metadata": {},
   "outputs": [],
   "source": [
    "def com(img):\n",
    "    n = img.shape[0]\n",
    "    i = np.arange(n).reshape([n, 1])\n",
    "    with np.errstate(divide='ignore', invalid='ignore'):\n",
    "        return np.sum(img * i, axis=0) / np.sum(img, axis=0)\n",
    "\n",
    "def com_nonnan(img):\n",
    "    x = np.arange(img.shape[1])\n",
    "    y = com(img)\n",
    "    s = np.dstack((x,y))\n",
    "    return s[np.invert(np.isnan(s[:,:,1]))]\n",
    "\n",
    "def get_medial_spline(img, k=3, smoothness=0):\n",
    "    I = img.copy()\n",
    "    medial_line = com_nonnan(I)\n",
    "    \n",
    "    padL = 5\n",
    "    padR = 2\n",
    "    return spline(medial_line[:,0][padL:-padR], medial_line[:,1][padL:-padR], k=k, s=smoothness)\n",
    "\n",
    "def get_ctrl_pts(border_pts, spl, padding=10, n_points=10):\n",
    "    \"\"\"\n",
    "    returns result=[x,y]\n",
    "    x: result[0]\n",
    "    y: result[1]\n",
    "    \"\"\"\n",
    "    border_x = border_pts[0]\n",
    "    left_bound, right_bound = np.min(border_x), np.max(border_x)\n",
    "    \n",
    "    ctrl_x = np.linspace(left_bound-padding, right_bound+padding, n_points)\n",
    "    ctrl_y = spl(ctrl_x)\n",
    "    return np.asarray([ctrl_x, ctrl_y])\n",
    "\n",
    "def get_border_pts(img, n_points=1000, smoothness=10):\n",
    "    \"\"\"Expects a THRESHOLDED (BINARY) image\n",
    "    \n",
    "    returns result=[x, y]:\n",
    "    x: result[0]\n",
    "    y: result[1]\n",
    "    \"\"\"\n",
    "    (_, contours, _) = cv2.findContours(img.astype(np.uint8) * 255, cv2.RETR_LIST, cv2.CHAIN_APPROX_NONE)\n",
    "    contour_xs = contours[0][:,0,0]\n",
    "    contour_ys = contours[0][:,0,1]\n",
    "    \n",
    "    tck, u = splprep([contour_xs, contour_ys], s=smoothness, per=True)\n",
    "    x, y = splev(np.linspace(0, 1, n_points), tck)\n",
    "    \n",
    "    return [x, y]\n",
    "\n",
    "def normal_intersect(spl, border_pts, x):\n",
    "    der = spl.derivative()\n",
    "    point = [x, spl(x)]\n",
    "    m = -1/der(x)\n",
    "    \n",
    "    b = spl(x) - (m * x)\n",
    "    \n",
    "    @np.vectorize\n",
    "    def normal_y(x):\n",
    "        return math.floor(m*x + b)\n",
    "    \n",
    "    xs_norm = np.linspace(point[0]-10, point[0]+10, 50)\n",
    "    ys_norm = normal_y(xs_norm)\n",
    "    \n",
    "    return intersection(border_pts[0], border_pts[1], xs_norm, ys_norm)\n",
    "\n",
    "def get_normal_pts(spl, x, padding=10):\n",
    "    der = spl.derivative()\n",
    "    point = [x, spl(x)]\n",
    "    m = -1/der(x)\n",
    "    \n",
    "    b = spl(x) - (m * x)\n",
    "    \n",
    "    @np.vectorize\n",
    "    def normal_y(x):\n",
    "        return math.floor(m*x + b)\n",
    "    \n",
    "    xs_norm = np.linspace(point[0]-padding, point[0]+padding, 50)\n",
    "    ys_norm = normal_y(xs_norm)\n",
    "    return [xs_norm, ys_norm]"
   ]
  },
  {
   "cell_type": "code",
   "execution_count": 237,
   "metadata": {},
   "outputs": [
    {
     "name": "stderr",
     "output_type": "stream",
     "text": [
      "/Users/sean/.virtualenvs/wormAnalysis/lib/python3.6/site-packages/scipy/interpolate/_fitpack_impl.py:226: RuntimeWarning: Setting x[0][117]=x[0][0]\n",
      "  (i, m, i)))\n"
     ]
    },
    {
     "data": {
      "text/plain": [
       "0.4448980300238616"
      ]
     },
     "execution_count": 237,
     "metadata": {},
     "output_type": "execute_result"
    },
    {
     "data": {
      "image/png": "[encoded data removed]",
      "text/plain": [
       "<matplotlib.figure.Figure at 0x11dfef470>"
      ]
     },
     "metadata": {},
     "output_type": "display_data"
    }
   ],
   "source": [
    "idx = 501\n",
    "xi = 30\n",
    "\n",
    "N_CTRL_PTS = 6\n",
    "\n",
    "IMG = im_410_bin[idx]\n",
    "\n",
    "\n",
    "plt.imshow(im_470[idx])\n",
    "\n",
    "border_pts = get_border_pts(IMG)\n",
    "# plt.scatter(border_pts[0], border_pts[1])\n",
    "\n",
    "coms = com_nonnan(IMG)\n",
    "# plt.scatter(coms[:,0], coms[:,1])\n",
    "\n",
    "med_spl = get_medial_spline(IMG, k=4, smoothness=1000)\n",
    "med_spl_der = med_spl.derivative()\n",
    "plt.plot(np.arange(70), np.clip(med_spl(np.arange(70)), 0, 40))\n",
    "\n",
    "# ctrl_pts = get_ctrl_pts(border_pts, med_spl, padding=-3, n_points=N_CTRL_PTS)\n",
    "# plt.plot(ctrl_pts[0], ctrl_pts[1], 'o-', color='orange')\n",
    "\n",
    "normal_pts = get_normal_pts(med_spl, xi, padding=3)\n",
    "# plt.plot(normal_pts[0], np.clip(normal_pts[1], 0, 40))\n",
    "\n",
    "\n",
    "# plt.scatter(min_ctrl[0], min_ctrl[1])\n",
    "# min_spl = spline(min_ctrl[0], min_ctrl[1], k=4)\n",
    "# plt.plot(np.linspace(0,70), np.clip(min_spl(np.linspace(0,70)), 0, 45))\n",
    "\n",
    "\n",
    "intersections = normal_intersect(med_spl, border_pts, xi)\n",
    "i0_x, i1_x = intersections[0][0], intersections[0][1]\n",
    "i0_y, i1_y = intersections[1][0], intersections[1][1]\n",
    "\n",
    "midline_x, midline_y = xi, med_spl(xi)\n",
    "\n",
    "np.square(dist(midline_x, midline_y, i0_x, i0_y) - dist(midline_x, midline_y, i1_x, i1_y))"
   ]
  },
  {
   "cell_type": "code",
   "execution_count": 189,
   "metadata": {},
   "outputs": [],
   "source": [
    "def cost(ctrl_pts):\n",
    "    \"\"\"\n",
    "    border_pts: [xs, ys]\n",
    "    ctrl_pts: [xs ys]\n",
    "    \"\"\"\n",
    "    ctrl_pts = np.reshape(ctrl_pts, (2,N_CTRL_PTS))\n",
    "    spl = spline(ctrl_pts[0], ctrl_pts[1], k=5, s=2)\n",
    "    \n",
    "    border_xs, border_ys = border_pts[0].astype(np.int), border_pts[1].astype(np.int)\n",
    "    \n",
    "    bounds = (np.min(border_xs.ravel()), np.max(border_xs.ravel()))\n",
    "    \n",
    "    total_cost = 0\n",
    "    \n",
    "#     set_trace()\n",
    "    \n",
    "    for xi in range(bounds[0], bounds[1]):\n",
    "        intersections = normal_intersect(spl, border_pts, xi)\n",
    "        \n",
    "        if len(intersections[0]) != 2:\n",
    "            continue\n",
    "        else:\n",
    "            i0_x, i1_x = intersections[0][0], intersections[0][1]\n",
    "            i0_y, i1_y = intersections[1][0], intersections[1][1]\n",
    "\n",
    "            midline_x, midline_y = xi, spl(xi)\n",
    "\n",
    "            cost_xi = np.square(dist(midline_x, midline_y, i0_x, i0_y) - dist(midline_x, midline_y, i1_x, i1_y))\n",
    "            total_cost += cost_xi\n",
    "    \n",
    "    return total_cost\n",
    "\n",
    "\n",
    "def dist(x0, y0, x1, y1):\n",
    "    return math.sqrt(((x0-x1)**2) + ((y0-y1)**2))"
   ]
  },
  {
   "cell_type": "code",
   "execution_count": 191,
   "metadata": {},
   "outputs": [],
   "source": [
    "def printstate(xk):\n",
    "    print(xk)\n",
    "    print(cost(xk))\n",
    "    print(\"----\")"
   ]
  },
  {
   "cell_type": "code",
   "execution_count": 192,
   "metadata": {},
   "outputs": [
    {
     "name": "stdout",
     "output_type": "stream",
     "text": [
      "[20.71786295 23.50265709 26.28745124 29.07224539 31.85703953 34.64183368\n",
      " 37.42662782 40.21142197 42.99621612 45.78101026 48.56580441 51.35059855\n",
      " 54.1353927  56.92018685 20.57525347 21.33584746 22.40176881 23.22522724\n",
      " 28.32388088 30.40289493 28.5881115  28.05189532 27.68359413 26.3484121\n",
      " 23.97381533 22.18462648 18.58941052 16.91302237]\n",
      "198.01294922031752\n",
      "----\n",
      "[20.71786295 23.50265709 26.28745124 29.07224539 31.85703953 34.64183368\n",
      " 37.42662782 40.21142197 42.99621612 45.78101026 48.56580441 51.35059855\n",
      " 54.1353927  56.92018685 20.57525347 21.33584746 22.40176881 23.22522724\n",
      " 28.32388088 30.40289493 28.5881115  28.05189532 27.68359413 26.3484121\n",
      " 23.97381533 22.18462648 18.58941052 16.91302237]\n",
      "198.01294922031752\n",
      "----\n",
      "[20.71786295 23.50265709 26.28745124 29.07224539 31.85703953 34.64183368\n",
      " 37.42662782 40.21142197 42.99621612 45.78101026 48.56580441 51.35059855\n",
      " 54.1353927  56.92018685 20.57525347 21.33584746 22.40176881 23.22522724\n",
      " 28.32388088 30.40289493 28.5881115  28.05189532 27.68359413 26.3484121\n",
      " 23.97381533 22.18462648 18.58941052 16.91302237]\n",
      "198.01294922031752\n",
      "----\n",
      "[20.71786295 23.50265709 26.28745124 29.07224539 31.85703953 34.64183368\n",
      " 37.42662782 40.21142197 42.99621612 45.78101026 48.56580441 51.35059855\n",
      " 54.1353927  56.92018685 20.57525347 21.33584746 22.40176881 23.22522724\n",
      " 28.32388088 30.40289493 28.5881115  28.05189532 27.68359413 26.3484121\n",
      " 23.97381533 22.18462648 18.58941052 16.91302237]\n",
      "198.01294922031752\n",
      "----\n",
      "[20.71786295 23.50265709 26.28745124 29.07224539 31.85703953 34.64183368\n",
      " 37.42662782 40.21142197 42.99621612 45.78101026 48.56580441 51.35059855\n",
      " 54.1353927  56.92018685 20.57525347 21.33584746 22.40176881 23.22522724\n",
      " 28.32388088 30.40289493 28.5881115  28.05189532 27.68359413 26.3484121\n",
      " 23.97381533 22.18462648 18.58941052 16.91302237]\n",
      "198.01294922031752\n",
      "----\n"
     ]
    },
    {
     "ename": "ValueError",
     "evalue": "x must be strictly increasing",
     "output_type": "error",
     "traceback": [
      "\u001b[0;31m---------------------------------------------------------------------------\u001b[0m",
      "\u001b[0;31mValueError\u001b[0m                                Traceback (most recent call last)",
      "\u001b[0;32m<ipython-input-192-576f2702c37f>\u001b[0m in \u001b[0;36m<module>\u001b[0;34m()\u001b[0m\n\u001b[0;32m----> 1\u001b[0;31m \u001b[0mresult\u001b[0m \u001b[0;34m=\u001b[0m \u001b[0mminimize\u001b[0m\u001b[0;34m(\u001b[0m\u001b[0mcost\u001b[0m\u001b[0;34m,\u001b[0m \u001b[0mctrl_pts\u001b[0m\u001b[0;34m.\u001b[0m\u001b[0mravel\u001b[0m\u001b[0;34m(\u001b[0m\u001b[0;34m)\u001b[0m\u001b[0;34m,\u001b[0m \u001b[0mmethod\u001b[0m\u001b[0;34m=\u001b[0m\u001b[0;34m'Nelder-Mead'\u001b[0m\u001b[0;34m,\u001b[0m \u001b[0mcallback\u001b[0m\u001b[0;34m=\u001b[0m\u001b[0mprintstate\u001b[0m\u001b[0;34m)\u001b[0m\u001b[0;34m\u001b[0m\u001b[0m\n\u001b[0m\u001b[1;32m      2\u001b[0m \u001b[0mresult\u001b[0m\u001b[0;34m\u001b[0m\u001b[0m\n",
      "\u001b[0;32m~/.virtualenvs/wormAnalysis/lib/python3.6/site-packages/scipy/optimize/_minimize.py\u001b[0m in \u001b[0;36mminimize\u001b[0;34m(fun, x0, args, method, jac, hess, hessp, bounds, constraints, tol, callback, options)\u001b[0m\n\u001b[1;32m    473\u001b[0m                       callback=callback, **options)\n\u001b[1;32m    474\u001b[0m     \u001b[0;32melif\u001b[0m \u001b[0mmeth\u001b[0m \u001b[0;34m==\u001b[0m \u001b[0;34m'nelder-mead'\u001b[0m\u001b[0;34m:\u001b[0m\u001b[0;34m\u001b[0m\u001b[0m\n\u001b[0;32m--> 475\u001b[0;31m         \u001b[0;32mreturn\u001b[0m \u001b[0m_minimize_neldermead\u001b[0m\u001b[0;34m(\u001b[0m\u001b[0mfun\u001b[0m\u001b[0;34m,\u001b[0m \u001b[0mx0\u001b[0m\u001b[0;34m,\u001b[0m \u001b[0margs\u001b[0m\u001b[0;34m,\u001b[0m \u001b[0mcallback\u001b[0m\u001b[0;34m,\u001b[0m \u001b[0;34m**\u001b[0m\u001b[0moptions\u001b[0m\u001b[0;34m)\u001b[0m\u001b[0;34m\u001b[0m\u001b[0m\n\u001b[0m\u001b[1;32m    476\u001b[0m     \u001b[0;32melif\u001b[0m \u001b[0mmeth\u001b[0m \u001b[0;34m==\u001b[0m \u001b[0;34m'powell'\u001b[0m\u001b[0;34m:\u001b[0m\u001b[0;34m\u001b[0m\u001b[0m\n\u001b[1;32m    477\u001b[0m         \u001b[0;32mreturn\u001b[0m \u001b[0m_minimize_powell\u001b[0m\u001b[0;34m(\u001b[0m\u001b[0mfun\u001b[0m\u001b[0;34m,\u001b[0m \u001b[0mx0\u001b[0m\u001b[0;34m,\u001b[0m \u001b[0margs\u001b[0m\u001b[0;34m,\u001b[0m \u001b[0mcallback\u001b[0m\u001b[0;34m,\u001b[0m \u001b[0;34m**\u001b[0m\u001b[0moptions\u001b[0m\u001b[0;34m)\u001b[0m\u001b[0;34m\u001b[0m\u001b[0m\n",
      "\u001b[0;32m~/.virtualenvs/wormAnalysis/lib/python3.6/site-packages/scipy/optimize/optimize.py\u001b[0m in \u001b[0;36m_minimize_neldermead\u001b[0;34m(func, x0, args, callback, maxiter, maxfev, disp, return_all, initial_simplex, xatol, fatol, **unknown_options)\u001b[0m\n\u001b[1;32m    551\u001b[0m         \u001b[0;32mif\u001b[0m \u001b[0mfxr\u001b[0m \u001b[0;34m<\u001b[0m \u001b[0mfsim\u001b[0m\u001b[0;34m[\u001b[0m\u001b[0;36m0\u001b[0m\u001b[0;34m]\u001b[0m\u001b[0;34m:\u001b[0m\u001b[0;34m\u001b[0m\u001b[0m\n\u001b[1;32m    552\u001b[0m             \u001b[0mxe\u001b[0m \u001b[0;34m=\u001b[0m \u001b[0;34m(\u001b[0m\u001b[0;36m1\u001b[0m \u001b[0;34m+\u001b[0m \u001b[0mrho\u001b[0m \u001b[0;34m*\u001b[0m \u001b[0mchi\u001b[0m\u001b[0;34m)\u001b[0m \u001b[0;34m*\u001b[0m \u001b[0mxbar\u001b[0m \u001b[0;34m-\u001b[0m \u001b[0mrho\u001b[0m \u001b[0;34m*\u001b[0m \u001b[0mchi\u001b[0m \u001b[0;34m*\u001b[0m \u001b[0msim\u001b[0m\u001b[0;34m[\u001b[0m\u001b[0;34m-\u001b[0m\u001b[0;36m1\u001b[0m\u001b[0;34m]\u001b[0m\u001b[0;34m\u001b[0m\u001b[0m\n\u001b[0;32m--> 553\u001b[0;31m             \u001b[0mfxe\u001b[0m \u001b[0;34m=\u001b[0m \u001b[0mfunc\u001b[0m\u001b[0;34m(\u001b[0m\u001b[0mxe\u001b[0m\u001b[0;34m)\u001b[0m\u001b[0;34m\u001b[0m\u001b[0m\n\u001b[0m\u001b[1;32m    554\u001b[0m \u001b[0;34m\u001b[0m\u001b[0m\n\u001b[1;32m    555\u001b[0m             \u001b[0;32mif\u001b[0m \u001b[0mfxe\u001b[0m \u001b[0;34m<\u001b[0m \u001b[0mfxr\u001b[0m\u001b[0;34m:\u001b[0m\u001b[0;34m\u001b[0m\u001b[0m\n",
      "\u001b[0;32m~/.virtualenvs/wormAnalysis/lib/python3.6/site-packages/scipy/optimize/optimize.py\u001b[0m in \u001b[0;36mfunction_wrapper\u001b[0;34m(*wrapper_args)\u001b[0m\n\u001b[1;32m    290\u001b[0m     \u001b[0;32mdef\u001b[0m \u001b[0mfunction_wrapper\u001b[0m\u001b[0;34m(\u001b[0m\u001b[0;34m*\u001b[0m\u001b[0mwrapper_args\u001b[0m\u001b[0;34m)\u001b[0m\u001b[0;34m:\u001b[0m\u001b[0;34m\u001b[0m\u001b[0m\n\u001b[1;32m    291\u001b[0m         \u001b[0mncalls\u001b[0m\u001b[0;34m[\u001b[0m\u001b[0;36m0\u001b[0m\u001b[0;34m]\u001b[0m \u001b[0;34m+=\u001b[0m \u001b[0;36m1\u001b[0m\u001b[0;34m\u001b[0m\u001b[0m\n\u001b[0;32m--> 292\u001b[0;31m         \u001b[0;32mreturn\u001b[0m \u001b[0mfunction\u001b[0m\u001b[0;34m(\u001b[0m\u001b[0;34m*\u001b[0m\u001b[0;34m(\u001b[0m\u001b[0mwrapper_args\u001b[0m \u001b[0;34m+\u001b[0m \u001b[0margs\u001b[0m\u001b[0;34m)\u001b[0m\u001b[0;34m)\u001b[0m\u001b[0;34m\u001b[0m\u001b[0m\n\u001b[0m\u001b[1;32m    293\u001b[0m \u001b[0;34m\u001b[0m\u001b[0m\n\u001b[1;32m    294\u001b[0m     \u001b[0;32mreturn\u001b[0m \u001b[0mncalls\u001b[0m\u001b[0;34m,\u001b[0m \u001b[0mfunction_wrapper\u001b[0m\u001b[0;34m\u001b[0m\u001b[0m\n",
      "\u001b[0;32m<ipython-input-189-70aa8d268d8e>\u001b[0m in \u001b[0;36mcost\u001b[0;34m(ctrl_pts)\u001b[0m\n\u001b[1;32m      5\u001b[0m     \"\"\"\n\u001b[1;32m      6\u001b[0m     \u001b[0mctrl_pts\u001b[0m \u001b[0;34m=\u001b[0m \u001b[0mnp\u001b[0m\u001b[0;34m.\u001b[0m\u001b[0mreshape\u001b[0m\u001b[0;34m(\u001b[0m\u001b[0mctrl_pts\u001b[0m\u001b[0;34m,\u001b[0m \u001b[0;34m(\u001b[0m\u001b[0;36m2\u001b[0m\u001b[0;34m,\u001b[0m\u001b[0mN_CTRL_PTS\u001b[0m\u001b[0;34m)\u001b[0m\u001b[0;34m)\u001b[0m\u001b[0;34m\u001b[0m\u001b[0m\n\u001b[0;32m----> 7\u001b[0;31m     \u001b[0mspl\u001b[0m \u001b[0;34m=\u001b[0m \u001b[0mspline\u001b[0m\u001b[0;34m(\u001b[0m\u001b[0mctrl_pts\u001b[0m\u001b[0;34m[\u001b[0m\u001b[0;36m0\u001b[0m\u001b[0;34m]\u001b[0m\u001b[0;34m,\u001b[0m \u001b[0mctrl_pts\u001b[0m\u001b[0;34m[\u001b[0m\u001b[0;36m1\u001b[0m\u001b[0;34m]\u001b[0m\u001b[0;34m,\u001b[0m \u001b[0mk\u001b[0m\u001b[0;34m=\u001b[0m\u001b[0;36m5\u001b[0m\u001b[0;34m,\u001b[0m \u001b[0ms\u001b[0m\u001b[0;34m=\u001b[0m\u001b[0;36m2\u001b[0m\u001b[0;34m)\u001b[0m\u001b[0;34m\u001b[0m\u001b[0m\n\u001b[0m\u001b[1;32m      8\u001b[0m \u001b[0;34m\u001b[0m\u001b[0m\n\u001b[1;32m      9\u001b[0m     \u001b[0mborder_xs\u001b[0m\u001b[0;34m,\u001b[0m \u001b[0mborder_ys\u001b[0m \u001b[0;34m=\u001b[0m \u001b[0mborder_pts\u001b[0m\u001b[0;34m[\u001b[0m\u001b[0;36m0\u001b[0m\u001b[0;34m]\u001b[0m\u001b[0;34m.\u001b[0m\u001b[0mastype\u001b[0m\u001b[0;34m(\u001b[0m\u001b[0mnp\u001b[0m\u001b[0;34m.\u001b[0m\u001b[0mint\u001b[0m\u001b[0;34m)\u001b[0m\u001b[0;34m,\u001b[0m \u001b[0mborder_pts\u001b[0m\u001b[0;34m[\u001b[0m\u001b[0;36m1\u001b[0m\u001b[0;34m]\u001b[0m\u001b[0;34m.\u001b[0m\u001b[0mastype\u001b[0m\u001b[0;34m(\u001b[0m\u001b[0mnp\u001b[0m\u001b[0;34m.\u001b[0m\u001b[0mint\u001b[0m\u001b[0;34m)\u001b[0m\u001b[0;34m\u001b[0m\u001b[0m\n",
      "\u001b[0;32m~/.virtualenvs/wormAnalysis/lib/python3.6/site-packages/scipy/interpolate/fitpack2.py\u001b[0m in \u001b[0;36m__init__\u001b[0;34m(self, x, y, w, bbox, k, s, ext, check_finite)\u001b[0m\n\u001b[1;32m    174\u001b[0m                 \u001b[0;32mraise\u001b[0m \u001b[0mValueError\u001b[0m\u001b[0;34m(\u001b[0m\u001b[0;34m\"x and y array must not contain NaNs or infs.\"\u001b[0m\u001b[0;34m)\u001b[0m\u001b[0;34m\u001b[0m\u001b[0m\n\u001b[1;32m    175\u001b[0m         \u001b[0;32mif\u001b[0m \u001b[0;32mnot\u001b[0m \u001b[0mall\u001b[0m\u001b[0;34m(\u001b[0m\u001b[0mdiff\u001b[0m\u001b[0;34m(\u001b[0m\u001b[0mx\u001b[0m\u001b[0;34m)\u001b[0m \u001b[0;34m>\u001b[0m \u001b[0;36m0.0\u001b[0m\u001b[0;34m)\u001b[0m\u001b[0;34m:\u001b[0m\u001b[0;34m\u001b[0m\u001b[0m\n\u001b[0;32m--> 176\u001b[0;31m             \u001b[0;32mraise\u001b[0m \u001b[0mValueError\u001b[0m\u001b[0;34m(\u001b[0m\u001b[0;34m'x must be strictly increasing'\u001b[0m\u001b[0;34m)\u001b[0m\u001b[0;34m\u001b[0m\u001b[0m\n\u001b[0m\u001b[1;32m    177\u001b[0m \u001b[0;34m\u001b[0m\u001b[0m\n\u001b[1;32m    178\u001b[0m         \u001b[0;31m# _data == x,y,w,xb,xe,k,s,n,t,c,fp,fpint,nrdata,ier\u001b[0m\u001b[0;34m\u001b[0m\u001b[0;34m\u001b[0m\u001b[0m\n",
      "\u001b[0;31mValueError\u001b[0m: x must be strictly increasing"
     ]
    }
   ],
   "source": [
    "result = minimize(cost, ctrl_pts.ravel(), method='Nelder-Mead', callback=printstate)\n",
    "result"
   ]
  },
  {
   "cell_type": "code",
   "execution_count": 140,
   "metadata": {},
   "outputs": [
    {
     "data": {
      "text/plain": [
       "array([[14.94578398, 22.75773743, 30.6835419 , 38.34680591, 45.073511  ,\n",
       "        53.5089781 , 61.56627039],\n",
       "       [24.6068089 , 24.70793084, 24.6241577 , 24.58247508, 24.5309014 ,\n",
       "        24.71969454, 25.309983  ]])"
      ]
     },
     "execution_count": 140,
     "metadata": {},
     "output_type": "execute_result"
    }
   ],
   "source": [
    "min_ctrl = result.x.reshape(2,7)\n",
    "min_ctrl"
   ]
  }
 ],
 "metadata": {
  "kernelspec": {
   "display_name": "Python 3",
   "language": "python",
   "name": "python3"
  },
  "language_info": {
   "codemirror_mode": {
    "name": "ipython",
    "version": 3
   },
   "file_extension": ".py",
   "mimetype": "text/x-python",
   "name": "python",
   "nbconvert_exporter": "python",
   "pygments_lexer": "ipython3",
   "version": "3.6.4"
  }
 },
 "nbformat": 4,
 "nbformat_minor": 2
}
