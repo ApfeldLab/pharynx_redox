{
 "cells": [
  {
   "cell_type": "markdown",
   "metadata": {},
   "source": [
    "# Proof-of-Concept for one experiment"
   ]
  },
  {
   "cell_type": "code",
   "execution_count": 507,
   "metadata": {},
   "outputs": [
    {
     "name": "stderr",
     "output_type": "stream",
     "text": [
      "03:34:54 INFO:Starting full pipeline run for /Users/sean/code/pharynx_redox/data/paired_ratio/2017_02_22-HD233_SAY47\n",
      "03:34:54 INFO:Segmenting pharynxes\n",
      "03:34:56 INFO:Centering and rotating pharynxes\n"
     ]
    },
    {
     "data": {
      "application/vnd.jupyter.widget-view+json": {
       "model_id": "",
       "version_major": 2,
       "version_minor": 0
      },
      "text/plain": [
       "HBox(children=(IntProgress(value=0, description='aliging pharynxes', max=123, style=ProgressStyle(description_…"
      ]
     },
     "metadata": {},
     "output_type": "display_data"
    },
    {
     "name": "stderr",
     "output_type": "stream",
     "text": [
      "03:35:05 INFO:Calculating midlines\n"
     ]
    },
    {
     "name": "stdout",
     "output_type": "stream",
     "text": [
      "\r"
     ]
    },
    {
     "data": {
      "application/vnd.jupyter.widget-view+json": {
       "model_id": "",
       "version_major": 2,
       "version_minor": 0
      },
      "text/plain": [
       "HBox(children=(IntProgress(value=0, description='calculating midlines', max=123, style=ProgressStyle(descripti…"
      ]
     },
     "metadata": {},
     "output_type": "display_data"
    },
    {
     "name": "stderr",
     "output_type": "stream",
     "text": [
      "03:35:07 INFO:Measuring under midlines\n"
     ]
    },
    {
     "name": "stdout",
     "output_type": "stream",
     "text": [
      "\r"
     ]
    },
    {
     "data": {
      "application/vnd.jupyter.widget-view+json": {
       "model_id": "",
       "version_major": 2,
       "version_minor": 0
      },
      "text/plain": [
       "HBox(children=(IntProgress(value=0, description='measuring under midlines', max=123, style=ProgressStyle(descr…"
      ]
     },
     "metadata": {},
     "output_type": "display_data"
    },
    {
     "name": "stderr",
     "output_type": "stream",
     "text": [
      "03:35:08 INFO:Registering profiles\n"
     ]
    },
    {
     "name": "stdout",
     "output_type": "stream",
     "text": [
      "\r"
     ]
    },
    {
     "name": "stderr",
     "output_type": "stream",
     "text": [
      "03:37:11 INFO:Trimming intensity data\n",
      "03:37:12 INFO:Calculating redox measurements\n",
      "03:37:12 INFO:Saving 2017_02_22-HD233_SAY47 inside /Users/sean/code/pharynx_redox/data/paired_ratio/2017_02_22-HD233_SAY47\n",
      "03:37:12 INFO:Saving region means to /Users/sean/code/pharynx_redox/data/paired_ratio/2017_02_22-HD233_SAY47/analyses/2019-09-17_frame_specific_midlines_with_registration/2017_02_22-HD233_SAY47-summary_table.csv\n",
      "03:37:13 INFO:Saving profile data to /Users/sean/code/pharynx_redox/data/paired_ratio/2017_02_22-HD233_SAY47/analyses/2019-09-17_frame_specific_midlines_with_registration/2017_02_22-HD233_SAY47-profile_data.nc\n",
      "03:37:13 INFO:Finished full pipeline run for /Users/sean/code/pharynx_redox/data/paired_ratio/2017_02_22-HD233_SAY47\n"
     ]
    }
   ],
   "source": [
    "params = dict(\n",
    "    experiment_dir=Path(\"/Users/sean/code/pharynx_redox/data/paired_ratio/2017_02_22-HD233_SAY47/\"),\n",
    "    imaging_scheme=\"TL/470/410/470/410\",\n",
    "    register=True\n",
    ")\n",
    "\n",
    "ex_unreg = experiment.PairExperiment(**params).full_pipeline()"
   ]
  },
  {
   "cell_type": "code",
   "execution_count": 508,
   "metadata": {},
   "outputs": [],
   "source": [
    "warp_data_0 = np.squeeze(ex_unreg.warps[0].data_matrix)\n",
    "iden_0 = np.linspace(0,1,warp_data.shape[-1])\n",
    "d_iden_0 = np.abs((iden - warp_data))\n",
    "\n",
    "warp_data_1 = np.squeeze(ex_unreg.warps[1].data_matrix)\n",
    "iden_1 = np.linspace(0,1,warp_data.shape[-1])\n",
    "d_iden_1 = np.abs((iden - warp_data))"
   ]
  },
  {
   "cell_type": "code",
   "execution_count": 509,
   "metadata": {
    "scrolled": true
   },
   "outputs": [
    {
     "data": {
      "text/html": [
       "<div>\n",
       "<style scoped>\n",
       "    .dataframe tbody tr th:only-of-type {\n",
       "        vertical-align: middle;\n",
       "    }\n",
       "\n",
       "    .dataframe tbody tr th {\n",
       "        vertical-align: top;\n",
       "    }\n",
       "\n",
       "    .dataframe thead th {\n",
       "        text-align: right;\n",
       "    }\n",
       "</style>\n",
       "<table border=\"1\" class=\"dataframe\">\n",
       "  <thead>\n",
       "    <tr style=\"text-align: right;\">\n",
       "      <th></th>\n",
       "      <th>animal</th>\n",
       "      <th>pair</th>\n",
       "      <th>anterior</th>\n",
       "      <th>posterior</th>\n",
       "      <th>sides_of_tip</th>\n",
       "      <th>tip</th>\n",
       "    </tr>\n",
       "  </thead>\n",
       "  <tbody>\n",
       "    <tr>\n",
       "      <td>0</td>\n",
       "      <td>0</td>\n",
       "      <td>0</td>\n",
       "      <td>0</td>\n",
       "      <td>0</td>\n",
       "      <td>0</td>\n",
       "      <td>1</td>\n",
       "    </tr>\n",
       "    <tr>\n",
       "      <td>2</td>\n",
       "      <td>1</td>\n",
       "      <td>0</td>\n",
       "      <td>0</td>\n",
       "      <td>0</td>\n",
       "      <td>1</td>\n",
       "      <td>0</td>\n",
       "    </tr>\n",
       "    <tr>\n",
       "      <td>4</td>\n",
       "      <td>2</td>\n",
       "      <td>0</td>\n",
       "      <td>0</td>\n",
       "      <td>0</td>\n",
       "      <td>0</td>\n",
       "      <td>0</td>\n",
       "    </tr>\n",
       "    <tr>\n",
       "      <td>6</td>\n",
       "      <td>3</td>\n",
       "      <td>0</td>\n",
       "      <td>0</td>\n",
       "      <td>0</td>\n",
       "      <td>0</td>\n",
       "      <td>0</td>\n",
       "    </tr>\n",
       "    <tr>\n",
       "      <td>8</td>\n",
       "      <td>4</td>\n",
       "      <td>0</td>\n",
       "      <td>0</td>\n",
       "      <td>0</td>\n",
       "      <td>0</td>\n",
       "      <td>0</td>\n",
       "    </tr>\n",
       "    <tr>\n",
       "      <td>...</td>\n",
       "      <td>...</td>\n",
       "      <td>...</td>\n",
       "      <td>...</td>\n",
       "      <td>...</td>\n",
       "      <td>...</td>\n",
       "      <td>...</td>\n",
       "    </tr>\n",
       "    <tr>\n",
       "      <td>236</td>\n",
       "      <td>118</td>\n",
       "      <td>0</td>\n",
       "      <td>0</td>\n",
       "      <td>0</td>\n",
       "      <td>0</td>\n",
       "      <td>0</td>\n",
       "    </tr>\n",
       "    <tr>\n",
       "      <td>238</td>\n",
       "      <td>119</td>\n",
       "      <td>0</td>\n",
       "      <td>3</td>\n",
       "      <td>3</td>\n",
       "      <td>3</td>\n",
       "      <td>3</td>\n",
       "    </tr>\n",
       "    <tr>\n",
       "      <td>240</td>\n",
       "      <td>120</td>\n",
       "      <td>0</td>\n",
       "      <td>0</td>\n",
       "      <td>0</td>\n",
       "      <td>0</td>\n",
       "      <td>0</td>\n",
       "    </tr>\n",
       "    <tr>\n",
       "      <td>242</td>\n",
       "      <td>121</td>\n",
       "      <td>0</td>\n",
       "      <td>0</td>\n",
       "      <td>0</td>\n",
       "      <td>0</td>\n",
       "      <td>0</td>\n",
       "    </tr>\n",
       "    <tr>\n",
       "      <td>244</td>\n",
       "      <td>122</td>\n",
       "      <td>0</td>\n",
       "      <td>0</td>\n",
       "      <td>0</td>\n",
       "      <td>0</td>\n",
       "      <td>0</td>\n",
       "    </tr>\n",
       "  </tbody>\n",
       "</table>\n",
       "<p>123 rows × 6 columns</p>\n",
       "</div>"
      ],
      "text/plain": [
       "     animal  pair  anterior  posterior  sides_of_tip  tip\n",
       "0         0     0         0          0             0    1\n",
       "2         1     0         0          0             1    0\n",
       "4         2     0         0          0             0    0\n",
       "6         3     0         0          0             0    0\n",
       "8         4     0         0          0             0    0\n",
       "..      ...   ...       ...        ...           ...  ...\n",
       "236     118     0         0          0             0    0\n",
       "238     119     0         3          3             3    3\n",
       "240     120     0         0          0             0    0\n",
       "242     121     0         0          0             0    0\n",
       "244     122     0         0          0             0    0\n",
       "\n",
       "[123 rows x 6 columns]"
      ]
     },
     "execution_count": 509,
     "metadata": {},
     "output_type": "execute_result"
    }
   ],
   "source": [
    "mvmt = ex_unreg.movement\n",
    "mvmt = pd.DataFrame(mvmt.to_records())\n",
    "mvmt[mvmt.pair == 0]"
   ]
  },
  {
   "cell_type": "code",
   "execution_count": 510,
   "metadata": {
    "scrolled": true
   },
   "outputs": [
    {
     "data": {
      "text/html": [
       "<div>\n",
       "<style scoped>\n",
       "    .dataframe tbody tr th:only-of-type {\n",
       "        vertical-align: middle;\n",
       "    }\n",
       "\n",
       "    .dataframe tbody tr th {\n",
       "        vertical-align: top;\n",
       "    }\n",
       "\n",
       "    .dataframe thead th {\n",
       "        text-align: right;\n",
       "    }\n",
       "</style>\n",
       "<table border=\"1\" class=\"dataframe\">\n",
       "  <thead>\n",
       "    <tr style=\"text-align: right;\">\n",
       "      <th></th>\n",
       "      <th>value</th>\n",
       "      <th>region</th>\n",
       "      <th>animal</th>\n",
       "    </tr>\n",
       "  </thead>\n",
       "  <tbody>\n",
       "    <tr>\n",
       "      <td>0</td>\n",
       "      <td>0.000229</td>\n",
       "      <td>pm3</td>\n",
       "      <td>0</td>\n",
       "    </tr>\n",
       "    <tr>\n",
       "      <td>1</td>\n",
       "      <td>0.000000</td>\n",
       "      <td>pm3</td>\n",
       "      <td>1</td>\n",
       "    </tr>\n",
       "    <tr>\n",
       "      <td>2</td>\n",
       "      <td>0.000000</td>\n",
       "      <td>pm3</td>\n",
       "      <td>2</td>\n",
       "    </tr>\n",
       "    <tr>\n",
       "      <td>3</td>\n",
       "      <td>0.001086</td>\n",
       "      <td>pm3</td>\n",
       "      <td>3</td>\n",
       "    </tr>\n",
       "    <tr>\n",
       "      <td>4</td>\n",
       "      <td>0.000000</td>\n",
       "      <td>pm3</td>\n",
       "      <td>4</td>\n",
       "    </tr>\n",
       "    <tr>\n",
       "      <td>...</td>\n",
       "      <td>...</td>\n",
       "      <td>...</td>\n",
       "      <td>...</td>\n",
       "    </tr>\n",
       "    <tr>\n",
       "      <td>118</td>\n",
       "      <td>0.000000</td>\n",
       "      <td>pm7</td>\n",
       "      <td>118</td>\n",
       "    </tr>\n",
       "    <tr>\n",
       "      <td>119</td>\n",
       "      <td>0.011625</td>\n",
       "      <td>pm7</td>\n",
       "      <td>119</td>\n",
       "    </tr>\n",
       "    <tr>\n",
       "      <td>120</td>\n",
       "      <td>0.000000</td>\n",
       "      <td>pm7</td>\n",
       "      <td>120</td>\n",
       "    </tr>\n",
       "    <tr>\n",
       "      <td>121</td>\n",
       "      <td>0.000000</td>\n",
       "      <td>pm7</td>\n",
       "      <td>121</td>\n",
       "    </tr>\n",
       "    <tr>\n",
       "      <td>122</td>\n",
       "      <td>0.000000</td>\n",
       "      <td>pm7</td>\n",
       "      <td>122</td>\n",
       "    </tr>\n",
       "  </tbody>\n",
       "</table>\n",
       "<p>615 rows × 3 columns</p>\n",
       "</div>"
      ],
      "text/plain": [
       "        value region  animal\n",
       "0    0.000229    pm3       0\n",
       "1    0.000000    pm3       1\n",
       "2    0.000000    pm3       2\n",
       "3    0.001086    pm3       3\n",
       "4    0.000000    pm3       4\n",
       "..        ...    ...     ...\n",
       "118  0.000000    pm7     118\n",
       "119  0.011625    pm7     119\n",
       "120  0.000000    pm7     120\n",
       "121  0.000000    pm7     121\n",
       "122  0.000000    pm7     122\n",
       "\n",
       "[615 rows x 3 columns]"
      ]
     },
     "execution_count": 510,
     "metadata": {},
     "output_type": "execute_result"
    }
   ],
   "source": [
    "w1_tbl"
   ]
  },
  {
   "cell_type": "code",
   "execution_count": 514,
   "metadata": {},
   "outputs": [
    {
     "data": {
      "image/png": "[encoded data removed]",
      "text/plain": [
       "<Figure size 432x288 with 2 Axes>"
      ]
     },
     "metadata": {
      "needs_background": "light"
     },
     "output_type": "display_data"
    }
   ],
   "source": [
    "reload(profile_processing);\n",
    "\n",
    "alpha = 0.2\n",
    "\n",
    "fig, axes = plt.subplots(1,2)\n",
    "\n",
    "ax = axes[0]\n",
    "w0_tbl = profile_processing.summarize_over_regions(d_iden_0, ex_unreg.regions, rescale_boundaries=True)\n",
    "ax.scatter(mvmt[(mvmt.pair == 0)].posterior, w0_tbl[(w0_tbl.region == 'pm7')].value, alpha=alpha, label='pm7')\n",
    "ax.scatter(mvmt[(mvmt.pair == 0)].posterior, w0_tbl[(w0_tbl.region == 'pm6')].value, alpha=alpha, label='pm6')\n",
    "ax.legend();\n",
    "ax.set_title('pair 0');\n",
    "ax.set_ylim(-0.001, 0.025);\n",
    "\n",
    "# ax = axes[1]\n",
    "# w1_tbl = profile_processing.summarize_over_regions(d_iden_1, ex_unreg.regions, rescale=True)\n",
    "# ax.scatter(mvmt[(mvmt.pair == 1)].posterior, w1_tbl[(w1_tbl.region == 'pm7')].value, alpha=alpha, label='pm7')\n",
    "# ax.scatter(mvmt[(mvmt.pair == 1)].posterior, w1_tbl[(w1_tbl.region == 'pm6')].value, alpha=alpha, label='pm6')\n",
    "# ax.set_ylim(-0.001, 0.025)\n",
    "# ax.set_title('pair 1');\n",
    "# plt.tight_layout()\n"
   ]
  },
  {
   "cell_type": "code",
   "execution_count": 518,
   "metadata": {},
   "outputs": [
    {
     "data": {
      "text/plain": [
       "<xarray.DataArray (strain: 123, position: 300)>\n",
       "array([[0.04084 , 0.039419, 0.037868, ..., 0.017252, 0.018456, 0.018456],\n",
       "       [0.026776, 0.024309, 0.0218  , ..., 0.03167 , 0.03278 , 0.03278 ],\n",
       "       [0.125722, 0.114848, 0.105627, ..., 0.02343 , 0.023023, 0.023023],\n",
       "       ...,\n",
       "       [0.006861, 0.009808, 0.01216 , ..., 0.013304, 0.013621, 0.013621],\n",
       "       [0.077577, 0.071463, 0.066342, ..., 0.043892, 0.045545, 0.045545],\n",
       "       [0.034888, 0.036543, 0.037479, ..., 0.054555, 0.056428, 0.056428]])\n",
       "Coordinates:\n",
       "    wavelength  <U1 'r'\n",
       "  * strain      (strain) object 'HD233' 'HD233' 'HD233' ... 'SAY47' 'SAY47'\n",
       "Dimensions without coordinates: position"
      ]
     },
     "execution_count": 518,
     "metadata": {},
     "output_type": "execute_result"
    }
   ],
   "source": [
    "err = da.get_resid_rr(ex_unreg.trimmed_profiles)\n",
    "err"
   ]
  },
  {
   "cell_type": "code",
   "execution_count": 521,
   "metadata": {},
   "outputs": [],
   "source": [
    "w0_tbl = profile_processing.summarize_over_regions(d_iden_0, ex_unreg.regions, rescale_boundaries=True)\n",
    "err_tbl = profile_processing.summarize_over_regions(err, ex_unreg.regions, rescale_boundaries=True)\n",
    "err_tbl.columns = ['err', 'region', 'animal']\n",
    "w0_tbl.columns = ['warp', 'region', 'animal']"
   ]
  },
  {
   "cell_type": "code",
   "execution_count": 531,
   "metadata": {},
   "outputs": [
    {
     "data": {
      "image/png": "[encoded data removed]",
      "text/plain": [
       "<Figure size 432x288 with 1 Axes>"
      ]
     },
     "metadata": {
      "needs_background": "light"
     },
     "output_type": "display_data"
    }
   ],
   "source": [
    "fig, ax = plt.subplots()\n",
    "ex_unreg.trimmed_profiles.sel(wavelength='410', pair=0).mean(dim='strain').plot(ax=ax)\n",
    "\n",
    "plots.add_regions_to_axis(ax=ax, regions=ex_unreg.scaled_regions)"
   ]
  },
  {
   "cell_type": "code",
   "execution_count": 536,
   "metadata": {},
   "outputs": [
    {
     "data": {
      "text/plain": [
       "<seaborn.axisgrid.FacetGrid at 0x11e82e940>"
      ]
     },
     "execution_count": 536,
     "metadata": {},
     "output_type": "execute_result"
    },
    {
     "data": {
      "image/png": "[encoded data removed]",
      "text/plain": [
       "<Figure size 720x1080 with 5 Axes>"
      ]
     },
     "metadata": {
      "needs_background": "light"
     },
     "output_type": "display_data"
    }
   ],
   "source": [
    "df = w0_tbl.merge(err_tbl)\n",
    "\n",
    "sns.lmplot(x='warp', y='err', data=df, col='region', col_wrap=2)"
   ]
  },
  {
   "cell_type": "code",
   "execution_count": 36,
   "metadata": {},
   "outputs": [
    {
     "data": {
      "image/png": "[encoded data removed]",
      "text/plain": [
       "<Figure size 504x288 with 1 Axes>"
      ]
     },
     "metadata": {
      "needs_background": "light"
     },
     "output_type": "display_data"
    }
   ],
   "source": [
    "fig, ax = plt.subplots(figsize=(7,4))\n",
    "plots.plot_profile_avg_with_bounds(ex_unreg.trimmed_profiles.sel(wavelength='410', pair=0), ax=ax)\n",
    "plots.add_regions_to_axis(ax, ex_unreg.scaled_regions)\n",
    "ax.set_ylabel('A.U.')\n",
    "ax.set_xlabel('A-P Axis of Pharynx')\n",
    "ax.set_title('Intensity at 410nm');\n",
    "plt.tight_layout();\n",
    "plt.savefig('/Users/sean/Desktop/ex_i410.png', dpi=300)"
   ]
  },
  {
   "cell_type": "markdown",
   "metadata": {},
   "source": [
    "# Now let's do it for all experiments"
   ]
  },
  {
   "cell_type": "code",
   "execution_count": 538,
   "metadata": {},
   "outputs": [],
   "source": [
    "meta_dir = Path(\"/Users/sean/code/pharynx_redox/data/paired_ratio\")\n",
    "\n",
    "df = da.load_all_summaries(meta_dir)\n",
    "df = df[(df.strategy == 'single_reg') & (df.region == 'pm3')]\n",
    "df_0 = df[df.pair == 0]\n",
    "df_1 = df[df.pair == 1]\n",
    "\n",
    "df = pd.concat([df_0, df_1])"
   ]
  },
  {
   "cell_type": "code",
   "execution_count": 542,
   "metadata": {
    "scrolled": true
   },
   "outputs": [
    {
     "data": {
      "application/vnd.jupyter.widget-view+json": {
       "model_id": "09293574a76d4df2ae8e8c58ef91fc68",
       "version_major": 2,
       "version_minor": 0
      },
      "text/plain": [
       "HBox(children=(IntProgress(value=0, max=2), HTML(value='')))"
      ]
     },
     "metadata": {},
     "output_type": "display_data"
    },
    {
     "data": {
      "application/vnd.jupyter.widget-view+json": {
       "model_id": "",
       "version_major": 2,
       "version_minor": 0
      },
      "text/plain": [
       "HBox(children=(IntProgress(value=0, max=15), HTML(value='')))"
      ]
     },
     "metadata": {},
     "output_type": "display_data"
    },
    {
     "name": "stderr",
     "output_type": "stream",
     "text": [
      "04:05:13 INFO:Starting full pipeline run for /Users/sean/code/pharynx_redox/data/paired_ratio/2017_02_22-HD233_SAY47\n",
      "04:05:13 INFO:Segmenting pharynxes\n",
      "04:05:15 INFO:Centering and rotating pharynxes\n"
     ]
    },
    {
     "data": {
      "application/vnd.jupyter.widget-view+json": {
       "model_id": "",
       "version_major": 2,
       "version_minor": 0
      },
      "text/plain": [
       "HBox(children=(IntProgress(value=0, description='aliging pharynxes', max=123, style=ProgressStyle(description_…"
      ]
     },
     "metadata": {},
     "output_type": "display_data"
    },
    {
     "name": "stderr",
     "output_type": "stream",
     "text": [
      "04:05:26 INFO:Calculating midlines\n"
     ]
    },
    {
     "data": {
      "application/vnd.jupyter.widget-view+json": {
       "model_id": "",
       "version_major": 2,
       "version_minor": 0
      },
      "text/plain": [
       "HBox(children=(IntProgress(value=0, description='calculating midlines', max=123, style=ProgressStyle(descripti…"
      ]
     },
     "metadata": {},
     "output_type": "display_data"
    },
    {
     "name": "stderr",
     "output_type": "stream",
     "text": [
      "04:05:28 INFO:Measuring under midlines\n"
     ]
    },
    {
     "data": {
      "application/vnd.jupyter.widget-view+json": {
       "model_id": "",
       "version_major": 2,
       "version_minor": 0
      },
      "text/plain": [
       "HBox(children=(IntProgress(value=0, description='measuring under midlines', max=123, style=ProgressStyle(descr…"
      ]
     },
     "metadata": {},
     "output_type": "display_data"
    },
    {
     "name": "stderr",
     "output_type": "stream",
     "text": [
      "04:05:30 INFO:Trimming intensity data\n",
      "04:05:30 INFO:Calculating redox measurements\n",
      "04:05:30 INFO:Saving 2017_02_22-HD233_SAY47 inside /Users/sean/code/pharynx_redox/data/paired_ratio/2017_02_22-HD233_SAY47\n",
      "04:05:30 INFO:Saving region means to /Users/sean/code/pharynx_redox/data/paired_ratio/2017_02_22-HD233_SAY47/analyses/2019-09-17_frame_specific_midlines_with_registration/2017_02_22-HD233_SAY47-summary_table.csv\n",
      "04:05:31 INFO:Saving profile data to /Users/sean/code/pharynx_redox/data/paired_ratio/2017_02_22-HD233_SAY47/analyses/2019-09-17_frame_specific_midlines_with_registration/2017_02_22-HD233_SAY47-profile_data.nc\n",
      "04:05:31 INFO:Finished full pipeline run for /Users/sean/code/pharynx_redox/data/paired_ratio/2017_02_22-HD233_SAY47\n",
      "04:05:41 INFO:Starting full pipeline run for /Users/sean/code/pharynx_redox/data/paired_ratio/2017_02_23-HD233_HD236\n",
      "04:05:41 INFO:Segmenting pharynxes\n",
      "04:05:42 INFO:Centering and rotating pharynxes\n"
     ]
    },
    {
     "data": {
      "application/vnd.jupyter.widget-view+json": {
       "model_id": "",
       "version_major": 2,
       "version_minor": 0
      },
      "text/plain": [
       "HBox(children=(IntProgress(value=0, description='aliging pharynxes', max=109, style=ProgressStyle(description_…"
      ]
     },
     "metadata": {},
     "output_type": "display_data"
    },
    {
     "name": "stderr",
     "output_type": "stream",
     "text": [
      "04:05:50 INFO:Calculating midlines\n"
     ]
    },
    {
     "data": {
      "application/vnd.jupyter.widget-view+json": {
       "model_id": "",
       "version_major": 2,
       "version_minor": 0
      },
      "text/plain": [
       "HBox(children=(IntProgress(value=0, description='calculating midlines', max=109, style=ProgressStyle(descripti…"
      ]
     },
     "metadata": {},
     "output_type": "display_data"
    },
    {
     "name": "stderr",
     "output_type": "stream",
     "text": [
      "04:05:51 INFO:Measuring under midlines\n"
     ]
    },
    {
     "data": {
      "application/vnd.jupyter.widget-view+json": {
       "model_id": "",
       "version_major": 2,
       "version_minor": 0
      },
      "text/plain": [
       "HBox(children=(IntProgress(value=0, description='measuring under midlines', max=109, style=ProgressStyle(descr…"
      ]
     },
     "metadata": {},
     "output_type": "display_data"
    },
    {
     "name": "stderr",
     "output_type": "stream",
     "text": [
      "04:05:52 INFO:Trimming intensity data\n",
      "04:05:52 INFO:Calculating redox measurements\n",
      "04:05:52 INFO:Saving 2017_02_23-HD233_HD236 inside /Users/sean/code/pharynx_redox/data/paired_ratio/2017_02_23-HD233_HD236\n",
      "04:05:52 INFO:Saving region means to /Users/sean/code/pharynx_redox/data/paired_ratio/2017_02_23-HD233_HD236/analyses/2019-09-17_frame_specific_midlines_with_registration/2017_02_23-HD233_HD236-summary_table.csv\n",
      "04:05:53 INFO:Saving profile data to /Users/sean/code/pharynx_redox/data/paired_ratio/2017_02_23-HD233_HD236/analyses/2019-09-17_frame_specific_midlines_with_registration/2017_02_23-HD233_HD236-profile_data.nc\n",
      "04:05:53 INFO:Finished full pipeline run for /Users/sean/code/pharynx_redox/data/paired_ratio/2017_02_23-HD233_HD236\n",
      "04:06:02 INFO:Starting full pipeline run for /Users/sean/code/pharynx_redox/data/paired_ratio/2017_02_27-HD233_HD236\n",
      "04:06:02 INFO:Segmenting pharynxes\n",
      "04:06:03 INFO:Centering and rotating pharynxes\n"
     ]
    },
    {
     "data": {
      "application/vnd.jupyter.widget-view+json": {
       "model_id": "",
       "version_major": 2,
       "version_minor": 0
      },
      "text/plain": [
       "HBox(children=(IntProgress(value=0, description='aliging pharynxes', max=120, style=ProgressStyle(description_…"
      ]
     },
     "metadata": {},
     "output_type": "display_data"
    },
    {
     "name": "stderr",
     "output_type": "stream",
     "text": [
      "04:06:13 INFO:Calculating midlines\n"
     ]
    },
    {
     "data": {
      "application/vnd.jupyter.widget-view+json": {
       "model_id": "",
       "version_major": 2,
       "version_minor": 0
      },
      "text/plain": [
       "HBox(children=(IntProgress(value=0, description='calculating midlines', max=120, style=ProgressStyle(descripti…"
      ]
     },
     "metadata": {},
     "output_type": "display_data"
    },
    {
     "name": "stderr",
     "output_type": "stream",
     "text": [
      "04:06:16 INFO:Measuring under midlines\n"
     ]
    },
    {
     "data": {
      "application/vnd.jupyter.widget-view+json": {
       "model_id": "",
       "version_major": 2,
       "version_minor": 0
      },
      "text/plain": [
       "HBox(children=(IntProgress(value=0, description='measuring under midlines', max=120, style=ProgressStyle(descr…"
      ]
     },
     "metadata": {},
     "output_type": "display_data"
    },
    {
     "name": "stderr",
     "output_type": "stream",
     "text": [
      "04:06:17 INFO:Trimming intensity data\n",
      "04:06:18 INFO:Calculating redox measurements\n",
      "04:06:18 INFO:Saving 2017_02_27-HD233_HD236 inside /Users/sean/code/pharynx_redox/data/paired_ratio/2017_02_27-HD233_HD236\n",
      "04:06:18 INFO:Saving region means to /Users/sean/code/pharynx_redox/data/paired_ratio/2017_02_27-HD233_HD236/analyses/2019-09-17_frame_specific_midlines_with_registration/2017_02_27-HD233_HD236-summary_table.csv\n",
      "04:06:19 INFO:Saving profile data to /Users/sean/code/pharynx_redox/data/paired_ratio/2017_02_27-HD233_HD236/analyses/2019-09-17_frame_specific_midlines_with_registration/2017_02_27-HD233_HD236-profile_data.nc\n",
      "04:06:19 INFO:Finished full pipeline run for /Users/sean/code/pharynx_redox/data/paired_ratio/2017_02_27-HD233_HD236\n",
      "04:06:29 INFO:Starting full pipeline run for /Users/sean/code/pharynx_redox/data/paired_ratio/2017_03_01_HD233_HD236\n",
      "04:06:29 INFO:Segmenting pharynxes\n",
      "04:06:31 INFO:Centering and rotating pharynxes\n"
     ]
    },
    {
     "data": {
      "application/vnd.jupyter.widget-view+json": {
       "model_id": "",
       "version_major": 2,
       "version_minor": 0
      },
      "text/plain": [
       "HBox(children=(IntProgress(value=0, description='aliging pharynxes', max=120, style=ProgressStyle(description_…"
      ]
     },
     "metadata": {},
     "output_type": "display_data"
    },
    {
     "name": "stderr",
     "output_type": "stream",
     "text": [
      "04:06:39 INFO:Calculating midlines\n"
     ]
    },
    {
     "data": {
      "application/vnd.jupyter.widget-view+json": {
       "model_id": "",
       "version_major": 2,
       "version_minor": 0
      },
      "text/plain": [
       "HBox(children=(IntProgress(value=0, description='calculating midlines', max=120, style=ProgressStyle(descripti…"
      ]
     },
     "metadata": {},
     "output_type": "display_data"
    },
    {
     "name": "stderr",
     "output_type": "stream",
     "text": [
      "04:06:40 INFO:Measuring under midlines\n"
     ]
    },
    {
     "data": {
      "application/vnd.jupyter.widget-view+json": {
       "model_id": "",
       "version_major": 2,
       "version_minor": 0
      },
      "text/plain": [
       "HBox(children=(IntProgress(value=0, description='measuring under midlines', max=120, style=ProgressStyle(descr…"
      ]
     },
     "metadata": {},
     "output_type": "display_data"
    },
    {
     "name": "stderr",
     "output_type": "stream",
     "text": [
      "04:06:41 INFO:Trimming intensity data\n",
      "04:06:41 INFO:Calculating redox measurements\n",
      "04:06:41 INFO:Saving 2017_03_01_HD233_HD236 inside /Users/sean/code/pharynx_redox/data/paired_ratio/2017_03_01_HD233_HD236\n",
      "04:06:41 INFO:Saving region means to /Users/sean/code/pharynx_redox/data/paired_ratio/2017_03_01_HD233_HD236/analyses/2019-09-17_frame_specific_midlines_with_registration/2017_03_01_HD233_HD236-summary_table.csv\n",
      "04:06:42 INFO:Saving profile data to /Users/sean/code/pharynx_redox/data/paired_ratio/2017_03_01_HD233_HD236/analyses/2019-09-17_frame_specific_midlines_with_registration/2017_03_01_HD233_HD236-profile_data.nc\n",
      "04:06:42 INFO:Finished full pipeline run for /Users/sean/code/pharynx_redox/data/paired_ratio/2017_03_01_HD233_HD236\n",
      "04:06:51 INFO:Starting full pipeline run for /Users/sean/code/pharynx_redox/data/paired_ratio/2017_08_15-HD233_4mM_lev\n",
      "04:06:51 INFO:Segmenting pharynxes\n",
      "04:06:52 INFO:Centering and rotating pharynxes\n"
     ]
    },
    {
     "data": {
      "application/vnd.jupyter.widget-view+json": {
       "model_id": "",
       "version_major": 2,
       "version_minor": 0
      },
      "text/plain": [
       "HBox(children=(IntProgress(value=0, description='aliging pharynxes', max=80, style=ProgressStyle(description_w…"
      ]
     },
     "metadata": {},
     "output_type": "display_data"
    },
    {
     "name": "stderr",
     "output_type": "stream",
     "text": [
      "04:06:58 INFO:Calculating midlines\n"
     ]
    },
    {
     "data": {
      "application/vnd.jupyter.widget-view+json": {
       "model_id": "",
       "version_major": 2,
       "version_minor": 0
      },
      "text/plain": [
       "HBox(children=(IntProgress(value=0, description='calculating midlines', max=80, style=ProgressStyle(descriptio…"
      ]
     },
     "metadata": {},
     "output_type": "display_data"
    },
    {
     "name": "stderr",
     "output_type": "stream",
     "text": [
      "04:06:59 INFO:Measuring under midlines\n"
     ]
    },
    {
     "data": {
      "application/vnd.jupyter.widget-view+json": {
       "model_id": "",
       "version_major": 2,
       "version_minor": 0
      },
      "text/plain": [
       "HBox(children=(IntProgress(value=0, description='measuring under midlines', max=80, style=ProgressStyle(descri…"
      ]
     },
     "metadata": {},
     "output_type": "display_data"
    },
    {
     "name": "stderr",
     "output_type": "stream",
     "text": [
      "04:06:59 INFO:Trimming intensity data\n",
      "04:07:00 INFO:Calculating redox measurements\n",
      "04:07:00 INFO:Saving 2017_08_15-HD233_4mM_lev inside /Users/sean/code/pharynx_redox/data/paired_ratio/2017_08_15-HD233_4mM_lev\n",
      "04:07:00 INFO:Saving region means to /Users/sean/code/pharynx_redox/data/paired_ratio/2017_08_15-HD233_4mM_lev/analyses/2019-09-17_frame_specific_midlines_with_registration/2017_08_15-HD233_4mM_lev-summary_table.csv\n",
      "04:07:00 INFO:Saving profile data to /Users/sean/code/pharynx_redox/data/paired_ratio/2017_08_15-HD233_4mM_lev/analyses/2019-09-17_frame_specific_midlines_with_registration/2017_08_15-HD233_4mM_lev-profile_data.nc\n",
      "04:07:00 INFO:Finished full pipeline run for /Users/sean/code/pharynx_redox/data/paired_ratio/2017_08_15-HD233_4mM_lev\n",
      "04:07:07 INFO:Starting full pipeline run for /Users/sean/code/pharynx_redox/data/paired_ratio/2017_08_23-HD233_4mm_lev\n",
      "04:07:07 INFO:Segmenting pharynxes\n",
      "04:07:08 INFO:Centering and rotating pharynxes\n"
     ]
    },
    {
     "data": {
      "application/vnd.jupyter.widget-view+json": {
       "model_id": "",
       "version_major": 2,
       "version_minor": 0
      },
      "text/plain": [
       "HBox(children=(IntProgress(value=0, description='aliging pharynxes', max=28, style=ProgressStyle(description_w…"
      ]
     },
     "metadata": {},
     "output_type": "display_data"
    },
    {
     "name": "stderr",
     "output_type": "stream",
     "text": [
      "04:07:10 INFO:Calculating midlines\n"
     ]
    },
    {
     "data": {
      "application/vnd.jupyter.widget-view+json": {
       "model_id": "",
       "version_major": 2,
       "version_minor": 0
      },
      "text/plain": [
       "HBox(children=(IntProgress(value=0, description='calculating midlines', max=28, style=ProgressStyle(descriptio…"
      ]
     },
     "metadata": {},
     "output_type": "display_data"
    },
    {
     "name": "stderr",
     "output_type": "stream",
     "text": [
      "04:07:10 INFO:Measuring under midlines\n"
     ]
    },
    {
     "data": {
      "application/vnd.jupyter.widget-view+json": {
       "model_id": "",
       "version_major": 2,
       "version_minor": 0
      },
      "text/plain": [
       "HBox(children=(IntProgress(value=0, description='measuring under midlines', max=28, style=ProgressStyle(descri…"
      ]
     },
     "metadata": {},
     "output_type": "display_data"
    },
    {
     "name": "stderr",
     "output_type": "stream",
     "text": [
      "04:07:10 INFO:Trimming intensity data\n",
      "04:07:10 INFO:Calculating redox measurements\n",
      "04:07:11 INFO:Saving 2017_08_23-HD233_4mm_lev inside /Users/sean/code/pharynx_redox/data/paired_ratio/2017_08_23-HD233_4mm_lev\n",
      "04:07:11 INFO:Saving region means to /Users/sean/code/pharynx_redox/data/paired_ratio/2017_08_23-HD233_4mm_lev/analyses/2019-09-17_frame_specific_midlines_with_registration/2017_08_23-HD233_4mm_lev-summary_table.csv\n",
      "04:07:11 INFO:Saving profile data to /Users/sean/code/pharynx_redox/data/paired_ratio/2017_08_23-HD233_4mm_lev/analyses/2019-09-17_frame_specific_midlines_with_registration/2017_08_23-HD233_4mm_lev-profile_data.nc\n",
      "04:07:11 INFO:Finished full pipeline run for /Users/sean/code/pharynx_redox/data/paired_ratio/2017_08_23-HD233_4mm_lev\n",
      "04:07:14 INFO:Starting full pipeline run for /Users/sean/code/pharynx_redox/data/paired_ratio/2017_08_24-HD233_SAY93\n",
      "04:07:14 INFO:Segmenting pharynxes\n",
      "04:07:16 INFO:Centering and rotating pharynxes\n"
     ]
    },
    {
     "data": {
      "application/vnd.jupyter.widget-view+json": {
       "model_id": "",
       "version_major": 2,
       "version_minor": 0
      },
      "text/plain": [
       "HBox(children=(IntProgress(value=0, description='aliging pharynxes', max=90, style=ProgressStyle(description_w…"
      ]
     },
     "metadata": {},
     "output_type": "display_data"
    },
    {
     "name": "stderr",
     "output_type": "stream",
     "text": [
      "04:07:22 INFO:Calculating midlines\n"
     ]
    },
    {
     "data": {
      "application/vnd.jupyter.widget-view+json": {
       "model_id": "",
       "version_major": 2,
       "version_minor": 0
      },
      "text/plain": [
       "HBox(children=(IntProgress(value=0, description='calculating midlines', max=90, style=ProgressStyle(descriptio…"
      ]
     },
     "metadata": {},
     "output_type": "display_data"
    },
    {
     "name": "stderr",
     "output_type": "stream",
     "text": [
      "04:07:23 INFO:Measuring under midlines\n"
     ]
    },
    {
     "data": {
      "application/vnd.jupyter.widget-view+json": {
       "model_id": "",
       "version_major": 2,
       "version_minor": 0
      },
      "text/plain": [
       "HBox(children=(IntProgress(value=0, description='measuring under midlines', max=90, style=ProgressStyle(descri…"
      ]
     },
     "metadata": {},
     "output_type": "display_data"
    },
    {
     "name": "stderr",
     "output_type": "stream",
     "text": [
      "04:07:23 INFO:Trimming intensity data\n",
      "04:07:24 INFO:Calculating redox measurements\n",
      "04:07:24 INFO:Saving 2017_08_24-HD233_SAY93 inside /Users/sean/code/pharynx_redox/data/paired_ratio/2017_08_24-HD233_SAY93\n",
      "04:07:24 INFO:Saving region means to /Users/sean/code/pharynx_redox/data/paired_ratio/2017_08_24-HD233_SAY93/analyses/2019-09-17_frame_specific_midlines_with_registration/2017_08_24-HD233_SAY93-summary_table.csv\n",
      "04:07:25 INFO:Saving profile data to /Users/sean/code/pharynx_redox/data/paired_ratio/2017_08_24-HD233_SAY93/analyses/2019-09-17_frame_specific_midlines_with_registration/2017_08_24-HD233_SAY93-profile_data.nc\n",
      "04:07:25 INFO:Finished full pipeline run for /Users/sean/code/pharynx_redox/data/paired_ratio/2017_08_24-HD233_SAY93\n",
      "04:07:32 INFO:Starting full pipeline run for /Users/sean/code/pharynx_redox/data/paired_ratio/2017_08_25-HD233_4mm_lev\n",
      "04:07:32 INFO:Segmenting pharynxes\n",
      "04:07:33 INFO:Centering and rotating pharynxes\n"
     ]
    },
    {
     "data": {
      "application/vnd.jupyter.widget-view+json": {
       "model_id": "",
       "version_major": 2,
       "version_minor": 0
      },
      "text/plain": [
       "HBox(children=(IntProgress(value=0, description='aliging pharynxes', max=35, style=ProgressStyle(description_w…"
      ]
     },
     "metadata": {},
     "output_type": "display_data"
    },
    {
     "name": "stderr",
     "output_type": "stream",
     "text": [
      "04:07:35 INFO:Calculating midlines\n"
     ]
    },
    {
     "data": {
      "application/vnd.jupyter.widget-view+json": {
       "model_id": "",
       "version_major": 2,
       "version_minor": 0
      },
      "text/plain": [
       "HBox(children=(IntProgress(value=0, description='calculating midlines', max=35, style=ProgressStyle(descriptio…"
      ]
     },
     "metadata": {},
     "output_type": "display_data"
    },
    {
     "name": "stderr",
     "output_type": "stream",
     "text": [
      "04:07:35 INFO:Measuring under midlines\n"
     ]
    },
    {
     "data": {
      "application/vnd.jupyter.widget-view+json": {
       "model_id": "",
       "version_major": 2,
       "version_minor": 0
      },
      "text/plain": [
       "HBox(children=(IntProgress(value=0, description='measuring under midlines', max=35, style=ProgressStyle(descri…"
      ]
     },
     "metadata": {},
     "output_type": "display_data"
    },
    {
     "name": "stderr",
     "output_type": "stream",
     "text": [
      "04:07:36 INFO:Trimming intensity data\n",
      "04:07:36 INFO:Calculating redox measurements\n",
      "04:07:36 INFO:Saving 2017_08_25-HD233_4mm_lev inside /Users/sean/code/pharynx_redox/data/paired_ratio/2017_08_25-HD233_4mm_lev\n",
      "04:07:36 INFO:Saving region means to /Users/sean/code/pharynx_redox/data/paired_ratio/2017_08_25-HD233_4mm_lev/analyses/2019-09-17_frame_specific_midlines_with_registration/2017_08_25-HD233_4mm_lev-summary_table.csv\n",
      "04:07:36 INFO:Saving profile data to /Users/sean/code/pharynx_redox/data/paired_ratio/2017_08_25-HD233_4mm_lev/analyses/2019-09-17_frame_specific_midlines_with_registration/2017_08_25-HD233_4mm_lev-profile_data.nc\n",
      "04:07:36 INFO:Finished full pipeline run for /Users/sean/code/pharynx_redox/data/paired_ratio/2017_08_25-HD233_4mm_lev\n",
      "04:07:40 INFO:Starting full pipeline run for /Users/sean/code/pharynx_redox/data/paired_ratio/2017_08_25-HD233_SAY93\n",
      "04:07:40 INFO:Segmenting pharynxes\n",
      "04:07:41 INFO:Centering and rotating pharynxes\n"
     ]
    },
    {
     "data": {
      "application/vnd.jupyter.widget-view+json": {
       "model_id": "",
       "version_major": 2,
       "version_minor": 0
      },
      "text/plain": [
       "HBox(children=(IntProgress(value=0, description='aliging pharynxes', max=35, style=ProgressStyle(description_w…"
      ]
     },
     "metadata": {},
     "output_type": "display_data"
    },
    {
     "name": "stderr",
     "output_type": "stream",
     "text": [
      "04:07:43 INFO:Calculating midlines\n"
     ]
    },
    {
     "data": {
      "application/vnd.jupyter.widget-view+json": {
       "model_id": "",
       "version_major": 2,
       "version_minor": 0
      },
      "text/plain": [
       "HBox(children=(IntProgress(value=0, description='calculating midlines', max=35, style=ProgressStyle(descriptio…"
      ]
     },
     "metadata": {},
     "output_type": "display_data"
    },
    {
     "name": "stderr",
     "output_type": "stream",
     "text": [
      "04:07:43 INFO:Measuring under midlines\n"
     ]
    },
    {
     "data": {
      "application/vnd.jupyter.widget-view+json": {
       "model_id": "",
       "version_major": 2,
       "version_minor": 0
      },
      "text/plain": [
       "HBox(children=(IntProgress(value=0, description='measuring under midlines', max=35, style=ProgressStyle(descri…"
      ]
     },
     "metadata": {},
     "output_type": "display_data"
    },
    {
     "name": "stderr",
     "output_type": "stream",
     "text": [
      "04:07:44 INFO:Trimming intensity data\n",
      "04:07:44 INFO:Calculating redox measurements\n",
      "04:07:44 INFO:Saving 2017_08_25-HD233_SAY93 inside /Users/sean/code/pharynx_redox/data/paired_ratio/2017_08_25-HD233_SAY93\n",
      "04:07:44 INFO:Saving region means to /Users/sean/code/pharynx_redox/data/paired_ratio/2017_08_25-HD233_SAY93/analyses/2019-09-17_frame_specific_midlines_with_registration/2017_08_25-HD233_SAY93-summary_table.csv\n",
      "04:07:44 INFO:Saving profile data to /Users/sean/code/pharynx_redox/data/paired_ratio/2017_08_25-HD233_SAY93/analyses/2019-09-17_frame_specific_midlines_with_registration/2017_08_25-HD233_SAY93-profile_data.nc\n",
      "04:07:44 INFO:Finished full pipeline run for /Users/sean/code/pharynx_redox/data/paired_ratio/2017_08_25-HD233_SAY93\n",
      "04:07:48 INFO:Starting full pipeline run for /Users/sean/code/pharynx_redox/data/paired_ratio/2019_04_03-ASI_ablation\n",
      "04:07:48 INFO:Segmenting pharynxes\n",
      "04:07:50 INFO:Centering and rotating pharynxes\n"
     ]
    },
    {
     "data": {
      "application/vnd.jupyter.widget-view+json": {
       "model_id": "",
       "version_major": 2,
       "version_minor": 0
      },
      "text/plain": [
       "HBox(children=(IntProgress(value=0, description='aliging pharynxes', max=123, style=ProgressStyle(description_…"
      ]
     },
     "metadata": {},
     "output_type": "display_data"
    },
    {
     "name": "stderr",
     "output_type": "stream",
     "text": [
      "04:07:59 INFO:Calculating midlines\n"
     ]
    },
    {
     "data": {
      "application/vnd.jupyter.widget-view+json": {
       "model_id": "",
       "version_major": 2,
       "version_minor": 0
      },
      "text/plain": [
       "HBox(children=(IntProgress(value=0, description='calculating midlines', max=123, style=ProgressStyle(descripti…"
      ]
     },
     "metadata": {},
     "output_type": "display_data"
    },
    {
     "name": "stderr",
     "output_type": "stream",
     "text": [
      "04:08:00 INFO:Measuring under midlines\n"
     ]
    },
    {
     "data": {
      "application/vnd.jupyter.widget-view+json": {
       "model_id": "",
       "version_major": 2,
       "version_minor": 0
      },
      "text/plain": [
       "HBox(children=(IntProgress(value=0, description='measuring under midlines', max=123, style=ProgressStyle(descr…"
      ]
     },
     "metadata": {},
     "output_type": "display_data"
    },
    {
     "name": "stderr",
     "output_type": "stream",
     "text": [
      "04:08:01 INFO:Trimming intensity data\n",
      "04:08:02 INFO:Calculating redox measurements\n",
      "/Users/sean/.local/share/virtualenvs/worm-testing/lib/python3.7/site-packages/xarray/core/computation.py:564: RuntimeWarning: invalid value encountered in log\n",
      "  result_data = func(*input_data)\n",
      "04:08:02 INFO:Saving 2019_04_03-ASI_ablation inside /Users/sean/code/pharynx_redox/data/paired_ratio/2019_04_03-ASI_ablation\n",
      "04:08:02 INFO:Saving region means to /Users/sean/code/pharynx_redox/data/paired_ratio/2019_04_03-ASI_ablation/analyses/2019-09-17_frame_specific_midlines_with_registration/2019_04_03-ASI_ablation-summary_table.csv\n",
      "04:08:02 INFO:Saving profile data to /Users/sean/code/pharynx_redox/data/paired_ratio/2019_04_03-ASI_ablation/analyses/2019-09-17_frame_specific_midlines_with_registration/2019_04_03-ASI_ablation-profile_data.nc\n",
      "04:08:02 INFO:Finished full pipeline run for /Users/sean/code/pharynx_redox/data/paired_ratio/2019_04_03-ASI_ablation\n"
     ]
    },
    {
     "data": {
      "application/vnd.jupyter.widget-view+json": {
       "model_id": "",
       "version_major": 2,
       "version_minor": 0
      },
      "text/plain": [
       "HBox(children=(IntProgress(value=0, max=15), HTML(value='')))"
      ]
     },
     "metadata": {},
     "output_type": "display_data"
    },
    {
     "name": "stderr",
     "output_type": "stream",
     "text": [
      "04:08:12 INFO:Starting full pipeline run for /Users/sean/code/pharynx_redox/data/paired_ratio/2017_02_22-HD233_SAY47\n",
      "04:08:12 INFO:Segmenting pharynxes\n",
      "04:08:14 INFO:Centering and rotating pharynxes\n"
     ]
    },
    {
     "data": {
      "application/vnd.jupyter.widget-view+json": {
       "model_id": "",
       "version_major": 2,
       "version_minor": 0
      },
      "text/plain": [
       "HBox(children=(IntProgress(value=0, description='aliging pharynxes', max=123, style=ProgressStyle(description_…"
      ]
     },
     "metadata": {},
     "output_type": "display_data"
    },
    {
     "name": "stderr",
     "output_type": "stream",
     "text": [
      "04:08:22 INFO:Calculating midlines\n"
     ]
    },
    {
     "data": {
      "application/vnd.jupyter.widget-view+json": {
       "model_id": "",
       "version_major": 2,
       "version_minor": 0
      },
      "text/plain": [
       "HBox(children=(IntProgress(value=0, description='calculating midlines', max=123, style=ProgressStyle(descripti…"
      ]
     },
     "metadata": {},
     "output_type": "display_data"
    },
    {
     "name": "stderr",
     "output_type": "stream",
     "text": [
      "04:08:23 INFO:Measuring under midlines\n"
     ]
    },
    {
     "data": {
      "application/vnd.jupyter.widget-view+json": {
       "model_id": "",
       "version_major": 2,
       "version_minor": 0
      },
      "text/plain": [
       "HBox(children=(IntProgress(value=0, description='measuring under midlines', max=123, style=ProgressStyle(descr…"
      ]
     },
     "metadata": {},
     "output_type": "display_data"
    },
    {
     "name": "stderr",
     "output_type": "stream",
     "text": [
      "04:08:25 INFO:Trimming intensity data\n",
      "04:08:25 INFO:Calculating redox measurements\n",
      "04:08:25 INFO:Saving 2017_02_22-HD233_SAY47 inside /Users/sean/code/pharynx_redox/data/paired_ratio/2017_02_22-HD233_SAY47\n",
      "04:08:25 INFO:Saving region means to /Users/sean/code/pharynx_redox/data/paired_ratio/2017_02_22-HD233_SAY47/analyses/2019-09-17_frame_specific_midlines_with_registration/2017_02_22-HD233_SAY47-summary_table.csv\n",
      "04:08:26 INFO:Saving profile data to /Users/sean/code/pharynx_redox/data/paired_ratio/2017_02_22-HD233_SAY47/analyses/2019-09-17_frame_specific_midlines_with_registration/2017_02_22-HD233_SAY47-profile_data.nc\n",
      "04:08:26 INFO:Finished full pipeline run for /Users/sean/code/pharynx_redox/data/paired_ratio/2017_02_22-HD233_SAY47\n",
      "04:08:36 INFO:Starting full pipeline run for /Users/sean/code/pharynx_redox/data/paired_ratio/2017_02_23-HD233_HD236\n",
      "04:08:36 INFO:Segmenting pharynxes\n",
      "04:08:37 INFO:Centering and rotating pharynxes\n"
     ]
    },
    {
     "data": {
      "application/vnd.jupyter.widget-view+json": {
       "model_id": "",
       "version_major": 2,
       "version_minor": 0
      },
      "text/plain": [
       "HBox(children=(IntProgress(value=0, description='aliging pharynxes', max=109, style=ProgressStyle(description_…"
      ]
     },
     "metadata": {},
     "output_type": "display_data"
    },
    {
     "name": "stderr",
     "output_type": "stream",
     "text": [
      "04:08:45 INFO:Calculating midlines\n"
     ]
    },
    {
     "data": {
      "application/vnd.jupyter.widget-view+json": {
       "model_id": "",
       "version_major": 2,
       "version_minor": 0
      },
      "text/plain": [
       "HBox(children=(IntProgress(value=0, description='calculating midlines', max=109, style=ProgressStyle(descripti…"
      ]
     },
     "metadata": {},
     "output_type": "display_data"
    },
    {
     "name": "stderr",
     "output_type": "stream",
     "text": [
      "04:08:46 INFO:Measuring under midlines\n"
     ]
    },
    {
     "data": {
      "application/vnd.jupyter.widget-view+json": {
       "model_id": "",
       "version_major": 2,
       "version_minor": 0
      },
      "text/plain": [
       "HBox(children=(IntProgress(value=0, description='measuring under midlines', max=109, style=ProgressStyle(descr…"
      ]
     },
     "metadata": {},
     "output_type": "display_data"
    },
    {
     "name": "stderr",
     "output_type": "stream",
     "text": [
      "04:08:47 INFO:Trimming intensity data\n",
      "04:08:48 INFO:Calculating redox measurements\n",
      "04:08:48 INFO:Saving 2017_02_23-HD233_HD236 inside /Users/sean/code/pharynx_redox/data/paired_ratio/2017_02_23-HD233_HD236\n",
      "04:08:48 INFO:Saving region means to /Users/sean/code/pharynx_redox/data/paired_ratio/2017_02_23-HD233_HD236/analyses/2019-09-17_frame_specific_midlines_with_registration/2017_02_23-HD233_HD236-summary_table.csv\n",
      "04:08:49 INFO:Saving profile data to /Users/sean/code/pharynx_redox/data/paired_ratio/2017_02_23-HD233_HD236/analyses/2019-09-17_frame_specific_midlines_with_registration/2017_02_23-HD233_HD236-profile_data.nc\n",
      "04:08:49 INFO:Finished full pipeline run for /Users/sean/code/pharynx_redox/data/paired_ratio/2017_02_23-HD233_HD236\n",
      "04:08:58 INFO:Starting full pipeline run for /Users/sean/code/pharynx_redox/data/paired_ratio/2017_02_27-HD233_HD236\n",
      "04:08:58 INFO:Segmenting pharynxes\n",
      "04:09:00 INFO:Centering and rotating pharynxes\n"
     ]
    },
    {
     "data": {
      "application/vnd.jupyter.widget-view+json": {
       "model_id": "",
       "version_major": 2,
       "version_minor": 0
      },
      "text/plain": [
       "HBox(children=(IntProgress(value=0, description='aliging pharynxes', max=120, style=ProgressStyle(description_…"
      ]
     },
     "metadata": {},
     "output_type": "display_data"
    },
    {
     "name": "stderr",
     "output_type": "stream",
     "text": [
      "04:09:09 INFO:Calculating midlines\n"
     ]
    },
    {
     "data": {
      "application/vnd.jupyter.widget-view+json": {
       "model_id": "",
       "version_major": 2,
       "version_minor": 0
      },
      "text/plain": [
       "HBox(children=(IntProgress(value=0, description='calculating midlines', max=120, style=ProgressStyle(descripti…"
      ]
     },
     "metadata": {},
     "output_type": "display_data"
    },
    {
     "name": "stderr",
     "output_type": "stream",
     "text": [
      "04:09:10 INFO:Measuring under midlines\n"
     ]
    },
    {
     "data": {
      "application/vnd.jupyter.widget-view+json": {
       "model_id": "",
       "version_major": 2,
       "version_minor": 0
      },
      "text/plain": [
       "HBox(children=(IntProgress(value=0, description='measuring under midlines', max=120, style=ProgressStyle(descr…"
      ]
     },
     "metadata": {},
     "output_type": "display_data"
    },
    {
     "name": "stderr",
     "output_type": "stream",
     "text": [
      "04:09:11 INFO:Trimming intensity data\n",
      "04:09:12 INFO:Calculating redox measurements\n",
      "04:09:12 INFO:Saving 2017_02_27-HD233_HD236 inside /Users/sean/code/pharynx_redox/data/paired_ratio/2017_02_27-HD233_HD236\n",
      "04:09:12 INFO:Saving region means to /Users/sean/code/pharynx_redox/data/paired_ratio/2017_02_27-HD233_HD236/analyses/2019-09-17_frame_specific_midlines_with_registration/2017_02_27-HD233_HD236-summary_table.csv\n",
      "04:09:13 INFO:Saving profile data to /Users/sean/code/pharynx_redox/data/paired_ratio/2017_02_27-HD233_HD236/analyses/2019-09-17_frame_specific_midlines_with_registration/2017_02_27-HD233_HD236-profile_data.nc\n",
      "04:09:13 INFO:Finished full pipeline run for /Users/sean/code/pharynx_redox/data/paired_ratio/2017_02_27-HD233_HD236\n",
      "04:09:23 INFO:Starting full pipeline run for /Users/sean/code/pharynx_redox/data/paired_ratio/2017_03_01_HD233_HD236\n",
      "04:09:23 INFO:Segmenting pharynxes\n",
      "04:09:26 INFO:Centering and rotating pharynxes\n"
     ]
    },
    {
     "data": {
      "application/vnd.jupyter.widget-view+json": {
       "model_id": "",
       "version_major": 2,
       "version_minor": 0
      },
      "text/plain": [
       "HBox(children=(IntProgress(value=0, description='aliging pharynxes', max=120, style=ProgressStyle(description_…"
      ]
     },
     "metadata": {},
     "output_type": "display_data"
    },
    {
     "name": "stderr",
     "output_type": "stream",
     "text": [
      "04:09:34 INFO:Calculating midlines\n"
     ]
    },
    {
     "data": {
      "application/vnd.jupyter.widget-view+json": {
       "model_id": "",
       "version_major": 2,
       "version_minor": 0
      },
      "text/plain": [
       "HBox(children=(IntProgress(value=0, description='calculating midlines', max=120, style=ProgressStyle(descripti…"
      ]
     },
     "metadata": {},
     "output_type": "display_data"
    },
    {
     "name": "stderr",
     "output_type": "stream",
     "text": [
      "04:09:35 INFO:Measuring under midlines\n"
     ]
    },
    {
     "data": {
      "application/vnd.jupyter.widget-view+json": {
       "model_id": "",
       "version_major": 2,
       "version_minor": 0
      },
      "text/plain": [
       "HBox(children=(IntProgress(value=0, description='measuring under midlines', max=120, style=ProgressStyle(descr…"
      ]
     },
     "metadata": {},
     "output_type": "display_data"
    },
    {
     "name": "stderr",
     "output_type": "stream",
     "text": [
      "04:09:36 INFO:Trimming intensity data\n",
      "04:09:38 INFO:Calculating redox measurements\n",
      "04:09:38 INFO:Saving 2017_03_01_HD233_HD236 inside /Users/sean/code/pharynx_redox/data/paired_ratio/2017_03_01_HD233_HD236\n",
      "04:09:38 INFO:Saving region means to /Users/sean/code/pharynx_redox/data/paired_ratio/2017_03_01_HD233_HD236/analyses/2019-09-17_frame_specific_midlines_with_registration/2017_03_01_HD233_HD236-summary_table.csv\n",
      "04:09:39 INFO:Saving profile data to /Users/sean/code/pharynx_redox/data/paired_ratio/2017_03_01_HD233_HD236/analyses/2019-09-17_frame_specific_midlines_with_registration/2017_03_01_HD233_HD236-profile_data.nc\n",
      "04:09:39 INFO:Finished full pipeline run for /Users/sean/code/pharynx_redox/data/paired_ratio/2017_03_01_HD233_HD236\n",
      "04:09:49 INFO:Starting full pipeline run for /Users/sean/code/pharynx_redox/data/paired_ratio/2017_08_15-HD233_4mM_lev\n",
      "04:09:49 INFO:Segmenting pharynxes\n",
      "04:09:50 INFO:Centering and rotating pharynxes\n"
     ]
    },
    {
     "data": {
      "application/vnd.jupyter.widget-view+json": {
       "model_id": "",
       "version_major": 2,
       "version_minor": 0
      },
      "text/plain": [
       "HBox(children=(IntProgress(value=0, description='aliging pharynxes', max=80, style=ProgressStyle(description_w…"
      ]
     },
     "metadata": {},
     "output_type": "display_data"
    },
    {
     "name": "stderr",
     "output_type": "stream",
     "text": [
      "04:09:56 INFO:Calculating midlines\n"
     ]
    },
    {
     "data": {
      "application/vnd.jupyter.widget-view+json": {
       "model_id": "",
       "version_major": 2,
       "version_minor": 0
      },
      "text/plain": [
       "HBox(children=(IntProgress(value=0, description='calculating midlines', max=80, style=ProgressStyle(descriptio…"
      ]
     },
     "metadata": {},
     "output_type": "display_data"
    },
    {
     "name": "stderr",
     "output_type": "stream",
     "text": [
      "04:09:57 INFO:Measuring under midlines\n"
     ]
    },
    {
     "data": {
      "application/vnd.jupyter.widget-view+json": {
       "model_id": "",
       "version_major": 2,
       "version_minor": 0
      },
      "text/plain": [
       "HBox(children=(IntProgress(value=0, description='measuring under midlines', max=80, style=ProgressStyle(descri…"
      ]
     },
     "metadata": {},
     "output_type": "display_data"
    },
    {
     "name": "stderr",
     "output_type": "stream",
     "text": [
      "04:09:57 INFO:Trimming intensity data\n",
      "04:09:58 INFO:Calculating redox measurements\n",
      "04:09:58 INFO:Saving 2017_08_15-HD233_4mM_lev inside /Users/sean/code/pharynx_redox/data/paired_ratio/2017_08_15-HD233_4mM_lev\n",
      "04:09:58 INFO:Saving region means to /Users/sean/code/pharynx_redox/data/paired_ratio/2017_08_15-HD233_4mM_lev/analyses/2019-09-17_frame_specific_midlines_with_registration/2017_08_15-HD233_4mM_lev-summary_table.csv\n",
      "04:09:58 INFO:Saving profile data to /Users/sean/code/pharynx_redox/data/paired_ratio/2017_08_15-HD233_4mM_lev/analyses/2019-09-17_frame_specific_midlines_with_registration/2017_08_15-HD233_4mM_lev-profile_data.nc\n",
      "04:09:58 INFO:Finished full pipeline run for /Users/sean/code/pharynx_redox/data/paired_ratio/2017_08_15-HD233_4mM_lev\n",
      "04:10:05 INFO:Starting full pipeline run for /Users/sean/code/pharynx_redox/data/paired_ratio/2017_08_23-HD233_4mm_lev\n",
      "04:10:05 INFO:Segmenting pharynxes\n",
      "04:10:06 INFO:Centering and rotating pharynxes\n"
     ]
    },
    {
     "data": {
      "application/vnd.jupyter.widget-view+json": {
       "model_id": "",
       "version_major": 2,
       "version_minor": 0
      },
      "text/plain": [
       "HBox(children=(IntProgress(value=0, description='aliging pharynxes', max=28, style=ProgressStyle(description_w…"
      ]
     },
     "metadata": {},
     "output_type": "display_data"
    },
    {
     "name": "stderr",
     "output_type": "stream",
     "text": [
      "04:10:08 INFO:Calculating midlines\n"
     ]
    },
    {
     "data": {
      "application/vnd.jupyter.widget-view+json": {
       "model_id": "",
       "version_major": 2,
       "version_minor": 0
      },
      "text/plain": [
       "HBox(children=(IntProgress(value=0, description='calculating midlines', max=28, style=ProgressStyle(descriptio…"
      ]
     },
     "metadata": {},
     "output_type": "display_data"
    },
    {
     "name": "stderr",
     "output_type": "stream",
     "text": [
      "04:10:08 INFO:Measuring under midlines\n"
     ]
    },
    {
     "data": {
      "application/vnd.jupyter.widget-view+json": {
       "model_id": "",
       "version_major": 2,
       "version_minor": 0
      },
      "text/plain": [
       "HBox(children=(IntProgress(value=0, description='measuring under midlines', max=28, style=ProgressStyle(descri…"
      ]
     },
     "metadata": {},
     "output_type": "display_data"
    },
    {
     "name": "stderr",
     "output_type": "stream",
     "text": [
      "04:10:08 INFO:Trimming intensity data\n",
      "04:10:09 INFO:Calculating redox measurements\n",
      "04:10:09 INFO:Saving 2017_08_23-HD233_4mm_lev inside /Users/sean/code/pharynx_redox/data/paired_ratio/2017_08_23-HD233_4mm_lev\n",
      "04:10:09 INFO:Saving region means to /Users/sean/code/pharynx_redox/data/paired_ratio/2017_08_23-HD233_4mm_lev/analyses/2019-09-17_frame_specific_midlines_with_registration/2017_08_23-HD233_4mm_lev-summary_table.csv\n",
      "04:10:09 INFO:Saving profile data to /Users/sean/code/pharynx_redox/data/paired_ratio/2017_08_23-HD233_4mm_lev/analyses/2019-09-17_frame_specific_midlines_with_registration/2017_08_23-HD233_4mm_lev-profile_data.nc\n",
      "04:10:09 INFO:Finished full pipeline run for /Users/sean/code/pharynx_redox/data/paired_ratio/2017_08_23-HD233_4mm_lev\n",
      "04:10:13 INFO:Starting full pipeline run for /Users/sean/code/pharynx_redox/data/paired_ratio/2017_08_24-HD233_SAY93\n",
      "04:10:13 INFO:Segmenting pharynxes\n",
      "04:10:14 INFO:Centering and rotating pharynxes\n"
     ]
    },
    {
     "data": {
      "application/vnd.jupyter.widget-view+json": {
       "model_id": "",
       "version_major": 2,
       "version_minor": 0
      },
      "text/plain": [
       "HBox(children=(IntProgress(value=0, description='aliging pharynxes', max=90, style=ProgressStyle(description_w…"
      ]
     },
     "metadata": {},
     "output_type": "display_data"
    },
    {
     "name": "stderr",
     "output_type": "stream",
     "text": [
      "04:10:20 INFO:Calculating midlines\n"
     ]
    },
    {
     "data": {
      "application/vnd.jupyter.widget-view+json": {
       "model_id": "",
       "version_major": 2,
       "version_minor": 0
      },
      "text/plain": [
       "HBox(children=(IntProgress(value=0, description='calculating midlines', max=90, style=ProgressStyle(descriptio…"
      ]
     },
     "metadata": {},
     "output_type": "display_data"
    },
    {
     "name": "stderr",
     "output_type": "stream",
     "text": [
      "04:10:21 INFO:Measuring under midlines\n"
     ]
    },
    {
     "data": {
      "application/vnd.jupyter.widget-view+json": {
       "model_id": "",
       "version_major": 2,
       "version_minor": 0
      },
      "text/plain": [
       "HBox(children=(IntProgress(value=0, description='measuring under midlines', max=90, style=ProgressStyle(descri…"
      ]
     },
     "metadata": {},
     "output_type": "display_data"
    },
    {
     "name": "stderr",
     "output_type": "stream",
     "text": [
      "04:10:22 INFO:Trimming intensity data\n",
      "04:10:23 INFO:Calculating redox measurements\n",
      "04:10:23 INFO:Saving 2017_08_24-HD233_SAY93 inside /Users/sean/code/pharynx_redox/data/paired_ratio/2017_08_24-HD233_SAY93\n",
      "04:10:23 INFO:Saving region means to /Users/sean/code/pharynx_redox/data/paired_ratio/2017_08_24-HD233_SAY93/analyses/2019-09-17_frame_specific_midlines_with_registration/2017_08_24-HD233_SAY93-summary_table.csv\n",
      "04:10:23 INFO:Saving profile data to /Users/sean/code/pharynx_redox/data/paired_ratio/2017_08_24-HD233_SAY93/analyses/2019-09-17_frame_specific_midlines_with_registration/2017_08_24-HD233_SAY93-profile_data.nc\n",
      "04:10:23 INFO:Finished full pipeline run for /Users/sean/code/pharynx_redox/data/paired_ratio/2017_08_24-HD233_SAY93\n",
      "04:10:31 INFO:Starting full pipeline run for /Users/sean/code/pharynx_redox/data/paired_ratio/2017_08_25-HD233_4mm_lev\n",
      "04:10:31 INFO:Segmenting pharynxes\n",
      "04:10:31 INFO:Centering and rotating pharynxes\n"
     ]
    },
    {
     "data": {
      "application/vnd.jupyter.widget-view+json": {
       "model_id": "",
       "version_major": 2,
       "version_minor": 0
      },
      "text/plain": [
       "HBox(children=(IntProgress(value=0, description='aliging pharynxes', max=35, style=ProgressStyle(description_w…"
      ]
     },
     "metadata": {},
     "output_type": "display_data"
    },
    {
     "name": "stderr",
     "output_type": "stream",
     "text": [
      "04:10:34 INFO:Calculating midlines\n"
     ]
    },
    {
     "data": {
      "application/vnd.jupyter.widget-view+json": {
       "model_id": "",
       "version_major": 2,
       "version_minor": 0
      },
      "text/plain": [
       "HBox(children=(IntProgress(value=0, description='calculating midlines', max=35, style=ProgressStyle(descriptio…"
      ]
     },
     "metadata": {},
     "output_type": "display_data"
    },
    {
     "name": "stderr",
     "output_type": "stream",
     "text": [
      "04:10:34 INFO:Measuring under midlines\n"
     ]
    },
    {
     "data": {
      "application/vnd.jupyter.widget-view+json": {
       "model_id": "",
       "version_major": 2,
       "version_minor": 0
      },
      "text/plain": [
       "HBox(children=(IntProgress(value=0, description='measuring under midlines', max=35, style=ProgressStyle(descri…"
      ]
     },
     "metadata": {},
     "output_type": "display_data"
    },
    {
     "name": "stderr",
     "output_type": "stream",
     "text": [
      "04:10:34 INFO:Trimming intensity data\n",
      "04:10:35 INFO:Calculating redox measurements\n",
      "04:10:35 INFO:Saving 2017_08_25-HD233_4mm_lev inside /Users/sean/code/pharynx_redox/data/paired_ratio/2017_08_25-HD233_4mm_lev\n",
      "04:10:35 INFO:Saving region means to /Users/sean/code/pharynx_redox/data/paired_ratio/2017_08_25-HD233_4mm_lev/analyses/2019-09-17_frame_specific_midlines_with_registration/2017_08_25-HD233_4mm_lev-summary_table.csv\n",
      "04:10:35 INFO:Saving profile data to /Users/sean/code/pharynx_redox/data/paired_ratio/2017_08_25-HD233_4mm_lev/analyses/2019-09-17_frame_specific_midlines_with_registration/2017_08_25-HD233_4mm_lev-profile_data.nc\n",
      "04:10:35 INFO:Finished full pipeline run for /Users/sean/code/pharynx_redox/data/paired_ratio/2017_08_25-HD233_4mm_lev\n",
      "04:10:40 INFO:Starting full pipeline run for /Users/sean/code/pharynx_redox/data/paired_ratio/2017_08_25-HD233_SAY93\n",
      "04:10:40 INFO:Segmenting pharynxes\n",
      "04:10:40 INFO:Centering and rotating pharynxes\n"
     ]
    },
    {
     "data": {
      "application/vnd.jupyter.widget-view+json": {
       "model_id": "",
       "version_major": 2,
       "version_minor": 0
      },
      "text/plain": [
       "HBox(children=(IntProgress(value=0, description='aliging pharynxes', max=35, style=ProgressStyle(description_w…"
      ]
     },
     "metadata": {},
     "output_type": "display_data"
    },
    {
     "name": "stderr",
     "output_type": "stream",
     "text": [
      "04:10:44 INFO:Calculating midlines\n"
     ]
    },
    {
     "data": {
      "application/vnd.jupyter.widget-view+json": {
       "model_id": "",
       "version_major": 2,
       "version_minor": 0
      },
      "text/plain": [
       "HBox(children=(IntProgress(value=0, description='calculating midlines', max=35, style=ProgressStyle(descriptio…"
      ]
     },
     "metadata": {},
     "output_type": "display_data"
    },
    {
     "name": "stderr",
     "output_type": "stream",
     "text": [
      "04:10:45 INFO:Measuring under midlines\n"
     ]
    },
    {
     "data": {
      "application/vnd.jupyter.widget-view+json": {
       "model_id": "",
       "version_major": 2,
       "version_minor": 0
      },
      "text/plain": [
       "HBox(children=(IntProgress(value=0, description='measuring under midlines', max=35, style=ProgressStyle(descri…"
      ]
     },
     "metadata": {},
     "output_type": "display_data"
    },
    {
     "name": "stderr",
     "output_type": "stream",
     "text": [
      "04:10:46 INFO:Trimming intensity data\n",
      "04:10:46 INFO:Calculating redox measurements\n",
      "04:10:46 INFO:Saving 2017_08_25-HD233_SAY93 inside /Users/sean/code/pharynx_redox/data/paired_ratio/2017_08_25-HD233_SAY93\n",
      "04:10:46 INFO:Saving region means to /Users/sean/code/pharynx_redox/data/paired_ratio/2017_08_25-HD233_SAY93/analyses/2019-09-17_frame_specific_midlines_with_registration/2017_08_25-HD233_SAY93-summary_table.csv\n",
      "04:10:47 INFO:Saving profile data to /Users/sean/code/pharynx_redox/data/paired_ratio/2017_08_25-HD233_SAY93/analyses/2019-09-17_frame_specific_midlines_with_registration/2017_08_25-HD233_SAY93-profile_data.nc\n",
      "04:10:47 INFO:Finished full pipeline run for /Users/sean/code/pharynx_redox/data/paired_ratio/2017_08_25-HD233_SAY93\n",
      "04:10:51 INFO:Starting full pipeline run for /Users/sean/code/pharynx_redox/data/paired_ratio/2019_04_03-ASI_ablation\n",
      "04:10:51 INFO:Segmenting pharynxes\n",
      "04:10:53 INFO:Centering and rotating pharynxes\n"
     ]
    },
    {
     "data": {
      "application/vnd.jupyter.widget-view+json": {
       "model_id": "",
       "version_major": 2,
       "version_minor": 0
      },
      "text/plain": [
       "HBox(children=(IntProgress(value=0, description='aliging pharynxes', max=123, style=ProgressStyle(description_…"
      ]
     },
     "metadata": {},
     "output_type": "display_data"
    },
    {
     "name": "stderr",
     "output_type": "stream",
     "text": [
      "04:11:02 INFO:Calculating midlines\n"
     ]
    },
    {
     "data": {
      "application/vnd.jupyter.widget-view+json": {
       "model_id": "",
       "version_major": 2,
       "version_minor": 0
      },
      "text/plain": [
       "HBox(children=(IntProgress(value=0, description='calculating midlines', max=123, style=ProgressStyle(descripti…"
      ]
     },
     "metadata": {},
     "output_type": "display_data"
    },
    {
     "name": "stderr",
     "output_type": "stream",
     "text": [
      "04:11:03 INFO:Measuring under midlines\n"
     ]
    },
    {
     "data": {
      "application/vnd.jupyter.widget-view+json": {
       "model_id": "",
       "version_major": 2,
       "version_minor": 0
      },
      "text/plain": [
       "HBox(children=(IntProgress(value=0, description='measuring under midlines', max=123, style=ProgressStyle(descr…"
      ]
     },
     "metadata": {},
     "output_type": "display_data"
    },
    {
     "name": "stderr",
     "output_type": "stream",
     "text": [
      "04:11:04 INFO:Trimming intensity data\n",
      "04:11:05 INFO:Calculating redox measurements\n",
      "/Users/sean/.local/share/virtualenvs/worm-testing/lib/python3.7/site-packages/xarray/core/computation.py:564: RuntimeWarning: invalid value encountered in log\n",
      "  result_data = func(*input_data)\n",
      "04:11:05 INFO:Saving 2019_04_03-ASI_ablation inside /Users/sean/code/pharynx_redox/data/paired_ratio/2019_04_03-ASI_ablation\n",
      "04:11:05 INFO:Saving region means to /Users/sean/code/pharynx_redox/data/paired_ratio/2019_04_03-ASI_ablation/analyses/2019-09-17_frame_specific_midlines_with_registration/2019_04_03-ASI_ablation-summary_table.csv\n",
      "04:11:06 INFO:Saving profile data to /Users/sean/code/pharynx_redox/data/paired_ratio/2019_04_03-ASI_ablation/analyses/2019-09-17_frame_specific_midlines_with_registration/2019_04_03-ASI_ablation-profile_data.nc\n",
      "04:11:06 INFO:Finished full pipeline run for /Users/sean/code/pharynx_redox/data/paired_ratio/2019_04_03-ASI_ablation\n"
     ]
    },
    {
     "name": "stdout",
     "output_type": "stream",
     "text": [
      "\n"
     ]
    }
   ],
   "source": [
    "warps = [[], []]\n",
    "i410s = [[], []]\n",
    "i470s = [[], []]\n",
    "\n",
    "for pair in tqdm_notebook([0, 1]):\n",
    "    for exp_dir in tqdm_notebook(list(sorted(meta_dir.iterdir())), leave=False):\n",
    "        if not exp_dir.is_dir():\n",
    "            continue\n",
    "        ex = experiment.PairExperiment(exp_dir, \"TL/470/410/470/410\", register=False).full_pipeline()\n",
    "\n",
    "        i410 = ex.untrimmed_profiles.sel(wavelength='410', pair=pair)\n",
    "        i470 = ex.untrimmed_profiles.sel(wavelength='470', pair=pair)\n",
    "        _, _, w = profile_processing.register_pair(i410, i470, warp_lam=10 ** -1, rough_nbasis=64)\n",
    "\n",
    "        w_data = np.squeeze(w.data_matrix)\n",
    "        warps[pair].append(w)\n",
    "        i410s[pair].append(i410)\n",
    "        i470s[pair].append(i470)"
   ]
  },
  {
   "cell_type": "code",
   "execution_count": 543,
   "metadata": {},
   "outputs": [
    {
     "data": {
      "text/plain": [
       "[[FDataGrid(\n",
       "      array([[[0.        ],\n",
       "              [0.00502513],\n",
       "              [0.01005025],\n",
       "              ...,\n",
       "              [0.98994975],\n",
       "              [0.99497487],\n",
       "              [1.        ]],\n",
       "      \n",
       "             [[0.        ],\n",
       "              [0.00502513],\n",
       "              [0.01005025],\n",
       "              ...,\n",
       "              [0.98994975],\n",
       "              [0.99497487],\n",
       "              [1.        ]],\n",
       "      \n",
       "             [[0.        ],\n",
       "              [0.00502513],\n",
       "              [0.01005025],\n",
       "              ...,\n",
       "              [0.98994975],\n",
       "              [0.99497487],\n",
       "              [1.        ]],\n",
       "      \n",
       "             ...,\n",
       "      \n",
       "             [[0.        ],\n",
       "              [0.00502513],\n",
       "              [0.01005025],\n",
       "              ...,\n",
       "              [0.98994975],\n",
       "              [0.99497487],\n",
       "              [1.        ]],\n",
       "      \n",
       "             [[0.        ],\n",
       "              [0.00502513],\n",
       "              [0.01005025],\n",
       "              ...,\n",
       "              [0.98994975],\n",
       "              [0.99497487],\n",
       "              [1.        ]],\n",
       "      \n",
       "             [[0.        ],\n",
       "              [0.00502513],\n",
       "              [0.01005025],\n",
       "              ...,\n",
       "              [0.98994975],\n",
       "              [0.99497487],\n",
       "              [1.        ]]]),\n",
       "      sample_points=[array([0.        , 0.00502513, 0.01005025, 0.01507538, 0.0201005 ,\n",
       "             0.02512563, 0.03015075, 0.03517588, 0.04020101, 0.04522613,\n",
       "             0.05025126, 0.05527638, 0.06030151, 0.06532663, 0.07035176,\n",
       "             0.07537688, 0.08040201, 0.08542714, 0.09045226, 0.09547739,\n",
       "             0.10050251, 0.10552764, 0.11055276, 0.11557789, 0.12060302,\n",
       "             0.12562814, 0.13065327, 0.13567839, 0.14070352, 0.14572864,\n",
       "             0.15075377, 0.15577889, 0.16080402, 0.16582915, 0.17085427,\n",
       "             0.1758794 , 0.18090452, 0.18592965, 0.19095477, 0.1959799 ,\n",
       "             0.20100503, 0.20603015, 0.21105528, 0.2160804 , 0.22110553,\n",
       "             0.22613065, 0.23115578, 0.2361809 , 0.24120603, 0.24623116,\n",
       "             0.25125628, 0.25628141, 0.26130653, 0.26633166, 0.27135678,\n",
       "             0.27638191, 0.28140704, 0.28643216, 0.29145729, 0.29648241,\n",
       "             0.30150754, 0.30653266, 0.31155779, 0.31658291, 0.32160804,\n",
       "             0.32663317, 0.33165829, 0.33668342, 0.34170854, 0.34673367,\n",
       "             0.35175879, 0.35678392, 0.36180905, 0.36683417, 0.3718593 ,\n",
       "             0.37688442, 0.38190955, 0.38693467, 0.3919598 , 0.39698492,\n",
       "             0.40201005, 0.40703518, 0.4120603 , 0.41708543, 0.42211055,\n",
       "             0.42713568, 0.4321608 , 0.43718593, 0.44221106, 0.44723618,\n",
       "             0.45226131, 0.45728643, 0.46231156, 0.46733668, 0.47236181,\n",
       "             0.47738693, 0.48241206, 0.48743719, 0.49246231, 0.49748744,\n",
       "             0.50251256, 0.50753769, 0.51256281, 0.51758794, 0.52261307,\n",
       "             0.52763819, 0.53266332, 0.53768844, 0.54271357, 0.54773869,\n",
       "             0.55276382, 0.55778894, 0.56281407, 0.5678392 , 0.57286432,\n",
       "             0.57788945, 0.58291457, 0.5879397 , 0.59296482, 0.59798995,\n",
       "             0.60301508, 0.6080402 , 0.61306533, 0.61809045, 0.62311558,\n",
       "             0.6281407 , 0.63316583, 0.63819095, 0.64321608, 0.64824121,\n",
       "             0.65326633, 0.65829146, 0.66331658, 0.66834171, 0.67336683,\n",
       "             0.67839196, 0.68341709, 0.68844221, 0.69346734, 0.69849246,\n",
       "             0.70351759, 0.70854271, 0.71356784, 0.71859296, 0.72361809,\n",
       "             0.72864322, 0.73366834, 0.73869347, 0.74371859, 0.74874372,\n",
       "             0.75376884, 0.75879397, 0.7638191 , 0.76884422, 0.77386935,\n",
       "             0.77889447, 0.7839196 , 0.78894472, 0.79396985, 0.79899497,\n",
       "             0.8040201 , 0.80904523, 0.81407035, 0.81909548, 0.8241206 ,\n",
       "             0.82914573, 0.83417085, 0.83919598, 0.84422111, 0.84924623,\n",
       "             0.85427136, 0.85929648, 0.86432161, 0.86934673, 0.87437186,\n",
       "             0.87939698, 0.88442211, 0.88944724, 0.89447236, 0.89949749,\n",
       "             0.90452261, 0.90954774, 0.91457286, 0.91959799, 0.92462312,\n",
       "             0.92964824, 0.93467337, 0.93969849, 0.94472362, 0.94974874,\n",
       "             0.95477387, 0.95979899, 0.96482412, 0.96984925, 0.97487437,\n",
       "             0.9798995 , 0.98492462, 0.98994975, 0.99497487, 1.        ])],\n",
       "      domain_range=array([[0., 1.]]),\n",
       "      dataset_label=None,\n",
       "      axes_labels=None,\n",
       "      extrapolation=None,\n",
       "      interpolator=SplineInterpolator(interpolation_order=3, smoothness_parameter=0.0, monotone=True),\n",
       "      keepdims=False), FDataGrid(\n",
       "      array([[[0.        ],\n",
       "              [0.00502513],\n",
       "              [0.01005025],\n",
       "              ...,\n",
       "              [0.98994975],\n",
       "              [0.99497487],\n",
       "              [1.        ]],\n",
       "      \n",
       "             [[0.        ],\n",
       "              [0.00502513],\n",
       "              [0.01005025],\n",
       "              ...,\n",
       "              [0.98994975],\n",
       "              [0.99497487],\n",
       "              [1.        ]],\n",
       "      \n",
       "             [[0.        ],\n",
       "              [0.00502513],\n",
       "              [0.01005025],\n",
       "              ...,\n",
       "              [0.98994975],\n",
       "              [0.99497487],\n",
       "              [1.        ]],\n",
       "      \n",
       "             ...,\n",
       "      \n",
       "             [[0.        ],\n",
       "              [0.00502513],\n",
       "              [0.01005025],\n",
       "              ...,\n",
       "              [0.98994975],\n",
       "              [0.99497487],\n",
       "              [1.        ]],\n",
       "      \n",
       "             [[0.        ],\n",
       "              [0.00430725],\n",
       "              [0.0086145 ],\n",
       "              ...,\n",
       "              [0.98827471],\n",
       "              [0.99413735],\n",
       "              [1.        ]],\n",
       "      \n",
       "             [[0.        ],\n",
       "              [0.00502513],\n",
       "              [0.01005025],\n",
       "              ...,\n",
       "              [0.98994975],\n",
       "              [0.99497487],\n",
       "              [1.        ]]]),\n",
       "      sample_points=[array([0.        , 0.00502513, 0.01005025, 0.01507538, 0.0201005 ,\n",
       "             0.02512563, 0.03015075, 0.03517588, 0.04020101, 0.04522613,\n",
       "             0.05025126, 0.05527638, 0.06030151, 0.06532663, 0.07035176,\n",
       "             0.07537688, 0.08040201, 0.08542714, 0.09045226, 0.09547739,\n",
       "             0.10050251, 0.10552764, 0.11055276, 0.11557789, 0.12060302,\n",
       "             0.12562814, 0.13065327, 0.13567839, 0.14070352, 0.14572864,\n",
       "             0.15075377, 0.15577889, 0.16080402, 0.16582915, 0.17085427,\n",
       "             0.1758794 , 0.18090452, 0.18592965, 0.19095477, 0.1959799 ,\n",
       "             0.20100503, 0.20603015, 0.21105528, 0.2160804 , 0.22110553,\n",
       "             0.22613065, 0.23115578, 0.2361809 , 0.24120603, 0.24623116,\n",
       "             0.25125628, 0.25628141, 0.26130653, 0.26633166, 0.27135678,\n",
       "             0.27638191, 0.28140704, 0.28643216, 0.29145729, 0.29648241,\n",
       "             0.30150754, 0.30653266, 0.31155779, 0.31658291, 0.32160804,\n",
       "             0.32663317, 0.33165829, 0.33668342, 0.34170854, 0.34673367,\n",
       "             0.35175879, 0.35678392, 0.36180905, 0.36683417, 0.3718593 ,\n",
       "             0.37688442, 0.38190955, 0.38693467, 0.3919598 , 0.39698492,\n",
       "             0.40201005, 0.40703518, 0.4120603 , 0.41708543, 0.42211055,\n",
       "             0.42713568, 0.4321608 , 0.43718593, 0.44221106, 0.44723618,\n",
       "             0.45226131, 0.45728643, 0.46231156, 0.46733668, 0.47236181,\n",
       "             0.47738693, 0.48241206, 0.48743719, 0.49246231, 0.49748744,\n",
       "             0.50251256, 0.50753769, 0.51256281, 0.51758794, 0.52261307,\n",
       "             0.52763819, 0.53266332, 0.53768844, 0.54271357, 0.54773869,\n",
       "             0.55276382, 0.55778894, 0.56281407, 0.5678392 , 0.57286432,\n",
       "             0.57788945, 0.58291457, 0.5879397 , 0.59296482, 0.59798995,\n",
       "             0.60301508, 0.6080402 , 0.61306533, 0.61809045, 0.62311558,\n",
       "             0.6281407 , 0.63316583, 0.63819095, 0.64321608, 0.64824121,\n",
       "             0.65326633, 0.65829146, 0.66331658, 0.66834171, 0.67336683,\n",
       "             0.67839196, 0.68341709, 0.68844221, 0.69346734, 0.69849246,\n",
       "             0.70351759, 0.70854271, 0.71356784, 0.71859296, 0.72361809,\n",
       "             0.72864322, 0.73366834, 0.73869347, 0.74371859, 0.74874372,\n",
       "             0.75376884, 0.75879397, 0.7638191 , 0.76884422, 0.77386935,\n",
       "             0.77889447, 0.7839196 , 0.78894472, 0.79396985, 0.79899497,\n",
       "             0.8040201 , 0.80904523, 0.81407035, 0.81909548, 0.8241206 ,\n",
       "             0.82914573, 0.83417085, 0.83919598, 0.84422111, 0.84924623,\n",
       "             0.85427136, 0.85929648, 0.86432161, 0.86934673, 0.87437186,\n",
       "             0.87939698, 0.88442211, 0.88944724, 0.89447236, 0.89949749,\n",
       "             0.90452261, 0.90954774, 0.91457286, 0.91959799, 0.92462312,\n",
       "             0.92964824, 0.93467337, 0.93969849, 0.94472362, 0.94974874,\n",
       "             0.95477387, 0.95979899, 0.96482412, 0.96984925, 0.97487437,\n",
       "             0.9798995 , 0.98492462, 0.98994975, 0.99497487, 1.        ])],\n",
       "      domain_range=array([[0., 1.]]),\n",
       "      dataset_label=None,\n",
       "      axes_labels=None,\n",
       "      extrapolation=None,\n",
       "      interpolator=SplineInterpolator(interpolation_order=3, smoothness_parameter=0.0, monotone=True),\n",
       "      keepdims=False), FDataGrid(\n",
       "      array([[[0.        ],\n",
       "              [0.00502513],\n",
       "              [0.01005025],\n",
       "              ...,\n",
       "              [0.98994975],\n",
       "              [0.99497487],\n",
       "              [1.        ]],\n",
       "      \n",
       "             [[0.        ],\n",
       "              [0.00502513],\n",
       "              [0.01005025],\n",
       "              ...,\n",
       "              [0.98994975],\n",
       "              [0.99497487],\n",
       "              [1.        ]],\n",
       "      \n",
       "             [[0.        ],\n",
       "              [0.00502513],\n",
       "              [0.01005025],\n",
       "              ...,\n",
       "              [0.98994975],\n",
       "              [0.99497487],\n",
       "              [1.        ]],\n",
       "      \n",
       "             ...,\n",
       "      \n",
       "             [[0.        ],\n",
       "              [0.00502513],\n",
       "              [0.01005025],\n",
       "              ...,\n",
       "              [0.98994975],\n",
       "              [0.99497487],\n",
       "              [1.        ]],\n",
       "      \n",
       "             [[0.        ],\n",
       "              [0.00430725],\n",
       "              [0.0086145 ],\n",
       "              ...,\n",
       "              [0.98827471],\n",
       "              [0.99413735],\n",
       "              [1.        ]],\n",
       "      \n",
       "             [[0.        ],\n",
       "              [0.00502513],\n",
       "              [0.01005025],\n",
       "              ...,\n",
       "              [0.98994975],\n",
       "              [0.99497487],\n",
       "              [1.        ]]]),\n",
       "      sample_points=[array([0.        , 0.00502513, 0.01005025, 0.01507538, 0.0201005 ,\n",
       "             0.02512563, 0.03015075, 0.03517588, 0.04020101, 0.04522613,\n",
       "             0.05025126, 0.05527638, 0.06030151, 0.06532663, 0.07035176,\n",
       "             0.07537688, 0.08040201, 0.08542714, 0.09045226, 0.09547739,\n",
       "             0.10050251, 0.10552764, 0.11055276, 0.11557789, 0.12060302,\n",
       "             0.12562814, 0.13065327, 0.13567839, 0.14070352, 0.14572864,\n",
       "             0.15075377, 0.15577889, 0.16080402, 0.16582915, 0.17085427,\n",
       "             0.1758794 , 0.18090452, 0.18592965, 0.19095477, 0.1959799 ,\n",
       "             0.20100503, 0.20603015, 0.21105528, 0.2160804 , 0.22110553,\n",
       "             0.22613065, 0.23115578, 0.2361809 , 0.24120603, 0.24623116,\n",
       "             0.25125628, 0.25628141, 0.26130653, 0.26633166, 0.27135678,\n",
       "             0.27638191, 0.28140704, 0.28643216, 0.29145729, 0.29648241,\n",
       "             0.30150754, 0.30653266, 0.31155779, 0.31658291, 0.32160804,\n",
       "             0.32663317, 0.33165829, 0.33668342, 0.34170854, 0.34673367,\n",
       "             0.35175879, 0.35678392, 0.36180905, 0.36683417, 0.3718593 ,\n",
       "             0.37688442, 0.38190955, 0.38693467, 0.3919598 , 0.39698492,\n",
       "             0.40201005, 0.40703518, 0.4120603 , 0.41708543, 0.42211055,\n",
       "             0.42713568, 0.4321608 , 0.43718593, 0.44221106, 0.44723618,\n",
       "             0.45226131, 0.45728643, 0.46231156, 0.46733668, 0.47236181,\n",
       "             0.47738693, 0.48241206, 0.48743719, 0.49246231, 0.49748744,\n",
       "             0.50251256, 0.50753769, 0.51256281, 0.51758794, 0.52261307,\n",
       "             0.52763819, 0.53266332, 0.53768844, 0.54271357, 0.54773869,\n",
       "             0.55276382, 0.55778894, 0.56281407, 0.5678392 , 0.57286432,\n",
       "             0.57788945, 0.58291457, 0.5879397 , 0.59296482, 0.59798995,\n",
       "             0.60301508, 0.6080402 , 0.61306533, 0.61809045, 0.62311558,\n",
       "             0.6281407 , 0.63316583, 0.63819095, 0.64321608, 0.64824121,\n",
       "             0.65326633, 0.65829146, 0.66331658, 0.66834171, 0.67336683,\n",
       "             0.67839196, 0.68341709, 0.68844221, 0.69346734, 0.69849246,\n",
       "             0.70351759, 0.70854271, 0.71356784, 0.71859296, 0.72361809,\n",
       "             0.72864322, 0.73366834, 0.73869347, 0.74371859, 0.74874372,\n",
       "             0.75376884, 0.75879397, 0.7638191 , 0.76884422, 0.77386935,\n",
       "             0.77889447, 0.7839196 , 0.78894472, 0.79396985, 0.79899497,\n",
       "             0.8040201 , 0.80904523, 0.81407035, 0.81909548, 0.8241206 ,\n",
       "             0.82914573, 0.83417085, 0.83919598, 0.84422111, 0.84924623,\n",
       "             0.85427136, 0.85929648, 0.86432161, 0.86934673, 0.87437186,\n",
       "             0.87939698, 0.88442211, 0.88944724, 0.89447236, 0.89949749,\n",
       "             0.90452261, 0.90954774, 0.91457286, 0.91959799, 0.92462312,\n",
       "             0.92964824, 0.93467337, 0.93969849, 0.94472362, 0.94974874,\n",
       "             0.95477387, 0.95979899, 0.96482412, 0.96984925, 0.97487437,\n",
       "             0.9798995 , 0.98492462, 0.98994975, 0.99497487, 1.        ])],\n",
       "      domain_range=array([[0., 1.]]),\n",
       "      dataset_label=None,\n",
       "      axes_labels=None,\n",
       "      extrapolation=None,\n",
       "      interpolator=SplineInterpolator(interpolation_order=3, smoothness_parameter=0.0, monotone=True),\n",
       "      keepdims=False), FDataGrid(\n",
       "      array([[[0.        ],\n",
       "              [0.00502513],\n",
       "              [0.01005025],\n",
       "              ...,\n",
       "              [0.98994975],\n",
       "              [0.99497487],\n",
       "              [1.        ]],\n",
       "      \n",
       "             [[0.        ],\n",
       "              [0.00502513],\n",
       "              [0.01005025],\n",
       "              ...,\n",
       "              [0.98994975],\n",
       "              [0.99497487],\n",
       "              [1.        ]],\n",
       "      \n",
       "             [[0.        ],\n",
       "              [0.00430725],\n",
       "              [0.0086145 ],\n",
       "              ...,\n",
       "              [0.98994975],\n",
       "              [0.99497487],\n",
       "              [1.        ]],\n",
       "      \n",
       "             ...,\n",
       "      \n",
       "             [[0.        ],\n",
       "              [0.00502513],\n",
       "              [0.01005025],\n",
       "              ...,\n",
       "              [0.98994975],\n",
       "              [0.99497487],\n",
       "              [1.        ]],\n",
       "      \n",
       "             [[0.        ],\n",
       "              [0.00502513],\n",
       "              [0.01005025],\n",
       "              ...,\n",
       "              [0.98994975],\n",
       "              [0.99497487],\n",
       "              [1.        ]],\n",
       "      \n",
       "             [[0.        ],\n",
       "              [0.00502513],\n",
       "              [0.01005025],\n",
       "              ...,\n",
       "              [0.98994975],\n",
       "              [0.99497487],\n",
       "              [1.        ]]]),\n",
       "      sample_points=[array([0.        , 0.00502513, 0.01005025, 0.01507538, 0.0201005 ,\n",
       "             0.02512563, 0.03015075, 0.03517588, 0.04020101, 0.04522613,\n",
       "             0.05025126, 0.05527638, 0.06030151, 0.06532663, 0.07035176,\n",
       "             0.07537688, 0.08040201, 0.08542714, 0.09045226, 0.09547739,\n",
       "             0.10050251, 0.10552764, 0.11055276, 0.11557789, 0.12060302,\n",
       "             0.12562814, 0.13065327, 0.13567839, 0.14070352, 0.14572864,\n",
       "             0.15075377, 0.15577889, 0.16080402, 0.16582915, 0.17085427,\n",
       "             0.1758794 , 0.18090452, 0.18592965, 0.19095477, 0.1959799 ,\n",
       "             0.20100503, 0.20603015, 0.21105528, 0.2160804 , 0.22110553,\n",
       "             0.22613065, 0.23115578, 0.2361809 , 0.24120603, 0.24623116,\n",
       "             0.25125628, 0.25628141, 0.26130653, 0.26633166, 0.27135678,\n",
       "             0.27638191, 0.28140704, 0.28643216, 0.29145729, 0.29648241,\n",
       "             0.30150754, 0.30653266, 0.31155779, 0.31658291, 0.32160804,\n",
       "             0.32663317, 0.33165829, 0.33668342, 0.34170854, 0.34673367,\n",
       "             0.35175879, 0.35678392, 0.36180905, 0.36683417, 0.3718593 ,\n",
       "             0.37688442, 0.38190955, 0.38693467, 0.3919598 , 0.39698492,\n",
       "             0.40201005, 0.40703518, 0.4120603 , 0.41708543, 0.42211055,\n",
       "             0.42713568, 0.4321608 , 0.43718593, 0.44221106, 0.44723618,\n",
       "             0.45226131, 0.45728643, 0.46231156, 0.46733668, 0.47236181,\n",
       "             0.47738693, 0.48241206, 0.48743719, 0.49246231, 0.49748744,\n",
       "             0.50251256, 0.50753769, 0.51256281, 0.51758794, 0.52261307,\n",
       "             0.52763819, 0.53266332, 0.53768844, 0.54271357, 0.54773869,\n",
       "             0.55276382, 0.55778894, 0.56281407, 0.5678392 , 0.57286432,\n",
       "             0.57788945, 0.58291457, 0.5879397 , 0.59296482, 0.59798995,\n",
       "             0.60301508, 0.6080402 , 0.61306533, 0.61809045, 0.62311558,\n",
       "             0.6281407 , 0.63316583, 0.63819095, 0.64321608, 0.64824121,\n",
       "             0.65326633, 0.65829146, 0.66331658, 0.66834171, 0.67336683,\n",
       "             0.67839196, 0.68341709, 0.68844221, 0.69346734, 0.69849246,\n",
       "             0.70351759, 0.70854271, 0.71356784, 0.71859296, 0.72361809,\n",
       "             0.72864322, 0.73366834, 0.73869347, 0.74371859, 0.74874372,\n",
       "             0.75376884, 0.75879397, 0.7638191 , 0.76884422, 0.77386935,\n",
       "             0.77889447, 0.7839196 , 0.78894472, 0.79396985, 0.79899497,\n",
       "             0.8040201 , 0.80904523, 0.81407035, 0.81909548, 0.8241206 ,\n",
       "             0.82914573, 0.83417085, 0.83919598, 0.84422111, 0.84924623,\n",
       "             0.85427136, 0.85929648, 0.86432161, 0.86934673, 0.87437186,\n",
       "             0.87939698, 0.88442211, 0.88944724, 0.89447236, 0.89949749,\n",
       "             0.90452261, 0.90954774, 0.91457286, 0.91959799, 0.92462312,\n",
       "             0.92964824, 0.93467337, 0.93969849, 0.94472362, 0.94974874,\n",
       "             0.95477387, 0.95979899, 0.96482412, 0.96984925, 0.97487437,\n",
       "             0.9798995 , 0.98492462, 0.98994975, 0.99497487, 1.        ])],\n",
       "      domain_range=array([[0., 1.]]),\n",
       "      dataset_label=None,\n",
       "      axes_labels=None,\n",
       "      extrapolation=None,\n",
       "      interpolator=SplineInterpolator(interpolation_order=3, smoothness_parameter=0.0, monotone=True),\n",
       "      keepdims=False), FDataGrid(\n",
       "      array([[[0.        ],\n",
       "              [0.00502513],\n",
       "              [0.01005025],\n",
       "              ...,\n",
       "              [0.98994975],\n",
       "              [0.99497487],\n",
       "              [1.        ]],\n",
       "      \n",
       "             [[0.        ],\n",
       "              [0.00502513],\n",
       "              [0.01005025],\n",
       "              ...,\n",
       "              [0.98994975],\n",
       "              [0.99497487],\n",
       "              [1.        ]],\n",
       "      \n",
       "             [[0.        ],\n",
       "              [0.00502513],\n",
       "              [0.01005025],\n",
       "              ...,\n",
       "              [0.98994975],\n",
       "              [0.99497487],\n",
       "              [1.        ]],\n",
       "      \n",
       "             ...,\n",
       "      \n",
       "             [[0.        ],\n",
       "              [0.00502513],\n",
       "              [0.01005025],\n",
       "              ...,\n",
       "              [0.98994975],\n",
       "              [0.99497487],\n",
       "              [1.        ]],\n",
       "      \n",
       "             [[0.        ],\n",
       "              [0.00502513],\n",
       "              [0.01005025],\n",
       "              ...,\n",
       "              [0.98994975],\n",
       "              [0.99497487],\n",
       "              [1.        ]],\n",
       "      \n",
       "             [[0.        ],\n",
       "              [0.00502513],\n",
       "              [0.01005025],\n",
       "              ...,\n",
       "              [0.98994975],\n",
       "              [0.99497487],\n",
       "              [1.        ]]]),\n",
       "      sample_points=[array([0.        , 0.00502513, 0.01005025, 0.01507538, 0.0201005 ,\n",
       "             0.02512563, 0.03015075, 0.03517588, 0.04020101, 0.04522613,\n",
       "             0.05025126, 0.05527638, 0.06030151, 0.06532663, 0.07035176,\n",
       "             0.07537688, 0.08040201, 0.08542714, 0.09045226, 0.09547739,\n",
       "             0.10050251, 0.10552764, 0.11055276, 0.11557789, 0.12060302,\n",
       "             0.12562814, 0.13065327, 0.13567839, 0.14070352, 0.14572864,\n",
       "             0.15075377, 0.15577889, 0.16080402, 0.16582915, 0.17085427,\n",
       "             0.1758794 , 0.18090452, 0.18592965, 0.19095477, 0.1959799 ,\n",
       "             0.20100503, 0.20603015, 0.21105528, 0.2160804 , 0.22110553,\n",
       "             0.22613065, 0.23115578, 0.2361809 , 0.24120603, 0.24623116,\n",
       "             0.25125628, 0.25628141, 0.26130653, 0.26633166, 0.27135678,\n",
       "             0.27638191, 0.28140704, 0.28643216, 0.29145729, 0.29648241,\n",
       "             0.30150754, 0.30653266, 0.31155779, 0.31658291, 0.32160804,\n",
       "             0.32663317, 0.33165829, 0.33668342, 0.34170854, 0.34673367,\n",
       "             0.35175879, 0.35678392, 0.36180905, 0.36683417, 0.3718593 ,\n",
       "             0.37688442, 0.38190955, 0.38693467, 0.3919598 , 0.39698492,\n",
       "             0.40201005, 0.40703518, 0.4120603 , 0.41708543, 0.42211055,\n",
       "             0.42713568, 0.4321608 , 0.43718593, 0.44221106, 0.44723618,\n",
       "             0.45226131, 0.45728643, 0.46231156, 0.46733668, 0.47236181,\n",
       "             0.47738693, 0.48241206, 0.48743719, 0.49246231, 0.49748744,\n",
       "             0.50251256, 0.50753769, 0.51256281, 0.51758794, 0.52261307,\n",
       "             0.52763819, 0.53266332, 0.53768844, 0.54271357, 0.54773869,\n",
       "             0.55276382, 0.55778894, 0.56281407, 0.5678392 , 0.57286432,\n",
       "             0.57788945, 0.58291457, 0.5879397 , 0.59296482, 0.59798995,\n",
       "             0.60301508, 0.6080402 , 0.61306533, 0.61809045, 0.62311558,\n",
       "             0.6281407 , 0.63316583, 0.63819095, 0.64321608, 0.64824121,\n",
       "             0.65326633, 0.65829146, 0.66331658, 0.66834171, 0.67336683,\n",
       "             0.67839196, 0.68341709, 0.68844221, 0.69346734, 0.69849246,\n",
       "             0.70351759, 0.70854271, 0.71356784, 0.71859296, 0.72361809,\n",
       "             0.72864322, 0.73366834, 0.73869347, 0.74371859, 0.74874372,\n",
       "             0.75376884, 0.75879397, 0.7638191 , 0.76884422, 0.77386935,\n",
       "             0.77889447, 0.7839196 , 0.78894472, 0.79396985, 0.79899497,\n",
       "             0.8040201 , 0.80904523, 0.81407035, 0.81909548, 0.8241206 ,\n",
       "             0.82914573, 0.83417085, 0.83919598, 0.84422111, 0.84924623,\n",
       "             0.85427136, 0.85929648, 0.86432161, 0.86934673, 0.87437186,\n",
       "             0.87939698, 0.88442211, 0.88944724, 0.89447236, 0.89949749,\n",
       "             0.90452261, 0.90954774, 0.91457286, 0.91959799, 0.92462312,\n",
       "             0.92964824, 0.93467337, 0.93969849, 0.94472362, 0.94974874,\n",
       "             0.95477387, 0.95979899, 0.96482412, 0.96984925, 0.97487437,\n",
       "             0.9798995 , 0.98492462, 0.98994975, 0.99497487, 1.        ])],\n",
       "      domain_range=array([[0., 1.]]),\n",
       "      dataset_label=None,\n",
       "      axes_labels=None,\n",
       "      extrapolation=None,\n",
       "      interpolator=SplineInterpolator(interpolation_order=3, smoothness_parameter=0.0, monotone=True),\n",
       "      keepdims=False), FDataGrid(\n",
       "      array([[[0.        ],\n",
       "              [0.00502513],\n",
       "              [0.01005025],\n",
       "              ...,\n",
       "              [0.98994975],\n",
       "              [0.99497487],\n",
       "              [1.        ]],\n",
       "      \n",
       "             [[0.        ],\n",
       "              [0.00502513],\n",
       "              [0.01005025],\n",
       "              ...,\n",
       "              [0.98994975],\n",
       "              [0.99497487],\n",
       "              [1.        ]],\n",
       "      \n",
       "             [[0.        ],\n",
       "              [0.00502513],\n",
       "              [0.01005025],\n",
       "              ...,\n",
       "              [0.98994975],\n",
       "              [0.99497487],\n",
       "              [1.        ]],\n",
       "      \n",
       "             ...,\n",
       "      \n",
       "             [[0.        ],\n",
       "              [0.00502513],\n",
       "              [0.01088777],\n",
       "              ...,\n",
       "              [0.98994975],\n",
       "              [0.99497487],\n",
       "              [1.        ]],\n",
       "      \n",
       "             [[0.        ],\n",
       "              [0.00502513],\n",
       "              [0.01005025],\n",
       "              ...,\n",
       "              [0.98994975],\n",
       "              [0.99497487],\n",
       "              [1.        ]],\n",
       "      \n",
       "             [[0.        ],\n",
       "              [0.00502513],\n",
       "              [0.01005025],\n",
       "              ...,\n",
       "              [0.98994975],\n",
       "              [0.99497487],\n",
       "              [1.        ]]]),\n",
       "      sample_points=[array([0.        , 0.00502513, 0.01005025, 0.01507538, 0.0201005 ,\n",
       "             0.02512563, 0.03015075, 0.03517588, 0.04020101, 0.04522613,\n",
       "             0.05025126, 0.05527638, 0.06030151, 0.06532663, 0.07035176,\n",
       "             0.07537688, 0.08040201, 0.08542714, 0.09045226, 0.09547739,\n",
       "             0.10050251, 0.10552764, 0.11055276, 0.11557789, 0.12060302,\n",
       "             0.12562814, 0.13065327, 0.13567839, 0.14070352, 0.14572864,\n",
       "             0.15075377, 0.15577889, 0.16080402, 0.16582915, 0.17085427,\n",
       "             0.1758794 , 0.18090452, 0.18592965, 0.19095477, 0.1959799 ,\n",
       "             0.20100503, 0.20603015, 0.21105528, 0.2160804 , 0.22110553,\n",
       "             0.22613065, 0.23115578, 0.2361809 , 0.24120603, 0.24623116,\n",
       "             0.25125628, 0.25628141, 0.26130653, 0.26633166, 0.27135678,\n",
       "             0.27638191, 0.28140704, 0.28643216, 0.29145729, 0.29648241,\n",
       "             0.30150754, 0.30653266, 0.31155779, 0.31658291, 0.32160804,\n",
       "             0.32663317, 0.33165829, 0.33668342, 0.34170854, 0.34673367,\n",
       "             0.35175879, 0.35678392, 0.36180905, 0.36683417, 0.3718593 ,\n",
       "             0.37688442, 0.38190955, 0.38693467, 0.3919598 , 0.39698492,\n",
       "             0.40201005, 0.40703518, 0.4120603 , 0.41708543, 0.42211055,\n",
       "             0.42713568, 0.4321608 , 0.43718593, 0.44221106, 0.44723618,\n",
       "             0.45226131, 0.45728643, 0.46231156, 0.46733668, 0.47236181,\n",
       "             0.47738693, 0.48241206, 0.48743719, 0.49246231, 0.49748744,\n",
       "             0.50251256, 0.50753769, 0.51256281, 0.51758794, 0.52261307,\n",
       "             0.52763819, 0.53266332, 0.53768844, 0.54271357, 0.54773869,\n",
       "             0.55276382, 0.55778894, 0.56281407, 0.5678392 , 0.57286432,\n",
       "             0.57788945, 0.58291457, 0.5879397 , 0.59296482, 0.59798995,\n",
       "             0.60301508, 0.6080402 , 0.61306533, 0.61809045, 0.62311558,\n",
       "             0.6281407 , 0.63316583, 0.63819095, 0.64321608, 0.64824121,\n",
       "             0.65326633, 0.65829146, 0.66331658, 0.66834171, 0.67336683,\n",
       "             0.67839196, 0.68341709, 0.68844221, 0.69346734, 0.69849246,\n",
       "             0.70351759, 0.70854271, 0.71356784, 0.71859296, 0.72361809,\n",
       "             0.72864322, 0.73366834, 0.73869347, 0.74371859, 0.74874372,\n",
       "             0.75376884, 0.75879397, 0.7638191 , 0.76884422, 0.77386935,\n",
       "             0.77889447, 0.7839196 , 0.78894472, 0.79396985, 0.79899497,\n",
       "             0.8040201 , 0.80904523, 0.81407035, 0.81909548, 0.8241206 ,\n",
       "             0.82914573, 0.83417085, 0.83919598, 0.84422111, 0.84924623,\n",
       "             0.85427136, 0.85929648, 0.86432161, 0.86934673, 0.87437186,\n",
       "             0.87939698, 0.88442211, 0.88944724, 0.89447236, 0.89949749,\n",
       "             0.90452261, 0.90954774, 0.91457286, 0.91959799, 0.92462312,\n",
       "             0.92964824, 0.93467337, 0.93969849, 0.94472362, 0.94974874,\n",
       "             0.95477387, 0.95979899, 0.96482412, 0.96984925, 0.97487437,\n",
       "             0.9798995 , 0.98492462, 0.98994975, 0.99497487, 1.        ])],\n",
       "      domain_range=array([[0., 1.]]),\n",
       "      dataset_label=None,\n",
       "      axes_labels=None,\n",
       "      extrapolation=None,\n",
       "      interpolator=SplineInterpolator(interpolation_order=3, smoothness_parameter=0.0, monotone=True),\n",
       "      keepdims=False), FDataGrid(\n",
       "      array([[[0.        ],\n",
       "              [0.00502513],\n",
       "              [0.01005025],\n",
       "              ...,\n",
       "              [0.98994975],\n",
       "              [0.99497487],\n",
       "              [1.        ]],\n",
       "      \n",
       "             [[0.        ],\n",
       "              [0.00502513],\n",
       "              [0.01005025],\n",
       "              ...,\n",
       "              [0.98994975],\n",
       "              [0.99497487],\n",
       "              [1.        ]],\n",
       "      \n",
       "             [[0.        ],\n",
       "              [0.00502513],\n",
       "              [0.01005025],\n",
       "              ...,\n",
       "              [0.98994975],\n",
       "              [0.99497487],\n",
       "              [1.        ]],\n",
       "      \n",
       "             ...,\n",
       "      \n",
       "             [[0.        ],\n",
       "              [0.00502513],\n",
       "              [0.01005025],\n",
       "              ...,\n",
       "              [0.98994975],\n",
       "              [0.99497487],\n",
       "              [1.        ]],\n",
       "      \n",
       "             [[0.        ],\n",
       "              [0.00502513],\n",
       "              [0.01005025],\n",
       "              ...,\n",
       "              [0.98994975],\n",
       "              [0.99497487],\n",
       "              [1.        ]],\n",
       "      \n",
       "             [[0.        ],\n",
       "              [0.00502513],\n",
       "              [0.01005025],\n",
       "              ...,\n",
       "              [0.98994975],\n",
       "              [0.99497487],\n",
       "              [1.        ]]]),\n",
       "      sample_points=[array([0.        , 0.00502513, 0.01005025, 0.01507538, 0.0201005 ,\n",
       "             0.02512563, 0.03015075, 0.03517588, 0.04020101, 0.04522613,\n",
       "             0.05025126, 0.05527638, 0.06030151, 0.06532663, 0.07035176,\n",
       "             0.07537688, 0.08040201, 0.08542714, 0.09045226, 0.09547739,\n",
       "             0.10050251, 0.10552764, 0.11055276, 0.11557789, 0.12060302,\n",
       "             0.12562814, 0.13065327, 0.13567839, 0.14070352, 0.14572864,\n",
       "             0.15075377, 0.15577889, 0.16080402, 0.16582915, 0.17085427,\n",
       "             0.1758794 , 0.18090452, 0.18592965, 0.19095477, 0.1959799 ,\n",
       "             0.20100503, 0.20603015, 0.21105528, 0.2160804 , 0.22110553,\n",
       "             0.22613065, 0.23115578, 0.2361809 , 0.24120603, 0.24623116,\n",
       "             0.25125628, 0.25628141, 0.26130653, 0.26633166, 0.27135678,\n",
       "             0.27638191, 0.28140704, 0.28643216, 0.29145729, 0.29648241,\n",
       "             0.30150754, 0.30653266, 0.31155779, 0.31658291, 0.32160804,\n",
       "             0.32663317, 0.33165829, 0.33668342, 0.34170854, 0.34673367,\n",
       "             0.35175879, 0.35678392, 0.36180905, 0.36683417, 0.3718593 ,\n",
       "             0.37688442, 0.38190955, 0.38693467, 0.3919598 , 0.39698492,\n",
       "             0.40201005, 0.40703518, 0.4120603 , 0.41708543, 0.42211055,\n",
       "             0.42713568, 0.4321608 , 0.43718593, 0.44221106, 0.44723618,\n",
       "             0.45226131, 0.45728643, 0.46231156, 0.46733668, 0.47236181,\n",
       "             0.47738693, 0.48241206, 0.48743719, 0.49246231, 0.49748744,\n",
       "             0.50251256, 0.50753769, 0.51256281, 0.51758794, 0.52261307,\n",
       "             0.52763819, 0.53266332, 0.53768844, 0.54271357, 0.54773869,\n",
       "             0.55276382, 0.55778894, 0.56281407, 0.5678392 , 0.57286432,\n",
       "             0.57788945, 0.58291457, 0.5879397 , 0.59296482, 0.59798995,\n",
       "             0.60301508, 0.6080402 , 0.61306533, 0.61809045, 0.62311558,\n",
       "             0.6281407 , 0.63316583, 0.63819095, 0.64321608, 0.64824121,\n",
       "             0.65326633, 0.65829146, 0.66331658, 0.66834171, 0.67336683,\n",
       "             0.67839196, 0.68341709, 0.68844221, 0.69346734, 0.69849246,\n",
       "             0.70351759, 0.70854271, 0.71356784, 0.71859296, 0.72361809,\n",
       "             0.72864322, 0.73366834, 0.73869347, 0.74371859, 0.74874372,\n",
       "             0.75376884, 0.75879397, 0.7638191 , 0.76884422, 0.77386935,\n",
       "             0.77889447, 0.7839196 , 0.78894472, 0.79396985, 0.79899497,\n",
       "             0.8040201 , 0.80904523, 0.81407035, 0.81909548, 0.8241206 ,\n",
       "             0.82914573, 0.83417085, 0.83919598, 0.84422111, 0.84924623,\n",
       "             0.85427136, 0.85929648, 0.86432161, 0.86934673, 0.87437186,\n",
       "             0.87939698, 0.88442211, 0.88944724, 0.89447236, 0.89949749,\n",
       "             0.90452261, 0.90954774, 0.91457286, 0.91959799, 0.92462312,\n",
       "             0.92964824, 0.93467337, 0.93969849, 0.94472362, 0.94974874,\n",
       "             0.95477387, 0.95979899, 0.96482412, 0.96984925, 0.97487437,\n",
       "             0.9798995 , 0.98492462, 0.98994975, 0.99497487, 1.        ])],\n",
       "      domain_range=array([[0., 1.]]),\n",
       "      dataset_label=None,\n",
       "      axes_labels=None,\n",
       "      extrapolation=None,\n",
       "      interpolator=SplineInterpolator(interpolation_order=3, smoothness_parameter=0.0, monotone=True),\n",
       "      keepdims=False), FDataGrid(\n",
       "      array([[[0.        ],\n",
       "              [0.00502513],\n",
       "              [0.01005025],\n",
       "              ...,\n",
       "              [0.98994975],\n",
       "              [0.99497487],\n",
       "              [1.        ]],\n",
       "      \n",
       "             [[0.        ],\n",
       "              [0.00430725],\n",
       "              [0.0086145 ],\n",
       "              ...,\n",
       "              [0.98827471],\n",
       "              [0.99413735],\n",
       "              [1.        ]],\n",
       "      \n",
       "             [[0.        ],\n",
       "              [0.00502513],\n",
       "              [0.01005025],\n",
       "              ...,\n",
       "              [0.98994975],\n",
       "              [0.99497487],\n",
       "              [1.        ]],\n",
       "      \n",
       "             ...,\n",
       "      \n",
       "             [[0.        ],\n",
       "              [0.00502513],\n",
       "              [0.01005025],\n",
       "              ...,\n",
       "              [0.98994975],\n",
       "              [0.99497487],\n",
       "              [1.        ]],\n",
       "      \n",
       "             [[0.        ],\n",
       "              [0.00502513],\n",
       "              [0.01005025],\n",
       "              ...,\n",
       "              [0.98994975],\n",
       "              [0.99497487],\n",
       "              [1.        ]],\n",
       "      \n",
       "             [[0.        ],\n",
       "              [0.00502513],\n",
       "              [0.01005025],\n",
       "              ...,\n",
       "              [0.98994975],\n",
       "              [0.99497487],\n",
       "              [1.        ]]]),\n",
       "      sample_points=[array([0.        , 0.00502513, 0.01005025, 0.01507538, 0.0201005 ,\n",
       "             0.02512563, 0.03015075, 0.03517588, 0.04020101, 0.04522613,\n",
       "             0.05025126, 0.05527638, 0.06030151, 0.06532663, 0.07035176,\n",
       "             0.07537688, 0.08040201, 0.08542714, 0.09045226, 0.09547739,\n",
       "             0.10050251, 0.10552764, 0.11055276, 0.11557789, 0.12060302,\n",
       "             0.12562814, 0.13065327, 0.13567839, 0.14070352, 0.14572864,\n",
       "             0.15075377, 0.15577889, 0.16080402, 0.16582915, 0.17085427,\n",
       "             0.1758794 , 0.18090452, 0.18592965, 0.19095477, 0.1959799 ,\n",
       "             0.20100503, 0.20603015, 0.21105528, 0.2160804 , 0.22110553,\n",
       "             0.22613065, 0.23115578, 0.2361809 , 0.24120603, 0.24623116,\n",
       "             0.25125628, 0.25628141, 0.26130653, 0.26633166, 0.27135678,\n",
       "             0.27638191, 0.28140704, 0.28643216, 0.29145729, 0.29648241,\n",
       "             0.30150754, 0.30653266, 0.31155779, 0.31658291, 0.32160804,\n",
       "             0.32663317, 0.33165829, 0.33668342, 0.34170854, 0.34673367,\n",
       "             0.35175879, 0.35678392, 0.36180905, 0.36683417, 0.3718593 ,\n",
       "             0.37688442, 0.38190955, 0.38693467, 0.3919598 , 0.39698492,\n",
       "             0.40201005, 0.40703518, 0.4120603 , 0.41708543, 0.42211055,\n",
       "             0.42713568, 0.4321608 , 0.43718593, 0.44221106, 0.44723618,\n",
       "             0.45226131, 0.45728643, 0.46231156, 0.46733668, 0.47236181,\n",
       "             0.47738693, 0.48241206, 0.48743719, 0.49246231, 0.49748744,\n",
       "             0.50251256, 0.50753769, 0.51256281, 0.51758794, 0.52261307,\n",
       "             0.52763819, 0.53266332, 0.53768844, 0.54271357, 0.54773869,\n",
       "             0.55276382, 0.55778894, 0.56281407, 0.5678392 , 0.57286432,\n",
       "             0.57788945, 0.58291457, 0.5879397 , 0.59296482, 0.59798995,\n",
       "             0.60301508, 0.6080402 , 0.61306533, 0.61809045, 0.62311558,\n",
       "             0.6281407 , 0.63316583, 0.63819095, 0.64321608, 0.64824121,\n",
       "             0.65326633, 0.65829146, 0.66331658, 0.66834171, 0.67336683,\n",
       "             0.67839196, 0.68341709, 0.68844221, 0.69346734, 0.69849246,\n",
       "             0.70351759, 0.70854271, 0.71356784, 0.71859296, 0.72361809,\n",
       "             0.72864322, 0.73366834, 0.73869347, 0.74371859, 0.74874372,\n",
       "             0.75376884, 0.75879397, 0.7638191 , 0.76884422, 0.77386935,\n",
       "             0.77889447, 0.7839196 , 0.78894472, 0.79396985, 0.79899497,\n",
       "             0.8040201 , 0.80904523, 0.81407035, 0.81909548, 0.8241206 ,\n",
       "             0.82914573, 0.83417085, 0.83919598, 0.84422111, 0.84924623,\n",
       "             0.85427136, 0.85929648, 0.86432161, 0.86934673, 0.87437186,\n",
       "             0.87939698, 0.88442211, 0.88944724, 0.89447236, 0.89949749,\n",
       "             0.90452261, 0.90954774, 0.91457286, 0.91959799, 0.92462312,\n",
       "             0.92964824, 0.93467337, 0.93969849, 0.94472362, 0.94974874,\n",
       "             0.95477387, 0.95979899, 0.96482412, 0.96984925, 0.97487437,\n",
       "             0.9798995 , 0.98492462, 0.98994975, 0.99497487, 1.        ])],\n",
       "      domain_range=array([[0., 1.]]),\n",
       "      dataset_label=None,\n",
       "      axes_labels=None,\n",
       "      extrapolation=None,\n",
       "      interpolator=SplineInterpolator(interpolation_order=3, smoothness_parameter=0.0, monotone=True),\n",
       "      keepdims=False), FDataGrid(\n",
       "      array([[[0.        ],\n",
       "              [0.00502513],\n",
       "              [0.01005025],\n",
       "              ...,\n",
       "              [0.98994975],\n",
       "              [0.99497487],\n",
       "              [1.        ]],\n",
       "      \n",
       "             [[0.        ],\n",
       "              [0.00430725],\n",
       "              [0.0086145 ],\n",
       "              ...,\n",
       "              [0.98827471],\n",
       "              [0.99413735],\n",
       "              [1.        ]],\n",
       "      \n",
       "             [[0.        ],\n",
       "              [0.00502513],\n",
       "              [0.01005025],\n",
       "              ...,\n",
       "              [0.98994975],\n",
       "              [0.99497487],\n",
       "              [1.        ]],\n",
       "      \n",
       "             ...,\n",
       "      \n",
       "             [[0.        ],\n",
       "              [0.00502513],\n",
       "              [0.01005025],\n",
       "              ...,\n",
       "              [0.98994975],\n",
       "              [0.99497487],\n",
       "              [1.        ]],\n",
       "      \n",
       "             [[0.        ],\n",
       "              [0.00502513],\n",
       "              [0.01005025],\n",
       "              ...,\n",
       "              [0.98994975],\n",
       "              [0.99497487],\n",
       "              [1.        ]],\n",
       "      \n",
       "             [[0.        ],\n",
       "              [0.00502513],\n",
       "              [0.01005025],\n",
       "              ...,\n",
       "              [0.98994975],\n",
       "              [0.99497487],\n",
       "              [1.        ]]]),\n",
       "      sample_points=[array([0.        , 0.00502513, 0.01005025, 0.01507538, 0.0201005 ,\n",
       "             0.02512563, 0.03015075, 0.03517588, 0.04020101, 0.04522613,\n",
       "             0.05025126, 0.05527638, 0.06030151, 0.06532663, 0.07035176,\n",
       "             0.07537688, 0.08040201, 0.08542714, 0.09045226, 0.09547739,\n",
       "             0.10050251, 0.10552764, 0.11055276, 0.11557789, 0.12060302,\n",
       "             0.12562814, 0.13065327, 0.13567839, 0.14070352, 0.14572864,\n",
       "             0.15075377, 0.15577889, 0.16080402, 0.16582915, 0.17085427,\n",
       "             0.1758794 , 0.18090452, 0.18592965, 0.19095477, 0.1959799 ,\n",
       "             0.20100503, 0.20603015, 0.21105528, 0.2160804 , 0.22110553,\n",
       "             0.22613065, 0.23115578, 0.2361809 , 0.24120603, 0.24623116,\n",
       "             0.25125628, 0.25628141, 0.26130653, 0.26633166, 0.27135678,\n",
       "             0.27638191, 0.28140704, 0.28643216, 0.29145729, 0.29648241,\n",
       "             0.30150754, 0.30653266, 0.31155779, 0.31658291, 0.32160804,\n",
       "             0.32663317, 0.33165829, 0.33668342, 0.34170854, 0.34673367,\n",
       "             0.35175879, 0.35678392, 0.36180905, 0.36683417, 0.3718593 ,\n",
       "             0.37688442, 0.38190955, 0.38693467, 0.3919598 , 0.39698492,\n",
       "             0.40201005, 0.40703518, 0.4120603 , 0.41708543, 0.42211055,\n",
       "             0.42713568, 0.4321608 , 0.43718593, 0.44221106, 0.44723618,\n",
       "             0.45226131, 0.45728643, 0.46231156, 0.46733668, 0.47236181,\n",
       "             0.47738693, 0.48241206, 0.48743719, 0.49246231, 0.49748744,\n",
       "             0.50251256, 0.50753769, 0.51256281, 0.51758794, 0.52261307,\n",
       "             0.52763819, 0.53266332, 0.53768844, 0.54271357, 0.54773869,\n",
       "             0.55276382, 0.55778894, 0.56281407, 0.5678392 , 0.57286432,\n",
       "             0.57788945, 0.58291457, 0.5879397 , 0.59296482, 0.59798995,\n",
       "             0.60301508, 0.6080402 , 0.61306533, 0.61809045, 0.62311558,\n",
       "             0.6281407 , 0.63316583, 0.63819095, 0.64321608, 0.64824121,\n",
       "             0.65326633, 0.65829146, 0.66331658, 0.66834171, 0.67336683,\n",
       "             0.67839196, 0.68341709, 0.68844221, 0.69346734, 0.69849246,\n",
       "             0.70351759, 0.70854271, 0.71356784, 0.71859296, 0.72361809,\n",
       "             0.72864322, 0.73366834, 0.73869347, 0.74371859, 0.74874372,\n",
       "             0.75376884, 0.75879397, 0.7638191 , 0.76884422, 0.77386935,\n",
       "             0.77889447, 0.7839196 , 0.78894472, 0.79396985, 0.79899497,\n",
       "             0.8040201 , 0.80904523, 0.81407035, 0.81909548, 0.8241206 ,\n",
       "             0.82914573, 0.83417085, 0.83919598, 0.84422111, 0.84924623,\n",
       "             0.85427136, 0.85929648, 0.86432161, 0.86934673, 0.87437186,\n",
       "             0.87939698, 0.88442211, 0.88944724, 0.89447236, 0.89949749,\n",
       "             0.90452261, 0.90954774, 0.91457286, 0.91959799, 0.92462312,\n",
       "             0.92964824, 0.93467337, 0.93969849, 0.94472362, 0.94974874,\n",
       "             0.95477387, 0.95979899, 0.96482412, 0.96984925, 0.97487437,\n",
       "             0.9798995 , 0.98492462, 0.98994975, 0.99497487, 1.        ])],\n",
       "      domain_range=array([[0., 1.]]),\n",
       "      dataset_label=None,\n",
       "      axes_labels=None,\n",
       "      extrapolation=None,\n",
       "      interpolator=SplineInterpolator(interpolation_order=3, smoothness_parameter=0.0, monotone=True),\n",
       "      keepdims=False), FDataGrid(\n",
       "      array([[[0.        ],\n",
       "              [0.00502513],\n",
       "              [0.01005025],\n",
       "              ...,\n",
       "              [0.98994975],\n",
       "              [0.99497487],\n",
       "              [1.        ]],\n",
       "      \n",
       "             [[0.        ],\n",
       "              [0.00502513],\n",
       "              [0.01005025],\n",
       "              ...,\n",
       "              [0.98994975],\n",
       "              [0.99497487],\n",
       "              [1.        ]],\n",
       "      \n",
       "             [[0.        ],\n",
       "              [0.00502513],\n",
       "              [0.01005025],\n",
       "              ...,\n",
       "              [0.98994975],\n",
       "              [0.99497487],\n",
       "              [1.        ]],\n",
       "      \n",
       "             ...,\n",
       "      \n",
       "             [[0.        ],\n",
       "              [0.00502513],\n",
       "              [0.01005025],\n",
       "              ...,\n",
       "              [0.98994975],\n",
       "              [0.99497487],\n",
       "              [1.        ]],\n",
       "      \n",
       "             [[0.        ],\n",
       "              [0.00502513],\n",
       "              [0.01005025],\n",
       "              ...,\n",
       "              [0.98994975],\n",
       "              [0.99497487],\n",
       "              [1.        ]],\n",
       "      \n",
       "             [[0.        ],\n",
       "              [0.00502513],\n",
       "              [0.01005025],\n",
       "              ...,\n",
       "              [0.98994975],\n",
       "              [0.99497487],\n",
       "              [1.        ]]]),\n",
       "      sample_points=[array([0.        , 0.00502513, 0.01005025, 0.01507538, 0.0201005 ,\n",
       "             0.02512563, 0.03015075, 0.03517588, 0.04020101, 0.04522613,\n",
       "             0.05025126, 0.05527638, 0.06030151, 0.06532663, 0.07035176,\n",
       "             0.07537688, 0.08040201, 0.08542714, 0.09045226, 0.09547739,\n",
       "             0.10050251, 0.10552764, 0.11055276, 0.11557789, 0.12060302,\n",
       "             0.12562814, 0.13065327, 0.13567839, 0.14070352, 0.14572864,\n",
       "             0.15075377, 0.15577889, 0.16080402, 0.16582915, 0.17085427,\n",
       "             0.1758794 , 0.18090452, 0.18592965, 0.19095477, 0.1959799 ,\n",
       "             0.20100503, 0.20603015, 0.21105528, 0.2160804 , 0.22110553,\n",
       "             0.22613065, 0.23115578, 0.2361809 , 0.24120603, 0.24623116,\n",
       "             0.25125628, 0.25628141, 0.26130653, 0.26633166, 0.27135678,\n",
       "             0.27638191, 0.28140704, 0.28643216, 0.29145729, 0.29648241,\n",
       "             0.30150754, 0.30653266, 0.31155779, 0.31658291, 0.32160804,\n",
       "             0.32663317, 0.33165829, 0.33668342, 0.34170854, 0.34673367,\n",
       "             0.35175879, 0.35678392, 0.36180905, 0.36683417, 0.3718593 ,\n",
       "             0.37688442, 0.38190955, 0.38693467, 0.3919598 , 0.39698492,\n",
       "             0.40201005, 0.40703518, 0.4120603 , 0.41708543, 0.42211055,\n",
       "             0.42713568, 0.4321608 , 0.43718593, 0.44221106, 0.44723618,\n",
       "             0.45226131, 0.45728643, 0.46231156, 0.46733668, 0.47236181,\n",
       "             0.47738693, 0.48241206, 0.48743719, 0.49246231, 0.49748744,\n",
       "             0.50251256, 0.50753769, 0.51256281, 0.51758794, 0.52261307,\n",
       "             0.52763819, 0.53266332, 0.53768844, 0.54271357, 0.54773869,\n",
       "             0.55276382, 0.55778894, 0.56281407, 0.5678392 , 0.57286432,\n",
       "             0.57788945, 0.58291457, 0.5879397 , 0.59296482, 0.59798995,\n",
       "             0.60301508, 0.6080402 , 0.61306533, 0.61809045, 0.62311558,\n",
       "             0.6281407 , 0.63316583, 0.63819095, 0.64321608, 0.64824121,\n",
       "             0.65326633, 0.65829146, 0.66331658, 0.66834171, 0.67336683,\n",
       "             0.67839196, 0.68341709, 0.68844221, 0.69346734, 0.69849246,\n",
       "             0.70351759, 0.70854271, 0.71356784, 0.71859296, 0.72361809,\n",
       "             0.72864322, 0.73366834, 0.73869347, 0.74371859, 0.74874372,\n",
       "             0.75376884, 0.75879397, 0.7638191 , 0.76884422, 0.77386935,\n",
       "             0.77889447, 0.7839196 , 0.78894472, 0.79396985, 0.79899497,\n",
       "             0.8040201 , 0.80904523, 0.81407035, 0.81909548, 0.8241206 ,\n",
       "             0.82914573, 0.83417085, 0.83919598, 0.84422111, 0.84924623,\n",
       "             0.85427136, 0.85929648, 0.86432161, 0.86934673, 0.87437186,\n",
       "             0.87939698, 0.88442211, 0.88944724, 0.89447236, 0.89949749,\n",
       "             0.90452261, 0.90954774, 0.91457286, 0.91959799, 0.92462312,\n",
       "             0.92964824, 0.93467337, 0.93969849, 0.94472362, 0.94974874,\n",
       "             0.95477387, 0.95979899, 0.96482412, 0.96984925, 0.97487437,\n",
       "             0.9798995 , 0.98492462, 0.98994975, 0.99497487, 1.        ])],\n",
       "      domain_range=array([[0., 1.]]),\n",
       "      dataset_label=None,\n",
       "      axes_labels=None,\n",
       "      extrapolation=None,\n",
       "      interpolator=SplineInterpolator(interpolation_order=3, smoothness_parameter=0.0, monotone=True),\n",
       "      keepdims=False)], [FDataGrid(\n",
       "      array([[[0.        ],\n",
       "              [0.00502513],\n",
       "              [0.01005025],\n",
       "              ...,\n",
       "              [0.98994975],\n",
       "              [0.99497487],\n",
       "              [1.        ]],\n",
       "      \n",
       "             [[0.        ],\n",
       "              [0.00502513],\n",
       "              [0.01005025],\n",
       "              ...,\n",
       "              [0.98994975],\n",
       "              [0.99497487],\n",
       "              [1.        ]],\n",
       "      \n",
       "             [[0.        ],\n",
       "              [0.00502513],\n",
       "              [0.01005025],\n",
       "              ...,\n",
       "              [0.98994975],\n",
       "              [0.99497487],\n",
       "              [1.        ]],\n",
       "      \n",
       "             ...,\n",
       "      \n",
       "             [[0.        ],\n",
       "              [0.00502513],\n",
       "              [0.01005025],\n",
       "              ...,\n",
       "              [0.98994975],\n",
       "              [0.99497487],\n",
       "              [1.        ]],\n",
       "      \n",
       "             [[0.        ],\n",
       "              [0.00502513],\n",
       "              [0.01005025],\n",
       "              ...,\n",
       "              [0.98994975],\n",
       "              [0.99497487],\n",
       "              [1.        ]],\n",
       "      \n",
       "             [[0.        ],\n",
       "              [0.00502513],\n",
       "              [0.01005025],\n",
       "              ...,\n",
       "              [0.98994975],\n",
       "              [0.99497487],\n",
       "              [1.        ]]]),\n",
       "      sample_points=[array([0.        , 0.00502513, 0.01005025, 0.01507538, 0.0201005 ,\n",
       "             0.02512563, 0.03015075, 0.03517588, 0.04020101, 0.04522613,\n",
       "             0.05025126, 0.05527638, 0.06030151, 0.06532663, 0.07035176,\n",
       "             0.07537688, 0.08040201, 0.08542714, 0.09045226, 0.09547739,\n",
       "             0.10050251, 0.10552764, 0.11055276, 0.11557789, 0.12060302,\n",
       "             0.12562814, 0.13065327, 0.13567839, 0.14070352, 0.14572864,\n",
       "             0.15075377, 0.15577889, 0.16080402, 0.16582915, 0.17085427,\n",
       "             0.1758794 , 0.18090452, 0.18592965, 0.19095477, 0.1959799 ,\n",
       "             0.20100503, 0.20603015, 0.21105528, 0.2160804 , 0.22110553,\n",
       "             0.22613065, 0.23115578, 0.2361809 , 0.24120603, 0.24623116,\n",
       "             0.25125628, 0.25628141, 0.26130653, 0.26633166, 0.27135678,\n",
       "             0.27638191, 0.28140704, 0.28643216, 0.29145729, 0.29648241,\n",
       "             0.30150754, 0.30653266, 0.31155779, 0.31658291, 0.32160804,\n",
       "             0.32663317, 0.33165829, 0.33668342, 0.34170854, 0.34673367,\n",
       "             0.35175879, 0.35678392, 0.36180905, 0.36683417, 0.3718593 ,\n",
       "             0.37688442, 0.38190955, 0.38693467, 0.3919598 , 0.39698492,\n",
       "             0.40201005, 0.40703518, 0.4120603 , 0.41708543, 0.42211055,\n",
       "             0.42713568, 0.4321608 , 0.43718593, 0.44221106, 0.44723618,\n",
       "             0.45226131, 0.45728643, 0.46231156, 0.46733668, 0.47236181,\n",
       "             0.47738693, 0.48241206, 0.48743719, 0.49246231, 0.49748744,\n",
       "             0.50251256, 0.50753769, 0.51256281, 0.51758794, 0.52261307,\n",
       "             0.52763819, 0.53266332, 0.53768844, 0.54271357, 0.54773869,\n",
       "             0.55276382, 0.55778894, 0.56281407, 0.5678392 , 0.57286432,\n",
       "             0.57788945, 0.58291457, 0.5879397 , 0.59296482, 0.59798995,\n",
       "             0.60301508, 0.6080402 , 0.61306533, 0.61809045, 0.62311558,\n",
       "             0.6281407 , 0.63316583, 0.63819095, 0.64321608, 0.64824121,\n",
       "             0.65326633, 0.65829146, 0.66331658, 0.66834171, 0.67336683,\n",
       "             0.67839196, 0.68341709, 0.68844221, 0.69346734, 0.69849246,\n",
       "             0.70351759, 0.70854271, 0.71356784, 0.71859296, 0.72361809,\n",
       "             0.72864322, 0.73366834, 0.73869347, 0.74371859, 0.74874372,\n",
       "             0.75376884, 0.75879397, 0.7638191 , 0.76884422, 0.77386935,\n",
       "             0.77889447, 0.7839196 , 0.78894472, 0.79396985, 0.79899497,\n",
       "             0.8040201 , 0.80904523, 0.81407035, 0.81909548, 0.8241206 ,\n",
       "             0.82914573, 0.83417085, 0.83919598, 0.84422111, 0.84924623,\n",
       "             0.85427136, 0.85929648, 0.86432161, 0.86934673, 0.87437186,\n",
       "             0.87939698, 0.88442211, 0.88944724, 0.89447236, 0.89949749,\n",
       "             0.90452261, 0.90954774, 0.91457286, 0.91959799, 0.92462312,\n",
       "             0.92964824, 0.93467337, 0.93969849, 0.94472362, 0.94974874,\n",
       "             0.95477387, 0.95979899, 0.96482412, 0.96984925, 0.97487437,\n",
       "             0.9798995 , 0.98492462, 0.98994975, 0.99497487, 1.        ])],\n",
       "      domain_range=array([[0., 1.]]),\n",
       "      dataset_label=None,\n",
       "      axes_labels=None,\n",
       "      extrapolation=None,\n",
       "      interpolator=SplineInterpolator(interpolation_order=3, smoothness_parameter=0.0, monotone=True),\n",
       "      keepdims=False), FDataGrid(\n",
       "      array([[[0.        ],\n",
       "              [0.00502513],\n",
       "              [0.01005025],\n",
       "              ...,\n",
       "              [0.98994975],\n",
       "              [0.99497487],\n",
       "              [1.        ]],\n",
       "      \n",
       "             [[0.        ],\n",
       "              [0.00586265],\n",
       "              [0.01172529],\n",
       "              ...,\n",
       "              [0.98994975],\n",
       "              [0.99497487],\n",
       "              [1.        ]],\n",
       "      \n",
       "             [[0.        ],\n",
       "              [0.00502513],\n",
       "              [0.01005025],\n",
       "              ...,\n",
       "              [0.98994975],\n",
       "              [0.99497487],\n",
       "              [1.        ]],\n",
       "      \n",
       "             ...,\n",
       "      \n",
       "             [[0.        ],\n",
       "              [0.00502513],\n",
       "              [0.01005025],\n",
       "              ...,\n",
       "              [0.98994975],\n",
       "              [0.99497487],\n",
       "              [1.        ]],\n",
       "      \n",
       "             [[0.        ],\n",
       "              [0.00502513],\n",
       "              [0.01005025],\n",
       "              ...,\n",
       "              [0.98994975],\n",
       "              [0.99497487],\n",
       "              [1.        ]],\n",
       "      \n",
       "             [[0.        ],\n",
       "              [0.00502513],\n",
       "              [0.01005025],\n",
       "              ...,\n",
       "              [0.98994975],\n",
       "              [0.99497487],\n",
       "              [1.        ]]]),\n",
       "      sample_points=[array([0.        , 0.00502513, 0.01005025, 0.01507538, 0.0201005 ,\n",
       "             0.02512563, 0.03015075, 0.03517588, 0.04020101, 0.04522613,\n",
       "             0.05025126, 0.05527638, 0.06030151, 0.06532663, 0.07035176,\n",
       "             0.07537688, 0.08040201, 0.08542714, 0.09045226, 0.09547739,\n",
       "             0.10050251, 0.10552764, 0.11055276, 0.11557789, 0.12060302,\n",
       "             0.12562814, 0.13065327, 0.13567839, 0.14070352, 0.14572864,\n",
       "             0.15075377, 0.15577889, 0.16080402, 0.16582915, 0.17085427,\n",
       "             0.1758794 , 0.18090452, 0.18592965, 0.19095477, 0.1959799 ,\n",
       "             0.20100503, 0.20603015, 0.21105528, 0.2160804 , 0.22110553,\n",
       "             0.22613065, 0.23115578, 0.2361809 , 0.24120603, 0.24623116,\n",
       "             0.25125628, 0.25628141, 0.26130653, 0.26633166, 0.27135678,\n",
       "             0.27638191, 0.28140704, 0.28643216, 0.29145729, 0.29648241,\n",
       "             0.30150754, 0.30653266, 0.31155779, 0.31658291, 0.32160804,\n",
       "             0.32663317, 0.33165829, 0.33668342, 0.34170854, 0.34673367,\n",
       "             0.35175879, 0.35678392, 0.36180905, 0.36683417, 0.3718593 ,\n",
       "             0.37688442, 0.38190955, 0.38693467, 0.3919598 , 0.39698492,\n",
       "             0.40201005, 0.40703518, 0.4120603 , 0.41708543, 0.42211055,\n",
       "             0.42713568, 0.4321608 , 0.43718593, 0.44221106, 0.44723618,\n",
       "             0.45226131, 0.45728643, 0.46231156, 0.46733668, 0.47236181,\n",
       "             0.47738693, 0.48241206, 0.48743719, 0.49246231, 0.49748744,\n",
       "             0.50251256, 0.50753769, 0.51256281, 0.51758794, 0.52261307,\n",
       "             0.52763819, 0.53266332, 0.53768844, 0.54271357, 0.54773869,\n",
       "             0.55276382, 0.55778894, 0.56281407, 0.5678392 , 0.57286432,\n",
       "             0.57788945, 0.58291457, 0.5879397 , 0.59296482, 0.59798995,\n",
       "             0.60301508, 0.6080402 , 0.61306533, 0.61809045, 0.62311558,\n",
       "             0.6281407 , 0.63316583, 0.63819095, 0.64321608, 0.64824121,\n",
       "             0.65326633, 0.65829146, 0.66331658, 0.66834171, 0.67336683,\n",
       "             0.67839196, 0.68341709, 0.68844221, 0.69346734, 0.69849246,\n",
       "             0.70351759, 0.70854271, 0.71356784, 0.71859296, 0.72361809,\n",
       "             0.72864322, 0.73366834, 0.73869347, 0.74371859, 0.74874372,\n",
       "             0.75376884, 0.75879397, 0.7638191 , 0.76884422, 0.77386935,\n",
       "             0.77889447, 0.7839196 , 0.78894472, 0.79396985, 0.79899497,\n",
       "             0.8040201 , 0.80904523, 0.81407035, 0.81909548, 0.8241206 ,\n",
       "             0.82914573, 0.83417085, 0.83919598, 0.84422111, 0.84924623,\n",
       "             0.85427136, 0.85929648, 0.86432161, 0.86934673, 0.87437186,\n",
       "             0.87939698, 0.88442211, 0.88944724, 0.89447236, 0.89949749,\n",
       "             0.90452261, 0.90954774, 0.91457286, 0.91959799, 0.92462312,\n",
       "             0.92964824, 0.93467337, 0.93969849, 0.94472362, 0.94974874,\n",
       "             0.95477387, 0.95979899, 0.96482412, 0.96984925, 0.97487437,\n",
       "             0.9798995 , 0.98492462, 0.98994975, 0.99497487, 1.        ])],\n",
       "      domain_range=array([[0., 1.]]),\n",
       "      dataset_label=None,\n",
       "      axes_labels=None,\n",
       "      extrapolation=None,\n",
       "      interpolator=SplineInterpolator(interpolation_order=3, smoothness_parameter=0.0, monotone=True),\n",
       "      keepdims=False), FDataGrid(\n",
       "      array([[[0.        ],\n",
       "              [0.00502513],\n",
       "              [0.01005025],\n",
       "              ...,\n",
       "              [0.98994975],\n",
       "              [0.99497487],\n",
       "              [1.        ]],\n",
       "      \n",
       "             [[0.        ],\n",
       "              [0.00502513],\n",
       "              [0.01005025],\n",
       "              ...,\n",
       "              [0.98994975],\n",
       "              [0.99497487],\n",
       "              [1.        ]],\n",
       "      \n",
       "             [[0.        ],\n",
       "              [0.00502513],\n",
       "              [0.01005025],\n",
       "              ...,\n",
       "              [0.98994975],\n",
       "              [0.99497487],\n",
       "              [1.        ]],\n",
       "      \n",
       "             ...,\n",
       "      \n",
       "             [[0.        ],\n",
       "              [0.00502513],\n",
       "              [0.01005025],\n",
       "              ...,\n",
       "              [0.98994975],\n",
       "              [0.99497487],\n",
       "              [1.        ]],\n",
       "      \n",
       "             [[0.        ],\n",
       "              [0.00502513],\n",
       "              [0.01005025],\n",
       "              ...,\n",
       "              [0.98994975],\n",
       "              [0.99497487],\n",
       "              [1.        ]],\n",
       "      \n",
       "             [[0.        ],\n",
       "              [0.00502513],\n",
       "              [0.01005025],\n",
       "              ...,\n",
       "              [0.98994975],\n",
       "              [0.99497487],\n",
       "              [1.        ]]]),\n",
       "      sample_points=[array([0.        , 0.00502513, 0.01005025, 0.01507538, 0.0201005 ,\n",
       "             0.02512563, 0.03015075, 0.03517588, 0.04020101, 0.04522613,\n",
       "             0.05025126, 0.05527638, 0.06030151, 0.06532663, 0.07035176,\n",
       "             0.07537688, 0.08040201, 0.08542714, 0.09045226, 0.09547739,\n",
       "             0.10050251, 0.10552764, 0.11055276, 0.11557789, 0.12060302,\n",
       "             0.12562814, 0.13065327, 0.13567839, 0.14070352, 0.14572864,\n",
       "             0.15075377, 0.15577889, 0.16080402, 0.16582915, 0.17085427,\n",
       "             0.1758794 , 0.18090452, 0.18592965, 0.19095477, 0.1959799 ,\n",
       "             0.20100503, 0.20603015, 0.21105528, 0.2160804 , 0.22110553,\n",
       "             0.22613065, 0.23115578, 0.2361809 , 0.24120603, 0.24623116,\n",
       "             0.25125628, 0.25628141, 0.26130653, 0.26633166, 0.27135678,\n",
       "             0.27638191, 0.28140704, 0.28643216, 0.29145729, 0.29648241,\n",
       "             0.30150754, 0.30653266, 0.31155779, 0.31658291, 0.32160804,\n",
       "             0.32663317, 0.33165829, 0.33668342, 0.34170854, 0.34673367,\n",
       "             0.35175879, 0.35678392, 0.36180905, 0.36683417, 0.3718593 ,\n",
       "             0.37688442, 0.38190955, 0.38693467, 0.3919598 , 0.39698492,\n",
       "             0.40201005, 0.40703518, 0.4120603 , 0.41708543, 0.42211055,\n",
       "             0.42713568, 0.4321608 , 0.43718593, 0.44221106, 0.44723618,\n",
       "             0.45226131, 0.45728643, 0.46231156, 0.46733668, 0.47236181,\n",
       "             0.47738693, 0.48241206, 0.48743719, 0.49246231, 0.49748744,\n",
       "             0.50251256, 0.50753769, 0.51256281, 0.51758794, 0.52261307,\n",
       "             0.52763819, 0.53266332, 0.53768844, 0.54271357, 0.54773869,\n",
       "             0.55276382, 0.55778894, 0.56281407, 0.5678392 , 0.57286432,\n",
       "             0.57788945, 0.58291457, 0.5879397 , 0.59296482, 0.59798995,\n",
       "             0.60301508, 0.6080402 , 0.61306533, 0.61809045, 0.62311558,\n",
       "             0.6281407 , 0.63316583, 0.63819095, 0.64321608, 0.64824121,\n",
       "             0.65326633, 0.65829146, 0.66331658, 0.66834171, 0.67336683,\n",
       "             0.67839196, 0.68341709, 0.68844221, 0.69346734, 0.69849246,\n",
       "             0.70351759, 0.70854271, 0.71356784, 0.71859296, 0.72361809,\n",
       "             0.72864322, 0.73366834, 0.73869347, 0.74371859, 0.74874372,\n",
       "             0.75376884, 0.75879397, 0.7638191 , 0.76884422, 0.77386935,\n",
       "             0.77889447, 0.7839196 , 0.78894472, 0.79396985, 0.79899497,\n",
       "             0.8040201 , 0.80904523, 0.81407035, 0.81909548, 0.8241206 ,\n",
       "             0.82914573, 0.83417085, 0.83919598, 0.84422111, 0.84924623,\n",
       "             0.85427136, 0.85929648, 0.86432161, 0.86934673, 0.87437186,\n",
       "             0.87939698, 0.88442211, 0.88944724, 0.89447236, 0.89949749,\n",
       "             0.90452261, 0.90954774, 0.91457286, 0.91959799, 0.92462312,\n",
       "             0.92964824, 0.93467337, 0.93969849, 0.94472362, 0.94974874,\n",
       "             0.95477387, 0.95979899, 0.96482412, 0.96984925, 0.97487437,\n",
       "             0.9798995 , 0.98492462, 0.98994975, 0.99497487, 1.        ])],\n",
       "      domain_range=array([[0., 1.]]),\n",
       "      dataset_label=None,\n",
       "      axes_labels=None,\n",
       "      extrapolation=None,\n",
       "      interpolator=SplineInterpolator(interpolation_order=3, smoothness_parameter=0.0, monotone=True),\n",
       "      keepdims=False), FDataGrid(\n",
       "      array([[[0.        ],\n",
       "              [0.00502513],\n",
       "              [0.01005025],\n",
       "              ...,\n",
       "              [0.98994975],\n",
       "              [0.99497487],\n",
       "              [1.        ]],\n",
       "      \n",
       "             [[0.        ],\n",
       "              [0.00502513],\n",
       "              [0.01005025],\n",
       "              ...,\n",
       "              [0.98994975],\n",
       "              [0.99497487],\n",
       "              [1.        ]],\n",
       "      \n",
       "             [[0.        ],\n",
       "              [0.00502513],\n",
       "              [0.01005025],\n",
       "              ...,\n",
       "              [0.98994975],\n",
       "              [0.99497487],\n",
       "              [1.        ]],\n",
       "      \n",
       "             ...,\n",
       "      \n",
       "             [[0.        ],\n",
       "              [0.00502513],\n",
       "              [0.01005025],\n",
       "              ...,\n",
       "              [0.98994975],\n",
       "              [0.99497487],\n",
       "              [1.        ]],\n",
       "      \n",
       "             [[0.        ],\n",
       "              [0.00502513],\n",
       "              [0.01005025],\n",
       "              ...,\n",
       "              [0.98994975],\n",
       "              [0.99497487],\n",
       "              [1.        ]],\n",
       "      \n",
       "             [[0.        ],\n",
       "              [0.00502513],\n",
       "              [0.01005025],\n",
       "              ...,\n",
       "              [0.98994975],\n",
       "              [0.99497487],\n",
       "              [1.        ]]]),\n",
       "      sample_points=[array([0.        , 0.00502513, 0.01005025, 0.01507538, 0.0201005 ,\n",
       "             0.02512563, 0.03015075, 0.03517588, 0.04020101, 0.04522613,\n",
       "             0.05025126, 0.05527638, 0.06030151, 0.06532663, 0.07035176,\n",
       "             0.07537688, 0.08040201, 0.08542714, 0.09045226, 0.09547739,\n",
       "             0.10050251, 0.10552764, 0.11055276, 0.11557789, 0.12060302,\n",
       "             0.12562814, 0.13065327, 0.13567839, 0.14070352, 0.14572864,\n",
       "             0.15075377, 0.15577889, 0.16080402, 0.16582915, 0.17085427,\n",
       "             0.1758794 , 0.18090452, 0.18592965, 0.19095477, 0.1959799 ,\n",
       "             0.20100503, 0.20603015, 0.21105528, 0.2160804 , 0.22110553,\n",
       "             0.22613065, 0.23115578, 0.2361809 , 0.24120603, 0.24623116,\n",
       "             0.25125628, 0.25628141, 0.26130653, 0.26633166, 0.27135678,\n",
       "             0.27638191, 0.28140704, 0.28643216, 0.29145729, 0.29648241,\n",
       "             0.30150754, 0.30653266, 0.31155779, 0.31658291, 0.32160804,\n",
       "             0.32663317, 0.33165829, 0.33668342, 0.34170854, 0.34673367,\n",
       "             0.35175879, 0.35678392, 0.36180905, 0.36683417, 0.3718593 ,\n",
       "             0.37688442, 0.38190955, 0.38693467, 0.3919598 , 0.39698492,\n",
       "             0.40201005, 0.40703518, 0.4120603 , 0.41708543, 0.42211055,\n",
       "             0.42713568, 0.4321608 , 0.43718593, 0.44221106, 0.44723618,\n",
       "             0.45226131, 0.45728643, 0.46231156, 0.46733668, 0.47236181,\n",
       "             0.47738693, 0.48241206, 0.48743719, 0.49246231, 0.49748744,\n",
       "             0.50251256, 0.50753769, 0.51256281, 0.51758794, 0.52261307,\n",
       "             0.52763819, 0.53266332, 0.53768844, 0.54271357, 0.54773869,\n",
       "             0.55276382, 0.55778894, 0.56281407, 0.5678392 , 0.57286432,\n",
       "             0.57788945, 0.58291457, 0.5879397 , 0.59296482, 0.59798995,\n",
       "             0.60301508, 0.6080402 , 0.61306533, 0.61809045, 0.62311558,\n",
       "             0.6281407 , 0.63316583, 0.63819095, 0.64321608, 0.64824121,\n",
       "             0.65326633, 0.65829146, 0.66331658, 0.66834171, 0.67336683,\n",
       "             0.67839196, 0.68341709, 0.68844221, 0.69346734, 0.69849246,\n",
       "             0.70351759, 0.70854271, 0.71356784, 0.71859296, 0.72361809,\n",
       "             0.72864322, 0.73366834, 0.73869347, 0.74371859, 0.74874372,\n",
       "             0.75376884, 0.75879397, 0.7638191 , 0.76884422, 0.77386935,\n",
       "             0.77889447, 0.7839196 , 0.78894472, 0.79396985, 0.79899497,\n",
       "             0.8040201 , 0.80904523, 0.81407035, 0.81909548, 0.8241206 ,\n",
       "             0.82914573, 0.83417085, 0.83919598, 0.84422111, 0.84924623,\n",
       "             0.85427136, 0.85929648, 0.86432161, 0.86934673, 0.87437186,\n",
       "             0.87939698, 0.88442211, 0.88944724, 0.89447236, 0.89949749,\n",
       "             0.90452261, 0.90954774, 0.91457286, 0.91959799, 0.92462312,\n",
       "             0.92964824, 0.93467337, 0.93969849, 0.94472362, 0.94974874,\n",
       "             0.95477387, 0.95979899, 0.96482412, 0.96984925, 0.97487437,\n",
       "             0.9798995 , 0.98492462, 0.98994975, 0.99497487, 1.        ])],\n",
       "      domain_range=array([[0., 1.]]),\n",
       "      dataset_label=None,\n",
       "      axes_labels=None,\n",
       "      extrapolation=None,\n",
       "      interpolator=SplineInterpolator(interpolation_order=3, smoothness_parameter=0.0, monotone=True),\n",
       "      keepdims=False), FDataGrid(\n",
       "      array([[[0.        ],\n",
       "              [0.00502513],\n",
       "              [0.01005025],\n",
       "              ...,\n",
       "              [0.98994975],\n",
       "              [0.99497487],\n",
       "              [1.        ]],\n",
       "      \n",
       "             [[0.        ],\n",
       "              [0.00502513],\n",
       "              [0.01005025],\n",
       "              ...,\n",
       "              [0.98994975],\n",
       "              [0.99497487],\n",
       "              [1.        ]],\n",
       "      \n",
       "             [[0.        ],\n",
       "              [0.00502513],\n",
       "              [0.01005025],\n",
       "              ...,\n",
       "              [0.98994975],\n",
       "              [0.99497487],\n",
       "              [1.        ]],\n",
       "      \n",
       "             ...,\n",
       "      \n",
       "             [[0.        ],\n",
       "              [0.00502513],\n",
       "              [0.01005025],\n",
       "              ...,\n",
       "              [0.98994975],\n",
       "              [0.99497487],\n",
       "              [1.        ]],\n",
       "      \n",
       "             [[0.        ],\n",
       "              [0.00430725],\n",
       "              [0.0086145 ],\n",
       "              ...,\n",
       "              [0.98994975],\n",
       "              [0.99497487],\n",
       "              [1.        ]],\n",
       "      \n",
       "             [[0.        ],\n",
       "              [0.00502513],\n",
       "              [0.01005025],\n",
       "              ...,\n",
       "              [0.98994975],\n",
       "              [0.99497487],\n",
       "              [1.        ]]]),\n",
       "      sample_points=[array([0.        , 0.00502513, 0.01005025, 0.01507538, 0.0201005 ,\n",
       "             0.02512563, 0.03015075, 0.03517588, 0.04020101, 0.04522613,\n",
       "             0.05025126, 0.05527638, 0.06030151, 0.06532663, 0.07035176,\n",
       "             0.07537688, 0.08040201, 0.08542714, 0.09045226, 0.09547739,\n",
       "             0.10050251, 0.10552764, 0.11055276, 0.11557789, 0.12060302,\n",
       "             0.12562814, 0.13065327, 0.13567839, 0.14070352, 0.14572864,\n",
       "             0.15075377, 0.15577889, 0.16080402, 0.16582915, 0.17085427,\n",
       "             0.1758794 , 0.18090452, 0.18592965, 0.19095477, 0.1959799 ,\n",
       "             0.20100503, 0.20603015, 0.21105528, 0.2160804 , 0.22110553,\n",
       "             0.22613065, 0.23115578, 0.2361809 , 0.24120603, 0.24623116,\n",
       "             0.25125628, 0.25628141, 0.26130653, 0.26633166, 0.27135678,\n",
       "             0.27638191, 0.28140704, 0.28643216, 0.29145729, 0.29648241,\n",
       "             0.30150754, 0.30653266, 0.31155779, 0.31658291, 0.32160804,\n",
       "             0.32663317, 0.33165829, 0.33668342, 0.34170854, 0.34673367,\n",
       "             0.35175879, 0.35678392, 0.36180905, 0.36683417, 0.3718593 ,\n",
       "             0.37688442, 0.38190955, 0.38693467, 0.3919598 , 0.39698492,\n",
       "             0.40201005, 0.40703518, 0.4120603 , 0.41708543, 0.42211055,\n",
       "             0.42713568, 0.4321608 , 0.43718593, 0.44221106, 0.44723618,\n",
       "             0.45226131, 0.45728643, 0.46231156, 0.46733668, 0.47236181,\n",
       "             0.47738693, 0.48241206, 0.48743719, 0.49246231, 0.49748744,\n",
       "             0.50251256, 0.50753769, 0.51256281, 0.51758794, 0.52261307,\n",
       "             0.52763819, 0.53266332, 0.53768844, 0.54271357, 0.54773869,\n",
       "             0.55276382, 0.55778894, 0.56281407, 0.5678392 , 0.57286432,\n",
       "             0.57788945, 0.58291457, 0.5879397 , 0.59296482, 0.59798995,\n",
       "             0.60301508, 0.6080402 , 0.61306533, 0.61809045, 0.62311558,\n",
       "             0.6281407 , 0.63316583, 0.63819095, 0.64321608, 0.64824121,\n",
       "             0.65326633, 0.65829146, 0.66331658, 0.66834171, 0.67336683,\n",
       "             0.67839196, 0.68341709, 0.68844221, 0.69346734, 0.69849246,\n",
       "             0.70351759, 0.70854271, 0.71356784, 0.71859296, 0.72361809,\n",
       "             0.72864322, 0.73366834, 0.73869347, 0.74371859, 0.74874372,\n",
       "             0.75376884, 0.75879397, 0.7638191 , 0.76884422, 0.77386935,\n",
       "             0.77889447, 0.7839196 , 0.78894472, 0.79396985, 0.79899497,\n",
       "             0.8040201 , 0.80904523, 0.81407035, 0.81909548, 0.8241206 ,\n",
       "             0.82914573, 0.83417085, 0.83919598, 0.84422111, 0.84924623,\n",
       "             0.85427136, 0.85929648, 0.86432161, 0.86934673, 0.87437186,\n",
       "             0.87939698, 0.88442211, 0.88944724, 0.89447236, 0.89949749,\n",
       "             0.90452261, 0.90954774, 0.91457286, 0.91959799, 0.92462312,\n",
       "             0.92964824, 0.93467337, 0.93969849, 0.94472362, 0.94974874,\n",
       "             0.95477387, 0.95979899, 0.96482412, 0.96984925, 0.97487437,\n",
       "             0.9798995 , 0.98492462, 0.98994975, 0.99497487, 1.        ])],\n",
       "      domain_range=array([[0., 1.]]),\n",
       "      dataset_label=None,\n",
       "      axes_labels=None,\n",
       "      extrapolation=None,\n",
       "      interpolator=SplineInterpolator(interpolation_order=3, smoothness_parameter=0.0, monotone=True),\n",
       "      keepdims=False), FDataGrid(\n",
       "      array([[[0.        ],\n",
       "              [0.00502513],\n",
       "              [0.01005025],\n",
       "              ...,\n",
       "              [0.98994975],\n",
       "              [0.99497487],\n",
       "              [1.        ]],\n",
       "      \n",
       "             [[0.        ],\n",
       "              [0.00502513],\n",
       "              [0.01005025],\n",
       "              ...,\n",
       "              [0.98994975],\n",
       "              [0.99497487],\n",
       "              [1.        ]],\n",
       "      \n",
       "             [[0.        ],\n",
       "              [0.00502513],\n",
       "              [0.01005025],\n",
       "              ...,\n",
       "              [0.98994975],\n",
       "              [0.99497487],\n",
       "              [1.        ]],\n",
       "      \n",
       "             ...,\n",
       "      \n",
       "             [[0.        ],\n",
       "              [0.00502513],\n",
       "              [0.01005025],\n",
       "              ...,\n",
       "              [0.98994975],\n",
       "              [0.99497487],\n",
       "              [1.        ]],\n",
       "      \n",
       "             [[0.        ],\n",
       "              [0.00502513],\n",
       "              [0.01005025],\n",
       "              ...,\n",
       "              [0.98994975],\n",
       "              [0.99497487],\n",
       "              [1.        ]],\n",
       "      \n",
       "             [[0.        ],\n",
       "              [0.00502513],\n",
       "              [0.01005025],\n",
       "              ...,\n",
       "              [0.98994975],\n",
       "              [0.99497487],\n",
       "              [1.        ]]]),\n",
       "      sample_points=[array([0.        , 0.00502513, 0.01005025, 0.01507538, 0.0201005 ,\n",
       "             0.02512563, 0.03015075, 0.03517588, 0.04020101, 0.04522613,\n",
       "             0.05025126, 0.05527638, 0.06030151, 0.06532663, 0.07035176,\n",
       "             0.07537688, 0.08040201, 0.08542714, 0.09045226, 0.09547739,\n",
       "             0.10050251, 0.10552764, 0.11055276, 0.11557789, 0.12060302,\n",
       "             0.12562814, 0.13065327, 0.13567839, 0.14070352, 0.14572864,\n",
       "             0.15075377, 0.15577889, 0.16080402, 0.16582915, 0.17085427,\n",
       "             0.1758794 , 0.18090452, 0.18592965, 0.19095477, 0.1959799 ,\n",
       "             0.20100503, 0.20603015, 0.21105528, 0.2160804 , 0.22110553,\n",
       "             0.22613065, 0.23115578, 0.2361809 , 0.24120603, 0.24623116,\n",
       "             0.25125628, 0.25628141, 0.26130653, 0.26633166, 0.27135678,\n",
       "             0.27638191, 0.28140704, 0.28643216, 0.29145729, 0.29648241,\n",
       "             0.30150754, 0.30653266, 0.31155779, 0.31658291, 0.32160804,\n",
       "             0.32663317, 0.33165829, 0.33668342, 0.34170854, 0.34673367,\n",
       "             0.35175879, 0.35678392, 0.36180905, 0.36683417, 0.3718593 ,\n",
       "             0.37688442, 0.38190955, 0.38693467, 0.3919598 , 0.39698492,\n",
       "             0.40201005, 0.40703518, 0.4120603 , 0.41708543, 0.42211055,\n",
       "             0.42713568, 0.4321608 , 0.43718593, 0.44221106, 0.44723618,\n",
       "             0.45226131, 0.45728643, 0.46231156, 0.46733668, 0.47236181,\n",
       "             0.47738693, 0.48241206, 0.48743719, 0.49246231, 0.49748744,\n",
       "             0.50251256, 0.50753769, 0.51256281, 0.51758794, 0.52261307,\n",
       "             0.52763819, 0.53266332, 0.53768844, 0.54271357, 0.54773869,\n",
       "             0.55276382, 0.55778894, 0.56281407, 0.5678392 , 0.57286432,\n",
       "             0.57788945, 0.58291457, 0.5879397 , 0.59296482, 0.59798995,\n",
       "             0.60301508, 0.6080402 , 0.61306533, 0.61809045, 0.62311558,\n",
       "             0.6281407 , 0.63316583, 0.63819095, 0.64321608, 0.64824121,\n",
       "             0.65326633, 0.65829146, 0.66331658, 0.66834171, 0.67336683,\n",
       "             0.67839196, 0.68341709, 0.68844221, 0.69346734, 0.69849246,\n",
       "             0.70351759, 0.70854271, 0.71356784, 0.71859296, 0.72361809,\n",
       "             0.72864322, 0.73366834, 0.73869347, 0.74371859, 0.74874372,\n",
       "             0.75376884, 0.75879397, 0.7638191 , 0.76884422, 0.77386935,\n",
       "             0.77889447, 0.7839196 , 0.78894472, 0.79396985, 0.79899497,\n",
       "             0.8040201 , 0.80904523, 0.81407035, 0.81909548, 0.8241206 ,\n",
       "             0.82914573, 0.83417085, 0.83919598, 0.84422111, 0.84924623,\n",
       "             0.85427136, 0.85929648, 0.86432161, 0.86934673, 0.87437186,\n",
       "             0.87939698, 0.88442211, 0.88944724, 0.89447236, 0.89949749,\n",
       "             0.90452261, 0.90954774, 0.91457286, 0.91959799, 0.92462312,\n",
       "             0.92964824, 0.93467337, 0.93969849, 0.94472362, 0.94974874,\n",
       "             0.95477387, 0.95979899, 0.96482412, 0.96984925, 0.97487437,\n",
       "             0.9798995 , 0.98492462, 0.98994975, 0.99497487, 1.        ])],\n",
       "      domain_range=array([[0., 1.]]),\n",
       "      dataset_label=None,\n",
       "      axes_labels=None,\n",
       "      extrapolation=None,\n",
       "      interpolator=SplineInterpolator(interpolation_order=3, smoothness_parameter=0.0, monotone=True),\n",
       "      keepdims=False), FDataGrid(\n",
       "      array([[[0.        ],\n",
       "              [0.00502513],\n",
       "              [0.01005025],\n",
       "              ...,\n",
       "              [0.98994975],\n",
       "              [0.99497487],\n",
       "              [1.        ]],\n",
       "      \n",
       "             [[0.        ],\n",
       "              [0.00502513],\n",
       "              [0.01005025],\n",
       "              ...,\n",
       "              [0.98994975],\n",
       "              [0.99497487],\n",
       "              [1.        ]],\n",
       "      \n",
       "             [[0.        ],\n",
       "              [0.00502513],\n",
       "              [0.01005025],\n",
       "              ...,\n",
       "              [0.98994975],\n",
       "              [0.99497487],\n",
       "              [1.        ]],\n",
       "      \n",
       "             ...,\n",
       "      \n",
       "             [[0.        ],\n",
       "              [0.00502513],\n",
       "              [0.01005025],\n",
       "              ...,\n",
       "              [0.98994975],\n",
       "              [0.99497487],\n",
       "              [1.        ]],\n",
       "      \n",
       "             [[0.        ],\n",
       "              [0.00502513],\n",
       "              [0.01005025],\n",
       "              ...,\n",
       "              [0.98994975],\n",
       "              [0.99497487],\n",
       "              [1.        ]],\n",
       "      \n",
       "             [[0.        ],\n",
       "              [0.00502513],\n",
       "              [0.01005025],\n",
       "              ...,\n",
       "              [0.98994975],\n",
       "              [0.99497487],\n",
       "              [1.        ]]]),\n",
       "      sample_points=[array([0.        , 0.00502513, 0.01005025, 0.01507538, 0.0201005 ,\n",
       "             0.02512563, 0.03015075, 0.03517588, 0.04020101, 0.04522613,\n",
       "             0.05025126, 0.05527638, 0.06030151, 0.06532663, 0.07035176,\n",
       "             0.07537688, 0.08040201, 0.08542714, 0.09045226, 0.09547739,\n",
       "             0.10050251, 0.10552764, 0.11055276, 0.11557789, 0.12060302,\n",
       "             0.12562814, 0.13065327, 0.13567839, 0.14070352, 0.14572864,\n",
       "             0.15075377, 0.15577889, 0.16080402, 0.16582915, 0.17085427,\n",
       "             0.1758794 , 0.18090452, 0.18592965, 0.19095477, 0.1959799 ,\n",
       "             0.20100503, 0.20603015, 0.21105528, 0.2160804 , 0.22110553,\n",
       "             0.22613065, 0.23115578, 0.2361809 , 0.24120603, 0.24623116,\n",
       "             0.25125628, 0.25628141, 0.26130653, 0.26633166, 0.27135678,\n",
       "             0.27638191, 0.28140704, 0.28643216, 0.29145729, 0.29648241,\n",
       "             0.30150754, 0.30653266, 0.31155779, 0.31658291, 0.32160804,\n",
       "             0.32663317, 0.33165829, 0.33668342, 0.34170854, 0.34673367,\n",
       "             0.35175879, 0.35678392, 0.36180905, 0.36683417, 0.3718593 ,\n",
       "             0.37688442, 0.38190955, 0.38693467, 0.3919598 , 0.39698492,\n",
       "             0.40201005, 0.40703518, 0.4120603 , 0.41708543, 0.42211055,\n",
       "             0.42713568, 0.4321608 , 0.43718593, 0.44221106, 0.44723618,\n",
       "             0.45226131, 0.45728643, 0.46231156, 0.46733668, 0.47236181,\n",
       "             0.47738693, 0.48241206, 0.48743719, 0.49246231, 0.49748744,\n",
       "             0.50251256, 0.50753769, 0.51256281, 0.51758794, 0.52261307,\n",
       "             0.52763819, 0.53266332, 0.53768844, 0.54271357, 0.54773869,\n",
       "             0.55276382, 0.55778894, 0.56281407, 0.5678392 , 0.57286432,\n",
       "             0.57788945, 0.58291457, 0.5879397 , 0.59296482, 0.59798995,\n",
       "             0.60301508, 0.6080402 , 0.61306533, 0.61809045, 0.62311558,\n",
       "             0.6281407 , 0.63316583, 0.63819095, 0.64321608, 0.64824121,\n",
       "             0.65326633, 0.65829146, 0.66331658, 0.66834171, 0.67336683,\n",
       "             0.67839196, 0.68341709, 0.68844221, 0.69346734, 0.69849246,\n",
       "             0.70351759, 0.70854271, 0.71356784, 0.71859296, 0.72361809,\n",
       "             0.72864322, 0.73366834, 0.73869347, 0.74371859, 0.74874372,\n",
       "             0.75376884, 0.75879397, 0.7638191 , 0.76884422, 0.77386935,\n",
       "             0.77889447, 0.7839196 , 0.78894472, 0.79396985, 0.79899497,\n",
       "             0.8040201 , 0.80904523, 0.81407035, 0.81909548, 0.8241206 ,\n",
       "             0.82914573, 0.83417085, 0.83919598, 0.84422111, 0.84924623,\n",
       "             0.85427136, 0.85929648, 0.86432161, 0.86934673, 0.87437186,\n",
       "             0.87939698, 0.88442211, 0.88944724, 0.89447236, 0.89949749,\n",
       "             0.90452261, 0.90954774, 0.91457286, 0.91959799, 0.92462312,\n",
       "             0.92964824, 0.93467337, 0.93969849, 0.94472362, 0.94974874,\n",
       "             0.95477387, 0.95979899, 0.96482412, 0.96984925, 0.97487437,\n",
       "             0.9798995 , 0.98492462, 0.98994975, 0.99497487, 1.        ])],\n",
       "      domain_range=array([[0., 1.]]),\n",
       "      dataset_label=None,\n",
       "      axes_labels=None,\n",
       "      extrapolation=None,\n",
       "      interpolator=SplineInterpolator(interpolation_order=3, smoothness_parameter=0.0, monotone=True),\n",
       "      keepdims=False), FDataGrid(\n",
       "      array([[[0.        ],\n",
       "              [0.00502513],\n",
       "              [0.01005025],\n",
       "              ...,\n",
       "              [0.98994975],\n",
       "              [0.99497487],\n",
       "              [1.        ]],\n",
       "      \n",
       "             [[0.        ],\n",
       "              [0.00430725],\n",
       "              [0.0086145 ],\n",
       "              ...,\n",
       "              [0.98994975],\n",
       "              [0.99497487],\n",
       "              [1.        ]],\n",
       "      \n",
       "             [[0.        ],\n",
       "              [0.00502513],\n",
       "              [0.01005025],\n",
       "              ...,\n",
       "              [0.98994975],\n",
       "              [0.99497487],\n",
       "              [1.        ]],\n",
       "      \n",
       "             ...,\n",
       "      \n",
       "             [[0.        ],\n",
       "              [0.00502513],\n",
       "              [0.01005025],\n",
       "              ...,\n",
       "              [0.98994975],\n",
       "              [0.99497487],\n",
       "              [1.        ]],\n",
       "      \n",
       "             [[0.        ],\n",
       "              [0.00502513],\n",
       "              [0.01005025],\n",
       "              ...,\n",
       "              [0.98994975],\n",
       "              [0.99497487],\n",
       "              [1.        ]],\n",
       "      \n",
       "             [[0.        ],\n",
       "              [0.00502513],\n",
       "              [0.01005025],\n",
       "              ...,\n",
       "              [0.98994975],\n",
       "              [0.99497487],\n",
       "              [1.        ]]]),\n",
       "      sample_points=[array([0.        , 0.00502513, 0.01005025, 0.01507538, 0.0201005 ,\n",
       "             0.02512563, 0.03015075, 0.03517588, 0.04020101, 0.04522613,\n",
       "             0.05025126, 0.05527638, 0.06030151, 0.06532663, 0.07035176,\n",
       "             0.07537688, 0.08040201, 0.08542714, 0.09045226, 0.09547739,\n",
       "             0.10050251, 0.10552764, 0.11055276, 0.11557789, 0.12060302,\n",
       "             0.12562814, 0.13065327, 0.13567839, 0.14070352, 0.14572864,\n",
       "             0.15075377, 0.15577889, 0.16080402, 0.16582915, 0.17085427,\n",
       "             0.1758794 , 0.18090452, 0.18592965, 0.19095477, 0.1959799 ,\n",
       "             0.20100503, 0.20603015, 0.21105528, 0.2160804 , 0.22110553,\n",
       "             0.22613065, 0.23115578, 0.2361809 , 0.24120603, 0.24623116,\n",
       "             0.25125628, 0.25628141, 0.26130653, 0.26633166, 0.27135678,\n",
       "             0.27638191, 0.28140704, 0.28643216, 0.29145729, 0.29648241,\n",
       "             0.30150754, 0.30653266, 0.31155779, 0.31658291, 0.32160804,\n",
       "             0.32663317, 0.33165829, 0.33668342, 0.34170854, 0.34673367,\n",
       "             0.35175879, 0.35678392, 0.36180905, 0.36683417, 0.3718593 ,\n",
       "             0.37688442, 0.38190955, 0.38693467, 0.3919598 , 0.39698492,\n",
       "             0.40201005, 0.40703518, 0.4120603 , 0.41708543, 0.42211055,\n",
       "             0.42713568, 0.4321608 , 0.43718593, 0.44221106, 0.44723618,\n",
       "             0.45226131, 0.45728643, 0.46231156, 0.46733668, 0.47236181,\n",
       "             0.47738693, 0.48241206, 0.48743719, 0.49246231, 0.49748744,\n",
       "             0.50251256, 0.50753769, 0.51256281, 0.51758794, 0.52261307,\n",
       "             0.52763819, 0.53266332, 0.53768844, 0.54271357, 0.54773869,\n",
       "             0.55276382, 0.55778894, 0.56281407, 0.5678392 , 0.57286432,\n",
       "             0.57788945, 0.58291457, 0.5879397 , 0.59296482, 0.59798995,\n",
       "             0.60301508, 0.6080402 , 0.61306533, 0.61809045, 0.62311558,\n",
       "             0.6281407 , 0.63316583, 0.63819095, 0.64321608, 0.64824121,\n",
       "             0.65326633, 0.65829146, 0.66331658, 0.66834171, 0.67336683,\n",
       "             0.67839196, 0.68341709, 0.68844221, 0.69346734, 0.69849246,\n",
       "             0.70351759, 0.70854271, 0.71356784, 0.71859296, 0.72361809,\n",
       "             0.72864322, 0.73366834, 0.73869347, 0.74371859, 0.74874372,\n",
       "             0.75376884, 0.75879397, 0.7638191 , 0.76884422, 0.77386935,\n",
       "             0.77889447, 0.7839196 , 0.78894472, 0.79396985, 0.79899497,\n",
       "             0.8040201 , 0.80904523, 0.81407035, 0.81909548, 0.8241206 ,\n",
       "             0.82914573, 0.83417085, 0.83919598, 0.84422111, 0.84924623,\n",
       "             0.85427136, 0.85929648, 0.86432161, 0.86934673, 0.87437186,\n",
       "             0.87939698, 0.88442211, 0.88944724, 0.89447236, 0.89949749,\n",
       "             0.90452261, 0.90954774, 0.91457286, 0.91959799, 0.92462312,\n",
       "             0.92964824, 0.93467337, 0.93969849, 0.94472362, 0.94974874,\n",
       "             0.95477387, 0.95979899, 0.96482412, 0.96984925, 0.97487437,\n",
       "             0.9798995 , 0.98492462, 0.98994975, 0.99497487, 1.        ])],\n",
       "      domain_range=array([[0., 1.]]),\n",
       "      dataset_label=None,\n",
       "      axes_labels=None,\n",
       "      extrapolation=None,\n",
       "      interpolator=SplineInterpolator(interpolation_order=3, smoothness_parameter=0.0, monotone=True),\n",
       "      keepdims=False), FDataGrid(\n",
       "      array([[[0.        ],\n",
       "              [0.00502513],\n",
       "              [0.01005025],\n",
       "              ...,\n",
       "              [0.98994975],\n",
       "              [0.99497487],\n",
       "              [1.        ]],\n",
       "      \n",
       "             [[0.        ],\n",
       "              [0.00430725],\n",
       "              [0.0086145 ],\n",
       "              ...,\n",
       "              [0.98994975],\n",
       "              [0.99497487],\n",
       "              [1.        ]],\n",
       "      \n",
       "             [[0.        ],\n",
       "              [0.00502513],\n",
       "              [0.01005025],\n",
       "              ...,\n",
       "              [0.98994975],\n",
       "              [0.99497487],\n",
       "              [1.        ]],\n",
       "      \n",
       "             ...,\n",
       "      \n",
       "             [[0.        ],\n",
       "              [0.00502513],\n",
       "              [0.01005025],\n",
       "              ...,\n",
       "              [0.98994975],\n",
       "              [0.99497487],\n",
       "              [1.        ]],\n",
       "      \n",
       "             [[0.        ],\n",
       "              [0.00502513],\n",
       "              [0.01005025],\n",
       "              ...,\n",
       "              [0.98994975],\n",
       "              [0.99497487],\n",
       "              [1.        ]],\n",
       "      \n",
       "             [[0.        ],\n",
       "              [0.00502513],\n",
       "              [0.01005025],\n",
       "              ...,\n",
       "              [0.98994975],\n",
       "              [0.99497487],\n",
       "              [1.        ]]]),\n",
       "      sample_points=[array([0.        , 0.00502513, 0.01005025, 0.01507538, 0.0201005 ,\n",
       "             0.02512563, 0.03015075, 0.03517588, 0.04020101, 0.04522613,\n",
       "             0.05025126, 0.05527638, 0.06030151, 0.06532663, 0.07035176,\n",
       "             0.07537688, 0.08040201, 0.08542714, 0.09045226, 0.09547739,\n",
       "             0.10050251, 0.10552764, 0.11055276, 0.11557789, 0.12060302,\n",
       "             0.12562814, 0.13065327, 0.13567839, 0.14070352, 0.14572864,\n",
       "             0.15075377, 0.15577889, 0.16080402, 0.16582915, 0.17085427,\n",
       "             0.1758794 , 0.18090452, 0.18592965, 0.19095477, 0.1959799 ,\n",
       "             0.20100503, 0.20603015, 0.21105528, 0.2160804 , 0.22110553,\n",
       "             0.22613065, 0.23115578, 0.2361809 , 0.24120603, 0.24623116,\n",
       "             0.25125628, 0.25628141, 0.26130653, 0.26633166, 0.27135678,\n",
       "             0.27638191, 0.28140704, 0.28643216, 0.29145729, 0.29648241,\n",
       "             0.30150754, 0.30653266, 0.31155779, 0.31658291, 0.32160804,\n",
       "             0.32663317, 0.33165829, 0.33668342, 0.34170854, 0.34673367,\n",
       "             0.35175879, 0.35678392, 0.36180905, 0.36683417, 0.3718593 ,\n",
       "             0.37688442, 0.38190955, 0.38693467, 0.3919598 , 0.39698492,\n",
       "             0.40201005, 0.40703518, 0.4120603 , 0.41708543, 0.42211055,\n",
       "             0.42713568, 0.4321608 , 0.43718593, 0.44221106, 0.44723618,\n",
       "             0.45226131, 0.45728643, 0.46231156, 0.46733668, 0.47236181,\n",
       "             0.47738693, 0.48241206, 0.48743719, 0.49246231, 0.49748744,\n",
       "             0.50251256, 0.50753769, 0.51256281, 0.51758794, 0.52261307,\n",
       "             0.52763819, 0.53266332, 0.53768844, 0.54271357, 0.54773869,\n",
       "             0.55276382, 0.55778894, 0.56281407, 0.5678392 , 0.57286432,\n",
       "             0.57788945, 0.58291457, 0.5879397 , 0.59296482, 0.59798995,\n",
       "             0.60301508, 0.6080402 , 0.61306533, 0.61809045, 0.62311558,\n",
       "             0.6281407 , 0.63316583, 0.63819095, 0.64321608, 0.64824121,\n",
       "             0.65326633, 0.65829146, 0.66331658, 0.66834171, 0.67336683,\n",
       "             0.67839196, 0.68341709, 0.68844221, 0.69346734, 0.69849246,\n",
       "             0.70351759, 0.70854271, 0.71356784, 0.71859296, 0.72361809,\n",
       "             0.72864322, 0.73366834, 0.73869347, 0.74371859, 0.74874372,\n",
       "             0.75376884, 0.75879397, 0.7638191 , 0.76884422, 0.77386935,\n",
       "             0.77889447, 0.7839196 , 0.78894472, 0.79396985, 0.79899497,\n",
       "             0.8040201 , 0.80904523, 0.81407035, 0.81909548, 0.8241206 ,\n",
       "             0.82914573, 0.83417085, 0.83919598, 0.84422111, 0.84924623,\n",
       "             0.85427136, 0.85929648, 0.86432161, 0.86934673, 0.87437186,\n",
       "             0.87939698, 0.88442211, 0.88944724, 0.89447236, 0.89949749,\n",
       "             0.90452261, 0.90954774, 0.91457286, 0.91959799, 0.92462312,\n",
       "             0.92964824, 0.93467337, 0.93969849, 0.94472362, 0.94974874,\n",
       "             0.95477387, 0.95979899, 0.96482412, 0.96984925, 0.97487437,\n",
       "             0.9798995 , 0.98492462, 0.98994975, 0.99497487, 1.        ])],\n",
       "      domain_range=array([[0., 1.]]),\n",
       "      dataset_label=None,\n",
       "      axes_labels=None,\n",
       "      extrapolation=None,\n",
       "      interpolator=SplineInterpolator(interpolation_order=3, smoothness_parameter=0.0, monotone=True),\n",
       "      keepdims=False), FDataGrid(\n",
       "      array([[[0.        ],\n",
       "              [0.00586265],\n",
       "              [0.01172529],\n",
       "              ...,\n",
       "              [0.9913855 ],\n",
       "              [0.99569275],\n",
       "              [1.        ]],\n",
       "      \n",
       "             [[0.        ],\n",
       "              [0.00502513],\n",
       "              [0.01005025],\n",
       "              ...,\n",
       "              [0.98994975],\n",
       "              [0.99497487],\n",
       "              [1.        ]],\n",
       "      \n",
       "             [[0.        ],\n",
       "              [0.00502513],\n",
       "              [0.01005025],\n",
       "              ...,\n",
       "              [0.98994975],\n",
       "              [0.99497487],\n",
       "              [1.        ]],\n",
       "      \n",
       "             ...,\n",
       "      \n",
       "             [[0.        ],\n",
       "              [0.00502513],\n",
       "              [0.01005025],\n",
       "              ...,\n",
       "              [0.98994975],\n",
       "              [0.99497487],\n",
       "              [1.        ]],\n",
       "      \n",
       "             [[0.        ],\n",
       "              [0.00502513],\n",
       "              [0.01005025],\n",
       "              ...,\n",
       "              [0.98994975],\n",
       "              [0.99497487],\n",
       "              [1.        ]],\n",
       "      \n",
       "             [[0.        ],\n",
       "              [0.00502513],\n",
       "              [0.01005025],\n",
       "              ...,\n",
       "              [0.98994975],\n",
       "              [0.99497487],\n",
       "              [1.        ]]]),\n",
       "      sample_points=[array([0.        , 0.00502513, 0.01005025, 0.01507538, 0.0201005 ,\n",
       "             0.02512563, 0.03015075, 0.03517588, 0.04020101, 0.04522613,\n",
       "             0.05025126, 0.05527638, 0.06030151, 0.06532663, 0.07035176,\n",
       "             0.07537688, 0.08040201, 0.08542714, 0.09045226, 0.09547739,\n",
       "             0.10050251, 0.10552764, 0.11055276, 0.11557789, 0.12060302,\n",
       "             0.12562814, 0.13065327, 0.13567839, 0.14070352, 0.14572864,\n",
       "             0.15075377, 0.15577889, 0.16080402, 0.16582915, 0.17085427,\n",
       "             0.1758794 , 0.18090452, 0.18592965, 0.19095477, 0.1959799 ,\n",
       "             0.20100503, 0.20603015, 0.21105528, 0.2160804 , 0.22110553,\n",
       "             0.22613065, 0.23115578, 0.2361809 , 0.24120603, 0.24623116,\n",
       "             0.25125628, 0.25628141, 0.26130653, 0.26633166, 0.27135678,\n",
       "             0.27638191, 0.28140704, 0.28643216, 0.29145729, 0.29648241,\n",
       "             0.30150754, 0.30653266, 0.31155779, 0.31658291, 0.32160804,\n",
       "             0.32663317, 0.33165829, 0.33668342, 0.34170854, 0.34673367,\n",
       "             0.35175879, 0.35678392, 0.36180905, 0.36683417, 0.3718593 ,\n",
       "             0.37688442, 0.38190955, 0.38693467, 0.3919598 , 0.39698492,\n",
       "             0.40201005, 0.40703518, 0.4120603 , 0.41708543, 0.42211055,\n",
       "             0.42713568, 0.4321608 , 0.43718593, 0.44221106, 0.44723618,\n",
       "             0.45226131, 0.45728643, 0.46231156, 0.46733668, 0.47236181,\n",
       "             0.47738693, 0.48241206, 0.48743719, 0.49246231, 0.49748744,\n",
       "             0.50251256, 0.50753769, 0.51256281, 0.51758794, 0.52261307,\n",
       "             0.52763819, 0.53266332, 0.53768844, 0.54271357, 0.54773869,\n",
       "             0.55276382, 0.55778894, 0.56281407, 0.5678392 , 0.57286432,\n",
       "             0.57788945, 0.58291457, 0.5879397 , 0.59296482, 0.59798995,\n",
       "             0.60301508, 0.6080402 , 0.61306533, 0.61809045, 0.62311558,\n",
       "             0.6281407 , 0.63316583, 0.63819095, 0.64321608, 0.64824121,\n",
       "             0.65326633, 0.65829146, 0.66331658, 0.66834171, 0.67336683,\n",
       "             0.67839196, 0.68341709, 0.68844221, 0.69346734, 0.69849246,\n",
       "             0.70351759, 0.70854271, 0.71356784, 0.71859296, 0.72361809,\n",
       "             0.72864322, 0.73366834, 0.73869347, 0.74371859, 0.74874372,\n",
       "             0.75376884, 0.75879397, 0.7638191 , 0.76884422, 0.77386935,\n",
       "             0.77889447, 0.7839196 , 0.78894472, 0.79396985, 0.79899497,\n",
       "             0.8040201 , 0.80904523, 0.81407035, 0.81909548, 0.8241206 ,\n",
       "             0.82914573, 0.83417085, 0.83919598, 0.84422111, 0.84924623,\n",
       "             0.85427136, 0.85929648, 0.86432161, 0.86934673, 0.87437186,\n",
       "             0.87939698, 0.88442211, 0.88944724, 0.89447236, 0.89949749,\n",
       "             0.90452261, 0.90954774, 0.91457286, 0.91959799, 0.92462312,\n",
       "             0.92964824, 0.93467337, 0.93969849, 0.94472362, 0.94974874,\n",
       "             0.95477387, 0.95979899, 0.96482412, 0.96984925, 0.97487437,\n",
       "             0.9798995 , 0.98492462, 0.98994975, 0.99497487, 1.        ])],\n",
       "      domain_range=array([[0., 1.]]),\n",
       "      dataset_label=None,\n",
       "      axes_labels=None,\n",
       "      extrapolation=None,\n",
       "      interpolator=SplineInterpolator(interpolation_order=3, smoothness_parameter=0.0, monotone=True),\n",
       "      keepdims=False)]]"
      ]
     },
     "execution_count": 543,
     "metadata": {},
     "output_type": "execute_result"
    }
   ],
   "source": [
    "warps"
   ]
  },
  {
   "cell_type": "code",
   "execution_count": 52,
   "metadata": {},
   "outputs": [],
   "source": [
    "from sklearn.metrics import mean_squared_error as mse\n",
    "mses = []\n",
    "for exp_warp in warps:\n",
    "    for warp in exp_warp:\n",
    "        mses.append(mse(identity, np.squeeze(warp.data_matrix)))\n",
    "mses = np.array(mses)"
   ]
  },
  {
   "cell_type": "code",
   "execution_count": 108,
   "metadata": {},
   "outputs": [
    {
     "data": {
      "text/plain": [
       "(1, 200, 1)"
      ]
     },
     "execution_count": 108,
     "metadata": {},
     "output_type": "execute_result"
    }
   ],
   "source": [
    "warps[0][0].data_matrix.shape"
   ]
  },
  {
   "cell_type": "code",
   "execution_count": 111,
   "metadata": {},
   "outputs": [],
   "source": [
    "didents = []\n",
    "for exp_warp in warps:\n",
    "    for warp in exp_warp:\n",
    "        didents.append(np.abs((np.linspace(0,1,warp.data_matrix.shape[1]) - np.squeeze(warp.to_grid().data_matrix))))\n",
    "\n",
    "didents = np.array(didents)"
   ]
  },
  {
   "cell_type": "code",
   "execution_count": 53,
   "metadata": {},
   "outputs": [],
   "source": [
    "rmses = np.hstack(rmses)"
   ]
  },
  {
   "cell_type": "code",
   "execution_count": 101,
   "metadata": {},
   "outputs": [
    {
     "ename": "NameError",
     "evalue": "name 'rmses' is not defined",
     "output_type": "error",
     "traceback": [
      "\u001b[0;31m---------------------------------------------------------------------------\u001b[0m",
      "\u001b[0;31mNameError\u001b[0m                                 Traceback (most recent call last)",
      "\u001b[0;32m<ipython-input-101-1f5f216e7ce9>\u001b[0m in \u001b[0;36m<module>\u001b[0;34m\u001b[0m\n\u001b[0;32m----> 1\u001b[0;31m \u001b[0mrmses\u001b[0m\u001b[0;34m\u001b[0m\u001b[0;34m\u001b[0m\u001b[0m\n\u001b[0m",
      "\u001b[0;31mNameError\u001b[0m: name 'rmses' is not defined"
     ]
    }
   ],
   "source": [
    "rmses"
   ]
  },
  {
   "cell_type": "code",
   "execution_count": 55,
   "metadata": {},
   "outputs": [
    {
     "data": {
      "text/plain": [
       "<matplotlib.collections.PathCollection at 0x13d47b9e8>"
      ]
     },
     "execution_count": 55,
     "metadata": {},
     "output_type": "execute_result"
    },
    {
     "data": {
      "image/png": "[encoded data removed]",
      "text/plain": [
       "<Figure size 432x288 with 1 Axes>"
      ]
     },
     "metadata": {
      "needs_background": "light"
     },
     "output_type": "display_data"
    }
   ],
   "source": [
    "plt.scatter(df.posterior.values, np.sqrt(mses), alpha=0.5)"
   ]
  },
  {
   "cell_type": "code",
   "execution_count": 56,
   "metadata": {},
   "outputs": [],
   "source": [
    "all_df = pd.DataFrame()\n",
    "all_df['anterior'] = df.anterior\n",
    "all_df['posterior'] = df.posterior\n",
    "all_df['rmse'] = np.sqrt(mses)"
   ]
  },
  {
   "cell_type": "code",
   "execution_count": 57,
   "metadata": {},
   "outputs": [],
   "source": [
    "all_df.to_csv('/Users/sean/Desktop/all_df.csv')"
   ]
  },
  {
   "cell_type": "code",
   "execution_count": 58,
   "metadata": {
    "scrolled": true
   },
   "outputs": [
    {
     "data": {
      "text/plain": [
       "<matplotlib.axes._subplots.AxesSubplot at 0x13d46a080>"
      ]
     },
     "execution_count": 58,
     "metadata": {},
     "output_type": "execute_result"
    },
    {
     "data": {
      "image/png": "[encoded data removed]",
      "text/plain": [
       "<Figure size 432x288 with 1 Axes>"
      ]
     },
     "metadata": {
      "needs_background": "light"
     },
     "output_type": "display_data"
    }
   ],
   "source": [
    "sns.violinplot(x='posterior', y='rmse', data=all_df)"
   ]
  },
  {
   "cell_type": "code",
   "execution_count": 59,
   "metadata": {
    "scrolled": true
   },
   "outputs": [
    {
     "data": {
      "text/plain": [
       "<matplotlib.collections.PathCollection at 0x13d4b0e80>"
      ]
     },
     "execution_count": 59,
     "metadata": {},
     "output_type": "execute_result"
    },
    {
     "data": {
      "image/png": "[encoded data removed]",
      "text/plain": [
       "<Figure size 432x288 with 1 Axes>"
      ]
     },
     "metadata": {
      "needs_background": "light"
     },
     "output_type": "display_data"
    }
   ],
   "source": [
    "plt.scatter(df.anterior.values, np.sqrt(mses), alpha=0.4)"
   ]
  },
  {
   "cell_type": "code",
   "execution_count": 62,
   "metadata": {
    "scrolled": false
   },
   "outputs": [
    {
     "data": {
      "text/plain": [
       "<matplotlib.collections.PathCollection at 0x134838f98>"
      ]
     },
     "execution_count": 62,
     "metadata": {},
     "output_type": "execute_result"
    },
    {
     "data": {
      "image/png": "[encoded data removed]",
      "text/plain": [
       "<Figure size 432x288 with 1 Axes>"
      ]
     },
     "metadata": {
      "needs_background": "light"
     },
     "output_type": "display_data"
    }
   ],
   "source": [
    "plt.scatter(all_df.posterior.values, all_df.rmse, alpha=0.5)"
   ]
  },
  {
   "cell_type": "code",
   "execution_count": 68,
   "metadata": {},
   "outputs": [],
   "source": [
    "from sklearn.model_selection import train_test_split\n",
    "from sklearn.metrics import confusion_matrix\n",
    "from sklearn.utils.multiclass import unique_labels\n",
    "\n",
    "def plot_confusion_matrix(y_true, y_pred, classes,\n",
    "                          normalize=False,\n",
    "                          title=None,\n",
    "                          cmap=plt.cm.Blues):\n",
    "    \"\"\"\n",
    "    This function prints and plots the confusion matrix.\n",
    "    Normalization can be applied by setting `normalize=True`.\n",
    "    \"\"\"\n",
    "    if not title:\n",
    "        if normalize:\n",
    "            title = 'Normalized confusion matrix'\n",
    "        else:\n",
    "            title = 'Confusion matrix, without normalization'\n",
    "\n",
    "    # Compute confusion matrix\n",
    "    cm = confusion_matrix(y_true, y_pred)\n",
    "    # Only use the labels that appear in the data\n",
    "    classes = classes[unique_labels(y_true, y_pred)]\n",
    "    if normalize:\n",
    "        cm = cm.astype('float') / cm.sum(axis=1)[:, np.newaxis]\n",
    "        print(\"Normalized confusion matrix\")\n",
    "    else:\n",
    "        print('Confusion matrix, without normalization')\n",
    "\n",
    "    print(cm)\n",
    "\n",
    "    fig, ax = plt.subplots()\n",
    "    im = ax.imshow(cm, interpolation='nearest', cmap=cmap)\n",
    "    ax.figure.colorbar(im, ax=ax)\n",
    "    # We want to show all ticks...\n",
    "    ax.set(xticks=np.arange(cm.shape[1]),\n",
    "           yticks=np.arange(cm.shape[0]),\n",
    "           # ... and label them with the respective list entries\n",
    "           xticklabels=classes, yticklabels=classes,\n",
    "           title=title,\n",
    "           ylabel='True label',\n",
    "           xlabel='Predicted label')\n",
    "\n",
    "    # Rotate the tick labels and set their alignment.\n",
    "    plt.setp(ax.get_xticklabels(), rotation=45, ha=\"right\",\n",
    "             rotation_mode=\"anchor\")\n",
    "\n",
    "    # Loop over data dimensions and create text annotations.\n",
    "    fmt = '.2f' if normalize else 'd'\n",
    "    thresh = cm.max() / 2.\n",
    "    for i in range(cm.shape[0]):\n",
    "        for j in range(cm.shape[1]):\n",
    "            ax.text(j, i, format(cm[i, j], fmt),\n",
    "                    ha=\"center\", va=\"center\",\n",
    "                    color=\"white\" if cm[i, j] > thresh else \"black\")\n",
    "    fig.tight_layout()\n",
    "    return ax"
   ]
  },
  {
   "cell_type": "code",
   "execution_count": 69,
   "metadata": {},
   "outputs": [],
   "source": [
    "from sklearn.linear_model import LogisticRegression"
   ]
  },
  {
   "cell_type": "code",
   "execution_count": 188,
   "metadata": {},
   "outputs": [],
   "source": [
    "X = all_df.rmse.values.reshape(-1,1)\n",
    "y_true = all_df.posterior > 1\n",
    "\n",
    "extreme_idx = df[(df.posterior == 0) | (df.posterior == 3)].index\n",
    "X_extreme = X[extreme_idx]\n",
    "y_true_extreme = y_true.values[extreme_idx]"
   ]
  },
  {
   "cell_type": "code",
   "execution_count": 200,
   "metadata": {
    "scrolled": false
   },
   "outputs": [
    {
     "data": {
      "text/plain": [
       "array([[97.36279401,  2.63720599],\n",
       "       [14.52991453, 85.47008547]])"
      ]
     },
     "execution_count": 200,
     "metadata": {},
     "output_type": "execute_result"
    },
    {
     "data": {
      "image/png": "[encoded data removed]",
      "text/plain": [
       "<Figure size 432x288 with 1 Axes>"
      ]
     },
     "metadata": {
      "needs_background": "light"
     },
     "output_type": "display_data"
    }
   ],
   "source": [
    "clf = LogisticRegression(\n",
    "    class_weight='balanced',\n",
    "    solver='liblinear',\n",
    "    C=1e5\n",
    ")\n",
    "clf.fit(X_extreme, y_true_extreme)\n",
    "\n",
    "y_pred_extreme = clf.predict(X_extreme)\n",
    "\n",
    "from scipy.special import expit\n",
    "\n",
    "plt.scatter(X_extreme, y_true_extreme, alpha=0.1)\n",
    "X_test = np.linspace(-.005,.015, 100)\n",
    "loss = expit(X_test * clf.coef_ + clf.intercept_).ravel()\n",
    "plt.plot(X_test, loss, color='red', linewidth=3)\n",
    "plt.axhline(.5, color='.5')\n",
    "\n",
    "cm = confusion_matrix(y_true_extreme, y_pred_extreme)\n",
    "100 * cm.astype('float') / cm.sum(axis=1)[:, np.newaxis]"
   ]
  },
  {
   "cell_type": "code",
   "execution_count": null,
   "metadata": {},
   "outputs": [],
   "source": []
  }
 ],
 "metadata": {
  "kernelspec": {
   "display_name": "Python 3",
   "language": "python",
   "name": "python3"
  },
  "language_info": {
   "codemirror_mode": {
    "name": "ipython",
    "version": 3
   },
   "file_extension": ".py",
   "mimetype": "text/x-python",
   "name": "python",
   "nbconvert_exporter": "python",
   "pygments_lexer": "ipython3",
   "version": "3.7.3"
  }
 },
 "nbformat": 4,
 "nbformat_minor": 2
}
