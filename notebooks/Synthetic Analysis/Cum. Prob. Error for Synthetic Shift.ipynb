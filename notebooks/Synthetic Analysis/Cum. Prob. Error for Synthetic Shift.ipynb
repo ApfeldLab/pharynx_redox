{
 "cells": [
  {
   "cell_type": "code",
   "execution_count": 60,
   "metadata": {},
   "outputs": [],
   "source": [
    "from pharynx_redox import (\n",
    "    pharynx_io as pio, \n",
    "    image_processing as ip, \n",
    "    experiment, \n",
    "    plots, \n",
    "    profile_processing,\n",
    "    data_analysis as da,\n",
    "    utils\n",
    ")\n",
    "\n",
    "import xarray as xr\n",
    "from pathlib import Path\n",
    "from tqdm import tqdm_notebook\n",
    "import seaborn as sns\n",
    "from importlib import reload\n",
    "import numpy as np\n",
    "import logging\n",
    "import pandas as pd\n",
    "import matplotlib.pyplot as plt\n",
    "import scipy\n",
    "import skfda\n",
    "from scipy import ndimage as ndi\n",
    "import matplotlib as mpl\n",
    "from matplotlib import cm\n",
    "from matplotlib.colors import ListedColormap\n",
    "\n",
    "reload(logging)\n",
    "reload(experiment)\n",
    "reload(pio)\n",
    "reload(ip)\n",
    "reload(plots)\n",
    "reload(profile_processing)\n",
    "reload(da)\n",
    "reload(utils)\n",
    "\n",
    "pd.set_option('display.max_rows', 100)\n",
    "\n",
    "logging.basicConfig(format='%(asctime)s %(levelname)s:%(message)s', level=logging.DEBUG, datefmt='%I:%M:%S')"
   ]
  },
  {
   "cell_type": "code",
   "execution_count": 31,
   "metadata": {},
   "outputs": [
    {
     "name": "stderr",
     "output_type": "stream",
     "text": [
      "09:30:04 INFO:Starting full pipeline run for /Users/sean/code/pharynx_redox/data/paired_ratio/2017_02_22-HD233_SAY47\n",
      "09:30:04 INFO:Segmenting pharynxes\n",
      "09:30:06 INFO:Centering and rotating pharynxes\n"
     ]
    },
    {
     "data": {
      "application/vnd.jupyter.widget-view+json": {
       "model_id": "",
       "version_major": 2,
       "version_minor": 0
      },
      "text/plain": [
       "HBox(children=(IntProgress(value=0, description='aliging pharynxes', max=123, style=ProgressStyle(description_…"
      ]
     },
     "metadata": {},
     "output_type": "display_data"
    },
    {
     "name": "stderr",
     "output_type": "stream",
     "text": [
      "09:30:15 INFO:Calculating midlines\n"
     ]
    },
    {
     "name": "stdout",
     "output_type": "stream",
     "text": [
      "\r"
     ]
    },
    {
     "data": {
      "application/vnd.jupyter.widget-view+json": {
       "model_id": "",
       "version_major": 2,
       "version_minor": 0
      },
      "text/plain": [
       "HBox(children=(IntProgress(value=0, description='calculating midlines', max=123, style=ProgressStyle(descripti…"
      ]
     },
     "metadata": {},
     "output_type": "display_data"
    },
    {
     "name": "stderr",
     "output_type": "stream",
     "text": [
      "09:30:16 INFO:Measuring under midlines\n"
     ]
    },
    {
     "name": "stdout",
     "output_type": "stream",
     "text": [
      "\r"
     ]
    },
    {
     "data": {
      "application/vnd.jupyter.widget-view+json": {
       "model_id": "",
       "version_major": 2,
       "version_minor": 0
      },
      "text/plain": [
       "HBox(children=(IntProgress(value=0, description='measuring under midlines', max=123, style=ProgressStyle(descr…"
      ]
     },
     "metadata": {},
     "output_type": "display_data"
    },
    {
     "name": "stderr",
     "output_type": "stream",
     "text": [
      "09:30:18 INFO:Trimming intensity data\n"
     ]
    },
    {
     "name": "stdout",
     "output_type": "stream",
     "text": [
      "\r"
     ]
    },
    {
     "name": "stderr",
     "output_type": "stream",
     "text": [
      "09:30:18 INFO:Calculating redox measurements\n",
      "09:30:18 INFO:Saving 2017_02_22-HD233_SAY47 inside /Users/sean/code/pharynx_redox/data/paired_ratio/2017_02_22-HD233_SAY47\n",
      "09:30:18 INFO:Saving region means to /Users/sean/code/pharynx_redox/data/paired_ratio/2017_02_22-HD233_SAY47/analyses/2019-09-16_frame_specific_midlines_with_registration/2017_02_22-HD233_SAY47-summary_table.csv\n",
      "09:30:19 INFO:Saving profile data to /Users/sean/code/pharynx_redox/data/paired_ratio/2017_02_22-HD233_SAY47/analyses/2019-09-16_frame_specific_midlines_with_registration/2017_02_22-HD233_SAY47-profile_data.nc\n",
      "09:30:19 INFO:Finished full pipeline run for /Users/sean/code/pharynx_redox/data/paired_ratio/2017_02_22-HD233_SAY47\n"
     ]
    }
   ],
   "source": [
    "ex = experiment.PairExperiment(\n",
    "    Path('/Users/sean/code/pharynx_redox/data/paired_ratio/2017_02_22-HD233_SAY47'),\n",
    "    'TL/470/410/470/410',\n",
    "    register=False\n",
    ").full_pipeline()"
   ]
  },
  {
   "cell_type": "code",
   "execution_count": 64,
   "metadata": {
    "collapsed": true
   },
   "outputs": [
    {
     "data": {
      "text/plain": [
       "array([  0,   1,   2,   3,   4,   7,   8,   9,  11,  12,  13,  14,  15,\n",
       "        16,  19,  20,  21,  22,  24,  25,  26,  27,  28,  30,  33,  34,\n",
       "        36,  37,  38,  39,  40,  41,  42,  43,  44,  45,  46,  47,  48,\n",
       "        49,  51,  53,  54,  55,  56,  57,  58,  59,  60,  61,  63,  64,\n",
       "        65,  66,  67,  68,  69,  70,  71,  72,  73,  74,  75,  76,  77,\n",
       "        78,  79,  80,  81,  82,  83,  84,  85,  86,  87,  89,  91,  92,\n",
       "        93,  94,  95,  98,  99, 100, 101, 104, 105, 106, 107, 108, 109,\n",
       "       110, 111, 113, 114, 116, 117, 118, 120, 121, 122,   0,   2,   3,\n",
       "         4,   5,   6,   7,   8,   9,  13,  14,  15,  16,  17,  19,  20,\n",
       "        21,  22,  23,  24,  25,  26,  27,  28,  29,  30,  31,  32,  33,\n",
       "        34,  37,  38,  39,  40,  41,  43,  44,  45,  46,  47,  48,  49,\n",
       "        50,  51,  52,  53,  54,  55,  56,  57,  58,  59,  60,  61,  62,\n",
       "        63,  64,  65,  66,  67,  68,  70,  71,  73,  74,  75,  76,  77,\n",
       "        78,  79,  80,  81,  82,  83,  84,  86,  87,  89,  90,  91,  92,\n",
       "        94,  95,  96,  99, 100, 102, 103, 106, 107, 108, 109, 110, 111,\n",
       "       113, 114, 115, 116, 117, 118, 119, 120, 121, 122])"
      ]
     },
     "execution_count": 64,
     "metadata": {},
     "output_type": "execute_result"
    }
   ],
   "source": [
    "df = ex.movement\n",
    "df = pd.DataFrame(df.to_records())\n",
    "df\n",
    "np.concatenate(np.array(\n",
    "    [\n",
    "        df[(df.pair == 0) & (df.anterior == 0) & (df.posterior == 0)].animal.values,\n",
    "        df[(df.pair == 1) & (df.anterior == 0) & (df.posterior == 0)].animal.values,\n",
    "    ]\n",
    "))"
   ]
  },
  {
   "cell_type": "code",
   "execution_count": 148,
   "metadata": {},
   "outputs": [
    {
     "data": {
      "text/plain": [
       "array([0, 1])"
      ]
     },
     "execution_count": 148,
     "metadata": {},
     "output_type": "execute_result"
    }
   ],
   "source": [
    "df.pair.unique()"
   ]
  },
  {
   "cell_type": "code",
   "execution_count": 260,
   "metadata": {
    "scrolled": true
   },
   "outputs": [],
   "source": [
    "reload(utils);\n",
    "shifted_meas, shifts = utils.measure_shifted_midlines(ex, (-1, 1), 3)"
   ]
  },
  {
   "cell_type": "code",
   "execution_count": 265,
   "metadata": {},
   "outputs": [
    {
     "data": {
      "text/plain": [
       "(615, 5, 2, 200)"
      ]
     },
     "execution_count": 265,
     "metadata": {},
     "output_type": "execute_result"
    }
   ],
   "source": []
  },
  {
   "cell_type": "code",
   "execution_count": 259,
   "metadata": {
    "scrolled": true
   },
   "outputs": [
    {
     "data": {
      "image/png": "[encoded data removed]",
      "text/plain": [
       "<Figure size 432x288 with 1 Axes>"
      ]
     },
     "metadata": {
      "needs_background": "light"
     },
     "output_type": "display_data"
    }
   ],
   "source": [
    "i += 50\n",
    "# i = 0\n",
    "plt.plot(shifted_meas.sel(wavelength='410', pair=1)[i]);\n",
    "plt.plot(shifted_meas.sel(wavelength='470', pair=1)[i]);"
   ]
  },
  {
   "cell_type": "code",
   "execution_count": 25,
   "metadata": {
    "scrolled": false
   },
   "outputs": [
    {
     "data": {
      "text/html": [
       "<div>\n",
       "<style scoped>\n",
       "    .dataframe tbody tr th:only-of-type {\n",
       "        vertical-align: middle;\n",
       "    }\n",
       "\n",
       "    .dataframe tbody tr th {\n",
       "        vertical-align: top;\n",
       "    }\n",
       "\n",
       "    .dataframe thead tr th {\n",
       "        text-align: left;\n",
       "    }\n",
       "\n",
       "    .dataframe thead tr:last-of-type th {\n",
       "        text-align: right;\n",
       "    }\n",
       "</style>\n",
       "<table border=\"1\" class=\"dataframe\">\n",
       "  <thead>\n",
       "    <tr>\n",
       "      <th></th>\n",
       "      <th>animal</th>\n",
       "      <th>experiment</th>\n",
       "      <th>strategy</th>\n",
       "      <th colspan=\"2\" halign=\"left\">410</th>\n",
       "      <th colspan=\"2\" halign=\"left\">470</th>\n",
       "      <th colspan=\"2\" halign=\"left\">anterior</th>\n",
       "      <th>e</th>\n",
       "      <th>...</th>\n",
       "      <th colspan=\"2\" halign=\"left\">posterior</th>\n",
       "      <th colspan=\"2\" halign=\"left\">r</th>\n",
       "      <th colspan=\"2\" halign=\"left\">sides_of_tip</th>\n",
       "      <th colspan=\"2\" halign=\"left\">tip</th>\n",
       "      <th colspan=\"2\" halign=\"left\">total</th>\n",
       "    </tr>\n",
       "    <tr>\n",
       "      <th>pair</th>\n",
       "      <th></th>\n",
       "      <th></th>\n",
       "      <th></th>\n",
       "      <th>0</th>\n",
       "      <th>1</th>\n",
       "      <th>0</th>\n",
       "      <th>1</th>\n",
       "      <th>0</th>\n",
       "      <th>1</th>\n",
       "      <th>0</th>\n",
       "      <th>...</th>\n",
       "      <th>0</th>\n",
       "      <th>1</th>\n",
       "      <th>0</th>\n",
       "      <th>1</th>\n",
       "      <th>0</th>\n",
       "      <th>1</th>\n",
       "      <th>0</th>\n",
       "      <th>1</th>\n",
       "      <th>0</th>\n",
       "      <th>1</th>\n",
       "    </tr>\n",
       "    <tr>\n",
       "      <th>index</th>\n",
       "      <th></th>\n",
       "      <th></th>\n",
       "      <th></th>\n",
       "      <th></th>\n",
       "      <th></th>\n",
       "      <th></th>\n",
       "      <th></th>\n",
       "      <th></th>\n",
       "      <th></th>\n",
       "      <th></th>\n",
       "      <th></th>\n",
       "      <th></th>\n",
       "      <th></th>\n",
       "      <th></th>\n",
       "      <th></th>\n",
       "      <th></th>\n",
       "      <th></th>\n",
       "      <th></th>\n",
       "      <th></th>\n",
       "      <th></th>\n",
       "      <th></th>\n",
       "    </tr>\n",
       "  </thead>\n",
       "  <tbody>\n",
       "    <tr>\n",
       "      <td>0</td>\n",
       "      <td>0</td>\n",
       "      <td>2017_02_22-HD233_SAY47</td>\n",
       "      <td>skfda_reg</td>\n",
       "      <td>7736.690185</td>\n",
       "      <td>7772.451718</td>\n",
       "      <td>5440.170585</td>\n",
       "      <td>5419.553695</td>\n",
       "      <td>0.0</td>\n",
       "      <td>0.0</td>\n",
       "      <td>-270.729351</td>\n",
       "      <td>...</td>\n",
       "      <td>0.0</td>\n",
       "      <td>0.0</td>\n",
       "      <td>1.423790</td>\n",
       "      <td>1.437423</td>\n",
       "      <td>0.0</td>\n",
       "      <td>0.0</td>\n",
       "      <td>1.0</td>\n",
       "      <td>0.0</td>\n",
       "      <td>1.0</td>\n",
       "      <td>0.0</td>\n",
       "    </tr>\n",
       "    <tr>\n",
       "      <td>1</td>\n",
       "      <td>1</td>\n",
       "      <td>2017_02_22-HD233_SAY47</td>\n",
       "      <td>skfda_reg</td>\n",
       "      <td>8121.264270</td>\n",
       "      <td>8538.297062</td>\n",
       "      <td>5597.391026</td>\n",
       "      <td>5902.850274</td>\n",
       "      <td>0.0</td>\n",
       "      <td>1.0</td>\n",
       "      <td>-269.968367</td>\n",
       "      <td>...</td>\n",
       "      <td>0.0</td>\n",
       "      <td>1.0</td>\n",
       "      <td>1.454323</td>\n",
       "      <td>1.451732</td>\n",
       "      <td>1.0</td>\n",
       "      <td>1.0</td>\n",
       "      <td>0.0</td>\n",
       "      <td>1.0</td>\n",
       "      <td>1.0</td>\n",
       "      <td>4.0</td>\n",
       "    </tr>\n",
       "    <tr>\n",
       "      <td>2</td>\n",
       "      <td>2</td>\n",
       "      <td>2017_02_22-HD233_SAY47</td>\n",
       "      <td>skfda_reg</td>\n",
       "      <td>9117.918145</td>\n",
       "      <td>9033.453766</td>\n",
       "      <td>6662.137073</td>\n",
       "      <td>6520.554476</td>\n",
       "      <td>0.0</td>\n",
       "      <td>0.0</td>\n",
       "      <td>-272.110342</td>\n",
       "      <td>...</td>\n",
       "      <td>0.0</td>\n",
       "      <td>0.0</td>\n",
       "      <td>1.368982</td>\n",
       "      <td>1.385356</td>\n",
       "      <td>0.0</td>\n",
       "      <td>0.0</td>\n",
       "      <td>0.0</td>\n",
       "      <td>0.0</td>\n",
       "      <td>0.0</td>\n",
       "      <td>0.0</td>\n",
       "    </tr>\n",
       "    <tr>\n",
       "      <td>3</td>\n",
       "      <td>3</td>\n",
       "      <td>2017_02_22-HD233_SAY47</td>\n",
       "      <td>skfda_reg</td>\n",
       "      <td>8295.076038</td>\n",
       "      <td>8315.887954</td>\n",
       "      <td>5579.429837</td>\n",
       "      <td>5550.171210</td>\n",
       "      <td>0.0</td>\n",
       "      <td>0.0</td>\n",
       "      <td>-269.168019</td>\n",
       "      <td>...</td>\n",
       "      <td>0.0</td>\n",
       "      <td>0.0</td>\n",
       "      <td>1.491342</td>\n",
       "      <td>1.502351</td>\n",
       "      <td>0.0</td>\n",
       "      <td>0.0</td>\n",
       "      <td>0.0</td>\n",
       "      <td>0.0</td>\n",
       "      <td>0.0</td>\n",
       "      <td>0.0</td>\n",
       "    </tr>\n",
       "    <tr>\n",
       "      <td>4</td>\n",
       "      <td>4</td>\n",
       "      <td>2017_02_22-HD233_SAY47</td>\n",
       "      <td>skfda_reg</td>\n",
       "      <td>8418.941541</td>\n",
       "      <td>8269.410921</td>\n",
       "      <td>5641.785626</td>\n",
       "      <td>5543.846463</td>\n",
       "      <td>0.0</td>\n",
       "      <td>0.0</td>\n",
       "      <td>-268.818006</td>\n",
       "      <td>...</td>\n",
       "      <td>0.0</td>\n",
       "      <td>0.0</td>\n",
       "      <td>1.508542</td>\n",
       "      <td>1.510266</td>\n",
       "      <td>0.0</td>\n",
       "      <td>0.0</td>\n",
       "      <td>0.0</td>\n",
       "      <td>0.0</td>\n",
       "      <td>0.0</td>\n",
       "      <td>0.0</td>\n",
       "    </tr>\n",
       "    <tr>\n",
       "      <td>...</td>\n",
       "      <td>...</td>\n",
       "      <td>...</td>\n",
       "      <td>...</td>\n",
       "      <td>...</td>\n",
       "      <td>...</td>\n",
       "      <td>...</td>\n",
       "      <td>...</td>\n",
       "      <td>...</td>\n",
       "      <td>...</td>\n",
       "      <td>...</td>\n",
       "      <td>...</td>\n",
       "      <td>...</td>\n",
       "      <td>...</td>\n",
       "      <td>...</td>\n",
       "      <td>...</td>\n",
       "      <td>...</td>\n",
       "      <td>...</td>\n",
       "      <td>...</td>\n",
       "      <td>...</td>\n",
       "      <td>...</td>\n",
       "      <td>...</td>\n",
       "    </tr>\n",
       "    <tr>\n",
       "      <td>858</td>\n",
       "      <td>118</td>\n",
       "      <td>2019_04_03-ASI_ablation</td>\n",
       "      <td>skfda_reg</td>\n",
       "      <td>7606.941331</td>\n",
       "      <td>7516.936125</td>\n",
       "      <td>6213.115739</td>\n",
       "      <td>6159.999758</td>\n",
       "      <td>NaN</td>\n",
       "      <td>NaN</td>\n",
       "      <td>-276.632668</td>\n",
       "      <td>...</td>\n",
       "      <td>NaN</td>\n",
       "      <td>NaN</td>\n",
       "      <td>1.224161</td>\n",
       "      <td>1.219197</td>\n",
       "      <td>NaN</td>\n",
       "      <td>NaN</td>\n",
       "      <td>NaN</td>\n",
       "      <td>NaN</td>\n",
       "      <td>NaN</td>\n",
       "      <td>NaN</td>\n",
       "    </tr>\n",
       "    <tr>\n",
       "      <td>859</td>\n",
       "      <td>119</td>\n",
       "      <td>2019_04_03-ASI_ablation</td>\n",
       "      <td>skfda_reg</td>\n",
       "      <td>6933.754302</td>\n",
       "      <td>6901.352778</td>\n",
       "      <td>5521.573304</td>\n",
       "      <td>5535.818231</td>\n",
       "      <td>NaN</td>\n",
       "      <td>NaN</td>\n",
       "      <td>-275.561351</td>\n",
       "      <td>...</td>\n",
       "      <td>NaN</td>\n",
       "      <td>NaN</td>\n",
       "      <td>1.254814</td>\n",
       "      <td>1.247838</td>\n",
       "      <td>NaN</td>\n",
       "      <td>NaN</td>\n",
       "      <td>NaN</td>\n",
       "      <td>NaN</td>\n",
       "      <td>NaN</td>\n",
       "      <td>NaN</td>\n",
       "    </tr>\n",
       "    <tr>\n",
       "      <td>860</td>\n",
       "      <td>120</td>\n",
       "      <td>2019_04_03-ASI_ablation</td>\n",
       "      <td>skfda_reg</td>\n",
       "      <td>7467.512869</td>\n",
       "      <td>7386.310088</td>\n",
       "      <td>6096.574540</td>\n",
       "      <td>6042.078491</td>\n",
       "      <td>NaN</td>\n",
       "      <td>NaN</td>\n",
       "      <td>-276.520132</td>\n",
       "      <td>...</td>\n",
       "      <td>NaN</td>\n",
       "      <td>NaN</td>\n",
       "      <td>1.227555</td>\n",
       "      <td>1.226574</td>\n",
       "      <td>NaN</td>\n",
       "      <td>NaN</td>\n",
       "      <td>NaN</td>\n",
       "      <td>NaN</td>\n",
       "      <td>NaN</td>\n",
       "      <td>NaN</td>\n",
       "    </tr>\n",
       "    <tr>\n",
       "      <td>861</td>\n",
       "      <td>121</td>\n",
       "      <td>2019_04_03-ASI_ablation</td>\n",
       "      <td>skfda_reg</td>\n",
       "      <td>5754.036735</td>\n",
       "      <td>6295.536244</td>\n",
       "      <td>5193.800581</td>\n",
       "      <td>5744.692582</td>\n",
       "      <td>NaN</td>\n",
       "      <td>NaN</td>\n",
       "      <td>-281.930633</td>\n",
       "      <td>...</td>\n",
       "      <td>NaN</td>\n",
       "      <td>NaN</td>\n",
       "      <td>1.104744</td>\n",
       "      <td>1.091057</td>\n",
       "      <td>NaN</td>\n",
       "      <td>NaN</td>\n",
       "      <td>NaN</td>\n",
       "      <td>NaN</td>\n",
       "      <td>NaN</td>\n",
       "      <td>NaN</td>\n",
       "    </tr>\n",
       "    <tr>\n",
       "      <td>862</td>\n",
       "      <td>122</td>\n",
       "      <td>2019_04_03-ASI_ablation</td>\n",
       "      <td>skfda_reg</td>\n",
       "      <td>7372.182651</td>\n",
       "      <td>7245.543383</td>\n",
       "      <td>6151.732153</td>\n",
       "      <td>6093.526017</td>\n",
       "      <td>NaN</td>\n",
       "      <td>NaN</td>\n",
       "      <td>-277.557307</td>\n",
       "      <td>...</td>\n",
       "      <td>NaN</td>\n",
       "      <td>NaN</td>\n",
       "      <td>1.200533</td>\n",
       "      <td>1.191611</td>\n",
       "      <td>NaN</td>\n",
       "      <td>NaN</td>\n",
       "      <td>NaN</td>\n",
       "      <td>NaN</td>\n",
       "      <td>NaN</td>\n",
       "      <td>NaN</td>\n",
       "    </tr>\n",
       "  </tbody>\n",
       "</table>\n",
       "<p>863 rows × 23 columns</p>\n",
       "</div>"
      ],
      "text/plain": [
       "      animal               experiment   strategy          410               \\\n",
       "pair                                                        0            1   \n",
       "index                                                                        \n",
       "0          0   2017_02_22-HD233_SAY47  skfda_reg  7736.690185  7772.451718   \n",
       "1          1   2017_02_22-HD233_SAY47  skfda_reg  8121.264270  8538.297062   \n",
       "2          2   2017_02_22-HD233_SAY47  skfda_reg  9117.918145  9033.453766   \n",
       "3          3   2017_02_22-HD233_SAY47  skfda_reg  8295.076038  8315.887954   \n",
       "4          4   2017_02_22-HD233_SAY47  skfda_reg  8418.941541  8269.410921   \n",
       "...      ...                      ...        ...          ...          ...   \n",
       "858      118  2019_04_03-ASI_ablation  skfda_reg  7606.941331  7516.936125   \n",
       "859      119  2019_04_03-ASI_ablation  skfda_reg  6933.754302  6901.352778   \n",
       "860      120  2019_04_03-ASI_ablation  skfda_reg  7467.512869  7386.310088   \n",
       "861      121  2019_04_03-ASI_ablation  skfda_reg  5754.036735  6295.536244   \n",
       "862      122  2019_04_03-ASI_ablation  skfda_reg  7372.182651  7245.543383   \n",
       "\n",
       "               470              anterior                e  ... posterior       \\\n",
       "pair             0            1        0    1           0  ...         0    1   \n",
       "index                                                      ...                  \n",
       "0      5440.170585  5419.553695      0.0  0.0 -270.729351  ...       0.0  0.0   \n",
       "1      5597.391026  5902.850274      0.0  1.0 -269.968367  ...       0.0  1.0   \n",
       "2      6662.137073  6520.554476      0.0  0.0 -272.110342  ...       0.0  0.0   \n",
       "3      5579.429837  5550.171210      0.0  0.0 -269.168019  ...       0.0  0.0   \n",
       "4      5641.785626  5543.846463      0.0  0.0 -268.818006  ...       0.0  0.0   \n",
       "...            ...          ...      ...  ...         ...  ...       ...  ...   \n",
       "858    6213.115739  6159.999758      NaN  NaN -276.632668  ...       NaN  NaN   \n",
       "859    5521.573304  5535.818231      NaN  NaN -275.561351  ...       NaN  NaN   \n",
       "860    6096.574540  6042.078491      NaN  NaN -276.520132  ...       NaN  NaN   \n",
       "861    5193.800581  5744.692582      NaN  NaN -281.930633  ...       NaN  NaN   \n",
       "862    6151.732153  6093.526017      NaN  NaN -277.557307  ...       NaN  NaN   \n",
       "\n",
       "              r           sides_of_tip       tip      total       \n",
       "pair          0         1            0    1    0    1     0    1  \n",
       "index                                                             \n",
       "0      1.423790  1.437423          0.0  0.0  1.0  0.0   1.0  0.0  \n",
       "1      1.454323  1.451732          1.0  1.0  0.0  1.0   1.0  4.0  \n",
       "2      1.368982  1.385356          0.0  0.0  0.0  0.0   0.0  0.0  \n",
       "3      1.491342  1.502351          0.0  0.0  0.0  0.0   0.0  0.0  \n",
       "4      1.508542  1.510266          0.0  0.0  0.0  0.0   0.0  0.0  \n",
       "...         ...       ...          ...  ...  ...  ...   ...  ...  \n",
       "858    1.224161  1.219197          NaN  NaN  NaN  NaN   NaN  NaN  \n",
       "859    1.254814  1.247838          NaN  NaN  NaN  NaN   NaN  NaN  \n",
       "860    1.227555  1.226574          NaN  NaN  NaN  NaN   NaN  NaN  \n",
       "861    1.104744  1.091057          NaN  NaN  NaN  NaN   NaN  NaN  \n",
       "862    1.200533  1.191611          NaN  NaN  NaN  NaN   NaN  NaN  \n",
       "\n",
       "[863 rows x 23 columns]"
      ]
     },
     "execution_count": 25,
     "metadata": {},
     "output_type": "execute_result"
    }
   ],
   "source": [
    "def load_all_cached_profile_data(glob_pattern):\n",
    "    return xr.concat((xr.load_dataarray(p) for p in sorted(meta_dir.glob(glob_pattern))), dim='strain')\n",
    "\n",
    "meta_dir = Path(\"/Users/sean/code/pharynx_redox/data/paired_ratio\")\n",
    "raw_prof = load_all_cached_profile_data('**/*single_unreg/*.nc')\n",
    "\n",
    "df = da.load_all_summaries(meta_dir)\n",
    "df = df.reset_index(drop=True)\n",
    "\n",
    "df['total'] = df['anterior'] + df['posterior'] + df['sides_of_tip'] + df['tip']\n",
    "df = df.pivot_table(index=['animal', 'experiment', 'strategy'], columns='pair').reset_index()\n",
    "\n",
    "df = df.sort_values(['experiment', 'animal'])\n",
    "df.index.rename('index', inplace=True)\n",
    "\n",
    "df = df[df.strategy=='skfda_reg'].reset_index(drop=True)\n",
    "df.index.rename('index', inplace=True)\n",
    "\n",
    "df"
   ]
  }
 ],
 "metadata": {
  "kernelspec": {
   "display_name": "Python 3",
   "language": "python",
   "name": "python3"
  },
  "language_info": {
   "codemirror_mode": {
    "name": "ipython",
    "version": 3
   },
   "file_extension": ".py",
   "mimetype": "text/x-python",
   "name": "python",
   "nbconvert_exporter": "python",
   "pygments_lexer": "ipython3",
   "version": "3.7.3"
  }
 },
 "nbformat": 4,
 "nbformat_minor": 2
}
