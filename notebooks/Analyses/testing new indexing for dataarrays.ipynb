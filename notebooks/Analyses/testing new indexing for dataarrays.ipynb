{
 "cells": [
  {
   "cell_type": "code",
   "execution_count": 1,
   "metadata": {},
   "outputs": [],
   "source": [
    "import sys\n",
    "sys.path.append('../../')\n",
    "\n",
    "from pharynx_redox import (\n",
    "    pharynx_io as pio, \n",
    "    image_processing as ip, \n",
    "    experiment, \n",
    "    plots, \n",
    "    profile_processing,\n",
    "    data_analysis as da,\n",
    "    utils,\n",
    "    constants,\n",
    ")\n",
    "\n",
    "import xarray as xr\n",
    "from pathlib import Path\n",
    "from tqdm import tqdm_notebook\n",
    "from scipy import signal\n",
    "import seaborn as sns\n",
    "from importlib import reload\n",
    "import numpy as np\n",
    "import logging\n",
    "import pandas as pd\n",
    "import matplotlib.pyplot as plt\n",
    "import matplotlib as mpl\n",
    "from statsmodels.graphics.gofplots import qqplot\n",
    "from scipy import ndimage as ndi\n",
    "import matplotlib.cm as cm\n",
    "import matplotlib as mpl\n",
    "from matplotlib.colors import ListedColormap\n",
    "\n",
    "reload(logging)\n",
    "reload(experiment)\n",
    "reload(pio)\n",
    "reload(ip)\n",
    "reload(plots)\n",
    "reload(profile_processing)\n",
    "reload(da)\n",
    "reload(utils)\n",
    "reload(constants)\n",
    "\n",
    "# pd.set_option('display.height', 500)\n",
    "pd.set_option('display.max_rows', 100)\n",
    "\n",
    "logging.basicConfig(format='%(asctime)s %(levelname)s:%(message)s', level=logging.DEBUG, datefmt='%I:%M:%S')"
   ]
  },
  {
   "cell_type": "code",
   "execution_count": 2,
   "metadata": {},
   "outputs": [
    {
     "ename": "TypeError",
     "evalue": "load_images() missing 2 required positional arguments: 'imaging_scheme' and 'strain_map'",
     "output_type": "error",
     "traceback": [
      "\u001b[0;31m---------------------------------------------------------------------------\u001b[0m",
      "\u001b[0;31mTypeError\u001b[0m                                 Traceback (most recent call last)",
      "\u001b[0;32m<ipython-input-2-47969669ca4c>\u001b[0m in \u001b[0;36m<module>\u001b[0;34m\u001b[0m\n\u001b[1;32m      1\u001b[0m \u001b[0mexp_dir\u001b[0m \u001b[0;34m=\u001b[0m \u001b[0mPath\u001b[0m\u001b[0;34m(\u001b[0m\u001b[0;34m\"/Users/sean/code/pharynx_redox/data/paired_ratio/2017_02_22-HD233_SAY47\"\u001b[0m\u001b[0;34m)\u001b[0m\u001b[0;34m\u001b[0m\u001b[0;34m\u001b[0m\u001b[0m\n\u001b[1;32m      2\u001b[0m \u001b[0;34m\u001b[0m\u001b[0m\n\u001b[0;32m----> 3\u001b[0;31m \u001b[0mraw_imgs\u001b[0m \u001b[0;34m=\u001b[0m \u001b[0mpio\u001b[0m\u001b[0;34m.\u001b[0m\u001b[0mload_images\u001b[0m\u001b[0;34m(\u001b[0m\u001b[0mexp_dir\u001b[0m\u001b[0;34m.\u001b[0m\u001b[0mjoinpath\u001b[0m\u001b[0;34m(\u001b[0m\u001b[0mexp_dir\u001b[0m\u001b[0;34m.\u001b[0m\u001b[0mstem\u001b[0m \u001b[0;34m+\u001b[0m \u001b[0;34m\".tif\"\u001b[0m\u001b[0;34m)\u001b[0m\u001b[0;34m)\u001b[0m\u001b[0;34m\u001b[0m\u001b[0;34m\u001b[0m\u001b[0m\n\u001b[0m",
      "\u001b[0;31mTypeError\u001b[0m: load_images() missing 2 required positional arguments: 'imaging_scheme' and 'strain_map'"
     ]
    }
   ],
   "source": [
    "exp_dir = Path(\"/Users/sean/code/pharynx_redox/data/paired_ratio/2017_02_22-HD233_SAY47\")\n",
    "\n",
    "img_path = exp_dir.joinpath(exp_dir.stem + \".tif\")\n",
    "indexer_path = exp_dir.joinpath(exp_dir.stem + '-indexer.csv')\n",
    "\n",
    "strain_map = \n",
    "raw_imgs = pio.load_images()"
   ]
  },
  {
   "cell_type": "code",
   "execution_count": null,
   "metadata": {},
   "outputs": [],
   "source": []
  }
 ],
 "metadata": {
  "kernelspec": {
   "display_name": "Python 3",
   "language": "python",
   "name": "python3"
  },
  "language_info": {
   "codemirror_mode": {
    "name": "ipython",
    "version": 3
   },
   "file_extension": ".py",
   "mimetype": "text/x-python",
   "name": "python",
   "nbconvert_exporter": "python",
   "pygments_lexer": "ipython3",
   "version": "3.7.3"
  }
 },
 "nbformat": 4,
 "nbformat_minor": 2
}
