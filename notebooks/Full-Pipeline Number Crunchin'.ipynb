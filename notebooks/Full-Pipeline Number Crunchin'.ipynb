{
 "cells": [
  {
   "cell_type": "code",
   "execution_count": 2,
   "metadata": {},
   "outputs": [],
   "source": [
    "from pharynx_redox import (\n",
    "    pharynx_io as pio, \n",
    "    image_processing as ip, \n",
    "    experiment, \n",
    "    plots, \n",
    "    profile_processing,\n",
    "    data_analysis as da\n",
    ")\n",
    "\n",
    "import xarray as xr\n",
    "from pathlib import Path\n",
    "from tqdm import tqdm_notebook\n",
    "from scipy import signal\n",
    "import seaborn as sns\n",
    "from importlib import reload\n",
    "import numpy as np\n",
    "import logging\n",
    "import pandas as pd\n",
    "import matplotlib.pyplot as plt\n",
    "\n",
    "reload(logging)\n",
    "reload(experiment)\n",
    "reload(pio)\n",
    "reload(ip)\n",
    "reload(plots)\n",
    "reload(profile_processing)\n",
    "reload(da)\n",
    "\n",
    "# pd.set_option('display.height', 500)\n",
    "pd.set_option('display.max_rows', 100)\n",
    "\n",
    "logging.basicConfig(format='%(asctime)s %(levelname)s:%(message)s', level=logging.DEBUG, datefmt='%I:%M:%S')"
   ]
  },
  {
   "cell_type": "code",
   "execution_count": 3,
   "metadata": {
    "scrolled": true
   },
   "outputs": [
    {
     "data": {
      "application/vnd.jupyter.widget-view+json": {
       "model_id": "6f65fffbc2dd47038dcc6399a7541b49",
       "version_major": 2,
       "version_minor": 0
      },
      "text/plain": [
       "HBox(children=(IntProgress(value=0, max=10), HTML(value='')))"
      ]
     },
     "metadata": {},
     "output_type": "display_data"
    },
    {
     "name": "stderr",
     "output_type": "stream",
     "text": [
      "01:10:37 INFO:Starting full pipeline run for /Users/sean/code/pharynx_redox/data/paired_ratio/2017_08_23-HD233_4mm_lev\n",
      "01:10:37 INFO:Segmenting pharynxes\n",
      "01:10:38 INFO:Centering and rotating pharynxes\n"
     ]
    },
    {
     "data": {
      "application/vnd.jupyter.widget-view+json": {
       "model_id": "",
       "version_major": 2,
       "version_minor": 0
      },
      "text/plain": [
       "HBox(children=(IntProgress(value=0, description='aliging pharynxes', max=28, style=ProgressStyle(description_w…"
      ]
     },
     "metadata": {},
     "output_type": "display_data"
    },
    {
     "name": "stderr",
     "output_type": "stream",
     "text": [
      "01:10:40 INFO:Calculating midlines\n"
     ]
    },
    {
     "data": {
      "application/vnd.jupyter.widget-view+json": {
       "model_id": "",
       "version_major": 2,
       "version_minor": 0
      },
      "text/plain": [
       "HBox(children=(IntProgress(value=0, description='calculating midlines', max=28, style=ProgressStyle(descriptio…"
      ]
     },
     "metadata": {},
     "output_type": "display_data"
    },
    {
     "name": "stderr",
     "output_type": "stream",
     "text": [
      "01:10:40 INFO:Measuring under midlines\n"
     ]
    },
    {
     "data": {
      "application/vnd.jupyter.widget-view+json": {
       "model_id": "",
       "version_major": 2,
       "version_minor": 0
      },
      "text/plain": [
       "HBox(children=(IntProgress(value=0, description='measuring under midlines', max=28, style=ProgressStyle(descri…"
      ]
     },
     "metadata": {},
     "output_type": "display_data"
    },
    {
     "name": "stderr",
     "output_type": "stream",
     "text": [
      "01:10:40 INFO:Registering profiles\n",
      "01:12:07 INFO:Trimming intensity data\n",
      "01:12:08 INFO:Calculating redox measurements\n",
      "01:12:08 INFO:Saving 2017_08_23-HD233_4mm_lev inside /Users/sean/code/pharynx_redox/data/paired_ratio/2017_08_23-HD233_4mm_lev\n",
      "01:12:08 INFO:Saving region means to /Users/sean/code/pharynx_redox/data/paired_ratio/2017_08_23-HD233_4mm_lev/analyses/2019-09-13_skfda_reg/2017_08_23-HD233_4mm_lev-summary_table.csv\n",
      "01:12:08 INFO:Saving profile data to /Users/sean/code/pharynx_redox/data/paired_ratio/2017_08_23-HD233_4mm_lev/analyses/2019-09-13_skfda_reg/2017_08_23-HD233_4mm_lev-profile_data.nc\n",
      "01:12:08 INFO:Finished full pipeline run for /Users/sean/code/pharynx_redox/data/paired_ratio/2017_08_23-HD233_4mm_lev\n",
      "01:12:08 INFO:Starting full pipeline run for /Users/sean/code/pharynx_redox/data/paired_ratio/2017_02_22-HD233_SAY47\n",
      "01:12:08 INFO:Segmenting pharynxes\n",
      "01:12:10 INFO:Centering and rotating pharynxes\n"
     ]
    },
    {
     "data": {
      "application/vnd.jupyter.widget-view+json": {
       "model_id": "",
       "version_major": 2,
       "version_minor": 0
      },
      "text/plain": [
       "HBox(children=(IntProgress(value=0, description='aliging pharynxes', max=123, style=ProgressStyle(description_…"
      ]
     },
     "metadata": {},
     "output_type": "display_data"
    },
    {
     "name": "stderr",
     "output_type": "stream",
     "text": [
      "01:12:19 INFO:Calculating midlines\n"
     ]
    },
    {
     "data": {
      "application/vnd.jupyter.widget-view+json": {
       "model_id": "",
       "version_major": 2,
       "version_minor": 0
      },
      "text/plain": [
       "HBox(children=(IntProgress(value=0, description='calculating midlines', max=123, style=ProgressStyle(descripti…"
      ]
     },
     "metadata": {},
     "output_type": "display_data"
    },
    {
     "name": "stderr",
     "output_type": "stream",
     "text": [
      "01:12:20 INFO:Measuring under midlines\n"
     ]
    },
    {
     "data": {
      "application/vnd.jupyter.widget-view+json": {
       "model_id": "",
       "version_major": 2,
       "version_minor": 0
      },
      "text/plain": [
       "HBox(children=(IntProgress(value=0, description='measuring under midlines', max=123, style=ProgressStyle(descr…"
      ]
     },
     "metadata": {},
     "output_type": "display_data"
    },
    {
     "name": "stderr",
     "output_type": "stream",
     "text": [
      "01:12:21 INFO:Registering profiles\n",
      "01:17:31 INFO:Trimming intensity data\n",
      "01:17:32 INFO:Calculating redox measurements\n",
      "01:17:32 INFO:Saving 2017_02_22-HD233_SAY47 inside /Users/sean/code/pharynx_redox/data/paired_ratio/2017_02_22-HD233_SAY47\n",
      "01:17:32 INFO:Saving region means to /Users/sean/code/pharynx_redox/data/paired_ratio/2017_02_22-HD233_SAY47/analyses/2019-09-13_skfda_reg/2017_02_22-HD233_SAY47-summary_table.csv\n",
      "01:17:33 INFO:Saving profile data to /Users/sean/code/pharynx_redox/data/paired_ratio/2017_02_22-HD233_SAY47/analyses/2019-09-13_skfda_reg/2017_02_22-HD233_SAY47-profile_data.nc\n",
      "01:17:33 INFO:Finished full pipeline run for /Users/sean/code/pharynx_redox/data/paired_ratio/2017_02_22-HD233_SAY47\n",
      "01:17:33 INFO:Starting full pipeline run for /Users/sean/code/pharynx_redox/data/paired_ratio/2017_08_25-HD233_SAY93\n",
      "01:17:33 INFO:Segmenting pharynxes\n",
      "01:17:33 INFO:Centering and rotating pharynxes\n"
     ]
    },
    {
     "data": {
      "application/vnd.jupyter.widget-view+json": {
       "model_id": "",
       "version_major": 2,
       "version_minor": 0
      },
      "text/plain": [
       "HBox(children=(IntProgress(value=0, description='aliging pharynxes', max=35, style=ProgressStyle(description_w…"
      ]
     },
     "metadata": {},
     "output_type": "display_data"
    },
    {
     "name": "stderr",
     "output_type": "stream",
     "text": [
      "01:17:36 INFO:Calculating midlines\n"
     ]
    },
    {
     "data": {
      "application/vnd.jupyter.widget-view+json": {
       "model_id": "",
       "version_major": 2,
       "version_minor": 0
      },
      "text/plain": [
       "HBox(children=(IntProgress(value=0, description='calculating midlines', max=35, style=ProgressStyle(descriptio…"
      ]
     },
     "metadata": {},
     "output_type": "display_data"
    },
    {
     "name": "stderr",
     "output_type": "stream",
     "text": [
      "01:17:36 INFO:Measuring under midlines\n"
     ]
    },
    {
     "data": {
      "application/vnd.jupyter.widget-view+json": {
       "model_id": "",
       "version_major": 2,
       "version_minor": 0
      },
      "text/plain": [
       "HBox(children=(IntProgress(value=0, description='measuring under midlines', max=35, style=ProgressStyle(descri…"
      ]
     },
     "metadata": {},
     "output_type": "display_data"
    },
    {
     "name": "stderr",
     "output_type": "stream",
     "text": [
      "01:17:36 INFO:Registering profiles\n",
      "01:19:20 INFO:Trimming intensity data\n",
      "01:19:20 INFO:Calculating redox measurements\n",
      "01:19:21 INFO:Saving 2017_08_25-HD233_SAY93 inside /Users/sean/code/pharynx_redox/data/paired_ratio/2017_08_25-HD233_SAY93\n",
      "01:19:21 INFO:Saving region means to /Users/sean/code/pharynx_redox/data/paired_ratio/2017_08_25-HD233_SAY93/analyses/2019-09-13_skfda_reg/2017_08_25-HD233_SAY93-summary_table.csv\n",
      "01:19:21 INFO:Saving profile data to /Users/sean/code/pharynx_redox/data/paired_ratio/2017_08_25-HD233_SAY93/analyses/2019-09-13_skfda_reg/2017_08_25-HD233_SAY93-profile_data.nc\n",
      "01:19:21 INFO:Finished full pipeline run for /Users/sean/code/pharynx_redox/data/paired_ratio/2017_08_25-HD233_SAY93\n",
      "01:19:21 INFO:Starting full pipeline run for /Users/sean/code/pharynx_redox/data/paired_ratio/2019_04_03-ASI_ablation\n",
      "01:19:21 INFO:Segmenting pharynxes\n",
      "01:19:23 INFO:Centering and rotating pharynxes\n"
     ]
    },
    {
     "data": {
      "application/vnd.jupyter.widget-view+json": {
       "model_id": "",
       "version_major": 2,
       "version_minor": 0
      },
      "text/plain": [
       "HBox(children=(IntProgress(value=0, description='aliging pharynxes', max=123, style=ProgressStyle(description_…"
      ]
     },
     "metadata": {},
     "output_type": "display_data"
    },
    {
     "name": "stderr",
     "output_type": "stream",
     "text": [
      "01:19:32 INFO:Calculating midlines\n"
     ]
    },
    {
     "data": {
      "application/vnd.jupyter.widget-view+json": {
       "model_id": "",
       "version_major": 2,
       "version_minor": 0
      },
      "text/plain": [
       "HBox(children=(IntProgress(value=0, description='calculating midlines', max=123, style=ProgressStyle(descripti…"
      ]
     },
     "metadata": {},
     "output_type": "display_data"
    },
    {
     "name": "stderr",
     "output_type": "stream",
     "text": [
      "01:19:33 INFO:Measuring under midlines\n"
     ]
    },
    {
     "data": {
      "application/vnd.jupyter.widget-view+json": {
       "model_id": "",
       "version_major": 2,
       "version_minor": 0
      },
      "text/plain": [
       "HBox(children=(IntProgress(value=0, description='measuring under midlines', max=123, style=ProgressStyle(descr…"
      ]
     },
     "metadata": {},
     "output_type": "display_data"
    },
    {
     "name": "stderr",
     "output_type": "stream",
     "text": [
      "01:19:34 INFO:Registering profiles\n",
      "01:24:55 INFO:Trimming intensity data\n",
      "01:24:56 INFO:Calculating redox measurements\n",
      "01:24:56 INFO:Saving 2019_04_03-ASI_ablation inside /Users/sean/code/pharynx_redox/data/paired_ratio/2019_04_03-ASI_ablation\n",
      "01:24:56 INFO:Saving region means to /Users/sean/code/pharynx_redox/data/paired_ratio/2019_04_03-ASI_ablation/analyses/2019-09-13_skfda_reg/2019_04_03-ASI_ablation-summary_table.csv\n",
      "01:24:57 INFO:Saving profile data to /Users/sean/code/pharynx_redox/data/paired_ratio/2019_04_03-ASI_ablation/analyses/2019-09-13_skfda_reg/2019_04_03-ASI_ablation-profile_data.nc\n",
      "01:24:57 INFO:Finished full pipeline run for /Users/sean/code/pharynx_redox/data/paired_ratio/2019_04_03-ASI_ablation\n",
      "01:24:57 INFO:Starting full pipeline run for /Users/sean/code/pharynx_redox/data/paired_ratio/2017_02_23-HD233_HD236\n",
      "01:24:57 INFO:Segmenting pharynxes\n",
      "01:24:58 INFO:Centering and rotating pharynxes\n"
     ]
    },
    {
     "data": {
      "application/vnd.jupyter.widget-view+json": {
       "model_id": "",
       "version_major": 2,
       "version_minor": 0
      },
      "text/plain": [
       "HBox(children=(IntProgress(value=0, description='aliging pharynxes', max=109, style=ProgressStyle(description_…"
      ]
     },
     "metadata": {},
     "output_type": "display_data"
    },
    {
     "name": "stderr",
     "output_type": "stream",
     "text": [
      "01:25:06 INFO:Calculating midlines\n"
     ]
    },
    {
     "data": {
      "application/vnd.jupyter.widget-view+json": {
       "model_id": "",
       "version_major": 2,
       "version_minor": 0
      },
      "text/plain": [
       "HBox(children=(IntProgress(value=0, description='calculating midlines', max=109, style=ProgressStyle(descripti…"
      ]
     },
     "metadata": {},
     "output_type": "display_data"
    },
    {
     "name": "stderr",
     "output_type": "stream",
     "text": [
      "01:25:07 INFO:Measuring under midlines\n"
     ]
    },
    {
     "data": {
      "application/vnd.jupyter.widget-view+json": {
       "model_id": "",
       "version_major": 2,
       "version_minor": 0
      },
      "text/plain": [
       "HBox(children=(IntProgress(value=0, description='measuring under midlines', max=109, style=ProgressStyle(descr…"
      ]
     },
     "metadata": {},
     "output_type": "display_data"
    },
    {
     "name": "stderr",
     "output_type": "stream",
     "text": [
      "01:25:08 INFO:Registering profiles\n",
      "01:30:06 INFO:Trimming intensity data\n",
      "01:30:06 INFO:Calculating redox measurements\n",
      "01:30:06 INFO:Saving 2017_02_23-HD233_HD236 inside /Users/sean/code/pharynx_redox/data/paired_ratio/2017_02_23-HD233_HD236\n",
      "01:30:06 INFO:Saving region means to /Users/sean/code/pharynx_redox/data/paired_ratio/2017_02_23-HD233_HD236/analyses/2019-09-13_skfda_reg/2017_02_23-HD233_HD236-summary_table.csv\n",
      "01:30:07 INFO:Saving profile data to /Users/sean/code/pharynx_redox/data/paired_ratio/2017_02_23-HD233_HD236/analyses/2019-09-13_skfda_reg/2017_02_23-HD233_HD236-profile_data.nc\n",
      "01:30:07 INFO:Finished full pipeline run for /Users/sean/code/pharynx_redox/data/paired_ratio/2017_02_23-HD233_HD236\n",
      "01:30:07 INFO:Starting full pipeline run for /Users/sean/code/pharynx_redox/data/paired_ratio/2017_03_01_HD233_HD236\n",
      "01:30:07 INFO:Segmenting pharynxes\n",
      "01:30:09 INFO:Centering and rotating pharynxes\n"
     ]
    },
    {
     "data": {
      "application/vnd.jupyter.widget-view+json": {
       "model_id": "",
       "version_major": 2,
       "version_minor": 0
      },
      "text/plain": [
       "HBox(children=(IntProgress(value=0, description='aliging pharynxes', max=120, style=ProgressStyle(description_…"
      ]
     },
     "metadata": {},
     "output_type": "display_data"
    },
    {
     "name": "stderr",
     "output_type": "stream",
     "text": [
      "01:30:17 INFO:Calculating midlines\n"
     ]
    },
    {
     "data": {
      "application/vnd.jupyter.widget-view+json": {
       "model_id": "",
       "version_major": 2,
       "version_minor": 0
      },
      "text/plain": [
       "HBox(children=(IntProgress(value=0, description='calculating midlines', max=120, style=ProgressStyle(descripti…"
      ]
     },
     "metadata": {},
     "output_type": "display_data"
    },
    {
     "name": "stderr",
     "output_type": "stream",
     "text": [
      "01:30:18 INFO:Measuring under midlines\n"
     ]
    },
    {
     "data": {
      "application/vnd.jupyter.widget-view+json": {
       "model_id": "",
       "version_major": 2,
       "version_minor": 0
      },
      "text/plain": [
       "HBox(children=(IntProgress(value=0, description='measuring under midlines', max=120, style=ProgressStyle(descr…"
      ]
     },
     "metadata": {},
     "output_type": "display_data"
    },
    {
     "name": "stderr",
     "output_type": "stream",
     "text": [
      "01:30:19 INFO:Registering profiles\n",
      "01:35:38 INFO:Trimming intensity data\n",
      "01:35:39 INFO:Calculating redox measurements\n",
      "01:35:39 INFO:Saving 2017_03_01_HD233_HD236 inside /Users/sean/code/pharynx_redox/data/paired_ratio/2017_03_01_HD233_HD236\n",
      "01:35:39 INFO:Saving region means to /Users/sean/code/pharynx_redox/data/paired_ratio/2017_03_01_HD233_HD236/analyses/2019-09-13_skfda_reg/2017_03_01_HD233_HD236-summary_table.csv\n",
      "01:35:39 INFO:Saving profile data to /Users/sean/code/pharynx_redox/data/paired_ratio/2017_03_01_HD233_HD236/analyses/2019-09-13_skfda_reg/2017_03_01_HD233_HD236-profile_data.nc\n",
      "01:35:39 INFO:Finished full pipeline run for /Users/sean/code/pharynx_redox/data/paired_ratio/2017_03_01_HD233_HD236\n",
      "01:35:39 INFO:Starting full pipeline run for /Users/sean/code/pharynx_redox/data/paired_ratio/2017_08_15-HD233_4mM_lev\n",
      "01:35:39 INFO:Segmenting pharynxes\n",
      "01:35:41 INFO:Centering and rotating pharynxes\n"
     ]
    },
    {
     "data": {
      "application/vnd.jupyter.widget-view+json": {
       "model_id": "",
       "version_major": 2,
       "version_minor": 0
      },
      "text/plain": [
       "HBox(children=(IntProgress(value=0, description='aliging pharynxes', max=80, style=ProgressStyle(description_w…"
      ]
     },
     "metadata": {},
     "output_type": "display_data"
    },
    {
     "name": "stderr",
     "output_type": "stream",
     "text": [
      "01:35:46 INFO:Calculating midlines\n"
     ]
    },
    {
     "data": {
      "application/vnd.jupyter.widget-view+json": {
       "model_id": "",
       "version_major": 2,
       "version_minor": 0
      },
      "text/plain": [
       "HBox(children=(IntProgress(value=0, description='calculating midlines', max=80, style=ProgressStyle(descriptio…"
      ]
     },
     "metadata": {},
     "output_type": "display_data"
    },
    {
     "name": "stderr",
     "output_type": "stream",
     "text": [
      "01:35:47 INFO:Measuring under midlines\n"
     ]
    },
    {
     "data": {
      "application/vnd.jupyter.widget-view+json": {
       "model_id": "",
       "version_major": 2,
       "version_minor": 0
      },
      "text/plain": [
       "HBox(children=(IntProgress(value=0, description='measuring under midlines', max=80, style=ProgressStyle(descri…"
      ]
     },
     "metadata": {},
     "output_type": "display_data"
    },
    {
     "name": "stderr",
     "output_type": "stream",
     "text": [
      "01:35:48 INFO:Registering profiles\n",
      "01:39:28 INFO:Trimming intensity data\n",
      "01:39:29 INFO:Calculating redox measurements\n",
      "01:39:29 INFO:Saving 2017_08_15-HD233_4mM_lev inside /Users/sean/code/pharynx_redox/data/paired_ratio/2017_08_15-HD233_4mM_lev\n",
      "01:39:29 INFO:Saving region means to /Users/sean/code/pharynx_redox/data/paired_ratio/2017_08_15-HD233_4mM_lev/analyses/2019-09-13_skfda_reg/2017_08_15-HD233_4mM_lev-summary_table.csv\n",
      "01:39:29 INFO:Saving profile data to /Users/sean/code/pharynx_redox/data/paired_ratio/2017_08_15-HD233_4mM_lev/analyses/2019-09-13_skfda_reg/2017_08_15-HD233_4mM_lev-profile_data.nc\n",
      "01:39:29 INFO:Finished full pipeline run for /Users/sean/code/pharynx_redox/data/paired_ratio/2017_08_15-HD233_4mM_lev\n",
      "01:39:29 INFO:Starting full pipeline run for /Users/sean/code/pharynx_redox/data/paired_ratio/2017_08_24-HD233_SAY93\n",
      "01:39:29 INFO:Segmenting pharynxes\n",
      "01:39:31 INFO:Centering and rotating pharynxes\n"
     ]
    },
    {
     "data": {
      "application/vnd.jupyter.widget-view+json": {
       "model_id": "",
       "version_major": 2,
       "version_minor": 0
      },
      "text/plain": [
       "HBox(children=(IntProgress(value=0, description='aliging pharynxes', max=90, style=ProgressStyle(description_w…"
      ]
     },
     "metadata": {},
     "output_type": "display_data"
    },
    {
     "name": "stderr",
     "output_type": "stream",
     "text": [
      "01:39:37 INFO:Calculating midlines\n"
     ]
    },
    {
     "data": {
      "application/vnd.jupyter.widget-view+json": {
       "model_id": "",
       "version_major": 2,
       "version_minor": 0
      },
      "text/plain": [
       "HBox(children=(IntProgress(value=0, description='calculating midlines', max=90, style=ProgressStyle(descriptio…"
      ]
     },
     "metadata": {},
     "output_type": "display_data"
    },
    {
     "name": "stderr",
     "output_type": "stream",
     "text": [
      "01:39:38 INFO:Measuring under midlines\n"
     ]
    },
    {
     "data": {
      "application/vnd.jupyter.widget-view+json": {
       "model_id": "",
       "version_major": 2,
       "version_minor": 0
      },
      "text/plain": [
       "HBox(children=(IntProgress(value=0, description='measuring under midlines', max=90, style=ProgressStyle(descri…"
      ]
     },
     "metadata": {},
     "output_type": "display_data"
    },
    {
     "name": "stderr",
     "output_type": "stream",
     "text": [
      "01:39:39 INFO:Registering profiles\n",
      "01:43:40 INFO:Trimming intensity data\n",
      "01:43:41 INFO:Calculating redox measurements\n",
      "01:43:41 INFO:Saving 2017_08_24-HD233_SAY93 inside /Users/sean/code/pharynx_redox/data/paired_ratio/2017_08_24-HD233_SAY93\n",
      "01:43:41 INFO:Saving region means to /Users/sean/code/pharynx_redox/data/paired_ratio/2017_08_24-HD233_SAY93/analyses/2019-09-13_skfda_reg/2017_08_24-HD233_SAY93-summary_table.csv\n",
      "01:43:41 INFO:Saving profile data to /Users/sean/code/pharynx_redox/data/paired_ratio/2017_08_24-HD233_SAY93/analyses/2019-09-13_skfda_reg/2017_08_24-HD233_SAY93-profile_data.nc\n",
      "01:43:41 INFO:Finished full pipeline run for /Users/sean/code/pharynx_redox/data/paired_ratio/2017_08_24-HD233_SAY93\n",
      "01:43:41 INFO:Starting full pipeline run for /Users/sean/code/pharynx_redox/data/paired_ratio/2017_02_27-HD233_HD236\n",
      "01:43:41 INFO:Segmenting pharynxes\n",
      "01:43:43 INFO:Centering and rotating pharynxes\n"
     ]
    },
    {
     "data": {
      "application/vnd.jupyter.widget-view+json": {
       "model_id": "",
       "version_major": 2,
       "version_minor": 0
      },
      "text/plain": [
       "HBox(children=(IntProgress(value=0, description='aliging pharynxes', max=120, style=ProgressStyle(description_…"
      ]
     },
     "metadata": {},
     "output_type": "display_data"
    },
    {
     "name": "stderr",
     "output_type": "stream",
     "text": [
      "01:43:51 INFO:Calculating midlines\n"
     ]
    },
    {
     "data": {
      "application/vnd.jupyter.widget-view+json": {
       "model_id": "",
       "version_major": 2,
       "version_minor": 0
      },
      "text/plain": [
       "HBox(children=(IntProgress(value=0, description='calculating midlines', max=120, style=ProgressStyle(descripti…"
      ]
     },
     "metadata": {},
     "output_type": "display_data"
    },
    {
     "name": "stderr",
     "output_type": "stream",
     "text": [
      "01:43:52 INFO:Measuring under midlines\n"
     ]
    },
    {
     "data": {
      "application/vnd.jupyter.widget-view+json": {
       "model_id": "",
       "version_major": 2,
       "version_minor": 0
      },
      "text/plain": [
       "HBox(children=(IntProgress(value=0, description='measuring under midlines', max=120, style=ProgressStyle(descr…"
      ]
     },
     "metadata": {},
     "output_type": "display_data"
    },
    {
     "name": "stderr",
     "output_type": "stream",
     "text": [
      "01:43:53 INFO:Registering profiles\n",
      "01:49:01 INFO:Trimming intensity data\n",
      "01:49:01 INFO:Calculating redox measurements\n",
      "01:49:01 INFO:Saving 2017_02_27-HD233_HD236 inside /Users/sean/code/pharynx_redox/data/paired_ratio/2017_02_27-HD233_HD236\n",
      "01:49:01 INFO:Saving region means to /Users/sean/code/pharynx_redox/data/paired_ratio/2017_02_27-HD233_HD236/analyses/2019-09-13_skfda_reg/2017_02_27-HD233_HD236-summary_table.csv\n",
      "01:49:02 INFO:Saving profile data to /Users/sean/code/pharynx_redox/data/paired_ratio/2017_02_27-HD233_HD236/analyses/2019-09-13_skfda_reg/2017_02_27-HD233_HD236-profile_data.nc\n",
      "01:49:02 INFO:Finished full pipeline run for /Users/sean/code/pharynx_redox/data/paired_ratio/2017_02_27-HD233_HD236\n",
      "01:49:02 INFO:Starting full pipeline run for /Users/sean/code/pharynx_redox/data/paired_ratio/2017_08_25-HD233_4mm_lev\n",
      "01:49:02 INFO:Segmenting pharynxes\n",
      "01:49:02 INFO:Centering and rotating pharynxes\n"
     ]
    },
    {
     "data": {
      "application/vnd.jupyter.widget-view+json": {
       "model_id": "",
       "version_major": 2,
       "version_minor": 0
      },
      "text/plain": [
       "HBox(children=(IntProgress(value=0, description='aliging pharynxes', max=35, style=ProgressStyle(description_w…"
      ]
     },
     "metadata": {},
     "output_type": "display_data"
    },
    {
     "name": "stderr",
     "output_type": "stream",
     "text": [
      "01:49:05 INFO:Calculating midlines\n"
     ]
    },
    {
     "data": {
      "application/vnd.jupyter.widget-view+json": {
       "model_id": "",
       "version_major": 2,
       "version_minor": 0
      },
      "text/plain": [
       "HBox(children=(IntProgress(value=0, description='calculating midlines', max=35, style=ProgressStyle(descriptio…"
      ]
     },
     "metadata": {},
     "output_type": "display_data"
    },
    {
     "name": "stderr",
     "output_type": "stream",
     "text": [
      "01:49:05 INFO:Measuring under midlines\n"
     ]
    },
    {
     "data": {
      "application/vnd.jupyter.widget-view+json": {
       "model_id": "",
       "version_major": 2,
       "version_minor": 0
      },
      "text/plain": [
       "HBox(children=(IntProgress(value=0, description='measuring under midlines', max=35, style=ProgressStyle(descri…"
      ]
     },
     "metadata": {},
     "output_type": "display_data"
    },
    {
     "name": "stderr",
     "output_type": "stream",
     "text": [
      "01:49:05 INFO:Registering profiles\n",
      "01:50:47 INFO:Trimming intensity data\n",
      "01:50:47 INFO:Calculating redox measurements\n",
      "01:50:47 INFO:Saving 2017_08_25-HD233_4mm_lev inside /Users/sean/code/pharynx_redox/data/paired_ratio/2017_08_25-HD233_4mm_lev\n",
      "01:50:47 INFO:Saving region means to /Users/sean/code/pharynx_redox/data/paired_ratio/2017_08_25-HD233_4mm_lev/analyses/2019-09-13_skfda_reg/2017_08_25-HD233_4mm_lev-summary_table.csv\n",
      "01:50:48 INFO:Saving profile data to /Users/sean/code/pharynx_redox/data/paired_ratio/2017_08_25-HD233_4mm_lev/analyses/2019-09-13_skfda_reg/2017_08_25-HD233_4mm_lev-profile_data.nc\n",
      "01:50:48 INFO:Finished full pipeline run for /Users/sean/code/pharynx_redox/data/paired_ratio/2017_08_25-HD233_4mm_lev\n"
     ]
    },
    {
     "name": "stdout",
     "output_type": "stream",
     "text": [
      "\n"
     ]
    }
   ],
   "source": [
    "meta_dir = Path(\"/Users/sean/code/pharynx_redox/data/paired_ratio\")\n",
    "imaging_scheme = \"TL/470/410/470/410\"\n",
    "\n",
    "exps = list(filter(lambda x: x.is_dir(), meta_dir.iterdir()))\n",
    "exp_objs = []\n",
    "for exp_dir in tqdm_notebook(exps):\n",
    "    ex_reg = experiment.PairExperiment(\n",
    "        experiment_dir = exp_dir,\n",
    "        imaging_scheme = imaging_scheme,\n",
    "        register = True,\n",
    "        warp_to_mean=True,\n",
    "        save_summary_plots=False,\n",
    "        strategy='skfda_reg',\n",
    "    )\n",
    "    ex_reg.full_pipeline()"
   ]
  },
  {
   "cell_type": "code",
   "execution_count": 9,
   "metadata": {},
   "outputs": [],
   "source": [
    "pio.save_split_images_to_disk(\n",
    "    ex_reg.images,\n",
    "    prefix=ex_reg.experiment_id,\n",
    "    dir_path=ex_reg.experiment_dir.joinpath('imgs/')\n",
    ")"
   ]
  },
  {
   "cell_type": "code",
   "execution_count": 17,
   "metadata": {},
   "outputs": [],
   "source": [
    "df = pd.DataFrame(ex_reg.movement.to_records())\n",
    "sta = df[(df.pair==0) & (df.anterior == 0) & (df.posterior == 0)].animal.values"
   ]
  },
  {
   "cell_type": "code",
   "execution_count": 25,
   "metadata": {},
   "outputs": [
    {
     "data": {
      "text/plain": [
       "[Polynomial([63.00370542,  1.53372096,  2.06241999, -4.17550635, -1.22425784], domain=[ 50., 117.], window=[-1.,  1.]),\n",
       " Polynomial([63.15214969,  1.29081815,  1.96004106, -3.22920288, -1.64284181], domain=[ 50., 117.], window=[-1.,  1.])]"
      ]
     },
     "execution_count": 25,
     "metadata": {},
     "output_type": "execute_result"
    }
   ],
   "source": [
    "ex_reg.midlines[0]['410']"
   ]
  }
 ],
 "metadata": {
  "kernelspec": {
   "display_name": "Python 3",
   "language": "python",
   "name": "python3"
  },
  "language_info": {
   "codemirror_mode": {
    "name": "ipython",
    "version": 3
   },
   "file_extension": ".py",
   "mimetype": "text/x-python",
   "name": "python",
   "nbconvert_exporter": "python",
   "pygments_lexer": "ipython3",
   "version": "3.7.3"
  }
 },
 "nbformat": 4,
 "nbformat_minor": 2
}
