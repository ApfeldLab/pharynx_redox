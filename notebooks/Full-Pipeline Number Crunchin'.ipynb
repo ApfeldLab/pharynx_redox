{
 "cells": [
  {
   "cell_type": "code",
   "execution_count": 11,
   "metadata": {},
   "outputs": [],
   "source": [
    "from pharynx_redox import (\n",
    "    pharynx_io as pio, \n",
    "    image_processing as ip, \n",
    "    experiment, \n",
    "    plots, \n",
    "    profile_processing,\n",
    "    data_analysis as da\n",
    ")\n",
    "\n",
    "import xarray as xr\n",
    "from pathlib import Path\n",
    "from tqdm import tqdm_notebook\n",
    "from scipy import signal\n",
    "import seaborn as sns\n",
    "from importlib import reload\n",
    "import numpy as np\n",
    "import logging\n",
    "import pandas as pd\n",
    "import matplotlib.pyplot as plt\n",
    "from joblib import Parallel, delayed\n",
    "from math import sqrt\n",
    "\n",
    "reload(logging)\n",
    "reload(experiment)\n",
    "reload(pio)\n",
    "reload(ip)\n",
    "reload(plots)\n",
    "reload(profile_processing)\n",
    "reload(da)\n",
    "\n",
    "# pd.set_option('display.height', 500)\n",
    "pd.set_option('display.max_rows', 100)\n",
    "\n",
    "logging.basicConfig(format='%(asctime)s %(levelname)s:%(message)s', level=logging.DEBUG, datefmt='%I:%M:%S')"
   ]
  },
  {
   "cell_type": "code",
   "execution_count": null,
   "metadata": {},
   "outputs": [],
   "source": [
    "meta_dir = Path(\"/Users/sean/code/pharynx_redox/data/paired_ratio\")\n",
    "imaging_scheme = \"TL/470/410/470/410\"\n",
    "\n",
    "def run_exp(exp_dir):\n",
    "    logging.info(\"Running experiment\")\n",
    "    experiment.PairExperiment(\n",
    "        experiment_dir = exp_dir,\n",
    "        imaging_scheme = imaging_scheme,\n",
    "        register = True,\n",
    "        save_summary_plots=False,\n",
    "        strategy='matlab_reg',\n",
    "    ).full_pipeline()\n",
    "\n",
    "exps = list(filter(lambda x: x.is_dir(), meta_dir.iterdir()))\n",
    "Parallel(n_jobs=-1, verbose=51)(delayed(run_exp(exp_dir)) for exp_dir in exps)"
   ]
  }
 ],
 "metadata": {
  "kernelspec": {
   "display_name": "Python 3",
   "language": "python",
   "name": "python3"
  },
  "language_info": {
   "codemirror_mode": {
    "name": "ipython",
    "version": 3
   },
   "file_extension": ".py",
   "mimetype": "text/x-python",
   "name": "python",
   "nbconvert_exporter": "python",
   "pygments_lexer": "ipython3",
   "version": "3.7.3"
  }
 },
 "nbformat": 4,
 "nbformat_minor": 2
}
