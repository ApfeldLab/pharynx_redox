{
 "cells": [
  {
   "cell_type": "code",
   "execution_count": 17,
   "metadata": {},
   "outputs": [],
   "source": [
    "from pharynx_redox import (\n",
    "    pharynx_io as pio, \n",
    "    image_processing as ip, \n",
    "    experiment, \n",
    "    plots, \n",
    "    profile_processing,\n",
    "    data_analysis as da\n",
    ")\n",
    "\n",
    "import xarray as xr\n",
    "from pathlib import Path\n",
    "from tqdm import tqdm_notebook\n",
    "from scipy import signal\n",
    "import seaborn as sns\n",
    "from importlib import reload\n",
    "import numpy as np\n",
    "import logging\n",
    "import pandas as pd\n",
    "import matplotlib.pyplot as plt\n",
    "from joblib import Parallel, delayed\n",
    "from math import sqrt\n",
    "\n",
    "reload(logging)\n",
    "reload(experiment)\n",
    "reload(pio)\n",
    "reload(ip)\n",
    "reload(plots)\n",
    "reload(profile_processing)\n",
    "reload(da)\n",
    "\n",
    "# pd.set_option('display.height', 500)\n",
    "pd.set_option('display.max_rows', 100)\n",
    "\n",
    "logging.basicConfig(format='%(asctime)s %(levelname)s:%(message)s', level=logging.DEBUG, datefmt='%I:%M:%S')"
   ]
  },
  {
   "cell_type": "code",
   "execution_count": 20,
   "metadata": {
    "scrolled": true
   },
   "outputs": [
    {
     "name": "stderr",
     "output_type": "stream",
     "text": [
      "11:27:05 INFO:Running experiment\n",
      "11:27:05 INFO:Starting full pipeline run for /Users/sean/code/pharynx_redox/data/paired_ratio/2017_08_23-HD233_4mm_lev\n",
      "11:27:05 INFO:Segmenting pharynxes\n",
      "11:27:06 INFO:Centering and rotating pharynxes\n"
     ]
    },
    {
     "data": {
      "application/vnd.jupyter.widget-view+json": {
       "model_id": "",
       "version_major": 2,
       "version_minor": 0
      },
      "text/plain": [
       "HBox(children=(IntProgress(value=0, description='aliging pharynxes', max=28, style=ProgressStyle(description_w…"
      ]
     },
     "metadata": {},
     "output_type": "display_data"
    },
    {
     "name": "stderr",
     "output_type": "stream",
     "text": [
      "11:27:10 INFO:Calculating midlines\n"
     ]
    },
    {
     "name": "stdout",
     "output_type": "stream",
     "text": [
      "\r"
     ]
    },
    {
     "data": {
      "application/vnd.jupyter.widget-view+json": {
       "model_id": "",
       "version_major": 2,
       "version_minor": 0
      },
      "text/plain": [
       "HBox(children=(IntProgress(value=0, description='calculating midlines', max=28, style=ProgressStyle(descriptio…"
      ]
     },
     "metadata": {},
     "output_type": "display_data"
    },
    {
     "name": "stderr",
     "output_type": "stream",
     "text": [
      "11:27:10 INFO:Measuring under midlines\n"
     ]
    },
    {
     "name": "stdout",
     "output_type": "stream",
     "text": [
      "\r"
     ]
    },
    {
     "data": {
      "application/vnd.jupyter.widget-view+json": {
       "model_id": "",
       "version_major": 2,
       "version_minor": 0
      },
      "text/plain": [
       "HBox(children=(IntProgress(value=0, description='measuring under midlines', max=28, style=ProgressStyle(descri…"
      ]
     },
     "metadata": {},
     "output_type": "display_data"
    },
    {
     "name": "stderr",
     "output_type": "stream",
     "text": [
      "11:27:11 INFO:Registering profiles\n"
     ]
    },
    {
     "name": "stdout",
     "output_type": "stream",
     "text": [
      "Registering Pair 0\n",
      "Registering Pair 1\n"
     ]
    },
    {
     "name": "stderr",
     "output_type": "stream",
     "text": [
      "11:36:43 INFO:Trimming intensity data\n",
      "11:36:43 INFO:Calculating redox measurements\n",
      "11:36:43 INFO:Saving 2017_08_23-HD233_4mm_lev inside /Users/sean/code/pharynx_redox/data/paired_ratio/2017_08_23-HD233_4mm_lev\n",
      "11:36:43 INFO:Saving region means to /Users/sean/code/pharynx_redox/data/paired_ratio/2017_08_23-HD233_4mm_lev/analyses/2019-10-04_reg_w1e-2/2017_08_23-HD233_4mm_lev-summary_table.csv\n",
      "11:36:44 INFO:Saving untrimmed profile data to /Users/sean/code/pharynx_redox/data/paired_ratio/2017_08_23-HD233_4mm_lev/analyses/2019-10-04_reg_w1e-2/2017_08_23-HD233_4mm_lev-untrimmed_profile_data.nc\n",
      "11:36:44 INFO:Saving trimmed profile data to /Users/sean/code/pharynx_redox/data/paired_ratio/2017_08_23-HD233_4mm_lev/analyses/2019-10-04_reg_w1e-2/2017_08_23-HD233_4mm_lev-trimmed_profile_data.nc\n",
      "11:36:44 INFO:Saving warp data to /Users/sean/code/pharynx_redox/data/paired_ratio/2017_08_23-HD233_4mm_lev/analyses/2019-10-04_reg_w1e-2/2017_08_23-HD233_4mm_lev-warp_data.npy\n",
      "11:36:44 INFO:Finished full pipeline run for /Users/sean/code/pharynx_redox/data/paired_ratio/2017_08_23-HD233_4mm_lev\n",
      "11:36:44 INFO:Starting full pipeline run for /Users/sean/code/pharynx_redox/data/paired_ratio/2017_08_23-HD233_4mm_lev\n",
      "11:36:44 INFO:Segmenting pharynxes\n",
      "11:36:45 INFO:Centering and rotating pharynxes\n"
     ]
    },
    {
     "data": {
      "application/vnd.jupyter.widget-view+json": {
       "model_id": "",
       "version_major": 2,
       "version_minor": 0
      },
      "text/plain": [
       "HBox(children=(IntProgress(value=0, description='aliging pharynxes', max=28, style=ProgressStyle(description_w…"
      ]
     },
     "metadata": {},
     "output_type": "display_data"
    },
    {
     "name": "stderr",
     "output_type": "stream",
     "text": [
      "11:36:49 INFO:Calculating midlines\n"
     ]
    },
    {
     "name": "stdout",
     "output_type": "stream",
     "text": [
      "\r"
     ]
    },
    {
     "data": {
      "application/vnd.jupyter.widget-view+json": {
       "model_id": "",
       "version_major": 2,
       "version_minor": 0
      },
      "text/plain": [
       "HBox(children=(IntProgress(value=0, description='calculating midlines', max=28, style=ProgressStyle(descriptio…"
      ]
     },
     "metadata": {},
     "output_type": "display_data"
    },
    {
     "name": "stderr",
     "output_type": "stream",
     "text": [
      "11:36:50 INFO:Measuring under midlines\n"
     ]
    },
    {
     "name": "stdout",
     "output_type": "stream",
     "text": [
      "\r"
     ]
    },
    {
     "data": {
      "application/vnd.jupyter.widget-view+json": {
       "model_id": "",
       "version_major": 2,
       "version_minor": 0
      },
      "text/plain": [
       "HBox(children=(IntProgress(value=0, description='measuring under midlines', max=28, style=ProgressStyle(descri…"
      ]
     },
     "metadata": {},
     "output_type": "display_data"
    },
    {
     "name": "stderr",
     "output_type": "stream",
     "text": [
      "11:36:50 INFO:Registering profiles\n"
     ]
    },
    {
     "name": "stdout",
     "output_type": "stream",
     "text": [
      "Registering Pair 0\n",
      "Registering Pair 1\n"
     ]
    },
    {
     "name": "stderr",
     "output_type": "stream",
     "text": [
      "11:45:25 INFO:Trimming intensity data\n",
      "11:45:26 INFO:Calculating redox measurements\n",
      "11:45:26 INFO:Saving 2017_08_23-HD233_4mm_lev inside /Users/sean/code/pharynx_redox/data/paired_ratio/2017_08_23-HD233_4mm_lev\n",
      "11:45:26 INFO:Saving region means to /Users/sean/code/pharynx_redox/data/paired_ratio/2017_08_23-HD233_4mm_lev/analyses/2019-10-04_reg_w1e-3/2017_08_23-HD233_4mm_lev-summary_table.csv\n",
      "11:45:26 INFO:Saving untrimmed profile data to /Users/sean/code/pharynx_redox/data/paired_ratio/2017_08_23-HD233_4mm_lev/analyses/2019-10-04_reg_w1e-3/2017_08_23-HD233_4mm_lev-untrimmed_profile_data.nc\n",
      "11:45:26 INFO:Saving trimmed profile data to /Users/sean/code/pharynx_redox/data/paired_ratio/2017_08_23-HD233_4mm_lev/analyses/2019-10-04_reg_w1e-3/2017_08_23-HD233_4mm_lev-trimmed_profile_data.nc\n",
      "11:45:26 INFO:Saving warp data to /Users/sean/code/pharynx_redox/data/paired_ratio/2017_08_23-HD233_4mm_lev/analyses/2019-10-04_reg_w1e-3/2017_08_23-HD233_4mm_lev-warp_data.npy\n",
      "11:45:26 INFO:Finished full pipeline run for /Users/sean/code/pharynx_redox/data/paired_ratio/2017_08_23-HD233_4mm_lev\n",
      "11:45:26 INFO:Running experiment\n",
      "11:45:26 INFO:Starting full pipeline run for /Users/sean/code/pharynx_redox/data/paired_ratio/2017_02_22-HD233_SAY47\n",
      "11:45:26 INFO:Segmenting pharynxes\n",
      "11:45:30 INFO:Centering and rotating pharynxes\n"
     ]
    },
    {
     "data": {
      "application/vnd.jupyter.widget-view+json": {
       "model_id": "",
       "version_major": 2,
       "version_minor": 0
      },
      "text/plain": [
       "HBox(children=(IntProgress(value=0, description='aliging pharynxes', max=123, style=ProgressStyle(description_…"
      ]
     },
     "metadata": {},
     "output_type": "display_data"
    },
    {
     "name": "stderr",
     "output_type": "stream",
     "text": [
      "11:45:43 INFO:Calculating midlines\n"
     ]
    },
    {
     "name": "stdout",
     "output_type": "stream",
     "text": [
      "\r"
     ]
    },
    {
     "data": {
      "application/vnd.jupyter.widget-view+json": {
       "model_id": "",
       "version_major": 2,
       "version_minor": 0
      },
      "text/plain": [
       "HBox(children=(IntProgress(value=0, description='calculating midlines', max=123, style=ProgressStyle(descripti…"
      ]
     },
     "metadata": {},
     "output_type": "display_data"
    },
    {
     "name": "stderr",
     "output_type": "stream",
     "text": [
      "11:45:45 INFO:Measuring under midlines\n"
     ]
    },
    {
     "name": "stdout",
     "output_type": "stream",
     "text": [
      "\r"
     ]
    },
    {
     "data": {
      "application/vnd.jupyter.widget-view+json": {
       "model_id": "",
       "version_major": 2,
       "version_minor": 0
      },
      "text/plain": [
       "HBox(children=(IntProgress(value=0, description='measuring under midlines', max=123, style=ProgressStyle(descr…"
      ]
     },
     "metadata": {},
     "output_type": "display_data"
    },
    {
     "name": "stderr",
     "output_type": "stream",
     "text": [
      "11:45:47 INFO:Registering profiles\n"
     ]
    },
    {
     "name": "stdout",
     "output_type": "stream",
     "text": [
      "Registering Pair 0\n",
      "Registering Pair 1\n"
     ]
    },
    {
     "name": "stderr",
     "output_type": "stream",
     "text": [
      "12:25:33 INFO:Trimming intensity data\n",
      "12:25:34 INFO:Calculating redox measurements\n",
      "12:25:34 INFO:Saving 2017_02_22-HD233_SAY47 inside /Users/sean/code/pharynx_redox/data/paired_ratio/2017_02_22-HD233_SAY47\n",
      "12:25:34 INFO:Saving region means to /Users/sean/code/pharynx_redox/data/paired_ratio/2017_02_22-HD233_SAY47/analyses/2019-10-04_reg_w1e-2/2017_02_22-HD233_SAY47-summary_table.csv\n",
      "12:25:35 INFO:Saving untrimmed profile data to /Users/sean/code/pharynx_redox/data/paired_ratio/2017_02_22-HD233_SAY47/analyses/2019-10-04_reg_w1e-2/2017_02_22-HD233_SAY47-untrimmed_profile_data.nc\n",
      "12:25:35 INFO:Saving trimmed profile data to /Users/sean/code/pharynx_redox/data/paired_ratio/2017_02_22-HD233_SAY47/analyses/2019-10-04_reg_w1e-2/2017_02_22-HD233_SAY47-trimmed_profile_data.nc\n",
      "12:25:35 INFO:Saving warp data to /Users/sean/code/pharynx_redox/data/paired_ratio/2017_02_22-HD233_SAY47/analyses/2019-10-04_reg_w1e-2/2017_02_22-HD233_SAY47-warp_data.npy\n",
      "12:25:35 INFO:Finished full pipeline run for /Users/sean/code/pharynx_redox/data/paired_ratio/2017_02_22-HD233_SAY47\n",
      "12:25:35 INFO:Starting full pipeline run for /Users/sean/code/pharynx_redox/data/paired_ratio/2017_02_22-HD233_SAY47\n",
      "12:25:35 INFO:Segmenting pharynxes\n",
      "12:25:38 INFO:Centering and rotating pharynxes\n"
     ]
    },
    {
     "data": {
      "application/vnd.jupyter.widget-view+json": {
       "model_id": "",
       "version_major": 2,
       "version_minor": 0
      },
      "text/plain": [
       "HBox(children=(IntProgress(value=0, description='aliging pharynxes', max=123, style=ProgressStyle(description_…"
      ]
     },
     "metadata": {},
     "output_type": "display_data"
    },
    {
     "name": "stderr",
     "output_type": "stream",
     "text": [
      "12:25:51 INFO:Calculating midlines\n"
     ]
    },
    {
     "name": "stdout",
     "output_type": "stream",
     "text": [
      "\r"
     ]
    },
    {
     "data": {
      "application/vnd.jupyter.widget-view+json": {
       "model_id": "",
       "version_major": 2,
       "version_minor": 0
      },
      "text/plain": [
       "HBox(children=(IntProgress(value=0, description='calculating midlines', max=123, style=ProgressStyle(descripti…"
      ]
     },
     "metadata": {},
     "output_type": "display_data"
    },
    {
     "name": "stderr",
     "output_type": "stream",
     "text": [
      "12:25:53 INFO:Measuring under midlines\n"
     ]
    },
    {
     "name": "stdout",
     "output_type": "stream",
     "text": [
      "\r"
     ]
    },
    {
     "data": {
      "application/vnd.jupyter.widget-view+json": {
       "model_id": "",
       "version_major": 2,
       "version_minor": 0
      },
      "text/plain": [
       "HBox(children=(IntProgress(value=0, description='measuring under midlines', max=123, style=ProgressStyle(descr…"
      ]
     },
     "metadata": {},
     "output_type": "display_data"
    },
    {
     "name": "stderr",
     "output_type": "stream",
     "text": [
      "12:25:55 INFO:Registering profiles\n"
     ]
    },
    {
     "name": "stdout",
     "output_type": "stream",
     "text": [
      "Registering Pair 0\n",
      "Registering Pair 1\n"
     ]
    },
    {
     "name": "stderr",
     "output_type": "stream",
     "text": [
      "01:06:05 INFO:Trimming intensity data\n",
      "01:06:07 INFO:Calculating redox measurements\n",
      "01:06:07 INFO:Saving 2017_02_22-HD233_SAY47 inside /Users/sean/code/pharynx_redox/data/paired_ratio/2017_02_22-HD233_SAY47\n",
      "01:06:07 INFO:Saving region means to /Users/sean/code/pharynx_redox/data/paired_ratio/2017_02_22-HD233_SAY47/analyses/2019-10-04_reg_w1e-3/2017_02_22-HD233_SAY47-summary_table.csv\n",
      "01:06:07 INFO:Saving untrimmed profile data to /Users/sean/code/pharynx_redox/data/paired_ratio/2017_02_22-HD233_SAY47/analyses/2019-10-04_reg_w1e-3/2017_02_22-HD233_SAY47-untrimmed_profile_data.nc\n",
      "01:06:07 INFO:Saving trimmed profile data to /Users/sean/code/pharynx_redox/data/paired_ratio/2017_02_22-HD233_SAY47/analyses/2019-10-04_reg_w1e-3/2017_02_22-HD233_SAY47-trimmed_profile_data.nc\n",
      "01:06:07 INFO:Saving warp data to /Users/sean/code/pharynx_redox/data/paired_ratio/2017_02_22-HD233_SAY47/analyses/2019-10-04_reg_w1e-3/2017_02_22-HD233_SAY47-warp_data.npy\n",
      "01:06:08 INFO:Finished full pipeline run for /Users/sean/code/pharynx_redox/data/paired_ratio/2017_02_22-HD233_SAY47\n",
      "01:06:08 INFO:Running experiment\n",
      "01:06:08 INFO:Starting full pipeline run for /Users/sean/code/pharynx_redox/data/paired_ratio/2017_08_25-HD233_SAY93\n",
      "01:06:08 INFO:Segmenting pharynxes\n",
      "01:06:09 INFO:Centering and rotating pharynxes\n"
     ]
    },
    {
     "data": {
      "application/vnd.jupyter.widget-view+json": {
       "model_id": "",
       "version_major": 2,
       "version_minor": 0
      },
      "text/plain": [
       "HBox(children=(IntProgress(value=0, description='aliging pharynxes', max=35, style=ProgressStyle(description_w…"
      ]
     },
     "metadata": {},
     "output_type": "display_data"
    },
    {
     "name": "stderr",
     "output_type": "stream",
     "text": [
      "01:06:12 INFO:Calculating midlines\n"
     ]
    },
    {
     "name": "stdout",
     "output_type": "stream",
     "text": [
      "\r"
     ]
    },
    {
     "data": {
      "application/vnd.jupyter.widget-view+json": {
       "model_id": "",
       "version_major": 2,
       "version_minor": 0
      },
      "text/plain": [
       "HBox(children=(IntProgress(value=0, description='calculating midlines', max=35, style=ProgressStyle(descriptio…"
      ]
     },
     "metadata": {},
     "output_type": "display_data"
    },
    {
     "name": "stderr",
     "output_type": "stream",
     "text": [
      "01:06:13 INFO:Measuring under midlines\n"
     ]
    },
    {
     "name": "stdout",
     "output_type": "stream",
     "text": [
      "\r"
     ]
    },
    {
     "data": {
      "application/vnd.jupyter.widget-view+json": {
       "model_id": "",
       "version_major": 2,
       "version_minor": 0
      },
      "text/plain": [
       "HBox(children=(IntProgress(value=0, description='measuring under midlines', max=35, style=ProgressStyle(descri…"
      ]
     },
     "metadata": {},
     "output_type": "display_data"
    },
    {
     "name": "stderr",
     "output_type": "stream",
     "text": [
      "01:06:13 INFO:Registering profiles\n"
     ]
    },
    {
     "name": "stdout",
     "output_type": "stream",
     "text": [
      "Registering Pair 0\n",
      "Registering Pair 1\n"
     ]
    },
    {
     "name": "stderr",
     "output_type": "stream",
     "text": [
      "01:17:13 INFO:Trimming intensity data\n",
      "01:17:13 INFO:Calculating redox measurements\n",
      "01:17:13 INFO:Saving 2017_08_25-HD233_SAY93 inside /Users/sean/code/pharynx_redox/data/paired_ratio/2017_08_25-HD233_SAY93\n",
      "01:17:13 INFO:Saving region means to /Users/sean/code/pharynx_redox/data/paired_ratio/2017_08_25-HD233_SAY93/analyses/2019-10-04_reg_w1e-2/2017_08_25-HD233_SAY93-summary_table.csv\n",
      "01:17:15 INFO:Saving untrimmed profile data to /Users/sean/code/pharynx_redox/data/paired_ratio/2017_08_25-HD233_SAY93/analyses/2019-10-04_reg_w1e-2/2017_08_25-HD233_SAY93-untrimmed_profile_data.nc\n",
      "01:17:15 INFO:Saving trimmed profile data to /Users/sean/code/pharynx_redox/data/paired_ratio/2017_08_25-HD233_SAY93/analyses/2019-10-04_reg_w1e-2/2017_08_25-HD233_SAY93-trimmed_profile_data.nc\n",
      "01:17:15 INFO:Saving warp data to /Users/sean/code/pharynx_redox/data/paired_ratio/2017_08_25-HD233_SAY93/analyses/2019-10-04_reg_w1e-2/2017_08_25-HD233_SAY93-warp_data.npy\n",
      "01:17:15 INFO:Finished full pipeline run for /Users/sean/code/pharynx_redox/data/paired_ratio/2017_08_25-HD233_SAY93\n",
      "01:17:15 INFO:Starting full pipeline run for /Users/sean/code/pharynx_redox/data/paired_ratio/2017_08_25-HD233_SAY93\n",
      "01:17:15 INFO:Segmenting pharynxes\n",
      "01:17:16 INFO:Centering and rotating pharynxes\n"
     ]
    },
    {
     "data": {
      "application/vnd.jupyter.widget-view+json": {
       "model_id": "",
       "version_major": 2,
       "version_minor": 0
      },
      "text/plain": [
       "HBox(children=(IntProgress(value=0, description='aliging pharynxes', max=35, style=ProgressStyle(description_w…"
      ]
     },
     "metadata": {},
     "output_type": "display_data"
    },
    {
     "name": "stderr",
     "output_type": "stream",
     "text": [
      "01:17:19 INFO:Calculating midlines\n"
     ]
    },
    {
     "name": "stdout",
     "output_type": "stream",
     "text": [
      "\r"
     ]
    },
    {
     "data": {
      "application/vnd.jupyter.widget-view+json": {
       "model_id": "",
       "version_major": 2,
       "version_minor": 0
      },
      "text/plain": [
       "HBox(children=(IntProgress(value=0, description='calculating midlines', max=35, style=ProgressStyle(descriptio…"
      ]
     },
     "metadata": {},
     "output_type": "display_data"
    },
    {
     "name": "stderr",
     "output_type": "stream",
     "text": [
      "01:17:19 INFO:Measuring under midlines\n"
     ]
    },
    {
     "name": "stdout",
     "output_type": "stream",
     "text": [
      "\r"
     ]
    },
    {
     "data": {
      "application/vnd.jupyter.widget-view+json": {
       "model_id": "",
       "version_major": 2,
       "version_minor": 0
      },
      "text/plain": [
       "HBox(children=(IntProgress(value=0, description='measuring under midlines', max=35, style=ProgressStyle(descri…"
      ]
     },
     "metadata": {},
     "output_type": "display_data"
    },
    {
     "name": "stderr",
     "output_type": "stream",
     "text": [
      "01:17:20 INFO:Registering profiles\n"
     ]
    },
    {
     "name": "stdout",
     "output_type": "stream",
     "text": [
      "Registering Pair 0\n",
      "Registering Pair 1\n"
     ]
    },
    {
     "name": "stderr",
     "output_type": "stream",
     "text": [
      "01:28:24 INFO:Trimming intensity data\n",
      "01:28:24 INFO:Calculating redox measurements\n",
      "01:28:24 INFO:Saving 2017_08_25-HD233_SAY93 inside /Users/sean/code/pharynx_redox/data/paired_ratio/2017_08_25-HD233_SAY93\n",
      "01:28:24 INFO:Saving region means to /Users/sean/code/pharynx_redox/data/paired_ratio/2017_08_25-HD233_SAY93/analyses/2019-10-04_reg_w1e-3/2017_08_25-HD233_SAY93-summary_table.csv\n",
      "01:28:25 INFO:Saving untrimmed profile data to /Users/sean/code/pharynx_redox/data/paired_ratio/2017_08_25-HD233_SAY93/analyses/2019-10-04_reg_w1e-3/2017_08_25-HD233_SAY93-untrimmed_profile_data.nc\n",
      "01:28:25 INFO:Saving trimmed profile data to /Users/sean/code/pharynx_redox/data/paired_ratio/2017_08_25-HD233_SAY93/analyses/2019-10-04_reg_w1e-3/2017_08_25-HD233_SAY93-trimmed_profile_data.nc\n",
      "01:28:25 INFO:Saving warp data to /Users/sean/code/pharynx_redox/data/paired_ratio/2017_08_25-HD233_SAY93/analyses/2019-10-04_reg_w1e-3/2017_08_25-HD233_SAY93-warp_data.npy\n",
      "01:28:25 INFO:Finished full pipeline run for /Users/sean/code/pharynx_redox/data/paired_ratio/2017_08_25-HD233_SAY93\n",
      "01:28:25 INFO:Running experiment\n",
      "01:28:25 INFO:Starting full pipeline run for /Users/sean/code/pharynx_redox/data/paired_ratio/2019_04_03-ASI_ablation\n",
      "01:28:25 INFO:Segmenting pharynxes\n",
      "/Users/sean/.local/share/virtualenvs/worm/lib/python3.7/site-packages/joblib/externals/loky/process_executor.py:706: UserWarning: A worker stopped while some jobs were given to the executor. This can be caused by a too short worker timeout or by a memory leak.\n",
      "  \"timeout or by a memory leak.\", UserWarning\n",
      "01:28:28 INFO:Centering and rotating pharynxes\n"
     ]
    },
    {
     "data": {
      "application/vnd.jupyter.widget-view+json": {
       "model_id": "",
       "version_major": 2,
       "version_minor": 0
      },
      "text/plain": [
       "HBox(children=(IntProgress(value=0, description='aliging pharynxes', max=123, style=ProgressStyle(description_…"
      ]
     },
     "metadata": {},
     "output_type": "display_data"
    },
    {
     "name": "stderr",
     "output_type": "stream",
     "text": [
      "01:28:39 INFO:Calculating midlines\n"
     ]
    },
    {
     "name": "stdout",
     "output_type": "stream",
     "text": [
      "\r"
     ]
    },
    {
     "data": {
      "application/vnd.jupyter.widget-view+json": {
       "model_id": "",
       "version_major": 2,
       "version_minor": 0
      },
      "text/plain": [
       "HBox(children=(IntProgress(value=0, description='calculating midlines', max=123, style=ProgressStyle(descripti…"
      ]
     },
     "metadata": {},
     "output_type": "display_data"
    },
    {
     "name": "stderr",
     "output_type": "stream",
     "text": [
      "01:28:40 INFO:Measuring under midlines\n"
     ]
    },
    {
     "name": "stdout",
     "output_type": "stream",
     "text": [
      "\r"
     ]
    },
    {
     "data": {
      "application/vnd.jupyter.widget-view+json": {
       "model_id": "",
       "version_major": 2,
       "version_minor": 0
      },
      "text/plain": [
       "HBox(children=(IntProgress(value=0, description='measuring under midlines', max=123, style=ProgressStyle(descr…"
      ]
     },
     "metadata": {},
     "output_type": "display_data"
    },
    {
     "name": "stderr",
     "output_type": "stream",
     "text": [
      "01:28:42 INFO:Registering profiles\n"
     ]
    },
    {
     "name": "stdout",
     "output_type": "stream",
     "text": [
      "Registering Pair 0\n",
      "Registering Pair 1\n"
     ]
    },
    {
     "name": "stderr",
     "output_type": "stream",
     "text": [
      "02:08:46 INFO:Trimming intensity data\n",
      "02:08:49 INFO:Calculating redox measurements\n",
      "/Users/sean/.local/share/virtualenvs/worm/lib/python3.7/site-packages/xarray/core/computation.py:609: RuntimeWarning: invalid value encountered in log\n",
      "  result_data = func(*input_data)\n",
      "02:08:49 INFO:Saving 2019_04_03-ASI_ablation inside /Users/sean/code/pharynx_redox/data/paired_ratio/2019_04_03-ASI_ablation\n",
      "02:08:49 INFO:Saving region means to /Users/sean/code/pharynx_redox/data/paired_ratio/2019_04_03-ASI_ablation/analyses/2019-10-04_reg_w1e-2/2019_04_03-ASI_ablation-summary_table.csv\n",
      "02:08:49 INFO:Saving untrimmed profile data to /Users/sean/code/pharynx_redox/data/paired_ratio/2019_04_03-ASI_ablation/analyses/2019-10-04_reg_w1e-2/2019_04_03-ASI_ablation-untrimmed_profile_data.nc\n",
      "02:08:49 INFO:Saving trimmed profile data to /Users/sean/code/pharynx_redox/data/paired_ratio/2019_04_03-ASI_ablation/analyses/2019-10-04_reg_w1e-2/2019_04_03-ASI_ablation-trimmed_profile_data.nc\n",
      "02:08:49 INFO:Saving warp data to /Users/sean/code/pharynx_redox/data/paired_ratio/2019_04_03-ASI_ablation/analyses/2019-10-04_reg_w1e-2/2019_04_03-ASI_ablation-warp_data.npy\n",
      "02:08:49 INFO:Finished full pipeline run for /Users/sean/code/pharynx_redox/data/paired_ratio/2019_04_03-ASI_ablation\n",
      "02:08:49 INFO:Starting full pipeline run for /Users/sean/code/pharynx_redox/data/paired_ratio/2019_04_03-ASI_ablation\n",
      "02:08:49 INFO:Segmenting pharynxes\n",
      "02:08:53 INFO:Centering and rotating pharynxes\n"
     ]
    },
    {
     "data": {
      "application/vnd.jupyter.widget-view+json": {
       "model_id": "",
       "version_major": 2,
       "version_minor": 0
      },
      "text/plain": [
       "HBox(children=(IntProgress(value=0, description='aliging pharynxes', max=123, style=ProgressStyle(description_…"
      ]
     },
     "metadata": {},
     "output_type": "display_data"
    },
    {
     "name": "stderr",
     "output_type": "stream",
     "text": [
      "02:09:06 INFO:Calculating midlines\n"
     ]
    },
    {
     "name": "stdout",
     "output_type": "stream",
     "text": [
      "\r"
     ]
    },
    {
     "data": {
      "application/vnd.jupyter.widget-view+json": {
       "model_id": "",
       "version_major": 2,
       "version_minor": 0
      },
      "text/plain": [
       "HBox(children=(IntProgress(value=0, description='calculating midlines', max=123, style=ProgressStyle(descripti…"
      ]
     },
     "metadata": {},
     "output_type": "display_data"
    },
    {
     "name": "stderr",
     "output_type": "stream",
     "text": [
      "02:09:08 INFO:Measuring under midlines\n"
     ]
    },
    {
     "name": "stdout",
     "output_type": "stream",
     "text": [
      "\r"
     ]
    },
    {
     "data": {
      "application/vnd.jupyter.widget-view+json": {
       "model_id": "",
       "version_major": 2,
       "version_minor": 0
      },
      "text/plain": [
       "HBox(children=(IntProgress(value=0, description='measuring under midlines', max=123, style=ProgressStyle(descr…"
      ]
     },
     "metadata": {},
     "output_type": "display_data"
    },
    {
     "name": "stderr",
     "output_type": "stream",
     "text": [
      "02:09:10 INFO:Registering profiles\n"
     ]
    },
    {
     "name": "stdout",
     "output_type": "stream",
     "text": [
      "Registering Pair 0\n",
      "Registering Pair 1\n"
     ]
    },
    {
     "name": "stderr",
     "output_type": "stream",
     "text": [
      "02:49:34 INFO:Trimming intensity data\n",
      "02:49:35 INFO:Calculating redox measurements\n",
      "/Users/sean/.local/share/virtualenvs/worm/lib/python3.7/site-packages/xarray/core/computation.py:609: RuntimeWarning: invalid value encountered in log\n",
      "  result_data = func(*input_data)\n",
      "02:49:35 INFO:Saving 2019_04_03-ASI_ablation inside /Users/sean/code/pharynx_redox/data/paired_ratio/2019_04_03-ASI_ablation\n",
      "02:49:35 INFO:Saving region means to /Users/sean/code/pharynx_redox/data/paired_ratio/2019_04_03-ASI_ablation/analyses/2019-10-04_reg_w1e-3/2019_04_03-ASI_ablation-summary_table.csv\n",
      "02:49:36 INFO:Saving untrimmed profile data to /Users/sean/code/pharynx_redox/data/paired_ratio/2019_04_03-ASI_ablation/analyses/2019-10-04_reg_w1e-3/2019_04_03-ASI_ablation-untrimmed_profile_data.nc\n",
      "02:49:36 INFO:Saving trimmed profile data to /Users/sean/code/pharynx_redox/data/paired_ratio/2019_04_03-ASI_ablation/analyses/2019-10-04_reg_w1e-3/2019_04_03-ASI_ablation-trimmed_profile_data.nc\n",
      "02:49:36 INFO:Saving warp data to /Users/sean/code/pharynx_redox/data/paired_ratio/2019_04_03-ASI_ablation/analyses/2019-10-04_reg_w1e-3/2019_04_03-ASI_ablation-warp_data.npy\n",
      "02:49:36 INFO:Finished full pipeline run for /Users/sean/code/pharynx_redox/data/paired_ratio/2019_04_03-ASI_ablation\n",
      "02:49:36 INFO:Running experiment\n",
      "02:49:36 INFO:Starting full pipeline run for /Users/sean/code/pharynx_redox/data/paired_ratio/2017_02_23-HD233_HD236\n",
      "02:49:36 INFO:Segmenting pharynxes\n",
      "02:49:38 INFO:Centering and rotating pharynxes\n"
     ]
    },
    {
     "data": {
      "application/vnd.jupyter.widget-view+json": {
       "model_id": "",
       "version_major": 2,
       "version_minor": 0
      },
      "text/plain": [
       "HBox(children=(IntProgress(value=0, description='aliging pharynxes', max=109, style=ProgressStyle(description_…"
      ]
     },
     "metadata": {},
     "output_type": "display_data"
    },
    {
     "name": "stderr",
     "output_type": "stream",
     "text": [
      "02:49:48 INFO:Calculating midlines\n"
     ]
    },
    {
     "name": "stdout",
     "output_type": "stream",
     "text": [
      "\r"
     ]
    },
    {
     "data": {
      "application/vnd.jupyter.widget-view+json": {
       "model_id": "",
       "version_major": 2,
       "version_minor": 0
      },
      "text/plain": [
       "HBox(children=(IntProgress(value=0, description='calculating midlines', max=109, style=ProgressStyle(descripti…"
      ]
     },
     "metadata": {},
     "output_type": "display_data"
    },
    {
     "name": "stderr",
     "output_type": "stream",
     "text": [
      "02:49:49 INFO:Measuring under midlines\n"
     ]
    },
    {
     "name": "stdout",
     "output_type": "stream",
     "text": [
      "\r"
     ]
    },
    {
     "data": {
      "application/vnd.jupyter.widget-view+json": {
       "model_id": "",
       "version_major": 2,
       "version_minor": 0
      },
      "text/plain": [
       "HBox(children=(IntProgress(value=0, description='measuring under midlines', max=109, style=ProgressStyle(descr…"
      ]
     },
     "metadata": {},
     "output_type": "display_data"
    },
    {
     "name": "stderr",
     "output_type": "stream",
     "text": [
      "02:49:51 INFO:Registering profiles\n"
     ]
    },
    {
     "name": "stdout",
     "output_type": "stream",
     "text": [
      "Registering Pair 0\n",
      "Registering Pair 1\n"
     ]
    },
    {
     "name": "stderr",
     "output_type": "stream",
     "text": [
      "03:26:06 INFO:Trimming intensity data\n",
      "03:26:07 INFO:Calculating redox measurements\n",
      "03:26:07 INFO:Saving 2017_02_23-HD233_HD236 inside /Users/sean/code/pharynx_redox/data/paired_ratio/2017_02_23-HD233_HD236\n",
      "03:26:07 INFO:Saving region means to /Users/sean/code/pharynx_redox/data/paired_ratio/2017_02_23-HD233_HD236/analyses/2019-10-04_reg_w1e-2/2017_02_23-HD233_HD236-summary_table.csv\n",
      "03:26:08 INFO:Saving untrimmed profile data to /Users/sean/code/pharynx_redox/data/paired_ratio/2017_02_23-HD233_HD236/analyses/2019-10-04_reg_w1e-2/2017_02_23-HD233_HD236-untrimmed_profile_data.nc\n",
      "03:26:08 INFO:Saving trimmed profile data to /Users/sean/code/pharynx_redox/data/paired_ratio/2017_02_23-HD233_HD236/analyses/2019-10-04_reg_w1e-2/2017_02_23-HD233_HD236-trimmed_profile_data.nc\n",
      "03:26:08 INFO:Saving warp data to /Users/sean/code/pharynx_redox/data/paired_ratio/2017_02_23-HD233_HD236/analyses/2019-10-04_reg_w1e-2/2017_02_23-HD233_HD236-warp_data.npy\n",
      "03:26:08 INFO:Finished full pipeline run for /Users/sean/code/pharynx_redox/data/paired_ratio/2017_02_23-HD233_HD236\n",
      "03:26:08 INFO:Starting full pipeline run for /Users/sean/code/pharynx_redox/data/paired_ratio/2017_02_23-HD233_HD236\n",
      "03:26:08 INFO:Segmenting pharynxes\n",
      "03:26:11 INFO:Centering and rotating pharynxes\n"
     ]
    },
    {
     "data": {
      "application/vnd.jupyter.widget-view+json": {
       "model_id": "",
       "version_major": 2,
       "version_minor": 0
      },
      "text/plain": [
       "HBox(children=(IntProgress(value=0, description='aliging pharynxes', max=109, style=ProgressStyle(description_…"
      ]
     },
     "metadata": {},
     "output_type": "display_data"
    },
    {
     "name": "stderr",
     "output_type": "stream",
     "text": [
      "03:26:20 INFO:Calculating midlines\n"
     ]
    },
    {
     "name": "stdout",
     "output_type": "stream",
     "text": [
      "\r"
     ]
    },
    {
     "data": {
      "application/vnd.jupyter.widget-view+json": {
       "model_id": "",
       "version_major": 2,
       "version_minor": 0
      },
      "text/plain": [
       "HBox(children=(IntProgress(value=0, description='calculating midlines', max=109, style=ProgressStyle(descripti…"
      ]
     },
     "metadata": {},
     "output_type": "display_data"
    },
    {
     "name": "stderr",
     "output_type": "stream",
     "text": [
      "03:26:22 INFO:Measuring under midlines\n"
     ]
    },
    {
     "name": "stdout",
     "output_type": "stream",
     "text": [
      "\r"
     ]
    },
    {
     "data": {
      "application/vnd.jupyter.widget-view+json": {
       "model_id": "",
       "version_major": 2,
       "version_minor": 0
      },
      "text/plain": [
       "HBox(children=(IntProgress(value=0, description='measuring under midlines', max=109, style=ProgressStyle(descr…"
      ]
     },
     "metadata": {},
     "output_type": "display_data"
    },
    {
     "name": "stderr",
     "output_type": "stream",
     "text": [
      "03:26:23 INFO:Registering profiles\n"
     ]
    },
    {
     "name": "stdout",
     "output_type": "stream",
     "text": [
      "Registering Pair 0\n",
      "Registering Pair 1\n"
     ]
    },
    {
     "name": "stderr",
     "output_type": "stream",
     "text": [
      "04:02:05 INFO:Trimming intensity data\n",
      "04:02:07 INFO:Calculating redox measurements\n",
      "04:02:07 INFO:Saving 2017_02_23-HD233_HD236 inside /Users/sean/code/pharynx_redox/data/paired_ratio/2017_02_23-HD233_HD236\n",
      "04:02:07 INFO:Saving region means to /Users/sean/code/pharynx_redox/data/paired_ratio/2017_02_23-HD233_HD236/analyses/2019-10-04_reg_w1e-3/2017_02_23-HD233_HD236-summary_table.csv\n",
      "04:02:07 INFO:Saving untrimmed profile data to /Users/sean/code/pharynx_redox/data/paired_ratio/2017_02_23-HD233_HD236/analyses/2019-10-04_reg_w1e-3/2017_02_23-HD233_HD236-untrimmed_profile_data.nc\n",
      "04:02:07 INFO:Saving trimmed profile data to /Users/sean/code/pharynx_redox/data/paired_ratio/2017_02_23-HD233_HD236/analyses/2019-10-04_reg_w1e-3/2017_02_23-HD233_HD236-trimmed_profile_data.nc\n",
      "04:02:07 INFO:Saving warp data to /Users/sean/code/pharynx_redox/data/paired_ratio/2017_02_23-HD233_HD236/analyses/2019-10-04_reg_w1e-3/2017_02_23-HD233_HD236-warp_data.npy\n",
      "04:02:07 INFO:Finished full pipeline run for /Users/sean/code/pharynx_redox/data/paired_ratio/2017_02_23-HD233_HD236\n",
      "04:02:07 INFO:Running experiment\n",
      "04:02:07 INFO:Starting full pipeline run for /Users/sean/code/pharynx_redox/data/paired_ratio/2017_03_01_HD233_HD236\n",
      "04:02:07 INFO:Segmenting pharynxes\n",
      "04:02:10 INFO:Centering and rotating pharynxes\n"
     ]
    },
    {
     "data": {
      "application/vnd.jupyter.widget-view+json": {
       "model_id": "",
       "version_major": 2,
       "version_minor": 0
      },
      "text/plain": [
       "HBox(children=(IntProgress(value=0, description='aliging pharynxes', max=120, style=ProgressStyle(description_…"
      ]
     },
     "metadata": {},
     "output_type": "display_data"
    },
    {
     "name": "stderr",
     "output_type": "stream",
     "text": [
      "04:02:22 INFO:Calculating midlines\n"
     ]
    },
    {
     "name": "stdout",
     "output_type": "stream",
     "text": [
      "\r"
     ]
    },
    {
     "data": {
      "application/vnd.jupyter.widget-view+json": {
       "model_id": "",
       "version_major": 2,
       "version_minor": 0
      },
      "text/plain": [
       "HBox(children=(IntProgress(value=0, description='calculating midlines', max=120, style=ProgressStyle(descripti…"
      ]
     },
     "metadata": {},
     "output_type": "display_data"
    },
    {
     "name": "stderr",
     "output_type": "stream",
     "text": [
      "04:02:23 INFO:Measuring under midlines\n"
     ]
    },
    {
     "name": "stdout",
     "output_type": "stream",
     "text": [
      "\r"
     ]
    },
    {
     "data": {
      "application/vnd.jupyter.widget-view+json": {
       "model_id": "",
       "version_major": 2,
       "version_minor": 0
      },
      "text/plain": [
       "HBox(children=(IntProgress(value=0, description='measuring under midlines', max=120, style=ProgressStyle(descr…"
      ]
     },
     "metadata": {},
     "output_type": "display_data"
    },
    {
     "name": "stderr",
     "output_type": "stream",
     "text": [
      "04:02:25 INFO:Registering profiles\n"
     ]
    },
    {
     "name": "stdout",
     "output_type": "stream",
     "text": [
      "Registering Pair 0\n",
      "Registering Pair 1\n"
     ]
    },
    {
     "name": "stderr",
     "output_type": "stream",
     "text": [
      "06:15:53 INFO:Trimming intensity data\n",
      "06:15:55 INFO:Calculating redox measurements\n",
      "06:15:55 INFO:Saving 2017_03_01_HD233_HD236 inside /Users/sean/code/pharynx_redox/data/paired_ratio/2017_03_01_HD233_HD236\n",
      "06:15:55 INFO:Saving region means to /Users/sean/code/pharynx_redox/data/paired_ratio/2017_03_01_HD233_HD236/analyses/2019-10-04_reg_w1e-2/2017_03_01_HD233_HD236-summary_table.csv\n",
      "06:15:56 INFO:Saving untrimmed profile data to /Users/sean/code/pharynx_redox/data/paired_ratio/2017_03_01_HD233_HD236/analyses/2019-10-04_reg_w1e-2/2017_03_01_HD233_HD236-untrimmed_profile_data.nc\n",
      "06:15:56 INFO:Saving trimmed profile data to /Users/sean/code/pharynx_redox/data/paired_ratio/2017_03_01_HD233_HD236/analyses/2019-10-04_reg_w1e-2/2017_03_01_HD233_HD236-trimmed_profile_data.nc\n",
      "06:15:56 INFO:Saving warp data to /Users/sean/code/pharynx_redox/data/paired_ratio/2017_03_01_HD233_HD236/analyses/2019-10-04_reg_w1e-2/2017_03_01_HD233_HD236-warp_data.npy\n",
      "06:15:56 INFO:Finished full pipeline run for /Users/sean/code/pharynx_redox/data/paired_ratio/2017_03_01_HD233_HD236\n",
      "06:15:56 INFO:Starting full pipeline run for /Users/sean/code/pharynx_redox/data/paired_ratio/2017_03_01_HD233_HD236\n",
      "06:15:56 INFO:Segmenting pharynxes\n",
      "06:15:59 INFO:Centering and rotating pharynxes\n"
     ]
    },
    {
     "data": {
      "application/vnd.jupyter.widget-view+json": {
       "model_id": "",
       "version_major": 2,
       "version_minor": 0
      },
      "text/plain": [
       "HBox(children=(IntProgress(value=0, description='aliging pharynxes', max=120, style=ProgressStyle(description_…"
      ]
     },
     "metadata": {},
     "output_type": "display_data"
    },
    {
     "name": "stderr",
     "output_type": "stream",
     "text": [
      "06:16:11 INFO:Calculating midlines\n"
     ]
    },
    {
     "name": "stdout",
     "output_type": "stream",
     "text": [
      "\r"
     ]
    },
    {
     "data": {
      "application/vnd.jupyter.widget-view+json": {
       "model_id": "",
       "version_major": 2,
       "version_minor": 0
      },
      "text/plain": [
       "HBox(children=(IntProgress(value=0, description='calculating midlines', max=120, style=ProgressStyle(descripti…"
      ]
     },
     "metadata": {},
     "output_type": "display_data"
    },
    {
     "name": "stderr",
     "output_type": "stream",
     "text": [
      "06:16:13 INFO:Measuring under midlines\n"
     ]
    },
    {
     "name": "stdout",
     "output_type": "stream",
     "text": [
      "\r"
     ]
    },
    {
     "data": {
      "application/vnd.jupyter.widget-view+json": {
       "model_id": "",
       "version_major": 2,
       "version_minor": 0
      },
      "text/plain": [
       "HBox(children=(IntProgress(value=0, description='measuring under midlines', max=120, style=ProgressStyle(descr…"
      ]
     },
     "metadata": {},
     "output_type": "display_data"
    },
    {
     "name": "stderr",
     "output_type": "stream",
     "text": [
      "06:16:14 INFO:Registering profiles\n"
     ]
    },
    {
     "name": "stdout",
     "output_type": "stream",
     "text": [
      "Registering Pair 0\n",
      "Registering Pair 1\n"
     ]
    },
    {
     "name": "stderr",
     "output_type": "stream",
     "text": [
      "09:15:54 INFO:Trimming intensity data\n",
      "09:15:56 INFO:Calculating redox measurements\n",
      "09:15:56 INFO:Saving 2017_03_01_HD233_HD236 inside /Users/sean/code/pharynx_redox/data/paired_ratio/2017_03_01_HD233_HD236\n",
      "09:15:56 INFO:Saving region means to /Users/sean/code/pharynx_redox/data/paired_ratio/2017_03_01_HD233_HD236/analyses/2019-10-07_reg_w1e-3/2017_03_01_HD233_HD236-summary_table.csv\n",
      "09:15:56 INFO:Saving untrimmed profile data to /Users/sean/code/pharynx_redox/data/paired_ratio/2017_03_01_HD233_HD236/analyses/2019-10-07_reg_w1e-3/2017_03_01_HD233_HD236-untrimmed_profile_data.nc\n",
      "09:15:56 INFO:Saving trimmed profile data to /Users/sean/code/pharynx_redox/data/paired_ratio/2017_03_01_HD233_HD236/analyses/2019-10-07_reg_w1e-3/2017_03_01_HD233_HD236-trimmed_profile_data.nc\n",
      "09:15:56 INFO:Saving warp data to /Users/sean/code/pharynx_redox/data/paired_ratio/2017_03_01_HD233_HD236/analyses/2019-10-07_reg_w1e-3/2017_03_01_HD233_HD236-warp_data.npy\n",
      "09:15:56 INFO:Finished full pipeline run for /Users/sean/code/pharynx_redox/data/paired_ratio/2017_03_01_HD233_HD236\n",
      "09:15:56 INFO:Running experiment\n",
      "09:15:56 INFO:Starting full pipeline run for /Users/sean/code/pharynx_redox/data/paired_ratio/2017_08_15-HD233_4mM_lev\n",
      "09:15:56 INFO:Segmenting pharynxes\n",
      "09:15:58 INFO:Centering and rotating pharynxes\n"
     ]
    },
    {
     "data": {
      "application/vnd.jupyter.widget-view+json": {
       "model_id": "",
       "version_major": 2,
       "version_minor": 0
      },
      "text/plain": [
       "HBox(children=(IntProgress(value=0, description='aliging pharynxes', max=80, style=ProgressStyle(description_w…"
      ]
     },
     "metadata": {},
     "output_type": "display_data"
    },
    {
     "name": "stderr",
     "output_type": "stream",
     "text": [
      "09:16:07 INFO:Calculating midlines\n"
     ]
    },
    {
     "name": "stdout",
     "output_type": "stream",
     "text": [
      "\r"
     ]
    },
    {
     "data": {
      "application/vnd.jupyter.widget-view+json": {
       "model_id": "",
       "version_major": 2,
       "version_minor": 0
      },
      "text/plain": [
       "HBox(children=(IntProgress(value=0, description='calculating midlines', max=80, style=ProgressStyle(descriptio…"
      ]
     },
     "metadata": {},
     "output_type": "display_data"
    },
    {
     "name": "stderr",
     "output_type": "stream",
     "text": [
      "09:16:08 INFO:Measuring under midlines\n"
     ]
    },
    {
     "name": "stdout",
     "output_type": "stream",
     "text": [
      "\r"
     ]
    },
    {
     "data": {
      "application/vnd.jupyter.widget-view+json": {
       "model_id": "",
       "version_major": 2,
       "version_minor": 0
      },
      "text/plain": [
       "HBox(children=(IntProgress(value=0, description='measuring under midlines', max=80, style=ProgressStyle(descri…"
      ]
     },
     "metadata": {},
     "output_type": "display_data"
    },
    {
     "name": "stderr",
     "output_type": "stream",
     "text": [
      "09:16:09 INFO:Registering profiles\n"
     ]
    },
    {
     "name": "stdout",
     "output_type": "stream",
     "text": [
      "Registering Pair 0\n",
      "Registering Pair 1\n"
     ]
    },
    {
     "name": "stderr",
     "output_type": "stream",
     "text": [
      "09:41:43 INFO:Trimming intensity data\n",
      "09:41:44 INFO:Calculating redox measurements\n",
      "09:41:44 INFO:Saving 2017_08_15-HD233_4mM_lev inside /Users/sean/code/pharynx_redox/data/paired_ratio/2017_08_15-HD233_4mM_lev\n",
      "09:41:44 INFO:Saving region means to /Users/sean/code/pharynx_redox/data/paired_ratio/2017_08_15-HD233_4mM_lev/analyses/2019-10-07_reg_w1e-2/2017_08_15-HD233_4mM_lev-summary_table.csv\n",
      "09:41:44 INFO:Saving untrimmed profile data to /Users/sean/code/pharynx_redox/data/paired_ratio/2017_08_15-HD233_4mM_lev/analyses/2019-10-07_reg_w1e-2/2017_08_15-HD233_4mM_lev-untrimmed_profile_data.nc\n",
      "09:41:44 INFO:Saving trimmed profile data to /Users/sean/code/pharynx_redox/data/paired_ratio/2017_08_15-HD233_4mM_lev/analyses/2019-10-07_reg_w1e-2/2017_08_15-HD233_4mM_lev-trimmed_profile_data.nc\n",
      "09:41:44 INFO:Saving warp data to /Users/sean/code/pharynx_redox/data/paired_ratio/2017_08_15-HD233_4mM_lev/analyses/2019-10-07_reg_w1e-2/2017_08_15-HD233_4mM_lev-warp_data.npy\n",
      "09:41:44 INFO:Finished full pipeline run for /Users/sean/code/pharynx_redox/data/paired_ratio/2017_08_15-HD233_4mM_lev\n",
      "09:41:44 INFO:Starting full pipeline run for /Users/sean/code/pharynx_redox/data/paired_ratio/2017_08_15-HD233_4mM_lev\n",
      "09:41:44 INFO:Segmenting pharynxes\n",
      "09:41:47 INFO:Centering and rotating pharynxes\n"
     ]
    },
    {
     "data": {
      "application/vnd.jupyter.widget-view+json": {
       "model_id": "",
       "version_major": 2,
       "version_minor": 0
      },
      "text/plain": [
       "HBox(children=(IntProgress(value=0, description='aliging pharynxes', max=80, style=ProgressStyle(description_w…"
      ]
     },
     "metadata": {},
     "output_type": "display_data"
    },
    {
     "name": "stderr",
     "output_type": "stream",
     "text": [
      "09:41:55 INFO:Calculating midlines\n"
     ]
    },
    {
     "name": "stdout",
     "output_type": "stream",
     "text": [
      "\r"
     ]
    },
    {
     "data": {
      "application/vnd.jupyter.widget-view+json": {
       "model_id": "",
       "version_major": 2,
       "version_minor": 0
      },
      "text/plain": [
       "HBox(children=(IntProgress(value=0, description='calculating midlines', max=80, style=ProgressStyle(descriptio…"
      ]
     },
     "metadata": {},
     "output_type": "display_data"
    },
    {
     "name": "stderr",
     "output_type": "stream",
     "text": [
      "09:41:56 INFO:Measuring under midlines\n"
     ]
    },
    {
     "name": "stdout",
     "output_type": "stream",
     "text": [
      "\r"
     ]
    },
    {
     "data": {
      "application/vnd.jupyter.widget-view+json": {
       "model_id": "",
       "version_major": 2,
       "version_minor": 0
      },
      "text/plain": [
       "HBox(children=(IntProgress(value=0, description='measuring under midlines', max=80, style=ProgressStyle(descri…"
      ]
     },
     "metadata": {},
     "output_type": "display_data"
    },
    {
     "name": "stderr",
     "output_type": "stream",
     "text": [
      "09:41:57 INFO:Registering profiles\n"
     ]
    },
    {
     "name": "stdout",
     "output_type": "stream",
     "text": [
      "Registering Pair 0\n",
      "Registering Pair 1\n"
     ]
    },
    {
     "name": "stderr",
     "output_type": "stream",
     "text": [
      "10:07:43 INFO:Trimming intensity data\n",
      "10:07:44 INFO:Calculating redox measurements\n",
      "10:07:44 INFO:Saving 2017_08_15-HD233_4mM_lev inside /Users/sean/code/pharynx_redox/data/paired_ratio/2017_08_15-HD233_4mM_lev\n",
      "10:07:44 INFO:Saving region means to /Users/sean/code/pharynx_redox/data/paired_ratio/2017_08_15-HD233_4mM_lev/analyses/2019-10-07_reg_w1e-3/2017_08_15-HD233_4mM_lev-summary_table.csv\n",
      "10:07:44 INFO:Saving untrimmed profile data to /Users/sean/code/pharynx_redox/data/paired_ratio/2017_08_15-HD233_4mM_lev/analyses/2019-10-07_reg_w1e-3/2017_08_15-HD233_4mM_lev-untrimmed_profile_data.nc\n",
      "10:07:44 INFO:Saving trimmed profile data to /Users/sean/code/pharynx_redox/data/paired_ratio/2017_08_15-HD233_4mM_lev/analyses/2019-10-07_reg_w1e-3/2017_08_15-HD233_4mM_lev-trimmed_profile_data.nc\n",
      "10:07:45 INFO:Saving warp data to /Users/sean/code/pharynx_redox/data/paired_ratio/2017_08_15-HD233_4mM_lev/analyses/2019-10-07_reg_w1e-3/2017_08_15-HD233_4mM_lev-warp_data.npy\n",
      "10:07:45 INFO:Finished full pipeline run for /Users/sean/code/pharynx_redox/data/paired_ratio/2017_08_15-HD233_4mM_lev\n",
      "10:07:45 INFO:Running experiment\n",
      "10:07:45 INFO:Starting full pipeline run for /Users/sean/code/pharynx_redox/data/paired_ratio/2017_08_24-HD233_SAY93\n",
      "10:07:45 INFO:Segmenting pharynxes\n",
      "/Users/sean/.local/share/virtualenvs/worm/lib/python3.7/site-packages/joblib/externals/loky/process_executor.py:706: UserWarning: A worker stopped while some jobs were given to the executor. This can be caused by a too short worker timeout or by a memory leak.\n",
      "  \"timeout or by a memory leak.\", UserWarning\n",
      "10:07:48 INFO:Centering and rotating pharynxes\n"
     ]
    },
    {
     "data": {
      "application/vnd.jupyter.widget-view+json": {
       "model_id": "",
       "version_major": 2,
       "version_minor": 0
      },
      "text/plain": [
       "HBox(children=(IntProgress(value=0, description='aliging pharynxes', max=90, style=ProgressStyle(description_w…"
      ]
     },
     "metadata": {},
     "output_type": "display_data"
    },
    {
     "name": "stderr",
     "output_type": "stream",
     "text": [
      "10:07:57 INFO:Calculating midlines\n"
     ]
    },
    {
     "name": "stdout",
     "output_type": "stream",
     "text": [
      "\r"
     ]
    },
    {
     "data": {
      "application/vnd.jupyter.widget-view+json": {
       "model_id": "",
       "version_major": 2,
       "version_minor": 0
      },
      "text/plain": [
       "HBox(children=(IntProgress(value=0, description='calculating midlines', max=90, style=ProgressStyle(descriptio…"
      ]
     },
     "metadata": {},
     "output_type": "display_data"
    },
    {
     "name": "stderr",
     "output_type": "stream",
     "text": [
      "10:07:58 INFO:Measuring under midlines\n"
     ]
    },
    {
     "name": "stdout",
     "output_type": "stream",
     "text": [
      "\r"
     ]
    },
    {
     "data": {
      "application/vnd.jupyter.widget-view+json": {
       "model_id": "",
       "version_major": 2,
       "version_minor": 0
      },
      "text/plain": [
       "HBox(children=(IntProgress(value=0, description='measuring under midlines', max=90, style=ProgressStyle(descri…"
      ]
     },
     "metadata": {},
     "output_type": "display_data"
    },
    {
     "name": "stderr",
     "output_type": "stream",
     "text": [
      "10:07:59 INFO:Registering profiles\n"
     ]
    },
    {
     "name": "stdout",
     "output_type": "stream",
     "text": [
      "Registering Pair 0\n",
      "Registering Pair 1\n"
     ]
    },
    {
     "name": "stderr",
     "output_type": "stream",
     "text": [
      "10:37:07 INFO:Trimming intensity data\n",
      "10:37:08 INFO:Calculating redox measurements\n",
      "10:37:08 INFO:Saving 2017_08_24-HD233_SAY93 inside /Users/sean/code/pharynx_redox/data/paired_ratio/2017_08_24-HD233_SAY93\n",
      "10:37:08 INFO:Saving region means to /Users/sean/code/pharynx_redox/data/paired_ratio/2017_08_24-HD233_SAY93/analyses/2019-10-07_reg_w1e-2/2017_08_24-HD233_SAY93-summary_table.csv\n",
      "10:37:09 INFO:Saving untrimmed profile data to /Users/sean/code/pharynx_redox/data/paired_ratio/2017_08_24-HD233_SAY93/analyses/2019-10-07_reg_w1e-2/2017_08_24-HD233_SAY93-untrimmed_profile_data.nc\n",
      "10:37:09 INFO:Saving trimmed profile data to /Users/sean/code/pharynx_redox/data/paired_ratio/2017_08_24-HD233_SAY93/analyses/2019-10-07_reg_w1e-2/2017_08_24-HD233_SAY93-trimmed_profile_data.nc\n",
      "10:37:09 INFO:Saving warp data to /Users/sean/code/pharynx_redox/data/paired_ratio/2017_08_24-HD233_SAY93/analyses/2019-10-07_reg_w1e-2/2017_08_24-HD233_SAY93-warp_data.npy\n",
      "10:37:09 INFO:Finished full pipeline run for /Users/sean/code/pharynx_redox/data/paired_ratio/2017_08_24-HD233_SAY93\n",
      "10:37:09 INFO:Starting full pipeline run for /Users/sean/code/pharynx_redox/data/paired_ratio/2017_08_24-HD233_SAY93\n",
      "10:37:09 INFO:Segmenting pharynxes\n",
      "10:37:11 INFO:Centering and rotating pharynxes\n"
     ]
    },
    {
     "data": {
      "application/vnd.jupyter.widget-view+json": {
       "model_id": "",
       "version_major": 2,
       "version_minor": 0
      },
      "text/plain": [
       "HBox(children=(IntProgress(value=0, description='aliging pharynxes', max=90, style=ProgressStyle(description_w…"
      ]
     },
     "metadata": {},
     "output_type": "display_data"
    },
    {
     "name": "stderr",
     "output_type": "stream",
     "text": [
      "10:37:23 INFO:Calculating midlines\n"
     ]
    },
    {
     "name": "stdout",
     "output_type": "stream",
     "text": [
      "\r"
     ]
    },
    {
     "data": {
      "application/vnd.jupyter.widget-view+json": {
       "model_id": "",
       "version_major": 2,
       "version_minor": 0
      },
      "text/plain": [
       "HBox(children=(IntProgress(value=0, description='calculating midlines', max=90, style=ProgressStyle(descriptio…"
      ]
     },
     "metadata": {},
     "output_type": "display_data"
    },
    {
     "name": "stderr",
     "output_type": "stream",
     "text": [
      "10:37:24 INFO:Measuring under midlines\n"
     ]
    },
    {
     "name": "stdout",
     "output_type": "stream",
     "text": [
      "\r"
     ]
    },
    {
     "data": {
      "application/vnd.jupyter.widget-view+json": {
       "model_id": "",
       "version_major": 2,
       "version_minor": 0
      },
      "text/plain": [
       "HBox(children=(IntProgress(value=0, description='measuring under midlines', max=90, style=ProgressStyle(descri…"
      ]
     },
     "metadata": {},
     "output_type": "display_data"
    },
    {
     "name": "stderr",
     "output_type": "stream",
     "text": [
      "10:37:26 INFO:Registering profiles\n"
     ]
    },
    {
     "name": "stdout",
     "output_type": "stream",
     "text": [
      "Registering Pair 0\n",
      "Registering Pair 1\n"
     ]
    },
    {
     "name": "stderr",
     "output_type": "stream",
     "text": [
      "11:06:12 INFO:Trimming intensity data\n",
      "11:06:13 INFO:Calculating redox measurements\n",
      "11:06:13 INFO:Saving 2017_08_24-HD233_SAY93 inside /Users/sean/code/pharynx_redox/data/paired_ratio/2017_08_24-HD233_SAY93\n",
      "11:06:13 INFO:Saving region means to /Users/sean/code/pharynx_redox/data/paired_ratio/2017_08_24-HD233_SAY93/analyses/2019-10-07_reg_w1e-3/2017_08_24-HD233_SAY93-summary_table.csv\n",
      "11:06:14 INFO:Saving untrimmed profile data to /Users/sean/code/pharynx_redox/data/paired_ratio/2017_08_24-HD233_SAY93/analyses/2019-10-07_reg_w1e-3/2017_08_24-HD233_SAY93-untrimmed_profile_data.nc\n",
      "11:06:14 INFO:Saving trimmed profile data to /Users/sean/code/pharynx_redox/data/paired_ratio/2017_08_24-HD233_SAY93/analyses/2019-10-07_reg_w1e-3/2017_08_24-HD233_SAY93-trimmed_profile_data.nc\n",
      "11:06:14 INFO:Saving warp data to /Users/sean/code/pharynx_redox/data/paired_ratio/2017_08_24-HD233_SAY93/analyses/2019-10-07_reg_w1e-3/2017_08_24-HD233_SAY93-warp_data.npy\n",
      "11:06:14 INFO:Finished full pipeline run for /Users/sean/code/pharynx_redox/data/paired_ratio/2017_08_24-HD233_SAY93\n",
      "11:06:14 INFO:Running experiment\n",
      "11:06:14 INFO:Starting full pipeline run for /Users/sean/code/pharynx_redox/data/paired_ratio/2017_02_27-HD233_HD236\n",
      "11:06:14 INFO:Segmenting pharynxes\n",
      "11:06:17 INFO:Centering and rotating pharynxes\n"
     ]
    },
    {
     "data": {
      "application/vnd.jupyter.widget-view+json": {
       "model_id": "",
       "version_major": 2,
       "version_minor": 0
      },
      "text/plain": [
       "HBox(children=(IntProgress(value=0, description='aliging pharynxes', max=120, style=ProgressStyle(description_…"
      ]
     },
     "metadata": {},
     "output_type": "display_data"
    },
    {
     "name": "stderr",
     "output_type": "stream",
     "text": [
      "11:06:29 INFO:Calculating midlines\n"
     ]
    },
    {
     "name": "stdout",
     "output_type": "stream",
     "text": [
      "\r"
     ]
    },
    {
     "data": {
      "application/vnd.jupyter.widget-view+json": {
       "model_id": "",
       "version_major": 2,
       "version_minor": 0
      },
      "text/plain": [
       "HBox(children=(IntProgress(value=0, description='calculating midlines', max=120, style=ProgressStyle(descripti…"
      ]
     },
     "metadata": {},
     "output_type": "display_data"
    },
    {
     "name": "stderr",
     "output_type": "stream",
     "text": [
      "11:06:31 INFO:Measuring under midlines\n"
     ]
    },
    {
     "name": "stdout",
     "output_type": "stream",
     "text": [
      "\r"
     ]
    },
    {
     "data": {
      "application/vnd.jupyter.widget-view+json": {
       "model_id": "",
       "version_major": 2,
       "version_minor": 0
      },
      "text/plain": [
       "HBox(children=(IntProgress(value=0, description='measuring under midlines', max=120, style=ProgressStyle(descr…"
      ]
     },
     "metadata": {},
     "output_type": "display_data"
    },
    {
     "name": "stderr",
     "output_type": "stream",
     "text": [
      "11:06:33 INFO:Registering profiles\n"
     ]
    },
    {
     "name": "stdout",
     "output_type": "stream",
     "text": [
      "Registering Pair 0\n",
      "Registering Pair 1\n"
     ]
    },
    {
     "name": "stderr",
     "output_type": "stream",
     "text": [
      "11:46:34 INFO:Trimming intensity data\n",
      "11:46:37 INFO:Calculating redox measurements\n",
      "11:46:37 INFO:Saving 2017_02_27-HD233_HD236 inside /Users/sean/code/pharynx_redox/data/paired_ratio/2017_02_27-HD233_HD236\n",
      "11:46:37 INFO:Saving region means to /Users/sean/code/pharynx_redox/data/paired_ratio/2017_02_27-HD233_HD236/analyses/2019-10-07_reg_w1e-2/2017_02_27-HD233_HD236-summary_table.csv\n",
      "11:46:38 INFO:Saving untrimmed profile data to /Users/sean/code/pharynx_redox/data/paired_ratio/2017_02_27-HD233_HD236/analyses/2019-10-07_reg_w1e-2/2017_02_27-HD233_HD236-untrimmed_profile_data.nc\n",
      "11:46:38 INFO:Saving trimmed profile data to /Users/sean/code/pharynx_redox/data/paired_ratio/2017_02_27-HD233_HD236/analyses/2019-10-07_reg_w1e-2/2017_02_27-HD233_HD236-trimmed_profile_data.nc\n",
      "11:46:38 INFO:Saving warp data to /Users/sean/code/pharynx_redox/data/paired_ratio/2017_02_27-HD233_HD236/analyses/2019-10-07_reg_w1e-2/2017_02_27-HD233_HD236-warp_data.npy\n",
      "11:46:38 INFO:Finished full pipeline run for /Users/sean/code/pharynx_redox/data/paired_ratio/2017_02_27-HD233_HD236\n",
      "11:46:38 INFO:Starting full pipeline run for /Users/sean/code/pharynx_redox/data/paired_ratio/2017_02_27-HD233_HD236\n",
      "11:46:38 INFO:Segmenting pharynxes\n",
      "11:46:41 INFO:Centering and rotating pharynxes\n"
     ]
    },
    {
     "data": {
      "application/vnd.jupyter.widget-view+json": {
       "model_id": "",
       "version_major": 2,
       "version_minor": 0
      },
      "text/plain": [
       "HBox(children=(IntProgress(value=0, description='aliging pharynxes', max=120, style=ProgressStyle(description_…"
      ]
     },
     "metadata": {},
     "output_type": "display_data"
    },
    {
     "name": "stderr",
     "output_type": "stream",
     "text": [
      "11:46:54 INFO:Calculating midlines\n"
     ]
    },
    {
     "name": "stdout",
     "output_type": "stream",
     "text": [
      "\r"
     ]
    },
    {
     "data": {
      "application/vnd.jupyter.widget-view+json": {
       "model_id": "",
       "version_major": 2,
       "version_minor": 0
      },
      "text/plain": [
       "HBox(children=(IntProgress(value=0, description='calculating midlines', max=120, style=ProgressStyle(descripti…"
      ]
     },
     "metadata": {},
     "output_type": "display_data"
    },
    {
     "name": "stderr",
     "output_type": "stream",
     "text": [
      "11:46:56 INFO:Measuring under midlines\n"
     ]
    },
    {
     "name": "stdout",
     "output_type": "stream",
     "text": [
      "\r"
     ]
    },
    {
     "data": {
      "application/vnd.jupyter.widget-view+json": {
       "model_id": "",
       "version_major": 2,
       "version_minor": 0
      },
      "text/plain": [
       "HBox(children=(IntProgress(value=0, description='measuring under midlines', max=120, style=ProgressStyle(descr…"
      ]
     },
     "metadata": {},
     "output_type": "display_data"
    },
    {
     "name": "stderr",
     "output_type": "stream",
     "text": [
      "11:46:57 INFO:Registering profiles\n"
     ]
    },
    {
     "name": "stdout",
     "output_type": "stream",
     "text": [
      "Registering Pair 0\n",
      "Registering Pair 1\n"
     ]
    },
    {
     "name": "stderr",
     "output_type": "stream",
     "text": [
      "12:23:43 INFO:Trimming intensity data\n",
      "12:23:45 INFO:Calculating redox measurements\n",
      "12:23:45 INFO:Saving 2017_02_27-HD233_HD236 inside /Users/sean/code/pharynx_redox/data/paired_ratio/2017_02_27-HD233_HD236\n",
      "12:23:45 INFO:Saving region means to /Users/sean/code/pharynx_redox/data/paired_ratio/2017_02_27-HD233_HD236/analyses/2019-10-07_reg_w1e-3/2017_02_27-HD233_HD236-summary_table.csv\n",
      "12:23:45 INFO:Saving untrimmed profile data to /Users/sean/code/pharynx_redox/data/paired_ratio/2017_02_27-HD233_HD236/analyses/2019-10-07_reg_w1e-3/2017_02_27-HD233_HD236-untrimmed_profile_data.nc\n",
      "12:23:45 INFO:Saving trimmed profile data to /Users/sean/code/pharynx_redox/data/paired_ratio/2017_02_27-HD233_HD236/analyses/2019-10-07_reg_w1e-3/2017_02_27-HD233_HD236-trimmed_profile_data.nc\n",
      "12:23:45 INFO:Saving warp data to /Users/sean/code/pharynx_redox/data/paired_ratio/2017_02_27-HD233_HD236/analyses/2019-10-07_reg_w1e-3/2017_02_27-HD233_HD236-warp_data.npy\n",
      "12:23:45 INFO:Finished full pipeline run for /Users/sean/code/pharynx_redox/data/paired_ratio/2017_02_27-HD233_HD236\n",
      "12:23:45 INFO:Running experiment\n",
      "12:23:45 INFO:Starting full pipeline run for /Users/sean/code/pharynx_redox/data/paired_ratio/2017_08_25-HD233_4mm_lev\n",
      "12:23:45 INFO:Segmenting pharynxes\n",
      "12:23:46 INFO:Centering and rotating pharynxes\n"
     ]
    },
    {
     "data": {
      "application/vnd.jupyter.widget-view+json": {
       "model_id": "",
       "version_major": 2,
       "version_minor": 0
      },
      "text/plain": [
       "HBox(children=(IntProgress(value=0, description='aliging pharynxes', max=35, style=ProgressStyle(description_w…"
      ]
     },
     "metadata": {},
     "output_type": "display_data"
    },
    {
     "name": "stderr",
     "output_type": "stream",
     "text": [
      "12:23:49 INFO:Calculating midlines\n"
     ]
    },
    {
     "name": "stdout",
     "output_type": "stream",
     "text": [
      "\r"
     ]
    },
    {
     "data": {
      "application/vnd.jupyter.widget-view+json": {
       "model_id": "",
       "version_major": 2,
       "version_minor": 0
      },
      "text/plain": [
       "HBox(children=(IntProgress(value=0, description='calculating midlines', max=35, style=ProgressStyle(descriptio…"
      ]
     },
     "metadata": {},
     "output_type": "display_data"
    },
    {
     "name": "stderr",
     "output_type": "stream",
     "text": [
      "12:23:50 INFO:Measuring under midlines\n"
     ]
    },
    {
     "name": "stdout",
     "output_type": "stream",
     "text": [
      "\r"
     ]
    },
    {
     "data": {
      "application/vnd.jupyter.widget-view+json": {
       "model_id": "",
       "version_major": 2,
       "version_minor": 0
      },
      "text/plain": [
       "HBox(children=(IntProgress(value=0, description='measuring under midlines', max=35, style=ProgressStyle(descri…"
      ]
     },
     "metadata": {},
     "output_type": "display_data"
    },
    {
     "name": "stderr",
     "output_type": "stream",
     "text": [
      "12:23:50 INFO:Registering profiles\n"
     ]
    },
    {
     "name": "stdout",
     "output_type": "stream",
     "text": [
      "Registering Pair 0\n",
      "Registering Pair 1\n"
     ]
    },
    {
     "name": "stderr",
     "output_type": "stream",
     "text": [
      "12:34:51 INFO:Trimming intensity data\n",
      "12:34:51 INFO:Calculating redox measurements\n",
      "12:34:51 INFO:Saving 2017_08_25-HD233_4mm_lev inside /Users/sean/code/pharynx_redox/data/paired_ratio/2017_08_25-HD233_4mm_lev\n",
      "12:34:51 INFO:Saving region means to /Users/sean/code/pharynx_redox/data/paired_ratio/2017_08_25-HD233_4mm_lev/analyses/2019-10-07_reg_w1e-2/2017_08_25-HD233_4mm_lev-summary_table.csv\n",
      "12:34:52 INFO:Saving untrimmed profile data to /Users/sean/code/pharynx_redox/data/paired_ratio/2017_08_25-HD233_4mm_lev/analyses/2019-10-07_reg_w1e-2/2017_08_25-HD233_4mm_lev-untrimmed_profile_data.nc\n",
      "12:34:52 INFO:Saving trimmed profile data to /Users/sean/code/pharynx_redox/data/paired_ratio/2017_08_25-HD233_4mm_lev/analyses/2019-10-07_reg_w1e-2/2017_08_25-HD233_4mm_lev-trimmed_profile_data.nc\n",
      "12:34:52 INFO:Saving warp data to /Users/sean/code/pharynx_redox/data/paired_ratio/2017_08_25-HD233_4mm_lev/analyses/2019-10-07_reg_w1e-2/2017_08_25-HD233_4mm_lev-warp_data.npy\n",
      "12:34:52 INFO:Finished full pipeline run for /Users/sean/code/pharynx_redox/data/paired_ratio/2017_08_25-HD233_4mm_lev\n",
      "12:34:52 INFO:Starting full pipeline run for /Users/sean/code/pharynx_redox/data/paired_ratio/2017_08_25-HD233_4mm_lev\n",
      "12:34:52 INFO:Segmenting pharynxes\n",
      "12:34:52 INFO:Centering and rotating pharynxes\n"
     ]
    },
    {
     "data": {
      "application/vnd.jupyter.widget-view+json": {
       "model_id": "",
       "version_major": 2,
       "version_minor": 0
      },
      "text/plain": [
       "HBox(children=(IntProgress(value=0, description='aliging pharynxes', max=35, style=ProgressStyle(description_w…"
      ]
     },
     "metadata": {},
     "output_type": "display_data"
    },
    {
     "name": "stderr",
     "output_type": "stream",
     "text": [
      "12:34:56 INFO:Calculating midlines\n"
     ]
    },
    {
     "name": "stdout",
     "output_type": "stream",
     "text": [
      "\r"
     ]
    },
    {
     "data": {
      "application/vnd.jupyter.widget-view+json": {
       "model_id": "",
       "version_major": 2,
       "version_minor": 0
      },
      "text/plain": [
       "HBox(children=(IntProgress(value=0, description='calculating midlines', max=35, style=ProgressStyle(descriptio…"
      ]
     },
     "metadata": {},
     "output_type": "display_data"
    },
    {
     "name": "stderr",
     "output_type": "stream",
     "text": [
      "12:34:56 INFO:Measuring under midlines\n"
     ]
    },
    {
     "name": "stdout",
     "output_type": "stream",
     "text": [
      "\r"
     ]
    },
    {
     "data": {
      "application/vnd.jupyter.widget-view+json": {
       "model_id": "",
       "version_major": 2,
       "version_minor": 0
      },
      "text/plain": [
       "HBox(children=(IntProgress(value=0, description='measuring under midlines', max=35, style=ProgressStyle(descri…"
      ]
     },
     "metadata": {},
     "output_type": "display_data"
    },
    {
     "name": "stderr",
     "output_type": "stream",
     "text": [
      "12:34:57 INFO:Registering profiles\n"
     ]
    },
    {
     "name": "stdout",
     "output_type": "stream",
     "text": [
      "Registering Pair 0\n",
      "Registering Pair 1\n"
     ]
    },
    {
     "name": "stderr",
     "output_type": "stream",
     "text": [
      "12:46:12 INFO:Trimming intensity data\n",
      "12:46:13 INFO:Calculating redox measurements\n",
      "12:46:13 INFO:Saving 2017_08_25-HD233_4mm_lev inside /Users/sean/code/pharynx_redox/data/paired_ratio/2017_08_25-HD233_4mm_lev\n",
      "12:46:13 INFO:Saving region means to /Users/sean/code/pharynx_redox/data/paired_ratio/2017_08_25-HD233_4mm_lev/analyses/2019-10-07_reg_w1e-3/2017_08_25-HD233_4mm_lev-summary_table.csv\n",
      "12:46:13 INFO:Saving untrimmed profile data to /Users/sean/code/pharynx_redox/data/paired_ratio/2017_08_25-HD233_4mm_lev/analyses/2019-10-07_reg_w1e-3/2017_08_25-HD233_4mm_lev-untrimmed_profile_data.nc\n",
      "12:46:13 INFO:Saving trimmed profile data to /Users/sean/code/pharynx_redox/data/paired_ratio/2017_08_25-HD233_4mm_lev/analyses/2019-10-07_reg_w1e-3/2017_08_25-HD233_4mm_lev-trimmed_profile_data.nc\n",
      "12:46:13 INFO:Saving warp data to /Users/sean/code/pharynx_redox/data/paired_ratio/2017_08_25-HD233_4mm_lev/analyses/2019-10-07_reg_w1e-3/2017_08_25-HD233_4mm_lev-warp_data.npy\n",
      "12:46:13 INFO:Finished full pipeline run for /Users/sean/code/pharynx_redox/data/paired_ratio/2017_08_25-HD233_4mm_lev\n"
     ]
    },
    {
     "ename": "TypeError",
     "evalue": "cannot unpack non-iterable function object",
     "output_type": "error",
     "traceback": [
      "\u001b[0;31m---------------------------------------------------------------------------\u001b[0m",
      "\u001b[0;31m_RemoteTraceback\u001b[0m                          Traceback (most recent call last)",
      "\u001b[0;31m_RemoteTraceback\u001b[0m: \n\"\"\"\nTraceback (most recent call last):\n  File \"/Users/sean/.local/share/virtualenvs/worm/lib/python3.7/site-packages/joblib/externals/loky/process_executor.py\", line 418, in _process_worker\n    r = call_item()\n  File \"/Users/sean/.local/share/virtualenvs/worm/lib/python3.7/site-packages/joblib/externals/loky/process_executor.py\", line 272, in __call__\n    return self.fn(*self.args, **self.kwargs)\n  File \"/Users/sean/.local/share/virtualenvs/worm/lib/python3.7/site-packages/joblib/_parallel_backends.py\", line 567, in __call__\n    return self.func(*args, **kwargs)\n  File \"/Users/sean/.local/share/virtualenvs/worm/lib/python3.7/site-packages/joblib/parallel.py\", line 225, in __call__\n    for func, args, kwargs in self.items]\n  File \"/Users/sean/.local/share/virtualenvs/worm/lib/python3.7/site-packages/joblib/parallel.py\", line 225, in <listcomp>\n    for func, args, kwargs in self.items]\nTypeError: cannot unpack non-iterable function object\n\"\"\"",
      "\nThe above exception was the direct cause of the following exception:\n",
      "\u001b[0;31mTypeError\u001b[0m                                 Traceback (most recent call last)",
      "\u001b[0;32m<ipython-input-20-7c7255bff3d3>\u001b[0m in \u001b[0;36m<module>\u001b[0;34m\u001b[0m\n\u001b[1;32m     25\u001b[0m \u001b[0;34m\u001b[0m\u001b[0m\n\u001b[1;32m     26\u001b[0m \u001b[0mexps\u001b[0m \u001b[0;34m=\u001b[0m \u001b[0mlist\u001b[0m\u001b[0;34m(\u001b[0m\u001b[0mfilter\u001b[0m\u001b[0;34m(\u001b[0m\u001b[0;32mlambda\u001b[0m \u001b[0mx\u001b[0m\u001b[0;34m:\u001b[0m \u001b[0mx\u001b[0m\u001b[0;34m.\u001b[0m\u001b[0mis_dir\u001b[0m\u001b[0;34m(\u001b[0m\u001b[0;34m)\u001b[0m\u001b[0;34m,\u001b[0m \u001b[0mmeta_dir\u001b[0m\u001b[0;34m.\u001b[0m\u001b[0miterdir\u001b[0m\u001b[0;34m(\u001b[0m\u001b[0;34m)\u001b[0m\u001b[0;34m)\u001b[0m\u001b[0;34m)\u001b[0m\u001b[0;34m\u001b[0m\u001b[0;34m\u001b[0m\u001b[0m\n\u001b[0;32m---> 27\u001b[0;31m \u001b[0mParallel\u001b[0m\u001b[0;34m(\u001b[0m\u001b[0mn_jobs\u001b[0m\u001b[0;34m=\u001b[0m\u001b[0;34m-\u001b[0m\u001b[0;36m1\u001b[0m\u001b[0;34m)\u001b[0m\u001b[0;34m(\u001b[0m\u001b[0mdelayed\u001b[0m\u001b[0;34m(\u001b[0m\u001b[0mrun_exp\u001b[0m\u001b[0;34m(\u001b[0m\u001b[0mexp_dir\u001b[0m\u001b[0;34m)\u001b[0m\u001b[0;34m)\u001b[0m \u001b[0;32mfor\u001b[0m \u001b[0mexp_dir\u001b[0m \u001b[0;32min\u001b[0m \u001b[0mexps\u001b[0m\u001b[0;34m)\u001b[0m\u001b[0;34m\u001b[0m\u001b[0;34m\u001b[0m\u001b[0m\n\u001b[0m",
      "\u001b[0;32m~/.local/share/virtualenvs/worm/lib/python3.7/site-packages/joblib/parallel.py\u001b[0m in \u001b[0;36m__call__\u001b[0;34m(self, iterable)\u001b[0m\n\u001b[1;32m    932\u001b[0m \u001b[0;34m\u001b[0m\u001b[0m\n\u001b[1;32m    933\u001b[0m             \u001b[0;32mwith\u001b[0m \u001b[0mself\u001b[0m\u001b[0;34m.\u001b[0m\u001b[0m_backend\u001b[0m\u001b[0;34m.\u001b[0m\u001b[0mretrieval_context\u001b[0m\u001b[0;34m(\u001b[0m\u001b[0;34m)\u001b[0m\u001b[0;34m:\u001b[0m\u001b[0;34m\u001b[0m\u001b[0;34m\u001b[0m\u001b[0m\n\u001b[0;32m--> 934\u001b[0;31m                 \u001b[0mself\u001b[0m\u001b[0;34m.\u001b[0m\u001b[0mretrieve\u001b[0m\u001b[0;34m(\u001b[0m\u001b[0;34m)\u001b[0m\u001b[0;34m\u001b[0m\u001b[0;34m\u001b[0m\u001b[0m\n\u001b[0m\u001b[1;32m    935\u001b[0m             \u001b[0;31m# Make sure that we get a last message telling us we are done\u001b[0m\u001b[0;34m\u001b[0m\u001b[0;34m\u001b[0m\u001b[0;34m\u001b[0m\u001b[0m\n\u001b[1;32m    936\u001b[0m             \u001b[0melapsed_time\u001b[0m \u001b[0;34m=\u001b[0m \u001b[0mtime\u001b[0m\u001b[0;34m.\u001b[0m\u001b[0mtime\u001b[0m\u001b[0;34m(\u001b[0m\u001b[0;34m)\u001b[0m \u001b[0;34m-\u001b[0m \u001b[0mself\u001b[0m\u001b[0;34m.\u001b[0m\u001b[0m_start_time\u001b[0m\u001b[0;34m\u001b[0m\u001b[0;34m\u001b[0m\u001b[0m\n",
      "\u001b[0;32m~/.local/share/virtualenvs/worm/lib/python3.7/site-packages/joblib/parallel.py\u001b[0m in \u001b[0;36mretrieve\u001b[0;34m(self)\u001b[0m\n\u001b[1;32m    831\u001b[0m             \u001b[0;32mtry\u001b[0m\u001b[0;34m:\u001b[0m\u001b[0;34m\u001b[0m\u001b[0;34m\u001b[0m\u001b[0m\n\u001b[1;32m    832\u001b[0m                 \u001b[0;32mif\u001b[0m \u001b[0mgetattr\u001b[0m\u001b[0;34m(\u001b[0m\u001b[0mself\u001b[0m\u001b[0;34m.\u001b[0m\u001b[0m_backend\u001b[0m\u001b[0;34m,\u001b[0m \u001b[0;34m'supports_timeout'\u001b[0m\u001b[0;34m,\u001b[0m \u001b[0;32mFalse\u001b[0m\u001b[0;34m)\u001b[0m\u001b[0;34m:\u001b[0m\u001b[0;34m\u001b[0m\u001b[0;34m\u001b[0m\u001b[0m\n\u001b[0;32m--> 833\u001b[0;31m                     \u001b[0mself\u001b[0m\u001b[0;34m.\u001b[0m\u001b[0m_output\u001b[0m\u001b[0;34m.\u001b[0m\u001b[0mextend\u001b[0m\u001b[0;34m(\u001b[0m\u001b[0mjob\u001b[0m\u001b[0;34m.\u001b[0m\u001b[0mget\u001b[0m\u001b[0;34m(\u001b[0m\u001b[0mtimeout\u001b[0m\u001b[0;34m=\u001b[0m\u001b[0mself\u001b[0m\u001b[0;34m.\u001b[0m\u001b[0mtimeout\u001b[0m\u001b[0;34m)\u001b[0m\u001b[0;34m)\u001b[0m\u001b[0;34m\u001b[0m\u001b[0;34m\u001b[0m\u001b[0m\n\u001b[0m\u001b[1;32m    834\u001b[0m                 \u001b[0;32melse\u001b[0m\u001b[0;34m:\u001b[0m\u001b[0;34m\u001b[0m\u001b[0;34m\u001b[0m\u001b[0m\n\u001b[1;32m    835\u001b[0m                     \u001b[0mself\u001b[0m\u001b[0;34m.\u001b[0m\u001b[0m_output\u001b[0m\u001b[0;34m.\u001b[0m\u001b[0mextend\u001b[0m\u001b[0;34m(\u001b[0m\u001b[0mjob\u001b[0m\u001b[0;34m.\u001b[0m\u001b[0mget\u001b[0m\u001b[0;34m(\u001b[0m\u001b[0;34m)\u001b[0m\u001b[0;34m)\u001b[0m\u001b[0;34m\u001b[0m\u001b[0;34m\u001b[0m\u001b[0m\n",
      "\u001b[0;32m~/.local/share/virtualenvs/worm/lib/python3.7/site-packages/joblib/_parallel_backends.py\u001b[0m in \u001b[0;36mwrap_future_result\u001b[0;34m(future, timeout)\u001b[0m\n\u001b[1;32m    519\u001b[0m         AsyncResults.get from multiprocessing.\"\"\"\n\u001b[1;32m    520\u001b[0m         \u001b[0;32mtry\u001b[0m\u001b[0;34m:\u001b[0m\u001b[0;34m\u001b[0m\u001b[0;34m\u001b[0m\u001b[0m\n\u001b[0;32m--> 521\u001b[0;31m             \u001b[0;32mreturn\u001b[0m \u001b[0mfuture\u001b[0m\u001b[0;34m.\u001b[0m\u001b[0mresult\u001b[0m\u001b[0;34m(\u001b[0m\u001b[0mtimeout\u001b[0m\u001b[0;34m=\u001b[0m\u001b[0mtimeout\u001b[0m\u001b[0;34m)\u001b[0m\u001b[0;34m\u001b[0m\u001b[0;34m\u001b[0m\u001b[0m\n\u001b[0m\u001b[1;32m    522\u001b[0m         \u001b[0;32mexcept\u001b[0m \u001b[0mLokyTimeoutError\u001b[0m\u001b[0;34m:\u001b[0m\u001b[0;34m\u001b[0m\u001b[0;34m\u001b[0m\u001b[0m\n\u001b[1;32m    523\u001b[0m             \u001b[0;32mraise\u001b[0m \u001b[0mTimeoutError\u001b[0m\u001b[0;34m(\u001b[0m\u001b[0;34m)\u001b[0m\u001b[0;34m\u001b[0m\u001b[0;34m\u001b[0m\u001b[0m\n",
      "\u001b[0;32m/usr/local/Cellar/python/3.7.3/Frameworks/Python.framework/Versions/3.7/lib/python3.7/concurrent/futures/_base.py\u001b[0m in \u001b[0;36mresult\u001b[0;34m(self, timeout)\u001b[0m\n\u001b[1;32m    423\u001b[0m                 \u001b[0;32mraise\u001b[0m \u001b[0mCancelledError\u001b[0m\u001b[0;34m(\u001b[0m\u001b[0;34m)\u001b[0m\u001b[0;34m\u001b[0m\u001b[0;34m\u001b[0m\u001b[0m\n\u001b[1;32m    424\u001b[0m             \u001b[0;32melif\u001b[0m \u001b[0mself\u001b[0m\u001b[0;34m.\u001b[0m\u001b[0m_state\u001b[0m \u001b[0;34m==\u001b[0m \u001b[0mFINISHED\u001b[0m\u001b[0;34m:\u001b[0m\u001b[0;34m\u001b[0m\u001b[0;34m\u001b[0m\u001b[0m\n\u001b[0;32m--> 425\u001b[0;31m                 \u001b[0;32mreturn\u001b[0m \u001b[0mself\u001b[0m\u001b[0;34m.\u001b[0m\u001b[0m__get_result\u001b[0m\u001b[0;34m(\u001b[0m\u001b[0;34m)\u001b[0m\u001b[0;34m\u001b[0m\u001b[0;34m\u001b[0m\u001b[0m\n\u001b[0m\u001b[1;32m    426\u001b[0m \u001b[0;34m\u001b[0m\u001b[0m\n\u001b[1;32m    427\u001b[0m             \u001b[0mself\u001b[0m\u001b[0;34m.\u001b[0m\u001b[0m_condition\u001b[0m\u001b[0;34m.\u001b[0m\u001b[0mwait\u001b[0m\u001b[0;34m(\u001b[0m\u001b[0mtimeout\u001b[0m\u001b[0;34m)\u001b[0m\u001b[0;34m\u001b[0m\u001b[0;34m\u001b[0m\u001b[0m\n",
      "\u001b[0;32m/usr/local/Cellar/python/3.7.3/Frameworks/Python.framework/Versions/3.7/lib/python3.7/concurrent/futures/_base.py\u001b[0m in \u001b[0;36m__get_result\u001b[0;34m(self)\u001b[0m\n\u001b[1;32m    382\u001b[0m     \u001b[0;32mdef\u001b[0m \u001b[0m__get_result\u001b[0m\u001b[0;34m(\u001b[0m\u001b[0mself\u001b[0m\u001b[0;34m)\u001b[0m\u001b[0;34m:\u001b[0m\u001b[0;34m\u001b[0m\u001b[0;34m\u001b[0m\u001b[0m\n\u001b[1;32m    383\u001b[0m         \u001b[0;32mif\u001b[0m \u001b[0mself\u001b[0m\u001b[0;34m.\u001b[0m\u001b[0m_exception\u001b[0m\u001b[0;34m:\u001b[0m\u001b[0;34m\u001b[0m\u001b[0;34m\u001b[0m\u001b[0m\n\u001b[0;32m--> 384\u001b[0;31m             \u001b[0;32mraise\u001b[0m \u001b[0mself\u001b[0m\u001b[0;34m.\u001b[0m\u001b[0m_exception\u001b[0m\u001b[0;34m\u001b[0m\u001b[0;34m\u001b[0m\u001b[0m\n\u001b[0m\u001b[1;32m    385\u001b[0m         \u001b[0;32melse\u001b[0m\u001b[0;34m:\u001b[0m\u001b[0;34m\u001b[0m\u001b[0;34m\u001b[0m\u001b[0m\n\u001b[1;32m    386\u001b[0m             \u001b[0;32mreturn\u001b[0m \u001b[0mself\u001b[0m\u001b[0;34m.\u001b[0m\u001b[0m_result\u001b[0m\u001b[0;34m\u001b[0m\u001b[0;34m\u001b[0m\u001b[0m\n",
      "\u001b[0;31mTypeError\u001b[0m: cannot unpack non-iterable function object"
     ]
    }
   ],
   "source": [
    "meta_dir = Path(\"/Users/sean/code/pharynx_redox/data/paired_ratio\")\n",
    "imaging_scheme = \"TL/470/410/470/410\"\n",
    "\n",
    "def run_exp(exp_dir):\n",
    "    logging.info(\"Running experiment\")\n",
    "    experiment.PairExperiment(\n",
    "        experiment_dir = exp_dir,\n",
    "        imaging_scheme = imaging_scheme,\n",
    "        register = True,\n",
    "        save_summary_plots=False,\n",
    "        pointwise_summaries=False,\n",
    "        warp_lambda=1e-2,\n",
    "        strategy='reg_w=1e-2',\n",
    "    ).full_pipeline()\n",
    "    \n",
    "    experiment.PairExperiment(\n",
    "        experiment_dir = exp_dir,\n",
    "        imaging_scheme = imaging_scheme,\n",
    "        register = True,\n",
    "        save_summary_plots=False,\n",
    "        pointwise_summaries=False,\n",
    "        warp_lambda=1e-2,\n",
    "        strategy='reg_w=1e-3',\n",
    "    ).full_pipeline()\n",
    "\n",
    "exps = list(filter(lambda x: x.is_dir(), meta_dir.iterdir()))\n",
    "Parallel(n_jobs=-1)(delayed(run_exp(exp_dir)) for exp_dir in exps)"
   ]
  }
 ],
 "metadata": {
  "kernelspec": {
   "display_name": "Python 3",
   "language": "python",
   "name": "python3"
  },
  "language_info": {
   "codemirror_mode": {
    "name": "ipython",
    "version": 3
   },
   "file_extension": ".py",
   "mimetype": "text/x-python",
   "name": "python",
   "nbconvert_exporter": "python",
   "pygments_lexer": "ipython3",
   "version": "3.7.3"
  }
 },
 "nbformat": 4,
 "nbformat_minor": 2
}
