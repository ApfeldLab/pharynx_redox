{
 "cells": [
  {
   "cell_type": "code",
   "execution_count": 1,
   "metadata": {},
   "outputs": [
    {
     "name": "stderr",
     "output_type": "stream",
     "text": [
      "Using TensorFlow backend.\n",
      "/home/niketrp/anaconda3/envs/pharedox/lib/python3.7/site-packages/classification_models/resnext/__init__.py:4: UserWarning: Current ResNext models are deprecated, use keras.applications ResNeXt models\n",
      "  warnings.warn('Current ResNext models are deprecated, '\n"
     ]
    }
   ],
   "source": [
    "import segmentation_models as sm\n",
    "import os\n",
    "import sys"
   ]
  },
  {
   "cell_type": "code",
   "execution_count": 3,
   "metadata": {},
   "outputs": [],
   "source": [
    "sys.path.append('../')\n",
    "from pharynx_redox import (\n",
    "    pharynx_io as pio,\n",
    "    image_processing as ip,\n",
    "    experiment,\n",
    "    plots,\n",
    "    profile_processing as pp,\n",
    "    utils,\n",
    "    data_analysis as da,\n",
    "    constants\n",
    ")\n",
    "\n",
    "from PIL import Image\n",
    "import numpy as np\n",
    "import matplotlib.pyplot as plt\n",
    "from skimage import measure, transform"
   ]
  },
  {
   "cell_type": "code",
   "execution_count": 4,
   "metadata": {},
   "outputs": [],
   "source": [
    "try:\n",
    "    os.mkdir('../data/segmentation_training_data/cropped_segmentation')\n",
    "except FileExistsError:\n",
    "    pass"
   ]
  },
  {
   "cell_type": "code",
   "execution_count": 5,
   "metadata": {},
   "outputs": [],
   "source": [
    "def crop(s_img, fl_img, crop_amount=32):\n",
    "    # Padding the images with 32 cells down and left\n",
    "    s_img = np.pad(s_img, ((0,32),(32,0)), 'constant')\n",
    "    fl_img = np.pad(fl_img, ((0,32),(32,0)), 'constant')\n",
    "   \n",
    "    # Getting the center of pharynx based on padded image\n",
    "    l = measure.label(s_img)\n",
    "    props = measure.regionprops(l)\n",
    "    center = props[0].centroid\n",
    "    \n",
    "    # Cropping images around center\n",
    "    upper_bound = int(center[0] - crop_amount)\n",
    "    lower_bound = int(center[0] + crop_amount)\n",
    "    left_bound = int(center[1] - crop_amount)\n",
    "    right_bound = int(center[1] + crop_amount)\n",
    "    s_img_cropped = s_img[upper_bound:lower_bound, left_bound:right_bound]\n",
    "    f_img_cropped = fl_img[upper_bound:lower_bound, left_bound:right_bound]\n",
    "    \n",
    "    cropped_imgs = [s_img_cropped, f_img_cropped]\n",
    "    return cropped_imgs\n"
   ]
  },
  {
   "cell_type": "code",
   "execution_count": 30,
   "metadata": {},
   "outputs": [],
   "source": [
    "orig_segment_dir = '/home/niketrp/apfeld/pharynx_redox/data/segmentation_training_data/original_segmentation/'\n",
    "cropped_segment_dir = '/home/niketrp/apfeld/pharynx_redox/data/segmentation_training_data/cropped_segmentation/'\n",
    "\n",
    "seg_to_img = {}\n",
    "\n",
    "for segment_directory in os.listdir(orig_segment_dir):\n",
    "    for image_name in os.listdir(orig_segment_dir + segment_directory):\n",
    "        if image_name.endswith('tif') and not image_name.startswith('seg'):\n",
    "            if os.path.exists(orig_segment_dir + segment_directory + '/seg-' + image_name):\n",
    "                img = orig_segment_dir + segment_directory + '/' + image_name\n",
    "                seg = orig_segment_dir + segment_directory + '/seg-' + image_name\n",
    "                seg_to_img[seg] = img\n",
    "                \n",
    "name_to_imgpairs = {}\n",
    "\n",
    "for key,value in seg_to_img.items():\n",
    "    segs = pio.load_tiff_from_disk(key)\n",
    "    imgs = pio.load_tiff_from_disk(value)\n",
    "    bound = ( len(segs) if len(segs) < len(imgs) else len(imgs) )\n",
    "    all_cropped = []\n",
    "    for i in range(0, bound - 1):\n",
    "        seg = segs[i]\n",
    "        img = imgs[i]\n",
    "        cropped = crop(seg, img)\n",
    "        all_cropped.append(cropped)\n",
    "    name_to_imgpairs[key.rsplit('/', 1)[-1]] = all_cropped\n",
    "    \n",
    "# print(name_to_imgpairs)http://localhost:8888/notebooks/segmenation_models/segmentation_model.ipynb#\n",
    "\n",
    "for key,value in name_to_imgpairs.items():\n",
    "    top_dir = (cropped_segment_dir + key)[:-4]\n",
    "    try: \n",
    "        os.mkdir(top_dir)\n",
    "    except FileExistsError:\n",
    "        pass\n",
    "    \n",
    "    for idx, pair in enumerate(value):\n",
    "        pair_folder = top_dir + \"/\" + str(idx) \n",
    "        try: \n",
    "            os.mkdir(pair_folder)\n",
    "        except FileExistsError:\n",
    "            pass\n",
    "        \n",
    "        \n",
    "        plt.imsave(pair_folder + \"/seg.jpg\", pair[0])\n",
    "        plt.imsave(pair_folder + \"/fl.jpg\", pair[1])\n",
    "\n",
    "       # plt.imshow(pair[0])\n",
    "        #plt.imshow(pair[1])\n",
    "#         plt.imshow(all_cropped[20][0])\n",
    "#         plt.savefig(pait_folder + '/' + '0.png')\n",
    "        #image = plt.imshow()\n",
    "       # plt.imsave(pair_folder + \"/\" + \"mask.jpg\", all_cropped[20][0])\n",
    "        \n",
    "        \n",
    "\n",
    "    \n",
    "# plt.imshow(all_cropped[119][1])\n",
    "\n",
    "\n"
   ]
  }
 ],
 "metadata": {
  "kernelspec": {
   "display_name": "Python 3",
   "language": "python",
   "name": "python3"
  },
  "language_info": {
   "codemirror_mode": {
    "name": "ipython",
    "version": 3
   },
   "file_extension": ".py",
   "mimetype": "text/x-python",
   "name": "python",
   "nbconvert_exporter": "python",
   "pygments_lexer": "ipython3",
   "version": "3.7.5"
  }
 },
 "nbformat": 4,
 "nbformat_minor": 2
}
